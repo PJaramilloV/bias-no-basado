{
 "cells": [
  {
   "cell_type": "markdown",
   "metadata": {
    "collapsed": false,
    "pycharm": {
     "name": "#%% md\n"
    }
   },
   "source": [
    "# Hito 2 - Grupo 8\n",
    "## Intregrantes\n",
    "- Vicente González\n",
    "- Rodrigo Iturrieta\n",
    "- Pablo Jaramillo\n",
    "- Cristian Lillo\n",
    "- Benjamín Valenzuela\n",
    "\n",
    "## Material\n",
    "\n",
    "- [Repositorio](https://github.com/propublica/compas-analysis)\n",
    "- [Video (hito 1)](https://drive.google.com/file/d/1TNpHXC2bTTwXfvSc1zU21SxwGIv-3yGU/view?usp=sharing)\n",
    "\n",
    "\n",
    "## Introducción\n",
    "\n",
    "Durante la última década, la sociedad moderna ha estado expuesta a un periodo de disconformidad y crisis. Múltiples protestas han ocurrido a lo largo del mundo, donde se evidencian malestares en temas de discriminación, igualdad y justicia.\n",
    "\n",
    "Uno de estos movimientos es el de Black Lives Matter, donde la población afroamericana de Estados Unidos ha dejado claro que existe, a día de hoy, un trato desigual debido a la etnia de la persona, donde se mostró al mundo entero un sistema que los desfavorecía enormemente o directamente no esperaban nada de ellos.\n",
    "\n",
    "La motivación del equipo nace a raíz de estas problemáticas, donde, además, desde un punto de vista de *data mining*, salta a la vista la pregunta: ¿Se puede hacer un modelo que consiga evidenciar la discriminación en una base de datos?\n",
    "\n",
    "Particularmente, para abarcar esta problemática, se decidió dar enfoque al caso de estudio de COMPAS. En este, se encontró que el modelo predictivo **COMPAS** (Correctional Offender Management Profiling for Alternative Sanctions) otorgaba una evaluación de riesgo mayor a personas afroamericanas que al resto. Es decir, que el modelo \"discriminaba\" a ciertos grupos de personas basadas en su etnia, marcándolas como potencialmente más propensos a cometer un crimen.\n",
    "\n",
    "La idea central del proyecto es poder construir un modelo a partir de los datos de COMPAS, para poder evaluar la discriminación en la base de datos. Identificando, además los parámetros bajo los cuales COMPAS hace la discriminación.\n",
    "\n",
    "## Exploración de datos\n",
    "\n",
    "[Ver hito 1](hito-1_revision.html)\n",
    "\n",
    "## Preguntas y Problemas\n",
    "\n",
    "Dado el análisis realizado, se formularon las siguientes preguntas:\n",
    "\n",
    "1. ¿Qué características describen mejor un factor de reincidencia?\n",
    "\n",
    "    Como el objetivo principal de COMPAS es el de predecir la probabilidad de reincidencia de los individuos, es importante saber que el factor de reincidencia no este basado en características inherentes a las personas como lo es edad o lugar de procedencia, mientras que debería estar basada en características conductuales como lo es la gravedad de un crimen cometido.\n",
    "\n",
    "2. ¿Existirán grupos de personas que compartan la misma tasa de reincidencia? Si existen, ¿Qué atributos componen a dichos grupos?\n",
    "\n",
    "    Identificar grupos naturales dentro de los datos mostrará de manera más clara si existe algun tipo de sesgo con respecto a la etnia de una persona.\n",
    "\n",
    "3. ¿Es posible predecir la etnia de una persona en base a atributos del análisis de COMPAS?\n",
    "\n",
    "    Dependiendo de la eficaz que sea un modelo entrenado con los datos entregados por COMPAS a la hora de predecir la etnia, podemos concluir si existe realmente racismo por parte del modelo.\n",
    "    \n",
    "4. Con los datos que se tienen ¿Qué tan bien se puede (predecir/agrupar/clasificar) el decile_score?\n",
    "\n",
    "    Es importante poder identficar correctamente los aspectos que influyen en el decile score, para así poder ver si en realidad los resultados se ven afectados por la etnia, o es algún otro parámetro que a su vez este estrechamente relacionado con la etnia, ya sea por temas culturales o sociales.\n",
    "\n",
    "## Propuesta experimental\n",
    "Para llevar a cabo la investigación se utilizará la siguiente metodología:\n",
    "\n",
    "### Preprocesamiento\n",
    "Se realizara un preprocesamiento de datos, que consiste en sondear los datos para identificar los datos que presentan valores NA o no numericos y se eliminan y/o modifican acordemente, por ejemplo si se quiere crear un clasificador, se utilizaran valores numéricos por lo que se convierten datos tipo fecha a decimales normalizados respecto a la mínima y máxima fecha, o se crean factores ordenados para valores string categoricos, mientras que se pueden eliminar atributos con gran cantidad de valores nulos que no tienen sentido si se les asigna un valor predeterminado, como es la fecha de ocurrencia de un suceso. Un ejemplo del preprocesamiento sería: si se quisiera saber cómo afectaría el sexo, se podría transformar en valor binario dando un valor para masculino y el otro para femenino.\n",
    "\n",
    "La idea general del proyecto es generar un modelo capaz de predecir la reincidencia de una persona, tratando de evitar que este modelo quede sesgado por la etnia. Asi como hacer un análisis del modelo COMPAS con respecto a su sesgo.\n",
    "\n",
    "### Pregunta 1\n",
    "- Se identificarán los atributos importantes usando matriz de correlación.\n",
    "- Se entrenaran los modelos KNN y Decision Trees usando GridSearch para encontrar los mejores atributos de cada modelo para clasificar predecir el atributo is_recid, el cual responde a si el individuo será reincidente en el futuro. \n",
    "- Se juzgará entorno a el parámetro f1 para determinar los mejores *hiper-parámetros*. Esto debido a que el f1 score mezcla los otros parámetros númericos, por lo que representa de mejor manera el rendimiento de un modelo.\n",
    "- Se aplicará over y sub sampling a los datos para evitar desequilibrios.\n",
    "- Dependiendo si el modelo resultante es lo suficientemente satisfactorio, se puede concluir con respecto a la pregunta.\n",
    "\n",
    "\n",
    "### Pregunta 2\n",
    "- Esta pregunta se centra en encontrar las columnas que más afectan al `decile_score` por tabla, por lo que nos permitirá encontrar las columnas que más afectaron a COMPAS.\n",
    "- Para ello añadiremos el `decile_score` a cada tabla y usando los modelos KMeans y Decision Trees, nos centraremos en ir redunciendo la dimensionalidad para obtener mejores resultados.\n",
    "- Para evaluar el rendimiento de los modelos usaremos el párametro F1. Comparando entre distintos modelos, obtenidos a partir de subconjuntos de columnas, nos permitira concluir que párametros tuvieron más peso dentro del modelo de COMPAS, donde una mejor predicción indica las columnas a usar por tabla para analizar el modelo.\n",
    "- Una vez encontradas estas columnas, filtraremos todas las tablas para asi trabajar con los datos reducidos.\n",
    "\n",
    "\n",
    "### Pregunta 3\n",
    "- Haremos clustering de los datos con el fin de encontrar grupos naturales que se diferencien con respecto al factor de reincidencia. Esto nos permitirá hacer sub-sampling para el resto de preguntas.\n",
    "- Para ello, tomaremos estas tablas filtradas y se juntaran todas en una tabla única.\n",
    "- Una vez hecho esto, se quitarán las columnas relacionadas con la reincidencia, para luego aplicar una reducción de dimensionalidad a 2D usando PCA para facilitar la visualización.\n",
    "- Se aplicarán modelos de clustering (KNN, Jerárquico y DBSCAN) sobre los datos.\n",
    "- Para cada modelo se identificarán los *hiper-párametros* óptimos utilizando los métodos de rodilla y codo, según corresponda.\n",
    "- Luego mediremos el porcentaje de reincidencia para cada clúster dentro de cada modelo, usando una división simple entre la cantidad de reincidentes dentro del clúster y las personas totales.\n",
    "- Nos interesan los clústers con resultados extremos ya que con estos podemos identificar patrones en las demás características que nos permitan concluir ciertos patrones entre grupos que son \"muy\" reincidentes y los que no lo son.\n",
    "- Para identificar dichos patrones se recurrirá a una exploración de los datos sobre los clúster, similar a la hecha para la base de datos.\n",
    "\n",
    "### Pregunta 4\n",
    "Se seguirá la misma metodología que para la pregunta 1, pero se clasificará para predecir el atributo race usando datos a los cuales COMPAS hubiese tenido acceso y el puntaje de compas para ver si es posible utilizar dicha información para predecir la etnia de un individuo.\n",
    "\n",
    "### Conclución\n",
    "Para concluir, se analizarán los resultados obtenidos a través de las preguntas, lo que permitirá evaluar la discriminación dentro de COMPAS."
   ]
  },
  {
   "cell_type": "markdown",
   "metadata": {
    "pycharm": {
     "name": "#%% md\n"
    }
   },
   "source": [
    "\n",
    "## Ejecución de preguntas\n",
    "\n",
    "La limpieza preeliminar de los datos se realizó con este [script](clean_tables.R) de R, con el cual también se exportaron los datos a un csv que se cargan en Python para crear los modelos."
   ]
  },
  {
   "cell_type": "code",
   "execution_count": 1,
   "metadata": {
    "pycharm": {
     "name": "#%%\n"
    }
   },
   "outputs": [],
   "source": [
    "# Imports iniciales\n",
    "import pandas as pd\n",
    "import numpy as np\n",
    "import matplotlib.pyplot as plt\n",
    "import seaborn as sns\n",
    "from sklearn.metrics import f1_score, recall_score, precision_score, classification_report\n",
    "from sklearn.model_selection import train_test_split\n",
    "from sklearn.model_selection import GridSearchCV\n",
    "from sklearn.linear_model import LinearRegression\n",
    "from sklearn.tree import DecisionTreeClassifier\n",
    "from sklearn.naive_bayes import GaussianNB  # naive bayes\n",
    "from sklearn.neighbors import KNeighborsClassifier #kNN\n",
    "from sklearn.svm import SVC  # support vector machine\n",
    "from sklearn.feature_selection import RFE\n",
    "from sklearn.cluster import KMeans, DBSCAN, AgglomerativeClustering\n",
    "from scipy.cluster.hierarchy import dendrogram, linkage, fcluster\n",
    "from sklearn.decomposition import PCA\n",
    "from sklearn.neighbors import NearestNeighbors\n",
    "\n",
    "%matplotlib inline"
   ]
  },
  {
   "cell_type": "code",
   "execution_count": 2,
   "metadata": {
    "pycharm": {
     "name": "#%%\n"
    }
   },
   "outputs": [],
   "source": [
    "# Los datos cargados con R, los pasamos a csv, para luego leerlos con pandas\n",
    "casearrest = pd.read_csv('../data/cleaned/casearrest_cl.csv', index_col=0)\n",
    "jailhistory = pd.read_csv('../data/cleaned/jailhistory_cl.csv', index_col=0)\n",
    "people = pd.read_csv('../data/cleaned/people_cl.csv', index_col=0)\n",
    "prisonhistory = pd.read_csv('../data/cleaned/prisonhistory_cl.csv', index_col=0)\n",
    "charge = pd.read_csv('../data/cleaned/charge_cl.csv', index_col=0)\n",
    "compas_recid=pd.read_csv('../data/cleaned/compas_recid_cl.csv')\n",
    "compas_violence=pd.read_csv('../data/cleaned/compas_violence_cl.csv')\n",
    "main_people = pd.read_csv('../data/cleaned/people_joined_charge_decile.csv', index_col=0).drop('c_days_from_compas', axis=1)\n"
   ]
  },
  {
   "cell_type": "markdown",
   "metadata": {
    "pycharm": {
     "name": "#%% md\n"
    }
   },
   "source": [
    "### Pregunta 1\n"
   ]
  },
  {
   "cell_type": "code",
   "execution_count": 3,
   "metadata": {
    "collapsed": true,
    "pycharm": {
     "name": "#%%\n"
    }
   },
   "outputs": [],
   "source": [
    "# Parámetros a utilizar en GridSearch\n",
    "tuned_parameters = {'n_neighbors': [1, 2, 3, 4, 5, 6, 7, 8, 9, 10],\n",
    "                    'weights': ['uniform','distance']}\n",
    "score = 'f1'"
   ]
  },
  {
   "cell_type": "markdown",
   "metadata": {
    "pycharm": {
     "name": "#%% md\n"
    }
   },
   "source": [
    "Con fin de analizar la reincidencia se necesita la tabla \"people\" hasta la columna \"is_recid\".\n",
    "Las columnas eliminadas y la razón de esto son las siguientes:\n",
    "- age: su valor es redundante, entrega la misma info que 'dob' (date of birth).\n",
    "- race: string, se omite en este caso para comprobar si su presencia influye significantemente en la capacidad predictiva del modelo.\n",
    "- c_offense_date: contenía valores nulos.\n",
    "\n",
    "Además de dejar el atributo sexo como binario."
   ]
  },
  {
   "cell_type": "code",
   "execution_count": 4,
   "metadata": {
    "pycharm": {
     "name": "#%%\n"
    }
   },
   "outputs": [],
   "source": [
    "dataset = people.copy()\n",
    "dataset = dataset[dataset.columns[0:-9]].drop(columns=[\"age\", \"race\", \"c_offense_date\"])\n",
    "dataset['sex'] = np.where(dataset['sex']=='Male',1,0)"
   ]
  },
  {
   "cell_type": "markdown",
   "metadata": {
    "pycharm": {
     "name": "#%% md\n"
    }
   },
   "source": [
    "Formamos la matriz de correlación, donde se pueden observar las relaciones entre los distintos atributos. Con respecto a 'is_recid', se pueden distiguir como importantes a los atributos 'decile_score' y 'priors_count'."
   ]
  },
  {
   "cell_type": "code",
   "execution_count": 5,
   "metadata": {
    "pycharm": {
     "name": "#%%\n"
    }
   },
   "outputs": [
    {
     "data": {
      "text/plain": "<Figure size 1008x720 with 2 Axes>",
      "image/png": "[encoded data removed]"
     },
     "metadata": {
      "needs_background": "light"
     },
     "output_type": "display_data"
    }
   ],
   "source": [
    "plt.figure(figsize=(14, 10))\n",
    "sns.heatmap(dataset.corr(method='spearman'), cmap='viridis', annot=True);"
   ]
  },
  {
   "cell_type": "markdown",
   "metadata": {
    "pycharm": {
     "name": "#%% md\n"
    }
   },
   "source": [
    "Se entrenan modelos usando GridSearch y K-Neighbours, en la base de datos normalizada. Se realiza también para dataframes con SubSampling y OverSampling para después comparar sus resultados."
   ]
  },
  {
   "cell_type": "code",
   "execution_count": 6,
   "metadata": {
    "pycharm": {
     "name": "#%%\n"
    }
   },
   "outputs": [
    {
     "name": "stdout",
     "output_type": "stream",
     "text": [
      " ORIG Mejor combinación de parámetros:\n",
      "{'n_neighbors': 7, 'weights': 'uniform'}\n",
      "              precision    recall  f1-score   support\n",
      "\n",
      "         0.0       0.73      0.84      0.78      2195\n",
      "         1.0       0.54      0.38      0.45      1104\n",
      "\n",
      "    accuracy                           0.68      3299\n",
      "   macro avg       0.63      0.61      0.61      3299\n",
      "weighted avg       0.67      0.68      0.67      3299\n",
      "\n"
     ]
    }
   ],
   "source": [
    "norm_dataset = (dataset -dataset.min())/(dataset.max() -dataset.min())\n",
    "\n",
    "###separamos valores\n",
    "data_train, data_test, y_train, y_test = train_test_split(norm_dataset, norm_dataset['is_recid'], test_size=.30,\n",
    "                                                    random_state=15, stratify=norm_dataset['is_recid'])\n",
    "##subsampleamos\n",
    "data_train = data_train.reset_index(drop=True)\n",
    "idx = np.random.choice(data_train.loc[data_train.is_recid == 0].index, size=2545, replace=False)\n",
    "data_subsampled = data_train.drop(data_train.iloc[idx].index)\n",
    "##Oversampleamos\n",
    "idx = np.random.choice(data_train[data_train['is_recid'] == 1].index, size=2545)\n",
    "data_oversampled = data_train.drop(data_train.iloc[idx].index)\n",
    "\n",
    "### dejamos los datos para trabajar\n",
    "y_test = data_test.is_recid\n",
    "X_test = data_test.drop(columns=['is_recid'])\n",
    "y_orig =data_train.is_recid\n",
    "X_orig = data_train.drop(columns=['is_recid'])\n",
    "y_subs=data_subsampled.is_recid\n",
    "X_subs=data_subsampled.drop(columns=['is_recid'])\n",
    "y_over=data_oversampled.is_recid\n",
    "X_over=data_oversampled.drop(columns=['is_recid'])\n",
    "\n",
    "### modelo del original\n",
    "clf_org = GridSearchCV(KNeighborsClassifier(),\n",
    "                       param_grid=tuned_parameters,\n",
    "                       cv=5,\n",
    "                       scoring=score)\n",
    "print(\" ORIG Mejor combinación de parámetros:\")\n",
    "clf_org.fit(X_orig,y_orig)\n",
    "print(clf_org.best_params_)\n",
    "\n",
    "y_pred = clf_org.predict(X_test)\n",
    "\n",
    "print(classification_report(y_test, y_pred))"
   ]
  },
  {
   "cell_type": "code",
   "execution_count": 7,
   "metadata": {
    "pycharm": {
     "name": "#%%\n"
    }
   },
   "outputs": [
    {
     "name": "stdout",
     "output_type": "stream",
     "text": [
      " SUB Mejor combinación de parámetros:\n",
      "{'n_neighbors': 7, 'weights': 'uniform'}\n",
      "              precision    recall  f1-score   support\n",
      "\n",
      "         0.0       0.77      0.62      0.69      2195\n",
      "         1.0       0.45      0.62      0.53      1104\n",
      "\n",
      "    accuracy                           0.62      3299\n",
      "   macro avg       0.61      0.62      0.61      3299\n",
      "weighted avg       0.66      0.62      0.63      3299\n",
      "\n"
     ]
    }
   ],
   "source": [
    "### modelo subsampling\n",
    "clf_sub = GridSearchCV(KNeighborsClassifier(),\n",
    "                   param_grid=tuned_parameters,\n",
    "                   cv=5,\n",
    "                   scoring=score)\n",
    "print(\" SUB Mejor combinación de parámetros:\")\n",
    "clf_sub.fit(X_subs,y_subs)\n",
    "print(clf_sub.best_params_)\n",
    "\n",
    "y_pred = clf_sub.predict(X_test)\n",
    "\n",
    "print(classification_report(y_test, y_pred))"
   ]
  },
  {
   "cell_type": "code",
   "execution_count": 8,
   "metadata": {
    "pycharm": {
     "name": "#%%\n"
    }
   },
   "outputs": [
    {
     "name": "stdout",
     "output_type": "stream",
     "text": [
      " OVER Mejor combinación de parámetros:\n",
      "{'n_neighbors': 1, 'weights': 'uniform'}\n",
      "              precision    recall  f1-score   support\n",
      "\n",
      "         0.0       0.70      0.87      0.78      2195\n",
      "         1.0       0.50      0.26      0.34      1104\n",
      "\n",
      "    accuracy                           0.67      3299\n",
      "   macro avg       0.60      0.56      0.56      3299\n",
      "weighted avg       0.63      0.67      0.63      3299\n",
      "\n"
     ]
    }
   ],
   "source": [
    "### modelo oversampling\n",
    "clf_over = GridSearchCV(KNeighborsClassifier(),\n",
    "                       param_grid=tuned_parameters,\n",
    "                       cv=5,\n",
    "                       scoring=score)\n",
    "print(\" OVER Mejor combinación de parámetros:\")\n",
    "clf_over.fit(X_over,y_over)\n",
    "print(clf_over.best_params_)\n",
    "\n",
    "y_pred = clf_over.predict(X_test)\n",
    "\n",
    "print(classification_report(y_test, y_pred))"
   ]
  },
  {
   "cell_type": "markdown",
   "metadata": {
    "pycharm": {
     "name": "#%% md\n"
    }
   },
   "source": [
    "Se obtuvieron los mejores parámetros para los datos originales y utilizando SubSampling y OverSampling. Sin embargo, en la matriz de correlación se pueden identificar muchos atributos poco relacionados con 'is_recid'. Se probará el omitir algunos de estos para ver si se obtienen mejores resultados.\n",
    "\n",
    "Se omitirá primero 'days_b_screening_arrest', 'c_days_from_compas' y 'c_charge_degree', pues son los datos con la correlación menos significativa."
   ]
  },
  {
   "cell_type": "code",
   "execution_count": 9,
   "metadata": {
    "pycharm": {
     "name": "#%%\n"
    }
   },
   "outputs": [
    {
     "name": "stdout",
     "output_type": "stream",
     "text": [
      " ORIG Mejor combinación de parámetros:\n",
      "{'n_neighbors': 9, 'weights': 'uniform'}\n",
      "              precision    recall  f1-score   support\n",
      "\n",
      "           0       0.72      0.83      0.77      2195\n",
      "           1       0.52      0.37      0.43      1104\n",
      "\n",
      "    accuracy                           0.67      3299\n",
      "   macro avg       0.62      0.60      0.60      3299\n",
      "weighted avg       0.65      0.67      0.66      3299\n",
      "\n"
     ]
    }
   ],
   "source": [
    "dataset2 = people.copy()\n",
    "dataset2 = dataset2[dataset2.columns[0:-9]].drop(columns=[\"age\", \"race\", \"c_offense_date\", \"c_charge_degree\", \"c_days_from_compas\", \"days_b_screening_arrest\"])\n",
    "dataset2[\"sex\"] = np.where(dataset2[\"sex\"]=='Male',1,0)\n",
    "\n",
    "###separamos valores\n",
    "data_train, data_test, y_train, y_test = train_test_split(dataset2, dataset2['is_recid'], test_size=.30,\n",
    "                                                    random_state=15, stratify=dataset2['is_recid'])\n",
    "##subsampleamos\n",
    "data_train = data_train.reset_index(drop=True)\n",
    "idx = np.random.choice(data_train.loc[data_train.is_recid == 0].index, size=2545, replace=False)\n",
    "data_subsampled = data_train.drop(data_train.iloc[idx].index)\n",
    "##Oversampleamos\n",
    "idx = np.random.choice(data_train[data_train['is_recid'] == 1].index, size=2545)\n",
    "data_oversampled = data_train.drop(data_train.iloc[idx].index)\n",
    "\n",
    "### dejamos los datos para trabajar\n",
    "y_test = data_test.is_recid\n",
    "X_test = data_test.drop(columns=['is_recid'])\n",
    "y_orig =data_train.is_recid\n",
    "X_orig = data_train.drop(columns=['is_recid'])\n",
    "y_subs=data_subsampled.is_recid\n",
    "X_subs=data_subsampled.drop(columns=['is_recid'])\n",
    "y_over=data_oversampled.is_recid\n",
    "X_over=data_oversampled.drop(columns=['is_recid'])\n",
    "\n",
    "### modelo del original\n",
    "clf_org = GridSearchCV(KNeighborsClassifier(),\n",
    "                       param_grid=tuned_parameters,\n",
    "                       cv=5,\n",
    "                       scoring=score)\n",
    "print(\" ORIG Mejor combinación de parámetros:\")\n",
    "clf_org.fit(X_orig,y_orig)\n",
    "print(clf_org.best_params_)\n",
    "\n",
    "y_pred = clf_org.predict(X_test)\n",
    "\n",
    "print(classification_report(y_test, y_pred))"
   ]
  },
  {
   "cell_type": "code",
   "execution_count": 10,
   "metadata": {
    "pycharm": {
     "name": "#%%\n"
    }
   },
   "outputs": [
    {
     "name": "stdout",
     "output_type": "stream",
     "text": [
      " SUB Mejor combinación de parámetros:\n",
      "{'n_neighbors': 9, 'weights': 'uniform'}\n",
      "              precision    recall  f1-score   support\n",
      "\n",
      "           0       0.77      0.65      0.70      2195\n",
      "           1       0.47      0.62      0.53      1104\n",
      "\n",
      "    accuracy                           0.64      3299\n",
      "   macro avg       0.62      0.63      0.62      3299\n",
      "weighted avg       0.67      0.64      0.64      3299\n",
      "\n"
     ]
    }
   ],
   "source": [
    "### modelo subsampling\n",
    "clf_sub = GridSearchCV(KNeighborsClassifier(),\n",
    "                   param_grid=tuned_parameters,\n",
    "                   cv=5,\n",
    "                   scoring=score)\n",
    "print(\" SUB Mejor combinación de parámetros:\")\n",
    "clf_sub.fit(X_subs,y_subs)\n",
    "print(clf_sub.best_params_)\n",
    "\n",
    "y_pred = clf_sub.predict(X_test)\n",
    "\n",
    "print(classification_report(y_test, y_pred))"
   ]
  },
  {
   "cell_type": "code",
   "execution_count": 11,
   "metadata": {
    "pycharm": {
     "name": "#%%\n"
    }
   },
   "outputs": [
    {
     "name": "stdout",
     "output_type": "stream",
     "text": [
      " OVER Mejor combinación de parámetros:\n",
      "{'n_neighbors': 1, 'weights': 'uniform'}\n",
      "              precision    recall  f1-score   support\n",
      "\n",
      "           0       0.69      0.87      0.77      2195\n",
      "           1       0.45      0.21      0.29      1104\n",
      "\n",
      "    accuracy                           0.65      3299\n",
      "   macro avg       0.57      0.54      0.53      3299\n",
      "weighted avg       0.61      0.65      0.61      3299\n",
      "\n"
     ]
    }
   ],
   "source": [
    "### modelo oversampling\n",
    "clf_over = GridSearchCV(KNeighborsClassifier(),\n",
    "                       param_grid=tuned_parameters,\n",
    "                       cv=5,\n",
    "                       scoring=score)\n",
    "print(\" OVER Mejor combinación de parámetros:\")\n",
    "clf_over.fit(X_over,y_over)\n",
    "print(clf_over.best_params_)\n",
    "\n",
    "y_pred = clf_over.predict(X_test)\n",
    "\n",
    "print(classification_report(y_test, y_pred))"
   ]
  },
  {
   "cell_type": "markdown",
   "metadata": {
    "pycharm": {
     "name": "#%% md\n"
    }
   },
   "source": [
    "Ahora se omitirán todos los atributos cuya correlación con 'is_recid' esté entre $-0.1$ y $0.1$."
   ]
  },
  {
   "cell_type": "code",
   "execution_count": 12,
   "metadata": {
    "pycharm": {
     "name": "#%%\n"
    }
   },
   "outputs": [
    {
     "name": "stdout",
     "output_type": "stream",
     "text": [
      " ORIG Mejor combinación de parámetros:\n",
      "{'n_neighbors': 7, 'weights': 'uniform'}\n",
      "              precision    recall  f1-score   support\n",
      "\n",
      "           0       0.72      0.83      0.77      2195\n",
      "           1       0.51      0.36      0.42      1104\n",
      "\n",
      "    accuracy                           0.67      3299\n",
      "   macro avg       0.62      0.59      0.60      3299\n",
      "weighted avg       0.65      0.67      0.65      3299\n",
      "\n"
     ]
    }
   ],
   "source": [
    "dataset3 = people.copy()\n",
    "dataset3 = dataset3[dataset3.columns[0:-9]].drop(columns=[\"age\", \"race\", \"sex\", \"c_charge_degree\", \"c_offense_date\", \"c_days_from_compas\", \"days_b_screening_arrest\", \"c_jail_out\", \"c_jail_in\", \"juv_fel_count\"])\n",
    "\n",
    "###separamos valores\n",
    "data_train, data_test, y_train, y_test = train_test_split(dataset3, dataset3['is_recid'], test_size=.30,\n",
    "                                                    random_state=15, stratify=dataset3['is_recid'])\n",
    "##subsampleamos\n",
    "data_train = data_train.reset_index(drop=True)\n",
    "idx = np.random.choice(data_train.loc[data_train.is_recid == 0].index, size=2545, replace=False)\n",
    "data_subsampled = data_train.drop(data_train.iloc[idx].index)\n",
    "##Oversampleamos\n",
    "idx = np.random.choice(data_train[data_train['is_recid'] == 1].index, size=2545)\n",
    "data_oversampled = data_train.drop(data_train.iloc[idx].index)\n",
    "\n",
    "### dejamos los datos para trabajar\n",
    "y_test = data_test.is_recid\n",
    "X_test = data_test.drop(columns=['is_recid'])\n",
    "y_orig =data_train.is_recid\n",
    "X_orig = data_train.drop(columns=['is_recid'])\n",
    "y_subs=data_subsampled.is_recid\n",
    "X_subs=data_subsampled.drop(columns=['is_recid'])\n",
    "y_over=data_oversampled.is_recid\n",
    "X_over=data_oversampled.drop(columns=['is_recid'])\n",
    "\n",
    "### modelo del original\n",
    "clf_org = GridSearchCV(KNeighborsClassifier(),\n",
    "                       param_grid=tuned_parameters,\n",
    "                       cv=5,\n",
    "                       scoring=score)\n",
    "print(\" ORIG Mejor combinación de parámetros:\")\n",
    "clf_org.fit(X_orig,y_orig)\n",
    "print(clf_org.best_params_)\n",
    "\n",
    "y_pred = clf_org.predict(X_test)\n",
    "\n",
    "print(classification_report(y_test, y_pred))"
   ]
  },
  {
   "cell_type": "code",
   "execution_count": 13,
   "metadata": {
    "pycharm": {
     "name": "#%%\n"
    }
   },
   "outputs": [
    {
     "name": "stdout",
     "output_type": "stream",
     "text": [
      " SUB Mejor combinación de parámetros:\n",
      "{'n_neighbors': 9, 'weights': 'uniform'}\n",
      "              precision    recall  f1-score   support\n",
      "\n",
      "           0       0.77      0.66      0.71      2195\n",
      "           1       0.48      0.61      0.54      1104\n",
      "\n",
      "    accuracy                           0.65      3299\n",
      "   macro avg       0.62      0.64      0.62      3299\n",
      "weighted avg       0.67      0.65      0.65      3299\n",
      "\n"
     ]
    }
   ],
   "source": [
    "### modelo subsampling\n",
    "clf_sub = GridSearchCV(KNeighborsClassifier(),\n",
    "                   param_grid=tuned_parameters,\n",
    "                   cv=5,\n",
    "                   scoring=score)\n",
    "print(\" SUB Mejor combinación de parámetros:\")\n",
    "clf_sub.fit(X_subs,y_subs)\n",
    "print(clf_sub.best_params_)\n",
    "\n",
    "y_pred = clf_sub.predict(X_test)\n",
    "\n",
    "print(classification_report(y_test, y_pred))"
   ]
  },
  {
   "cell_type": "code",
   "execution_count": 14,
   "metadata": {
    "pycharm": {
     "name": "#%%\n"
    }
   },
   "outputs": [
    {
     "name": "stdout",
     "output_type": "stream",
     "text": [
      " OVER Mejor combinación de parámetros:\n",
      "{'n_neighbors': 1, 'weights': 'uniform'}\n",
      "              precision    recall  f1-score   support\n",
      "\n",
      "           0       0.68      0.86      0.76      2195\n",
      "           1       0.42      0.21      0.28      1104\n",
      "\n",
      "    accuracy                           0.64      3299\n",
      "   macro avg       0.55      0.53      0.52      3299\n",
      "weighted avg       0.60      0.64      0.60      3299\n",
      "\n"
     ]
    }
   ],
   "source": [
    "### modelo oversampling\n",
    "clf_over = GridSearchCV(KNeighborsClassifier(),\n",
    "                       param_grid=tuned_parameters,\n",
    "                       cv=5,\n",
    "                       scoring=score)\n",
    "print(\" OVER Mejor combinación de parámetros:\")\n",
    "clf_over.fit(X_over,y_over)\n",
    "print(clf_over.best_params_)\n",
    "\n",
    "y_pred = clf_over.predict(X_test)\n",
    "\n",
    "print(classification_report(y_test, y_pred))"
   ]
  },
  {
   "cell_type": "markdown",
   "metadata": {
    "pycharm": {
     "name": "#%% md\n"
    }
   },
   "source": [
    "De momento, se obtuvo la Accuracy más alta de $0.68$ utilizando todos los parámetros de la tabla (a excepción de race) y sin realizar ni SubSampling ni OverSampling. Estos valores aún no son suficientes para ayudar a dar una respueta concisa la pregunta propuesta.\n",
    "\n",
    "Se repetiran los entrenamientos, pero utilizando el atributo 'race'. Al ser un string se pasará a binario, donde si es igual a 'African-American' se le asignara un $1$ y, en caso contrario, un $0$.\n",
    "\n",
    "Notemos que la correlación entre 'is_recid' y 'race' es bastante menor, con un valor de solo $0.13$."
   ]
  },
  {
   "cell_type": "code",
   "execution_count": 15,
   "metadata": {
    "pycharm": {
     "name": "#%%\n"
    }
   },
   "outputs": [
    {
     "data": {
      "text/plain": "<Figure size 1008x720 with 2 Axes>",
      "image/png": "[encoded data removed]"
     },
     "metadata": {
      "needs_background": "light"
     },
     "output_type": "display_data"
    }
   ],
   "source": [
    "peoplemejor=people.copy()\n",
    "peoplemejor['race'] = np.where(peoplemejor['race']=='African-American',1,0)\n",
    "peoplemejor['sex'] = np.where(peoplemejor['sex']=='Male',1,0)\n",
    "peoplemejor = peoplemejor[peoplemejor.columns[0:-9]].drop(columns=[\"age\", \"c_offense_date\"])\n",
    "plt.figure(figsize=(14, 10))\n",
    "sns.heatmap(peoplemejor.corr(), cmap='viridis', annot=True);"
   ]
  },
  {
   "cell_type": "markdown",
   "metadata": {
    "pycharm": {
     "name": "#%% md\n"
    }
   },
   "source": [
    "Entrenar modelos usando GridSearch, etnia y sexo binarios."
   ]
  },
  {
   "cell_type": "code",
   "execution_count": 16,
   "metadata": {
    "pycharm": {
     "name": "#%%\n"
    }
   },
   "outputs": [
    {
     "name": "stdout",
     "output_type": "stream",
     "text": [
      " ORG Mejor combinación de parámetros:\n",
      "{'n_neighbors': 10, 'weights': 'distance'}\n",
      "              precision    recall  f1-score   support\n",
      "\n",
      "           0       0.72      0.83      0.77      2195\n",
      "           1       0.51      0.36      0.42      1104\n",
      "\n",
      "    accuracy                           0.67      3299\n",
      "   macro avg       0.62      0.59      0.60      3299\n",
      "weighted avg       0.65      0.67      0.65      3299\n",
      "\n"
     ]
    }
   ],
   "source": [
    "##########################  KNeighbors con race  ##########################\n",
    "###separamos valores\n",
    "X_train, X_test, y_train, y_test = train_test_split(peoplemejor, peoplemejor['is_recid'], test_size=.30,\n",
    "                                                          random_state=15, stratify=peoplemejor['is_recid'])\n",
    "##subsampleamos\n",
    "X_train = X_train.reset_index(drop=True)\n",
    "idx = np.random.choice(X_train.loc[X_train.is_recid == 0].index, size=2545, replace=False)\n",
    "data_subsampled = X_train.drop(X_train.iloc[idx].index)\n",
    "##Oversampleamos\n",
    "idx = np.random.choice(X_train[X_train['is_recid'] == 1].index, size=2545)\n",
    "data_oversampled = X_train.drop(X_train.iloc[idx].index)\n",
    "### dejamos los datos para trabajar\n",
    "y_test = X_test.is_recid\n",
    "X_test = X_test.drop(columns=['is_recid'])\n",
    "y_orig =X_train.is_recid\n",
    "X_orig = X_train.drop(columns=['is_recid'])\n",
    "y_subs=data_subsampled.is_recid\n",
    "X_subs=data_subsampled.drop(columns=['is_recid'])\n",
    "y_over=data_oversampled.is_recid\n",
    "X_over=data_oversampled.drop(columns=['is_recid'])\n",
    "\n",
    "### modelo del original\n",
    "clf_org = GridSearchCV(KNeighborsClassifier(),\n",
    "                       param_grid=tuned_parameters,\n",
    "                       cv=5,\n",
    "                       scoring=score)\n",
    "print(\" ORG Mejor combinación de parámetros:\")\n",
    "clf_org.fit(X_orig,y_orig)\n",
    "print(clf_org.best_params_)\n",
    "\n",
    "y_pred = clf_org.predict(X_test)\n",
    "\n",
    "print(classification_report(y_test, y_pred))"
   ]
  },
  {
   "cell_type": "code",
   "execution_count": 17,
   "metadata": {
    "pycharm": {
     "name": "#%%\n"
    }
   },
   "outputs": [
    {
     "name": "stdout",
     "output_type": "stream",
     "text": [
      " SUB Mejor combinación de parámetros:\n",
      "{'n_neighbors': 9, 'weights': 'uniform'}\n",
      "              precision    recall  f1-score   support\n",
      "\n",
      "           0       0.77      0.65      0.70      2195\n",
      "           1       0.47      0.62      0.53      1104\n",
      "\n",
      "    accuracy                           0.64      3299\n",
      "   macro avg       0.62      0.63      0.62      3299\n",
      "weighted avg       0.67      0.64      0.65      3299\n",
      "\n"
     ]
    }
   ],
   "source": [
    "### modelo subsampling\n",
    "clf_sub = GridSearchCV(KNeighborsClassifier(),\n",
    "                       param_grid=tuned_parameters,\n",
    "                       cv=5,\n",
    "                       scoring=score)\n",
    "print(\" SUB Mejor combinación de parámetros:\")\n",
    "clf_sub.fit(X_subs,y_subs)\n",
    "print(clf_sub.best_params_)\n",
    "\n",
    "y_pred = clf_sub.predict(X_test)\n",
    "\n",
    "print(classification_report(y_test, y_pred))"
   ]
  },
  {
   "cell_type": "code",
   "execution_count": 18,
   "metadata": {
    "pycharm": {
     "name": "#%%\n"
    }
   },
   "outputs": [
    {
     "name": "stdout",
     "output_type": "stream",
     "text": [
      " OVER Mejor combinación de parámetros:\n",
      "{'n_neighbors': 1, 'weights': 'uniform'}\n",
      "              precision    recall  f1-score   support\n",
      "\n",
      "           0       0.69      0.87      0.77      2195\n",
      "           1       0.46      0.22      0.30      1104\n",
      "\n",
      "    accuracy                           0.65      3299\n",
      "   macro avg       0.58      0.55      0.53      3299\n",
      "weighted avg       0.61      0.65      0.61      3299\n",
      "\n"
     ]
    }
   ],
   "source": [
    "### modelo oversampling\n",
    "clf_over = GridSearchCV(KNeighborsClassifier(),\n",
    "                        param_grid=tuned_parameters,\n",
    "                        cv=5,\n",
    "                        scoring=score)\n",
    "print(\" OVER Mejor combinación de parámetros:\")\n",
    "clf_over.fit(X_over,y_over)\n",
    "print(clf_over.best_params_)\n",
    "\n",
    "y_pred = clf_over.predict(X_test)\n",
    "\n",
    "print(classification_report(y_test, y_pred))"
   ]
  },
  {
   "cell_type": "markdown",
   "metadata": {
    "pycharm": {
     "name": "#%% md\n"
    }
   },
   "source": [
    "Se repite lo anterior, omitiendo los mismos atributos poco significativos del caso anterior 'days_b_screening_arrest', 'c_days_from_compas' y 'c_charge_degree'."
   ]
  },
  {
   "cell_type": "code",
   "execution_count": 19,
   "metadata": {
    "pycharm": {
     "name": "#%%\n"
    }
   },
   "outputs": [
    {
     "name": "stdout",
     "output_type": "stream",
     "text": [
      " ORG Mejor combinación de parámetros:\n",
      "{'n_neighbors': 9, 'weights': 'uniform'}\n",
      "              precision    recall  f1-score   support\n",
      "\n",
      "           0       0.73      0.83      0.77      2195\n",
      "           1       0.53      0.38      0.44      1104\n",
      "\n",
      "    accuracy                           0.68      3299\n",
      "   macro avg       0.63      0.60      0.61      3299\n",
      "weighted avg       0.66      0.68      0.66      3299\n",
      "\n"
     ]
    }
   ],
   "source": [
    "peoplemejor2=people.copy()\n",
    "peoplemejor2['race'] = np.where(peoplemejor2['race']=='African-American',1,0)\n",
    "peoplemejor2['sex'] = np.where(peoplemejor2['sex']=='Male',1,0)\n",
    "peoplemejor2 = peoplemejor2[peoplemejor2.columns[0:-9]].drop(columns=[\"age\", \"c_charge_degree\",\"c_offense_date\", \"days_b_screening_arrest\", \"c_days_from_compas\"])\n",
    "\n",
    "###separamos valores\n",
    "X_train, X_test, y_train, y_test = train_test_split(peoplemejor2, peoplemejor2['is_recid'], test_size=.30,\n",
    "                                                          random_state=15, stratify=peoplemejor2['is_recid'])\n",
    "##subsampleamos\n",
    "X_train = X_train.reset_index(drop=True)\n",
    "idx = np.random.choice(X_train.loc[X_train.is_recid == 0].index, size=2545, replace=False)\n",
    "data_subsampled = X_train.drop(X_train.iloc[idx].index)\n",
    "##Oversampleamos\n",
    "idx = np.random.choice(X_train[X_train['is_recid'] == 1].index, size=2545)\n",
    "data_oversampled = X_train.drop(X_train.iloc[idx].index)\n",
    "### dejamos los datos para trabajar\n",
    "y_test = X_test.is_recid\n",
    "X_test = X_test.drop(columns=['is_recid'])\n",
    "y_orig =X_train.is_recid\n",
    "X_orig = X_train.drop(columns=['is_recid'])\n",
    "y_subs=data_subsampled.is_recid\n",
    "X_subs=data_subsampled.drop(columns=['is_recid'])\n",
    "y_over=data_oversampled.is_recid\n",
    "X_over=data_oversampled.drop(columns=['is_recid'])\n",
    "\n",
    "### modelo del original\n",
    "clf_org = GridSearchCV(KNeighborsClassifier(),\n",
    "                       param_grid=tuned_parameters,\n",
    "                       cv=5,\n",
    "                       scoring=score)\n",
    "print(\" ORG Mejor combinación de parámetros:\")\n",
    "clf_org.fit(X_orig,y_orig)\n",
    "print(clf_org.best_params_)\n",
    "\n",
    "y_pred = clf_org.predict(X_test)\n",
    "\n",
    "print(classification_report(y_test, y_pred))"
   ]
  },
  {
   "cell_type": "code",
   "execution_count": 20,
   "metadata": {
    "pycharm": {
     "name": "#%%\n"
    }
   },
   "outputs": [
    {
     "name": "stdout",
     "output_type": "stream",
     "text": [
      " SUB Mejor combinación de parámetros:\n",
      "{'n_neighbors': 7, 'weights': 'uniform'}\n",
      "              precision    recall  f1-score   support\n",
      "\n",
      "           0       0.76      0.63      0.69      2195\n",
      "           1       0.45      0.61      0.52      1104\n",
      "\n",
      "    accuracy                           0.62      3299\n",
      "   macro avg       0.60      0.62      0.60      3299\n",
      "weighted avg       0.66      0.62      0.63      3299\n",
      "\n"
     ]
    }
   ],
   "source": [
    "### modelo subsampling\n",
    "clf_sub = GridSearchCV(KNeighborsClassifier(),\n",
    "                       param_grid=tuned_parameters,\n",
    "                       cv=5,\n",
    "                       scoring=score)\n",
    "print(\" SUB Mejor combinación de parámetros:\")\n",
    "clf_sub.fit(X_subs,y_subs)\n",
    "print(clf_sub.best_params_)\n",
    "\n",
    "y_pred = clf_sub.predict(X_test)\n",
    "\n",
    "print(classification_report(y_test, y_pred))"
   ]
  },
  {
   "cell_type": "code",
   "execution_count": 21,
   "metadata": {
    "pycharm": {
     "name": "#%%\n"
    }
   },
   "outputs": [
    {
     "name": "stdout",
     "output_type": "stream",
     "text": [
      " OVER Mejor combinación de parámetros:\n",
      "{'n_neighbors': 1, 'weights': 'uniform'}\n",
      "              precision    recall  f1-score   support\n",
      "\n",
      "           0       0.68      0.86      0.76      2195\n",
      "           1       0.42      0.21      0.28      1104\n",
      "\n",
      "    accuracy                           0.64      3299\n",
      "   macro avg       0.55      0.53      0.52      3299\n",
      "weighted avg       0.59      0.64      0.60      3299\n",
      "\n"
     ]
    }
   ],
   "source": [
    "### modelo oversampling\n",
    "clf_over = GridSearchCV(KNeighborsClassifier(),\n",
    "                        param_grid=tuned_parameters,\n",
    "                        cv=5,\n",
    "                        scoring=score)\n",
    "print(\" OVER Mejor combinación de parámetros:\")\n",
    "clf_over.fit(X_over,y_over)\n",
    "print(clf_over.best_params_)\n",
    "\n",
    "y_pred = clf_over.predict(X_test)\n",
    "\n",
    "print(classification_report(y_test, y_pred))"
   ]
  },
  {
   "cell_type": "markdown",
   "metadata": {
    "pycharm": {
     "name": "#%% md\n"
    }
   },
   "source": [
    "Se realiza el mismo entrenamiento anterior, pero esta vez se omitiran los atributos menos significativos en la segunda matriz de correlación, 'juv_fel_count', 'c_days_from_compas' y 'c_charge_degree'."
   ]
  },
  {
   "cell_type": "code",
   "execution_count": 22,
   "metadata": {
    "pycharm": {
     "name": "#%%\n"
    }
   },
   "outputs": [
    {
     "name": "stdout",
     "output_type": "stream",
     "text": [
      " ORG Mejor combinación de parámetros:\n",
      "{'n_neighbors': 7, 'weights': 'distance'}\n",
      "              precision    recall  f1-score   support\n",
      "\n",
      "           0       0.72      0.80      0.76      2195\n",
      "           1       0.49      0.39      0.44      1104\n",
      "\n",
      "    accuracy                           0.66      3299\n",
      "   macro avg       0.61      0.59      0.60      3299\n",
      "weighted avg       0.65      0.66      0.65      3299\n",
      "\n"
     ]
    }
   ],
   "source": [
    "peoplemejor21=people.copy()\n",
    "peoplemejor21['race'] = np.where(peoplemejor21['race']=='African-American',1,0)\n",
    "peoplemejor21['sex'] = np.where(peoplemejor21['sex']=='Male',1,0)\n",
    "peoplemejor21 = peoplemejor21[peoplemejor21.columns[0:-9]].drop(columns=[\"age\", \"c_charge_degree\",\"c_offense_date\", \"juv_fel_count\", \"c_days_from_compas\"])\n",
    "\n",
    "###separamos valores\n",
    "X_train, X_test, y_train, y_test = train_test_split(peoplemejor21, peoplemejor21['is_recid'], test_size=.30,\n",
    "                                                          random_state=15, stratify=peoplemejor21['is_recid'])\n",
    "##subsampleamos\n",
    "X_train = X_train.reset_index(drop=True)\n",
    "idx = np.random.choice(X_train.loc[X_train.is_recid == 0].index, size=2545, replace=False)\n",
    "data_subsampled = X_train.drop(X_train.iloc[idx].index)\n",
    "##Oversampleamos\n",
    "idx = np.random.choice(X_train[X_train['is_recid'] == 1].index, size=2545)\n",
    "data_oversampled = X_train.drop(X_train.iloc[idx].index)\n",
    "### dejamos los datos para trabajar\n",
    "y_test = X_test.is_recid\n",
    "X_test = X_test.drop(columns=['is_recid'])\n",
    "y_orig =X_train.is_recid\n",
    "X_orig = X_train.drop(columns=['is_recid'])\n",
    "y_subs=data_subsampled.is_recid\n",
    "X_subs=data_subsampled.drop(columns=['is_recid'])\n",
    "y_over=data_oversampled.is_recid\n",
    "X_over=data_oversampled.drop(columns=['is_recid'])\n",
    "\n",
    "### modelo del original\n",
    "clf_org = GridSearchCV(KNeighborsClassifier(),\n",
    "                       param_grid=tuned_parameters,\n",
    "                       cv=5,\n",
    "                       scoring=score)\n",
    "print(\" ORG Mejor combinación de parámetros:\")\n",
    "clf_org.fit(X_orig,y_orig)\n",
    "print(clf_org.best_params_)\n",
    "\n",
    "y_pred = clf_org.predict(X_test)\n",
    "\n",
    "print(classification_report(y_test, y_pred))"
   ]
  },
  {
   "cell_type": "code",
   "execution_count": 23,
   "metadata": {
    "pycharm": {
     "name": "#%%\n"
    }
   },
   "outputs": [
    {
     "name": "stdout",
     "output_type": "stream",
     "text": [
      " SUB Mejor combinación de parámetros:\n",
      "{'n_neighbors': 9, 'weights': 'uniform'}\n",
      "              precision    recall  f1-score   support\n",
      "\n",
      "           0       0.77      0.62      0.68      2195\n",
      "           1       0.45      0.63      0.53      1104\n",
      "\n",
      "    accuracy                           0.62      3299\n",
      "   macro avg       0.61      0.62      0.61      3299\n",
      "weighted avg       0.66      0.62      0.63      3299\n",
      "\n"
     ]
    }
   ],
   "source": [
    "### modelo subsampling\n",
    "clf_sub = GridSearchCV(KNeighborsClassifier(),\n",
    "                       param_grid=tuned_parameters,\n",
    "                       cv=5,\n",
    "                       scoring=score)\n",
    "print(\" SUB Mejor combinación de parámetros:\")\n",
    "clf_sub.fit(X_subs,y_subs)\n",
    "print(clf_sub.best_params_)\n",
    "\n",
    "y_pred = clf_sub.predict(X_test)\n",
    "\n",
    "print(classification_report(y_test, y_pred))"
   ]
  },
  {
   "cell_type": "code",
   "execution_count": 24,
   "metadata": {
    "pycharm": {
     "name": "#%%\n"
    }
   },
   "outputs": [
    {
     "name": "stdout",
     "output_type": "stream",
     "text": [
      " OVER Mejor combinación de parámetros:\n",
      "{'n_neighbors': 1, 'weights': 'uniform'}\n",
      "              precision    recall  f1-score   support\n",
      "\n",
      "           0       0.69      0.86      0.77      2195\n",
      "           1       0.46      0.23      0.30      1104\n",
      "\n",
      "    accuracy                           0.65      3299\n",
      "   macro avg       0.57      0.55      0.54      3299\n",
      "weighted avg       0.61      0.65      0.61      3299\n",
      "\n"
     ]
    }
   ],
   "source": [
    "### modelo oversampling\n",
    "clf_over = GridSearchCV(KNeighborsClassifier(),\n",
    "                        param_grid=tuned_parameters,\n",
    "                        cv=5,\n",
    "                        scoring=score)\n",
    "print(\" OVER Mejor combinación de parámetros:\")\n",
    "clf_over.fit(X_over,y_over)\n",
    "print(clf_over.best_params_)\n",
    "\n",
    "y_pred = clf_over.predict(X_test)\n",
    "\n",
    "print(classification_report(y_test, y_pred))"
   ]
  },
  {
   "cell_type": "markdown",
   "metadata": {
    "pycharm": {
     "name": "#%% md\n"
    }
   },
   "source": [
    "Se repite el entrenamiento, omitiendo todos los atributos cuya correlación con 'is_recid' esté entre $-0.1$ y $0.1$."
   ]
  },
  {
   "cell_type": "code",
   "execution_count": 25,
   "metadata": {
    "pycharm": {
     "name": "#%%\n"
    }
   },
   "outputs": [
    {
     "name": "stdout",
     "output_type": "stream",
     "text": [
      " ORG Mejor combinación de parámetros:\n",
      "{'n_neighbors': 9, 'weights': 'distance'}\n",
      "              precision    recall  f1-score   support\n",
      "\n",
      "           0       0.72      0.80      0.76      2195\n",
      "           1       0.49      0.38      0.43      1104\n",
      "\n",
      "    accuracy                           0.66      3299\n",
      "   macro avg       0.61      0.59      0.59      3299\n",
      "weighted avg       0.64      0.66      0.65      3299\n",
      "\n"
     ]
    }
   ],
   "source": [
    "peoplemejor3=people.copy()\n",
    "peoplemejor3['race'] = np.where(peoplemejor3['race']=='African-American',1,0)\n",
    "#peoplemejor3['sex'] = np.where(peoplemejor3['sex']=='Male',1,0)\n",
    "peoplemejor3 = peoplemejor3[peoplemejor3.columns[0:-9]].drop(columns=[\"age\", \"sex\", \"c_charge_degree\", \"c_offense_date\", \"c_days_from_compas\", \"days_b_screening_arrest\", \"c_jail_out\", \"c_jail_in\", \"juv_fel_count\", \"juv_other_count\"])\n",
    "\n",
    "###separamos valores\n",
    "X_train, X_test, y_train, y_test = train_test_split(peoplemejor3, peoplemejor3['is_recid'], test_size=.30,\n",
    "                                                          random_state=15, stratify=peoplemejor3['is_recid'])\n",
    "##subsampleamos\n",
    "X_train = X_train.reset_index(drop=True)\n",
    "idx = np.random.choice(X_train.loc[X_train.is_recid == 0].index, size=2545, replace=False)\n",
    "data_subsampled = X_train.drop(X_train.iloc[idx].index)\n",
    "##Oversampleamos\n",
    "idx = np.random.choice(X_train[X_train['is_recid'] == 1].index, size=2545)\n",
    "data_oversampled = X_train.drop(X_train.iloc[idx].index)\n",
    "### dejamos los datos para trabajar\n",
    "y_test = X_test.is_recid\n",
    "X_test = X_test.drop(columns=['is_recid'])\n",
    "y_orig =X_train.is_recid\n",
    "X_orig = X_train.drop(columns=['is_recid'])\n",
    "y_subs=data_subsampled.is_recid\n",
    "X_subs=data_subsampled.drop(columns=['is_recid'])\n",
    "y_over=data_oversampled.is_recid\n",
    "X_over=data_oversampled.drop(columns=['is_recid'])\n",
    "\n",
    "### modelo del original\n",
    "clf_org = GridSearchCV(KNeighborsClassifier(),\n",
    "                       param_grid=tuned_parameters,\n",
    "                       cv=5,\n",
    "                       scoring=score)\n",
    "print(\" ORG Mejor combinación de parámetros:\")\n",
    "clf_org.fit(X_orig,y_orig)\n",
    "print(clf_org.best_params_)\n",
    "\n",
    "y_pred = clf_org.predict(X_test)\n",
    "\n",
    "print(classification_report(y_test, y_pred))"
   ]
  },
  {
   "cell_type": "code",
   "execution_count": 26,
   "metadata": {
    "pycharm": {
     "name": "#%%\n"
    }
   },
   "outputs": [
    {
     "name": "stdout",
     "output_type": "stream",
     "text": [
      " SUB Mejor combinación de parámetros:\n",
      "{'n_neighbors': 9, 'weights': 'uniform'}\n",
      "              precision    recall  f1-score   support\n",
      "\n",
      "           0       0.78      0.62      0.69      2195\n",
      "           1       0.46      0.65      0.54      1104\n",
      "\n",
      "    accuracy                           0.63      3299\n",
      "   macro avg       0.62      0.64      0.62      3299\n",
      "weighted avg       0.67      0.63      0.64      3299\n",
      "\n"
     ]
    }
   ],
   "source": [
    "### modelo subsampling\n",
    "clf_sub = GridSearchCV(KNeighborsClassifier(),\n",
    "                       param_grid=tuned_parameters,\n",
    "                       cv=5,\n",
    "                       scoring=score)\n",
    "print(\" SUB Mejor combinación de parámetros:\")\n",
    "clf_sub.fit(X_subs,y_subs)\n",
    "print(clf_sub.best_params_)\n",
    "\n",
    "y_pred = clf_sub.predict(X_test)\n",
    "\n",
    "print(classification_report(y_test, y_pred))"
   ]
  },
  {
   "cell_type": "code",
   "execution_count": 27,
   "metadata": {
    "pycharm": {
     "name": "#%%\n"
    }
   },
   "outputs": [
    {
     "name": "stdout",
     "output_type": "stream",
     "text": [
      " OVER Mejor combinación de parámetros:\n",
      "{'n_neighbors': 1, 'weights': 'uniform'}\n",
      "              precision    recall  f1-score   support\n",
      "\n",
      "           0       0.69      0.86      0.77      2195\n",
      "           1       0.46      0.23      0.30      1104\n",
      "\n",
      "    accuracy                           0.65      3299\n",
      "   macro avg       0.57      0.55      0.54      3299\n",
      "weighted avg       0.61      0.65      0.61      3299\n",
      "\n"
     ]
    }
   ],
   "source": [
    "### modelo oversampling\n",
    "clf_over = GridSearchCV(KNeighborsClassifier(),\n",
    "                        param_grid=tuned_parameters,\n",
    "                        cv=5,\n",
    "                        scoring=score)\n",
    "print(\" OVER Mejor combinación de parámetros:\")\n",
    "clf_over.fit(X_over,y_over)\n",
    "print(clf_over.best_params_)\n",
    "\n",
    "y_pred = clf_over.predict(X_test)\n",
    "\n",
    "print(classification_report(y_test, y_pred))"
   ]
  },
  {
   "cell_type": "markdown",
   "metadata": {
    "pycharm": {
     "name": "#%% md\n"
    }
   },
   "source": [
    "Incluyendo el atributo 'race' no se alcanza una Accuracy mayor o igual a la alcanzada anteriormente $0.69$.\n",
    "\n",
    "Se repetiran todos los entrenamientos anteriores, utilizando Oversampling, Subsampling y tomando en cuenta o no al atributo 'race'. En este caso se utilizará un clasificador de **Decision Tree**, con el fin de abordar más posibilidades y así seleccionar el mejor resultado entre ambos clasificadores."
   ]
  },
  {
   "cell_type": "code",
   "execution_count": 28,
   "metadata": {
    "pycharm": {
     "name": "#%%\n"
    }
   },
   "outputs": [],
   "source": [
    "dataset = people.copy()\n",
    "dataset = dataset[dataset.columns[0:-9]].drop(columns=[\"age\", \"race\", \"c_offense_date\"])\n",
    "dataset['sex'] = np.where(dataset['sex']=='Male',1,0)\n",
    "\n",
    "# Parámetros a utilizar en GridSearch-DecisionTree\n",
    "tuned_parameters = {'max_depth': [1, 2, 3, 4, 5, 6, 7, 8, 9, 10],\n",
    "                    'min_samples_leaf': [1, 2, 3, 4, 5, 6, 7, 8, 9, 10],\n",
    "                    'min_samples_split': [2, 3, 4, 5, 6, 7, 8, 9, 10, 11, 12, 13, 14, 15],\n",
    "                    'criterion': ['gini','entropy']}"
   ]
  },
  {
   "cell_type": "markdown",
   "metadata": {
    "pycharm": {
     "name": "#%% md\n"
    }
   },
   "source": [
    "Se entrenan modelos usando GridSearch, en la base de datos normalizada. Se realiza también para dataframes con SubSampling y OverSampling."
   ]
  },
  {
   "cell_type": "code",
   "execution_count": 29,
   "metadata": {
    "pycharm": {
     "name": "#%%\n"
    }
   },
   "outputs": [
    {
     "name": "stdout",
     "output_type": "stream",
     "text": [
      " ORIG Mejor combinación de parámetros:\n",
      "{'criterion': 'entropy', 'max_depth': 3, 'min_samples_leaf': 1, 'min_samples_split': 2}\n",
      "              precision    recall  f1-score   support\n",
      "\n",
      "         0.0       0.76      0.78      0.77      2195\n",
      "         1.0       0.55      0.52      0.53      1104\n",
      "\n",
      "    accuracy                           0.70      3299\n",
      "   macro avg       0.66      0.65      0.65      3299\n",
      "weighted avg       0.69      0.70      0.69      3299\n",
      "\n"
     ]
    }
   ],
   "source": [
    "norm_dataset = (dataset -dataset.min())/(dataset.max() -dataset.min())\n",
    "\n",
    "###separamos valores\n",
    "data_train, data_test, y_train, y_test = train_test_split(norm_dataset, norm_dataset['is_recid'], test_size=.30,\n",
    "                                                    random_state=15, stratify=norm_dataset['is_recid'])\n",
    "##subsampleamos\n",
    "data_train = data_train.reset_index(drop=True)\n",
    "idx = np.random.choice(data_train.loc[data_train.is_recid == 0].index, size=2545, replace=False)\n",
    "data_subsampled = data_train.drop(data_train.iloc[idx].index)\n",
    "##Oversampleamos\n",
    "idx = np.random.choice(data_train[data_train['is_recid'] == 1].index, size=2545)\n",
    "data_oversampled = data_train.drop(data_train.iloc[idx].index)\n",
    "\n",
    "### dejamos los datos para trabajar\n",
    "y_test = data_test.is_recid\n",
    "X_test = data_test.drop(columns=['is_recid'])\n",
    "y_orig =data_train.is_recid\n",
    "X_orig = data_train.drop(columns=['is_recid'])\n",
    "y_subs=data_subsampled.is_recid\n",
    "X_subs=data_subsampled.drop(columns=['is_recid'])\n",
    "y_over=data_oversampled.is_recid\n",
    "X_over=data_oversampled.drop(columns=['is_recid'])\n",
    "\n",
    "### modelo del original\n",
    "clf_org = GridSearchCV(DecisionTreeClassifier(),\n",
    "                       param_grid=tuned_parameters,\n",
    "                       cv=5,\n",
    "                       scoring=score)\n",
    "print(\" ORIG Mejor combinación de parámetros:\")\n",
    "clf_org.fit(X_orig,y_orig)\n",
    "print(clf_org.best_params_)\n",
    "\n",
    "y_pred = clf_org.predict(X_test)\n",
    "\n",
    "print(classification_report(y_test, y_pred))"
   ]
  },
  {
   "cell_type": "code",
   "execution_count": 30,
   "metadata": {
    "pycharm": {
     "name": "#%%\n"
    }
   },
   "outputs": [
    {
     "name": "stdout",
     "output_type": "stream",
     "text": [
      " SUB Mejor combinación de parámetros:\n",
      "{'criterion': 'entropy', 'max_depth': 5, 'min_samples_leaf': 5, 'min_samples_split': 2}\n",
      "              precision    recall  f1-score   support\n",
      "\n",
      "         0.0       0.81      0.63      0.71      2195\n",
      "         1.0       0.49      0.71      0.58      1104\n",
      "\n",
      "    accuracy                           0.65      3299\n",
      "   macro avg       0.65      0.67      0.64      3299\n",
      "weighted avg       0.70      0.65      0.66      3299\n",
      "\n"
     ]
    }
   ],
   "source": [
    "### modelo subsampling\n",
    "clf_sub = GridSearchCV(DecisionTreeClassifier(),\n",
    "                   param_grid=tuned_parameters,\n",
    "                   cv=5,\n",
    "                   scoring=score)\n",
    "print(\" SUB Mejor combinación de parámetros:\")\n",
    "clf_sub.fit(X_subs,y_subs)\n",
    "print(clf_sub.best_params_)\n",
    "\n",
    "y_pred = clf_sub.predict(X_test)\n",
    "\n",
    "print(classification_report(y_test, y_pred))"
   ]
  },
  {
   "cell_type": "code",
   "execution_count": 31,
   "metadata": {
    "pycharm": {
     "name": "#%%\n"
    }
   },
   "outputs": [
    {
     "name": "stdout",
     "output_type": "stream",
     "text": [
      " OVER Mejor combinación de parámetros:\n"
     ]
    },
    {
     "ename": "KeyboardInterrupt",
     "evalue": "",
     "output_type": "error",
     "traceback": [
      "\u001B[0;31m---------------------------------------------------------------------------\u001B[0m",
      "\u001B[0;31mKeyboardInterrupt\u001B[0m                         Traceback (most recent call last)",
      "Input \u001B[0;32mIn [31]\u001B[0m, in \u001B[0;36m<cell line: 7>\u001B[0;34m()\u001B[0m\n\u001B[1;32m      2\u001B[0m clf_over \u001B[38;5;241m=\u001B[39m GridSearchCV(DecisionTreeClassifier(),\n\u001B[1;32m      3\u001B[0m                        param_grid\u001B[38;5;241m=\u001B[39mtuned_parameters,\n\u001B[1;32m      4\u001B[0m                        cv\u001B[38;5;241m=\u001B[39m\u001B[38;5;241m5\u001B[39m,\n\u001B[1;32m      5\u001B[0m                        scoring\u001B[38;5;241m=\u001B[39mscore)\n\u001B[1;32m      6\u001B[0m \u001B[38;5;28mprint\u001B[39m(\u001B[38;5;124m\"\u001B[39m\u001B[38;5;124m OVER Mejor combinación de parámetros:\u001B[39m\u001B[38;5;124m\"\u001B[39m)\n\u001B[0;32m----> 7\u001B[0m \u001B[43mclf_over\u001B[49m\u001B[38;5;241;43m.\u001B[39;49m\u001B[43mfit\u001B[49m\u001B[43m(\u001B[49m\u001B[43mX_over\u001B[49m\u001B[43m,\u001B[49m\u001B[43my_over\u001B[49m\u001B[43m)\u001B[49m\n\u001B[1;32m      8\u001B[0m \u001B[38;5;28mprint\u001B[39m(clf_over\u001B[38;5;241m.\u001B[39mbest_params_)\n\u001B[1;32m     10\u001B[0m y_pred \u001B[38;5;241m=\u001B[39m clf_over\u001B[38;5;241m.\u001B[39mpredict(X_test)\n",
      "File \u001B[0;32m~/opt/anaconda3/lib/python3.9/site-packages/sklearn/model_selection/_search.py:891\u001B[0m, in \u001B[0;36mBaseSearchCV.fit\u001B[0;34m(self, X, y, groups, **fit_params)\u001B[0m\n\u001B[1;32m    885\u001B[0m     results \u001B[38;5;241m=\u001B[39m \u001B[38;5;28mself\u001B[39m\u001B[38;5;241m.\u001B[39m_format_results(\n\u001B[1;32m    886\u001B[0m         all_candidate_params, n_splits, all_out, all_more_results\n\u001B[1;32m    887\u001B[0m     )\n\u001B[1;32m    889\u001B[0m     \u001B[38;5;28;01mreturn\u001B[39;00m results\n\u001B[0;32m--> 891\u001B[0m \u001B[38;5;28;43mself\u001B[39;49m\u001B[38;5;241;43m.\u001B[39;49m\u001B[43m_run_search\u001B[49m\u001B[43m(\u001B[49m\u001B[43mevaluate_candidates\u001B[49m\u001B[43m)\u001B[49m\n\u001B[1;32m    893\u001B[0m \u001B[38;5;66;03m# multimetric is determined here because in the case of a callable\u001B[39;00m\n\u001B[1;32m    894\u001B[0m \u001B[38;5;66;03m# self.scoring the return type is only known after calling\u001B[39;00m\n\u001B[1;32m    895\u001B[0m first_test_score \u001B[38;5;241m=\u001B[39m all_out[\u001B[38;5;241m0\u001B[39m][\u001B[38;5;124m\"\u001B[39m\u001B[38;5;124mtest_scores\u001B[39m\u001B[38;5;124m\"\u001B[39m]\n",
      "File \u001B[0;32m~/opt/anaconda3/lib/python3.9/site-packages/sklearn/model_selection/_search.py:1392\u001B[0m, in \u001B[0;36mGridSearchCV._run_search\u001B[0;34m(self, evaluate_candidates)\u001B[0m\n\u001B[1;32m   1390\u001B[0m \u001B[38;5;28;01mdef\u001B[39;00m \u001B[38;5;21m_run_search\u001B[39m(\u001B[38;5;28mself\u001B[39m, evaluate_candidates):\n\u001B[1;32m   1391\u001B[0m     \u001B[38;5;124;03m\"\"\"Search all candidates in param_grid\"\"\"\u001B[39;00m\n\u001B[0;32m-> 1392\u001B[0m     \u001B[43mevaluate_candidates\u001B[49m\u001B[43m(\u001B[49m\u001B[43mParameterGrid\u001B[49m\u001B[43m(\u001B[49m\u001B[38;5;28;43mself\u001B[39;49m\u001B[38;5;241;43m.\u001B[39;49m\u001B[43mparam_grid\u001B[49m\u001B[43m)\u001B[49m\u001B[43m)\u001B[49m\n",
      "File \u001B[0;32m~/opt/anaconda3/lib/python3.9/site-packages/sklearn/model_selection/_search.py:838\u001B[0m, in \u001B[0;36mBaseSearchCV.fit.<locals>.evaluate_candidates\u001B[0;34m(candidate_params, cv, more_results)\u001B[0m\n\u001B[1;32m    830\u001B[0m \u001B[38;5;28;01mif\u001B[39;00m \u001B[38;5;28mself\u001B[39m\u001B[38;5;241m.\u001B[39mverbose \u001B[38;5;241m>\u001B[39m \u001B[38;5;241m0\u001B[39m:\n\u001B[1;32m    831\u001B[0m     \u001B[38;5;28mprint\u001B[39m(\n\u001B[1;32m    832\u001B[0m         \u001B[38;5;124m\"\u001B[39m\u001B[38;5;124mFitting \u001B[39m\u001B[38;5;132;01m{0}\u001B[39;00m\u001B[38;5;124m folds for each of \u001B[39m\u001B[38;5;132;01m{1}\u001B[39;00m\u001B[38;5;124m candidates,\u001B[39m\u001B[38;5;124m\"\u001B[39m\n\u001B[1;32m    833\u001B[0m         \u001B[38;5;124m\"\u001B[39m\u001B[38;5;124m totalling \u001B[39m\u001B[38;5;132;01m{2}\u001B[39;00m\u001B[38;5;124m fits\u001B[39m\u001B[38;5;124m\"\u001B[39m\u001B[38;5;241m.\u001B[39mformat(\n\u001B[1;32m    834\u001B[0m             n_splits, n_candidates, n_candidates \u001B[38;5;241m*\u001B[39m n_splits\n\u001B[1;32m    835\u001B[0m         )\n\u001B[1;32m    836\u001B[0m     )\n\u001B[0;32m--> 838\u001B[0m out \u001B[38;5;241m=\u001B[39m \u001B[43mparallel\u001B[49m\u001B[43m(\u001B[49m\n\u001B[1;32m    839\u001B[0m \u001B[43m    \u001B[49m\u001B[43mdelayed\u001B[49m\u001B[43m(\u001B[49m\u001B[43m_fit_and_score\u001B[49m\u001B[43m)\u001B[49m\u001B[43m(\u001B[49m\n\u001B[1;32m    840\u001B[0m \u001B[43m        \u001B[49m\u001B[43mclone\u001B[49m\u001B[43m(\u001B[49m\u001B[43mbase_estimator\u001B[49m\u001B[43m)\u001B[49m\u001B[43m,\u001B[49m\n\u001B[1;32m    841\u001B[0m \u001B[43m        \u001B[49m\u001B[43mX\u001B[49m\u001B[43m,\u001B[49m\n\u001B[1;32m    842\u001B[0m \u001B[43m        \u001B[49m\u001B[43my\u001B[49m\u001B[43m,\u001B[49m\n\u001B[1;32m    843\u001B[0m \u001B[43m        \u001B[49m\u001B[43mtrain\u001B[49m\u001B[38;5;241;43m=\u001B[39;49m\u001B[43mtrain\u001B[49m\u001B[43m,\u001B[49m\n\u001B[1;32m    844\u001B[0m \u001B[43m        \u001B[49m\u001B[43mtest\u001B[49m\u001B[38;5;241;43m=\u001B[39;49m\u001B[43mtest\u001B[49m\u001B[43m,\u001B[49m\n\u001B[1;32m    845\u001B[0m \u001B[43m        \u001B[49m\u001B[43mparameters\u001B[49m\u001B[38;5;241;43m=\u001B[39;49m\u001B[43mparameters\u001B[49m\u001B[43m,\u001B[49m\n\u001B[1;32m    846\u001B[0m \u001B[43m        \u001B[49m\u001B[43msplit_progress\u001B[49m\u001B[38;5;241;43m=\u001B[39;49m\u001B[43m(\u001B[49m\u001B[43msplit_idx\u001B[49m\u001B[43m,\u001B[49m\u001B[43m \u001B[49m\u001B[43mn_splits\u001B[49m\u001B[43m)\u001B[49m\u001B[43m,\u001B[49m\n\u001B[1;32m    847\u001B[0m \u001B[43m        \u001B[49m\u001B[43mcandidate_progress\u001B[49m\u001B[38;5;241;43m=\u001B[39;49m\u001B[43m(\u001B[49m\u001B[43mcand_idx\u001B[49m\u001B[43m,\u001B[49m\u001B[43m \u001B[49m\u001B[43mn_candidates\u001B[49m\u001B[43m)\u001B[49m\u001B[43m,\u001B[49m\n\u001B[1;32m    848\u001B[0m \u001B[43m        \u001B[49m\u001B[38;5;241;43m*\u001B[39;49m\u001B[38;5;241;43m*\u001B[39;49m\u001B[43mfit_and_score_kwargs\u001B[49m\u001B[43m,\u001B[49m\n\u001B[1;32m    849\u001B[0m \u001B[43m    \u001B[49m\u001B[43m)\u001B[49m\n\u001B[1;32m    850\u001B[0m \u001B[43m    \u001B[49m\u001B[38;5;28;43;01mfor\u001B[39;49;00m\u001B[43m \u001B[49m\u001B[43m(\u001B[49m\u001B[43mcand_idx\u001B[49m\u001B[43m,\u001B[49m\u001B[43m \u001B[49m\u001B[43mparameters\u001B[49m\u001B[43m)\u001B[49m\u001B[43m,\u001B[49m\u001B[43m \u001B[49m\u001B[43m(\u001B[49m\u001B[43msplit_idx\u001B[49m\u001B[43m,\u001B[49m\u001B[43m \u001B[49m\u001B[43m(\u001B[49m\u001B[43mtrain\u001B[49m\u001B[43m,\u001B[49m\u001B[43m \u001B[49m\u001B[43mtest\u001B[49m\u001B[43m)\u001B[49m\u001B[43m)\u001B[49m\u001B[43m \u001B[49m\u001B[38;5;129;43;01min\u001B[39;49;00m\u001B[43m \u001B[49m\u001B[43mproduct\u001B[49m\u001B[43m(\u001B[49m\n\u001B[1;32m    851\u001B[0m \u001B[43m        \u001B[49m\u001B[38;5;28;43menumerate\u001B[39;49m\u001B[43m(\u001B[49m\u001B[43mcandidate_params\u001B[49m\u001B[43m)\u001B[49m\u001B[43m,\u001B[49m\u001B[43m \u001B[49m\u001B[38;5;28;43menumerate\u001B[39;49m\u001B[43m(\u001B[49m\u001B[43mcv\u001B[49m\u001B[38;5;241;43m.\u001B[39;49m\u001B[43msplit\u001B[49m\u001B[43m(\u001B[49m\u001B[43mX\u001B[49m\u001B[43m,\u001B[49m\u001B[43m \u001B[49m\u001B[43my\u001B[49m\u001B[43m,\u001B[49m\u001B[43m \u001B[49m\u001B[43mgroups\u001B[49m\u001B[43m)\u001B[49m\u001B[43m)\u001B[49m\n\u001B[1;32m    852\u001B[0m \u001B[43m    \u001B[49m\u001B[43m)\u001B[49m\n\u001B[1;32m    853\u001B[0m \u001B[43m\u001B[49m\u001B[43m)\u001B[49m\n\u001B[1;32m    855\u001B[0m \u001B[38;5;28;01mif\u001B[39;00m \u001B[38;5;28mlen\u001B[39m(out) \u001B[38;5;241m<\u001B[39m \u001B[38;5;241m1\u001B[39m:\n\u001B[1;32m    856\u001B[0m     \u001B[38;5;28;01mraise\u001B[39;00m \u001B[38;5;167;01mValueError\u001B[39;00m(\n\u001B[1;32m    857\u001B[0m         \u001B[38;5;124m\"\u001B[39m\u001B[38;5;124mNo fits were performed. \u001B[39m\u001B[38;5;124m\"\u001B[39m\n\u001B[1;32m    858\u001B[0m         \u001B[38;5;124m\"\u001B[39m\u001B[38;5;124mWas the CV iterator empty? \u001B[39m\u001B[38;5;124m\"\u001B[39m\n\u001B[1;32m    859\u001B[0m         \u001B[38;5;124m\"\u001B[39m\u001B[38;5;124mWere there no candidates?\u001B[39m\u001B[38;5;124m\"\u001B[39m\n\u001B[1;32m    860\u001B[0m     )\n",
      "File \u001B[0;32m~/opt/anaconda3/lib/python3.9/site-packages/joblib/parallel.py:1046\u001B[0m, in \u001B[0;36mParallel.__call__\u001B[0;34m(self, iterable)\u001B[0m\n\u001B[1;32m   1043\u001B[0m \u001B[38;5;28;01mif\u001B[39;00m \u001B[38;5;28mself\u001B[39m\u001B[38;5;241m.\u001B[39mdispatch_one_batch(iterator):\n\u001B[1;32m   1044\u001B[0m     \u001B[38;5;28mself\u001B[39m\u001B[38;5;241m.\u001B[39m_iterating \u001B[38;5;241m=\u001B[39m \u001B[38;5;28mself\u001B[39m\u001B[38;5;241m.\u001B[39m_original_iterator \u001B[38;5;129;01mis\u001B[39;00m \u001B[38;5;129;01mnot\u001B[39;00m \u001B[38;5;28;01mNone\u001B[39;00m\n\u001B[0;32m-> 1046\u001B[0m \u001B[38;5;28;01mwhile\u001B[39;00m \u001B[38;5;28;43mself\u001B[39;49m\u001B[38;5;241;43m.\u001B[39;49m\u001B[43mdispatch_one_batch\u001B[49m\u001B[43m(\u001B[49m\u001B[43miterator\u001B[49m\u001B[43m)\u001B[49m:\n\u001B[1;32m   1047\u001B[0m     \u001B[38;5;28;01mpass\u001B[39;00m\n\u001B[1;32m   1049\u001B[0m \u001B[38;5;28;01mif\u001B[39;00m pre_dispatch \u001B[38;5;241m==\u001B[39m \u001B[38;5;124m\"\u001B[39m\u001B[38;5;124mall\u001B[39m\u001B[38;5;124m\"\u001B[39m \u001B[38;5;129;01mor\u001B[39;00m n_jobs \u001B[38;5;241m==\u001B[39m \u001B[38;5;241m1\u001B[39m:\n\u001B[1;32m   1050\u001B[0m     \u001B[38;5;66;03m# The iterable was consumed all at once by the above for loop.\u001B[39;00m\n\u001B[1;32m   1051\u001B[0m     \u001B[38;5;66;03m# No need to wait for async callbacks to trigger to\u001B[39;00m\n\u001B[1;32m   1052\u001B[0m     \u001B[38;5;66;03m# consumption.\u001B[39;00m\n",
      "File \u001B[0;32m~/opt/anaconda3/lib/python3.9/site-packages/joblib/parallel.py:861\u001B[0m, in \u001B[0;36mParallel.dispatch_one_batch\u001B[0;34m(self, iterator)\u001B[0m\n\u001B[1;32m    859\u001B[0m     \u001B[38;5;28;01mreturn\u001B[39;00m \u001B[38;5;28;01mFalse\u001B[39;00m\n\u001B[1;32m    860\u001B[0m \u001B[38;5;28;01melse\u001B[39;00m:\n\u001B[0;32m--> 861\u001B[0m     \u001B[38;5;28;43mself\u001B[39;49m\u001B[38;5;241;43m.\u001B[39;49m\u001B[43m_dispatch\u001B[49m\u001B[43m(\u001B[49m\u001B[43mtasks\u001B[49m\u001B[43m)\u001B[49m\n\u001B[1;32m    862\u001B[0m     \u001B[38;5;28;01mreturn\u001B[39;00m \u001B[38;5;28;01mTrue\u001B[39;00m\n",
      "File \u001B[0;32m~/opt/anaconda3/lib/python3.9/site-packages/joblib/parallel.py:779\u001B[0m, in \u001B[0;36mParallel._dispatch\u001B[0;34m(self, batch)\u001B[0m\n\u001B[1;32m    777\u001B[0m \u001B[38;5;28;01mwith\u001B[39;00m \u001B[38;5;28mself\u001B[39m\u001B[38;5;241m.\u001B[39m_lock:\n\u001B[1;32m    778\u001B[0m     job_idx \u001B[38;5;241m=\u001B[39m \u001B[38;5;28mlen\u001B[39m(\u001B[38;5;28mself\u001B[39m\u001B[38;5;241m.\u001B[39m_jobs)\n\u001B[0;32m--> 779\u001B[0m     job \u001B[38;5;241m=\u001B[39m \u001B[38;5;28;43mself\u001B[39;49m\u001B[38;5;241;43m.\u001B[39;49m\u001B[43m_backend\u001B[49m\u001B[38;5;241;43m.\u001B[39;49m\u001B[43mapply_async\u001B[49m\u001B[43m(\u001B[49m\u001B[43mbatch\u001B[49m\u001B[43m,\u001B[49m\u001B[43m \u001B[49m\u001B[43mcallback\u001B[49m\u001B[38;5;241;43m=\u001B[39;49m\u001B[43mcb\u001B[49m\u001B[43m)\u001B[49m\n\u001B[1;32m    780\u001B[0m     \u001B[38;5;66;03m# A job can complete so quickly than its callback is\u001B[39;00m\n\u001B[1;32m    781\u001B[0m     \u001B[38;5;66;03m# called before we get here, causing self._jobs to\u001B[39;00m\n\u001B[1;32m    782\u001B[0m     \u001B[38;5;66;03m# grow. To ensure correct results ordering, .insert is\u001B[39;00m\n\u001B[1;32m    783\u001B[0m     \u001B[38;5;66;03m# used (rather than .append) in the following line\u001B[39;00m\n\u001B[1;32m    784\u001B[0m     \u001B[38;5;28mself\u001B[39m\u001B[38;5;241m.\u001B[39m_jobs\u001B[38;5;241m.\u001B[39minsert(job_idx, job)\n",
      "File \u001B[0;32m~/opt/anaconda3/lib/python3.9/site-packages/joblib/_parallel_backends.py:208\u001B[0m, in \u001B[0;36mSequentialBackend.apply_async\u001B[0;34m(self, func, callback)\u001B[0m\n\u001B[1;32m    206\u001B[0m \u001B[38;5;28;01mdef\u001B[39;00m \u001B[38;5;21mapply_async\u001B[39m(\u001B[38;5;28mself\u001B[39m, func, callback\u001B[38;5;241m=\u001B[39m\u001B[38;5;28;01mNone\u001B[39;00m):\n\u001B[1;32m    207\u001B[0m     \u001B[38;5;124;03m\"\"\"Schedule a func to be run\"\"\"\u001B[39;00m\n\u001B[0;32m--> 208\u001B[0m     result \u001B[38;5;241m=\u001B[39m \u001B[43mImmediateResult\u001B[49m\u001B[43m(\u001B[49m\u001B[43mfunc\u001B[49m\u001B[43m)\u001B[49m\n\u001B[1;32m    209\u001B[0m     \u001B[38;5;28;01mif\u001B[39;00m callback:\n\u001B[1;32m    210\u001B[0m         callback(result)\n",
      "File \u001B[0;32m~/opt/anaconda3/lib/python3.9/site-packages/joblib/_parallel_backends.py:572\u001B[0m, in \u001B[0;36mImmediateResult.__init__\u001B[0;34m(self, batch)\u001B[0m\n\u001B[1;32m    569\u001B[0m \u001B[38;5;28;01mdef\u001B[39;00m \u001B[38;5;21m__init__\u001B[39m(\u001B[38;5;28mself\u001B[39m, batch):\n\u001B[1;32m    570\u001B[0m     \u001B[38;5;66;03m# Don't delay the application, to avoid keeping the input\u001B[39;00m\n\u001B[1;32m    571\u001B[0m     \u001B[38;5;66;03m# arguments in memory\u001B[39;00m\n\u001B[0;32m--> 572\u001B[0m     \u001B[38;5;28mself\u001B[39m\u001B[38;5;241m.\u001B[39mresults \u001B[38;5;241m=\u001B[39m \u001B[43mbatch\u001B[49m\u001B[43m(\u001B[49m\u001B[43m)\u001B[49m\n",
      "File \u001B[0;32m~/opt/anaconda3/lib/python3.9/site-packages/joblib/parallel.py:262\u001B[0m, in \u001B[0;36mBatchedCalls.__call__\u001B[0;34m(self)\u001B[0m\n\u001B[1;32m    258\u001B[0m \u001B[38;5;28;01mdef\u001B[39;00m \u001B[38;5;21m__call__\u001B[39m(\u001B[38;5;28mself\u001B[39m):\n\u001B[1;32m    259\u001B[0m     \u001B[38;5;66;03m# Set the default nested backend to self._backend but do not set the\u001B[39;00m\n\u001B[1;32m    260\u001B[0m     \u001B[38;5;66;03m# change the default number of processes to -1\u001B[39;00m\n\u001B[1;32m    261\u001B[0m     \u001B[38;5;28;01mwith\u001B[39;00m parallel_backend(\u001B[38;5;28mself\u001B[39m\u001B[38;5;241m.\u001B[39m_backend, n_jobs\u001B[38;5;241m=\u001B[39m\u001B[38;5;28mself\u001B[39m\u001B[38;5;241m.\u001B[39m_n_jobs):\n\u001B[0;32m--> 262\u001B[0m         \u001B[38;5;28;01mreturn\u001B[39;00m [func(\u001B[38;5;241m*\u001B[39margs, \u001B[38;5;241m*\u001B[39m\u001B[38;5;241m*\u001B[39mkwargs)\n\u001B[1;32m    263\u001B[0m                 \u001B[38;5;28;01mfor\u001B[39;00m func, args, kwargs \u001B[38;5;129;01min\u001B[39;00m \u001B[38;5;28mself\u001B[39m\u001B[38;5;241m.\u001B[39mitems]\n",
      "File \u001B[0;32m~/opt/anaconda3/lib/python3.9/site-packages/joblib/parallel.py:262\u001B[0m, in \u001B[0;36m<listcomp>\u001B[0;34m(.0)\u001B[0m\n\u001B[1;32m    258\u001B[0m \u001B[38;5;28;01mdef\u001B[39;00m \u001B[38;5;21m__call__\u001B[39m(\u001B[38;5;28mself\u001B[39m):\n\u001B[1;32m    259\u001B[0m     \u001B[38;5;66;03m# Set the default nested backend to self._backend but do not set the\u001B[39;00m\n\u001B[1;32m    260\u001B[0m     \u001B[38;5;66;03m# change the default number of processes to -1\u001B[39;00m\n\u001B[1;32m    261\u001B[0m     \u001B[38;5;28;01mwith\u001B[39;00m parallel_backend(\u001B[38;5;28mself\u001B[39m\u001B[38;5;241m.\u001B[39m_backend, n_jobs\u001B[38;5;241m=\u001B[39m\u001B[38;5;28mself\u001B[39m\u001B[38;5;241m.\u001B[39m_n_jobs):\n\u001B[0;32m--> 262\u001B[0m         \u001B[38;5;28;01mreturn\u001B[39;00m [\u001B[43mfunc\u001B[49m\u001B[43m(\u001B[49m\u001B[38;5;241;43m*\u001B[39;49m\u001B[43margs\u001B[49m\u001B[43m,\u001B[49m\u001B[43m \u001B[49m\u001B[38;5;241;43m*\u001B[39;49m\u001B[38;5;241;43m*\u001B[39;49m\u001B[43mkwargs\u001B[49m\u001B[43m)\u001B[49m\n\u001B[1;32m    263\u001B[0m                 \u001B[38;5;28;01mfor\u001B[39;00m func, args, kwargs \u001B[38;5;129;01min\u001B[39;00m \u001B[38;5;28mself\u001B[39m\u001B[38;5;241m.\u001B[39mitems]\n",
      "File \u001B[0;32m~/opt/anaconda3/lib/python3.9/site-packages/sklearn/utils/fixes.py:216\u001B[0m, in \u001B[0;36m_FuncWrapper.__call__\u001B[0;34m(self, *args, **kwargs)\u001B[0m\n\u001B[1;32m    214\u001B[0m \u001B[38;5;28;01mdef\u001B[39;00m \u001B[38;5;21m__call__\u001B[39m(\u001B[38;5;28mself\u001B[39m, \u001B[38;5;241m*\u001B[39margs, \u001B[38;5;241m*\u001B[39m\u001B[38;5;241m*\u001B[39mkwargs):\n\u001B[1;32m    215\u001B[0m     \u001B[38;5;28;01mwith\u001B[39;00m config_context(\u001B[38;5;241m*\u001B[39m\u001B[38;5;241m*\u001B[39m\u001B[38;5;28mself\u001B[39m\u001B[38;5;241m.\u001B[39mconfig):\n\u001B[0;32m--> 216\u001B[0m         \u001B[38;5;28;01mreturn\u001B[39;00m \u001B[38;5;28;43mself\u001B[39;49m\u001B[38;5;241;43m.\u001B[39;49m\u001B[43mfunction\u001B[49m\u001B[43m(\u001B[49m\u001B[38;5;241;43m*\u001B[39;49m\u001B[43margs\u001B[49m\u001B[43m,\u001B[49m\u001B[43m \u001B[49m\u001B[38;5;241;43m*\u001B[39;49m\u001B[38;5;241;43m*\u001B[39;49m\u001B[43mkwargs\u001B[49m\u001B[43m)\u001B[49m\n",
      "File \u001B[0;32m~/opt/anaconda3/lib/python3.9/site-packages/sklearn/model_selection/_validation.py:680\u001B[0m, in \u001B[0;36m_fit_and_score\u001B[0;34m(estimator, X, y, scorer, train, test, verbose, parameters, fit_params, return_train_score, return_parameters, return_n_test_samples, return_times, return_estimator, split_progress, candidate_progress, error_score)\u001B[0m\n\u001B[1;32m    678\u001B[0m         estimator\u001B[38;5;241m.\u001B[39mfit(X_train, \u001B[38;5;241m*\u001B[39m\u001B[38;5;241m*\u001B[39mfit_params)\n\u001B[1;32m    679\u001B[0m     \u001B[38;5;28;01melse\u001B[39;00m:\n\u001B[0;32m--> 680\u001B[0m         \u001B[43mestimator\u001B[49m\u001B[38;5;241;43m.\u001B[39;49m\u001B[43mfit\u001B[49m\u001B[43m(\u001B[49m\u001B[43mX_train\u001B[49m\u001B[43m,\u001B[49m\u001B[43m \u001B[49m\u001B[43my_train\u001B[49m\u001B[43m,\u001B[49m\u001B[43m \u001B[49m\u001B[38;5;241;43m*\u001B[39;49m\u001B[38;5;241;43m*\u001B[39;49m\u001B[43mfit_params\u001B[49m\u001B[43m)\u001B[49m\n\u001B[1;32m    682\u001B[0m \u001B[38;5;28;01mexcept\u001B[39;00m \u001B[38;5;167;01mException\u001B[39;00m:\n\u001B[1;32m    683\u001B[0m     \u001B[38;5;66;03m# Note fit time as time until error\u001B[39;00m\n\u001B[1;32m    684\u001B[0m     fit_time \u001B[38;5;241m=\u001B[39m time\u001B[38;5;241m.\u001B[39mtime() \u001B[38;5;241m-\u001B[39m start_time\n",
      "File \u001B[0;32m~/opt/anaconda3/lib/python3.9/site-packages/sklearn/tree/_classes.py:937\u001B[0m, in \u001B[0;36mDecisionTreeClassifier.fit\u001B[0;34m(self, X, y, sample_weight, check_input, X_idx_sorted)\u001B[0m\n\u001B[1;32m    899\u001B[0m \u001B[38;5;28;01mdef\u001B[39;00m \u001B[38;5;21mfit\u001B[39m(\n\u001B[1;32m    900\u001B[0m     \u001B[38;5;28mself\u001B[39m, X, y, sample_weight\u001B[38;5;241m=\u001B[39m\u001B[38;5;28;01mNone\u001B[39;00m, check_input\u001B[38;5;241m=\u001B[39m\u001B[38;5;28;01mTrue\u001B[39;00m, X_idx_sorted\u001B[38;5;241m=\u001B[39m\u001B[38;5;124m\"\u001B[39m\u001B[38;5;124mdeprecated\u001B[39m\u001B[38;5;124m\"\u001B[39m\n\u001B[1;32m    901\u001B[0m ):\n\u001B[1;32m    902\u001B[0m     \u001B[38;5;124;03m\"\"\"Build a decision tree classifier from the training set (X, y).\u001B[39;00m\n\u001B[1;32m    903\u001B[0m \n\u001B[1;32m    904\u001B[0m \u001B[38;5;124;03m    Parameters\u001B[39;00m\n\u001B[0;32m   (...)\u001B[0m\n\u001B[1;32m    934\u001B[0m \u001B[38;5;124;03m        Fitted estimator.\u001B[39;00m\n\u001B[1;32m    935\u001B[0m \u001B[38;5;124;03m    \"\"\"\u001B[39;00m\n\u001B[0;32m--> 937\u001B[0m     \u001B[38;5;28;43msuper\u001B[39;49m\u001B[43m(\u001B[49m\u001B[43m)\u001B[49m\u001B[38;5;241;43m.\u001B[39;49m\u001B[43mfit\u001B[49m\u001B[43m(\u001B[49m\n\u001B[1;32m    938\u001B[0m \u001B[43m        \u001B[49m\u001B[43mX\u001B[49m\u001B[43m,\u001B[49m\n\u001B[1;32m    939\u001B[0m \u001B[43m        \u001B[49m\u001B[43my\u001B[49m\u001B[43m,\u001B[49m\n\u001B[1;32m    940\u001B[0m \u001B[43m        \u001B[49m\u001B[43msample_weight\u001B[49m\u001B[38;5;241;43m=\u001B[39;49m\u001B[43msample_weight\u001B[49m\u001B[43m,\u001B[49m\n\u001B[1;32m    941\u001B[0m \u001B[43m        \u001B[49m\u001B[43mcheck_input\u001B[49m\u001B[38;5;241;43m=\u001B[39;49m\u001B[43mcheck_input\u001B[49m\u001B[43m,\u001B[49m\n\u001B[1;32m    942\u001B[0m \u001B[43m        \u001B[49m\u001B[43mX_idx_sorted\u001B[49m\u001B[38;5;241;43m=\u001B[39;49m\u001B[43mX_idx_sorted\u001B[49m\u001B[43m,\u001B[49m\n\u001B[1;32m    943\u001B[0m \u001B[43m    \u001B[49m\u001B[43m)\u001B[49m\n\u001B[1;32m    944\u001B[0m     \u001B[38;5;28;01mreturn\u001B[39;00m \u001B[38;5;28mself\u001B[39m\n",
      "File \u001B[0;32m~/opt/anaconda3/lib/python3.9/site-packages/sklearn/tree/_classes.py:420\u001B[0m, in \u001B[0;36mBaseDecisionTree.fit\u001B[0;34m(self, X, y, sample_weight, check_input, X_idx_sorted)\u001B[0m\n\u001B[1;32m    409\u001B[0m \u001B[38;5;28;01melse\u001B[39;00m:\n\u001B[1;32m    410\u001B[0m     builder \u001B[38;5;241m=\u001B[39m BestFirstTreeBuilder(\n\u001B[1;32m    411\u001B[0m         splitter,\n\u001B[1;32m    412\u001B[0m         min_samples_split,\n\u001B[0;32m   (...)\u001B[0m\n\u001B[1;32m    417\u001B[0m         \u001B[38;5;28mself\u001B[39m\u001B[38;5;241m.\u001B[39mmin_impurity_decrease,\n\u001B[1;32m    418\u001B[0m     )\n\u001B[0;32m--> 420\u001B[0m \u001B[43mbuilder\u001B[49m\u001B[38;5;241;43m.\u001B[39;49m\u001B[43mbuild\u001B[49m\u001B[43m(\u001B[49m\u001B[38;5;28;43mself\u001B[39;49m\u001B[38;5;241;43m.\u001B[39;49m\u001B[43mtree_\u001B[49m\u001B[43m,\u001B[49m\u001B[43m \u001B[49m\u001B[43mX\u001B[49m\u001B[43m,\u001B[49m\u001B[43m \u001B[49m\u001B[43my\u001B[49m\u001B[43m,\u001B[49m\u001B[43m \u001B[49m\u001B[43msample_weight\u001B[49m\u001B[43m)\u001B[49m\n\u001B[1;32m    422\u001B[0m \u001B[38;5;28;01mif\u001B[39;00m \u001B[38;5;28mself\u001B[39m\u001B[38;5;241m.\u001B[39mn_outputs_ \u001B[38;5;241m==\u001B[39m \u001B[38;5;241m1\u001B[39m \u001B[38;5;129;01mand\u001B[39;00m is_classifier(\u001B[38;5;28mself\u001B[39m):\n\u001B[1;32m    423\u001B[0m     \u001B[38;5;28mself\u001B[39m\u001B[38;5;241m.\u001B[39mn_classes_ \u001B[38;5;241m=\u001B[39m \u001B[38;5;28mself\u001B[39m\u001B[38;5;241m.\u001B[39mn_classes_[\u001B[38;5;241m0\u001B[39m]\n",
      "\u001B[0;31mKeyboardInterrupt\u001B[0m: "
     ]
    }
   ],
   "source": [
    "### modelo oversampling\n",
    "clf_over = GridSearchCV(DecisionTreeClassifier(),\n",
    "                       param_grid=tuned_parameters,\n",
    "                       cv=5,\n",
    "                       scoring=score)\n",
    "print(\" OVER Mejor combinación de parámetros:\")\n",
    "clf_over.fit(X_over,y_over)\n",
    "print(clf_over.best_params_)\n",
    "\n",
    "y_pred = clf_over.predict(X_test)\n",
    "\n",
    "print(classification_report(y_test, y_pred))"
   ]
  },
  {
   "cell_type": "markdown",
   "metadata": {
    "pycharm": {
     "name": "#%% md\n"
    }
   },
   "source": [
    "Se realiza otro entrenamiento, omitiendo los parámetros menos significativos 'days_b_screening_arrest', 'c_days_from_compas' y 'c_charge_degree'."
   ]
  },
  {
   "cell_type": "code",
   "execution_count": null,
   "metadata": {
    "pycharm": {
     "name": "#%%\n"
    }
   },
   "outputs": [],
   "source": [
    "dataset2 = people.copy()\n",
    "dataset2 = dataset2[dataset2.columns[0:-9]].drop(columns=[\"age\", \"race\", \"c_charge_degree\", \"c_offense_date\", \"c_days_from_compas\", \"days_b_screening_arrest\"])\n",
    "dataset2[\"sex\"] = np.where(dataset2[\"sex\"]=='Male',1,0)\n",
    "\n",
    "###separamos valores\n",
    "data_train, data_test, y_train, y_test = train_test_split(dataset2, dataset2['is_recid'], test_size=.30,\n",
    "                                                    random_state=15, stratify=dataset2['is_recid'])\n",
    "##subsampleamos\n",
    "data_train = data_train.reset_index(drop=True)\n",
    "idx = np.random.choice(data_train.loc[data_train.is_recid == 0].index, size=2545, replace=False)\n",
    "data_subsampled = data_train.drop(data_train.iloc[idx].index)\n",
    "##Oversampleamos\n",
    "idx = np.random.choice(data_train[data_train['is_recid'] == 1].index, size=2545)\n",
    "data_oversampled = data_train.drop(data_train.iloc[idx].index)\n",
    "\n",
    "### dejamos los datos para trabajar\n",
    "y_test = data_test.is_recid\n",
    "X_test = data_test.drop(columns=['is_recid'])\n",
    "y_orig =data_train.is_recid\n",
    "X_orig = data_train.drop(columns=['is_recid'])\n",
    "y_subs=data_subsampled.is_recid\n",
    "X_subs=data_subsampled.drop(columns=['is_recid'])\n",
    "y_over=data_oversampled.is_recid\n",
    "X_over=data_oversampled.drop(columns=['is_recid'])\n",
    "\n",
    "### modelo del original\n",
    "clf_org = GridSearchCV(DecisionTreeClassifier(),\n",
    "                       param_grid=tuned_parameters,\n",
    "                       cv=5,\n",
    "                       scoring=score)\n",
    "print(\" ORIG Mejor combinación de parámetros:\")\n",
    "clf_org.fit(X_orig,y_orig)\n",
    "print(clf_org.best_params_)\n",
    "\n",
    "y_pred = clf_org.predict(X_test)\n",
    "\n",
    "print(classification_report(y_test, y_pred))"
   ]
  },
  {
   "cell_type": "code",
   "execution_count": null,
   "metadata": {
    "pycharm": {
     "name": "#%%\n"
    }
   },
   "outputs": [],
   "source": [
    "### modelo subsampling\n",
    "clf_sub = GridSearchCV(DecisionTreeClassifier(),\n",
    "                   param_grid=tuned_parameters,\n",
    "                   cv=5,\n",
    "                   scoring=score)\n",
    "print(\" SUB Mejor combinación de parámetros:\")\n",
    "clf_sub.fit(X_subs,y_subs)\n",
    "print(clf_sub.best_params_)\n",
    "\n",
    "y_pred = clf_sub.predict(X_test)\n",
    "\n",
    "print(classification_report(y_test, y_pred))"
   ]
  },
  {
   "cell_type": "code",
   "execution_count": null,
   "metadata": {
    "pycharm": {
     "name": "#%%\n"
    }
   },
   "outputs": [],
   "source": [
    "### modelo oversampling\n",
    "clf_over = GridSearchCV(DecisionTreeClassifier(),\n",
    "                       param_grid=tuned_parameters,\n",
    "                       cv=5,\n",
    "                       scoring=score)\n",
    "print(\" OVER Mejor combinación de parámetros:\")\n",
    "clf_over.fit(X_over,y_over)\n",
    "print(clf_over.best_params_)\n",
    "\n",
    "y_pred = clf_over.predict(X_test)\n",
    "\n",
    "print(classification_report(y_test, y_pred))"
   ]
  },
  {
   "cell_type": "markdown",
   "metadata": {
    "pycharm": {
     "name": "#%% md\n"
    }
   },
   "source": [
    "Ahora se omitirán todos los atributos cuya correlación con 'is_recid' esté entre $-0.1$ y $0.1$."
   ]
  },
  {
   "cell_type": "code",
   "execution_count": null,
   "metadata": {
    "pycharm": {
     "name": "#%%\n"
    }
   },
   "outputs": [],
   "source": [
    "dataset3 = people.copy()\n",
    "dataset3 = dataset3[dataset3.columns[0:-9]].drop(columns=[\"age\", \"race\", \"sex\", \"c_charge_degree\", \"c_offense_date\", \"c_days_from_compas\", \"days_b_screening_arrest\", \"c_jail_out\", \"c_jail_in\", \"juv_fel_count\"])\n",
    "\n",
    "###separamos valores\n",
    "data_train, data_test, y_train, y_test = train_test_split(dataset3, dataset3['is_recid'], test_size=.30,\n",
    "                                                    random_state=15, stratify=dataset3['is_recid'])\n",
    "##subsampleamos\n",
    "data_train = data_train.reset_index(drop=True)\n",
    "idx = np.random.choice(data_train.loc[data_train.is_recid == 0].index, size=2545, replace=False)\n",
    "data_subsampled = data_train.drop(data_train.iloc[idx].index)\n",
    "##Oversampleamos\n",
    "idx = np.random.choice(data_train[data_train['is_recid'] == 1].index, size=2545)\n",
    "data_oversampled = data_train.drop(data_train.iloc[idx].index)\n",
    "\n",
    "### dejamos los datos para trabajar\n",
    "y_test = data_test.is_recid\n",
    "X_test = data_test.drop(columns=['is_recid'])\n",
    "y_orig =data_train.is_recid\n",
    "X_orig = data_train.drop(columns=['is_recid'])\n",
    "y_subs=data_subsampled.is_recid\n",
    "X_subs=data_subsampled.drop(columns=['is_recid'])\n",
    "y_over=data_oversampled.is_recid\n",
    "X_over=data_oversampled.drop(columns=['is_recid'])\n",
    "\n",
    "### modelo del original\n",
    "clf_org = GridSearchCV(DecisionTreeClassifier(),\n",
    "                       param_grid=tuned_parameters,\n",
    "                       cv=5,\n",
    "                       scoring=score)\n",
    "print(\" ORIG Mejor combinación de parámetros:\")\n",
    "clf_org.fit(X_orig,y_orig)\n",
    "print(clf_org.best_params_)\n",
    "\n",
    "y_pred = clf_org.predict(X_test)\n",
    "\n",
    "print(classification_report(y_test, y_pred))"
   ]
  },
  {
   "cell_type": "code",
   "execution_count": null,
   "metadata": {
    "pycharm": {
     "name": "#%%\n"
    }
   },
   "outputs": [],
   "source": [
    "### modelo subsampling\n",
    "clf_sub = GridSearchCV(DecisionTreeClassifier(),\n",
    "                   param_grid=tuned_parameters,\n",
    "                   cv=5,\n",
    "                   scoring=score)\n",
    "print(\" SUB Mejor combinación de parámetros:\")\n",
    "clf_sub.fit(X_subs,y_subs)\n",
    "print(clf_sub.best_params_)\n",
    "\n",
    "y_pred = clf_sub.predict(X_test)\n",
    "\n",
    "print(classification_report(y_test, y_pred))"
   ]
  },
  {
   "cell_type": "code",
   "execution_count": null,
   "metadata": {
    "pycharm": {
     "name": "#%%\n"
    }
   },
   "outputs": [],
   "source": [
    "### modelo oversampling\n",
    "clf_over = GridSearchCV(DecisionTreeClassifier(),\n",
    "                       param_grid=tuned_parameters,\n",
    "                       cv=5,\n",
    "                       scoring=score)\n",
    "print(\" OVER Mejor combinación de parámetros:\")\n",
    "clf_over.fit(X_over,y_over)\n",
    "print(clf_over.best_params_)\n",
    "\n",
    "y_pred = clf_over.predict(X_test)\n",
    "\n",
    "print(classification_report(y_test, y_pred))"
   ]
  },
  {
   "cell_type": "markdown",
   "metadata": {
    "pycharm": {
     "name": "#%% md\n"
    }
   },
   "source": [
    "Con el cambio de clasificador se notan dos casos sobresalientes. Ambos no realizan SubSampling ni OverSampling. Se obtuvo un Accuracy de $0.70$ al utilizar todos los atributos (salvo de 'race') y $0.71$ dejando de lado los tres atributos menos significativos.\n",
    "\n",
    "Se repetiran los entrenamientos, pero utilizando el atributo 'race'."
   ]
  },
  {
   "cell_type": "code",
   "execution_count": null,
   "metadata": {
    "pycharm": {
     "name": "#%%\n"
    }
   },
   "outputs": [],
   "source": [
    "peoplemejor=people.copy()\n",
    "peoplemejor['race'] = np.where(peoplemejor['race']=='African-American',1,0)\n",
    "peoplemejor['sex'] = np.where(peoplemejor['sex']=='Male',1,0)\n",
    "peoplemejor = peoplemejor[peoplemejor.columns[0:-9]].drop(columns=[\"age\", \"c_charge_degree\",\"c_offense_date\"])"
   ]
  },
  {
   "cell_type": "markdown",
   "metadata": {
    "pycharm": {
     "name": "#%% md\n"
    }
   },
   "source": [
    "Entrenar modelos usando GridSearch, 'race' y sexo binarios."
   ]
  },
  {
   "cell_type": "code",
   "execution_count": null,
   "metadata": {
    "pycharm": {
     "name": "#%%\n"
    }
   },
   "outputs": [],
   "source": [
    "##########################  KNeighbors con race  ##########################\n",
    "###separamos valores\n",
    "X_train, X_test, y_train, y_test = train_test_split(peoplemejor, peoplemejor['is_recid'], test_size=.30,\n",
    "                                                          random_state=15, stratify=peoplemejor['is_recid'])\n",
    "##subsampleamos\n",
    "X_train = X_train.reset_index(drop=True)\n",
    "idx = np.random.choice(X_train.loc[X_train.is_recid == 0].index, size=2545, replace=False)\n",
    "data_subsampled = X_train.drop(X_train.iloc[idx].index)\n",
    "##Oversampleamos\n",
    "idx = np.random.choice(X_train[X_train['is_recid'] == 1].index, size=2545)\n",
    "data_oversampled = X_train.drop(X_train.iloc[idx].index)\n",
    "### dejamos los datos para trabajar\n",
    "y_test = X_test.is_recid\n",
    "X_test = X_test.drop(columns=['is_recid'])\n",
    "y_orig =X_train.is_recid\n",
    "X_orig = X_train.drop(columns=['is_recid'])\n",
    "y_subs=data_subsampled.is_recid\n",
    "X_subs=data_subsampled.drop(columns=['is_recid'])\n",
    "y_over=data_oversampled.is_recid\n",
    "X_over=data_oversampled.drop(columns=['is_recid'])\n",
    "\n",
    "### modelo del original\n",
    "clf_org = GridSearchCV(DecisionTreeClassifier(),\n",
    "                       param_grid=tuned_parameters,\n",
    "                       cv=5,\n",
    "                       scoring=score)\n",
    "print(\" ORG Mejor combinación de parámetros:\")\n",
    "clf_org.fit(X_orig,y_orig)\n",
    "print(clf_org.best_params_)\n",
    "\n",
    "y_pred = clf_org.predict(X_test)\n",
    "\n",
    "print(classification_report(y_test, y_pred))"
   ]
  },
  {
   "cell_type": "code",
   "execution_count": null,
   "metadata": {
    "pycharm": {
     "name": "#%%\n"
    }
   },
   "outputs": [],
   "source": [
    "### modelo subsampling\n",
    "clf_sub = GridSearchCV(DecisionTreeClassifier(),\n",
    "                       param_grid=tuned_parameters,\n",
    "                       cv=5,\n",
    "                       scoring=score)\n",
    "print(\" SUB Mejor combinación de parámetros:\")\n",
    "clf_sub.fit(X_subs,y_subs)\n",
    "print(clf_sub.best_params_)\n",
    "\n",
    "y_pred = clf_sub.predict(X_test)\n",
    "\n",
    "print(classification_report(y_test, y_pred))"
   ]
  },
  {
   "cell_type": "code",
   "execution_count": null,
   "metadata": {
    "pycharm": {
     "name": "#%%\n"
    }
   },
   "outputs": [],
   "source": [
    "### modelo oversampling\n",
    "clf_over = GridSearchCV(DecisionTreeClassifier(),\n",
    "                        param_grid=tuned_parameters,\n",
    "                        cv=5,\n",
    "                        scoring=score)\n",
    "print(\" OVER Mejor combinación de parámetros:\")\n",
    "clf_over.fit(X_over,y_over)\n",
    "print(clf_over.best_params_)\n",
    "\n",
    "y_pred = clf_over.predict(X_test)\n",
    "\n",
    "print(classification_report(y_test, y_pred))"
   ]
  },
  {
   "cell_type": "markdown",
   "metadata": {
    "pycharm": {
     "name": "#%% md\n"
    }
   },
   "source": [
    "Se repite lo anterior, omitiendo los atributos poco significativos 'days_b_screening_arrest', 'c_days_from_compas' y 'c_charge_degree'."
   ]
  },
  {
   "cell_type": "code",
   "execution_count": null,
   "metadata": {
    "pycharm": {
     "name": "#%%\n"
    }
   },
   "outputs": [],
   "source": [
    "peoplemejor2=people.copy()\n",
    "peoplemejor2['race'] = np.where(peoplemejor2['race']=='African-American',1,0)\n",
    "peoplemejor2['sex'] = np.where(peoplemejor2['sex']=='Male',1,0)\n",
    "peoplemejor2 = peoplemejor2[peoplemejor2.columns[0:-9]].drop(columns=[\"age\", \"c_charge_degree\",\"c_offense_date\", \"days_b_screening_arrest\", \"c_days_from_compas\"])\n",
    "\n",
    "###separamos valores\n",
    "X_train, X_test, y_train, y_test = train_test_split(peoplemejor2, peoplemejor2['is_recid'], test_size=.30,\n",
    "                                                          random_state=15, stratify=peoplemejor2['is_recid'])\n",
    "##subsampleamos\n",
    "X_train = X_train.reset_index(drop=True)\n",
    "idx = np.random.choice(X_train.loc[X_train.is_recid == 0].index, size=2545, replace=False)\n",
    "data_subsampled = X_train.drop(X_train.iloc[idx].index)\n",
    "##Oversampleamos\n",
    "idx = np.random.choice(X_train[X_train['is_recid'] == 1].index, size=2545)\n",
    "data_oversampled = X_train.drop(X_train.iloc[idx].index)\n",
    "### dejamos los datos para trabajar\n",
    "y_test = X_test.is_recid\n",
    "X_test = X_test.drop(columns=['is_recid'])\n",
    "y_orig =X_train.is_recid\n",
    "X_orig = X_train.drop(columns=['is_recid'])\n",
    "y_subs=data_subsampled.is_recid\n",
    "X_subs=data_subsampled.drop(columns=['is_recid'])\n",
    "y_over=data_oversampled.is_recid\n",
    "X_over=data_oversampled.drop(columns=['is_recid'])\n",
    "\n",
    "### modelo del original\n",
    "clf_org = GridSearchCV(DecisionTreeClassifier(),\n",
    "                       param_grid=tuned_parameters,\n",
    "                       cv=5,\n",
    "                       scoring=score)\n",
    "print(\" ORG Mejor combinación de parámetros:\")\n",
    "clf_org.fit(X_orig,y_orig)\n",
    "print(clf_org.best_params_)\n",
    "\n",
    "y_pred = clf_org.predict(X_test)\n",
    "\n",
    "print(classification_report(y_test, y_pred))"
   ]
  },
  {
   "cell_type": "code",
   "execution_count": null,
   "metadata": {
    "pycharm": {
     "name": "#%%\n"
    }
   },
   "outputs": [],
   "source": [
    "### modelo subsampling\n",
    "clf_sub = GridSearchCV(DecisionTreeClassifier(),\n",
    "                       param_grid=tuned_parameters,\n",
    "                       cv=5,\n",
    "                       scoring=score)\n",
    "print(\" SUB Mejor combinación de parámetros:\")\n",
    "clf_sub.fit(X_subs,y_subs)\n",
    "print(clf_sub.best_params_)\n",
    "\n",
    "y_pred = clf_sub.predict(X_test)\n",
    "\n",
    "print(classification_report(y_test, y_pred))"
   ]
  },
  {
   "cell_type": "code",
   "execution_count": null,
   "metadata": {
    "pycharm": {
     "name": "#%%\n"
    }
   },
   "outputs": [],
   "source": [
    "### modelo oversampling\n",
    "clf_over = GridSearchCV(DecisionTreeClassifier(),\n",
    "                        param_grid=tuned_parameters,\n",
    "                        cv=5,\n",
    "                        scoring=score)\n",
    "print(\" OVER Mejor combinación de parámetros:\")\n",
    "clf_over.fit(X_over,y_over)\n",
    "print(clf_over.best_params_)\n",
    "\n",
    "y_pred = clf_over.predict(X_test)\n",
    "\n",
    "print(classification_report(y_test, y_pred))"
   ]
  },
  {
   "cell_type": "markdown",
   "metadata": {
    "pycharm": {
     "name": "#%% md\n"
    }
   },
   "source": [
    "Se realiza el mismo entrenamiento anterior, pero esta vez se omitiran los atributos menos significativos en la segunda matriz de correlación, 'juv_fel_count', 'c_days_from_compas' y 'c_charge_degree'."
   ]
  },
  {
   "cell_type": "code",
   "execution_count": null,
   "metadata": {
    "pycharm": {
     "name": "#%%\n"
    }
   },
   "outputs": [],
   "source": [
    "peoplemejor21=people.copy()\n",
    "peoplemejor21['race'] = np.where(peoplemejor21['race']=='African-American',1,0)\n",
    "peoplemejor21['sex'] = np.where(peoplemejor21['sex']=='Male',1,0)\n",
    "peoplemejor21 = peoplemejor21[peoplemejor21.columns[0:-9]].drop(columns=[\"age\", \"c_charge_degree\",\"c_offense_date\", \"juv_fel_count\", \"c_days_from_compas\"])\n",
    "\n",
    "###separamos valores\n",
    "X_train, X_test, y_train, y_test = train_test_split(peoplemejor21, peoplemejor21['is_recid'], test_size=.30,\n",
    "                                                          random_state=15, stratify=peoplemejor21['is_recid'])\n",
    "##subsampleamos\n",
    "X_train = X_train.reset_index(drop=True)\n",
    "idx = np.random.choice(X_train.loc[X_train.is_recid == 0].index, size=2545, replace=False)\n",
    "data_subsampled = X_train.drop(X_train.iloc[idx].index)\n",
    "##Oversampleamos\n",
    "idx = np.random.choice(X_train[X_train['is_recid'] == 1].index, size=2545)\n",
    "data_oversampled = X_train.drop(X_train.iloc[idx].index)\n",
    "### dejamos los datos para trabajar\n",
    "y_test = X_test.is_recid\n",
    "X_test = X_test.drop(columns=['is_recid'])\n",
    "y_orig =X_train.is_recid\n",
    "X_orig = X_train.drop(columns=['is_recid'])\n",
    "y_subs=data_subsampled.is_recid\n",
    "X_subs=data_subsampled.drop(columns=['is_recid'])\n",
    "y_over=data_oversampled.is_recid\n",
    "X_over=data_oversampled.drop(columns=['is_recid'])\n",
    "\n",
    "### modelo del original\n",
    "clf_org = GridSearchCV(DecisionTreeClassifier(),\n",
    "                       param_grid=tuned_parameters,\n",
    "                       cv=5,\n",
    "                       scoring=score)\n",
    "print(\" ORG Mejor combinación de parámetros:\")\n",
    "clf_org.fit(X_orig,y_orig)\n",
    "print(clf_org.best_params_)\n",
    "\n",
    "y_pred = clf_org.predict(X_test)\n",
    "\n",
    "print(classification_report(y_test, y_pred))"
   ]
  },
  {
   "cell_type": "code",
   "execution_count": null,
   "metadata": {
    "pycharm": {
     "name": "#%%\n"
    }
   },
   "outputs": [],
   "source": [
    "### modelo subsampling\n",
    "clf_sub = GridSearchCV(DecisionTreeClassifier(),\n",
    "                       param_grid=tuned_parameters,\n",
    "                       cv=5,\n",
    "                       scoring=score)\n",
    "print(\" SUB Mejor combinación de parámetros:\")\n",
    "clf_sub.fit(X_subs,y_subs)\n",
    "print(clf_sub.best_params_)\n",
    "\n",
    "y_pred = clf_sub.predict(X_test)\n",
    "\n",
    "print(classification_report(y_test, y_pred))"
   ]
  },
  {
   "cell_type": "code",
   "execution_count": null,
   "metadata": {
    "pycharm": {
     "name": "#%%\n"
    }
   },
   "outputs": [],
   "source": [
    "### modelo oversampling\n",
    "clf_over = GridSearchCV(DecisionTreeClassifier(),\n",
    "                        param_grid=tuned_parameters,\n",
    "                        cv=5,\n",
    "                        scoring=score)\n",
    "print(\" OVER Mejor combinación de parámetros:\")\n",
    "clf_over.fit(X_over,y_over)\n",
    "print(clf_over.best_params_)\n",
    "\n",
    "y_pred = clf_over.predict(X_test)\n",
    "\n",
    "print(classification_report(y_test, y_pred))"
   ]
  },
  {
   "cell_type": "markdown",
   "metadata": {
    "pycharm": {
     "name": "#%% md\n"
    }
   },
   "source": [
    "Se repite el entrenamiento, omitiendo todos los atributos cuya correlación con 'is_recid' esté entre $-0.1$ y $0.1$."
   ]
  },
  {
   "cell_type": "code",
   "execution_count": null,
   "metadata": {
    "pycharm": {
     "name": "#%%\n"
    }
   },
   "outputs": [],
   "source": [
    "peoplemejor3=people.copy()\n",
    "peoplemejor3['race'] = np.where(peoplemejor3['race']=='African-American',1,0)\n",
    "peoplemejor3['sex'] = np.where(peoplemejor3['sex']=='Male',1,0)\n",
    "peoplemejor3 = peoplemejor3[peoplemejor3.columns[0:-9]].drop(columns=[\"age\", \"sex\", \"c_charge_degree\", \"c_offense_date\", \"c_days_from_compas\", \"days_b_screening_arrest\", \"c_jail_out\", \"c_jail_in\", \"juv_fel_count\"])\n",
    "\n",
    "###separamos valores\n",
    "X_train, X_test, y_train, y_test = train_test_split(peoplemejor3, peoplemejor3['is_recid'], test_size=.30,\n",
    "                                                          random_state=15, stratify=peoplemejor3['is_recid'])\n",
    "##subsampleamos\n",
    "X_train = X_train.reset_index(drop=True)\n",
    "idx = np.random.choice(X_train.loc[X_train.is_recid == 0].index, size=2545, replace=False)\n",
    "data_subsampled = X_train.drop(X_train.iloc[idx].index)\n",
    "##Oversampleamos\n",
    "idx = np.random.choice(X_train[X_train['is_recid'] == 1].index, size=2545)\n",
    "data_oversampled = X_train.drop(X_train.iloc[idx].index)\n",
    "### dejamos los datos para trabajar\n",
    "y_test = X_test.is_recid\n",
    "X_test = X_test.drop(columns=['is_recid'])\n",
    "y_orig =X_train.is_recid\n",
    "X_orig = X_train.drop(columns=['is_recid'])\n",
    "y_subs=data_subsampled.is_recid\n",
    "X_subs=data_subsampled.drop(columns=['is_recid'])\n",
    "y_over=data_oversampled.is_recid\n",
    "X_over=data_oversampled.drop(columns=['is_recid'])\n",
    "\n",
    "### modelo del original\n",
    "clf_org = GridSearchCV(DecisionTreeClassifier(),\n",
    "                       param_grid=tuned_parameters,\n",
    "                       cv=5,\n",
    "                       scoring=score)\n",
    "print(\" ORG Mejor combinación de parámetros:\")\n",
    "clf_org.fit(X_orig,y_orig)\n",
    "print(clf_org.best_params_)\n",
    "\n",
    "y_pred = clf_org.predict(X_test)\n",
    "\n",
    "print(classification_report(y_test, y_pred))"
   ]
  },
  {
   "cell_type": "code",
   "execution_count": null,
   "metadata": {
    "pycharm": {
     "name": "#%%\n"
    }
   },
   "outputs": [],
   "source": [
    "### modelo subsampling\n",
    "clf_sub = GridSearchCV(DecisionTreeClassifier(),\n",
    "                       param_grid=tuned_parameters,\n",
    "                       cv=5,\n",
    "                       scoring=score)\n",
    "print(\" SUB Mejor combinación de parámetros:\")\n",
    "clf_sub.fit(X_subs,y_subs)\n",
    "print(clf_sub.best_params_)\n",
    "\n",
    "y_pred = clf_sub.predict(X_test)\n",
    "\n",
    "print(classification_report(y_test, y_pred))"
   ]
  },
  {
   "cell_type": "code",
   "execution_count": null,
   "metadata": {
    "pycharm": {
     "name": "#%%\n"
    }
   },
   "outputs": [],
   "source": [
    "### modelo oversampling\n",
    "clf_over = GridSearchCV(DecisionTreeClassifier(),\n",
    "                        param_grid=tuned_parameters,\n",
    "                        cv=5,\n",
    "                        scoring=score)\n",
    "print(\" OVER Mejor combinación de parámetros:\")\n",
    "clf_over.fit(X_over,y_over)\n",
    "print(clf_over.best_params_)\n",
    "\n",
    "y_pred = clf_over.predict(X_test)\n",
    "\n",
    "print(classification_report(y_test, y_pred))"
   ]
  },
  {
   "cell_type": "markdown",
   "metadata": {
    "pycharm": {
     "name": "#%% md\n"
    }
   },
   "source": [
    "Al incluir el atributo 'race' y utilizar Decision Trees no se obtuvieron resultados mejores. De hecho, los casos sobresalientes mencionados anteriormente se repiten.\n",
    "La mejor Accuracy fue de $0.71$, la cual se obtuvo utilizando Decision Tree y dejando de lado los atributos 'days_b_screening_arrest', 'c_days_from_compas' y 'c_charge_degree'.\n",
    "\n",
    "Volviendo a la pregunta propuesta: **¿Qué características describen mejor un factor de reincidencia?**\n",
    "Con los entrenamientos realizados *si se podría* dar una respuesta a esta pregunta. Se puede decir que estos factores son aquellos atributos que estuvieron presentes en todos los entrenamientos, o aquellos presentes en el entrenamiento con mejor Accuracy. Sin embargo esto no sería lo más correcto.\n",
    "\n",
    "Recordar que solo se obtuvo una Accuracy de a lo más $0.71$, la cual no consideramos como un valor lo suficientemente alto para afirmar que aquellos atributos encontrados describen en buena manera el factor de reincidencia.\n",
    "\n",
    "Estas características que describen mejor un factor de reincidencia existen, pero no con una influencia que nos permita asegurar que, conociendo estas, se pueda estimar con seguridad la reincidencia de un individuo."
   ]
  },
  {
   "cell_type": "markdown",
   "metadata": {
    "pycharm": {
     "name": "#%% md\n"
    }
   },
   "source": [
    "### Pregunta 2\n"
   ]
  },
  {
   "cell_type": "code",
   "execution_count": 32,
   "metadata": {
    "pycharm": {
     "name": "#%%\n"
    }
   },
   "outputs": [],
   "source": [
    "\n",
    "def get_best_features(df, target):\n",
    "    n_of_features = np.arange(1, df.shape[1]+1)\n",
    "    high_score = 0\n",
    "    nof = 0\n",
    "    score_list = []\n",
    "    for n in n_of_features:\n",
    "        X_train, X_test, y_train, y_test = train_test_split(df, target, test_size = 0.3, random_state = 0)\n",
    "        model = LinearRegression()\n",
    "        rfe = RFE(model, n_features_to_select=n)\n",
    "        X_train_rfe = rfe.fit_transform(X_train, y_train)\n",
    "        X_test_rfe = rfe.transform(X_test)\n",
    "        model.fit(X_train_rfe, y_train)\n",
    "        score = model.score(X_test_rfe, y_test)\n",
    "        score_list.append(score)\n",
    "        if(score>high_score):\n",
    "            high_score = score\n",
    "            nof = n\n",
    "    return nof, high_score, score_list"
   ]
  },
  {
   "cell_type": "markdown",
   "metadata": {
    "pycharm": {
     "name": "#%% md\n"
    }
   },
   "source": [
    "#### Tabla `casearrest`"
   ]
  },
  {
   "cell_type": "code",
   "execution_count": 33,
   "metadata": {
    "pycharm": {
     "name": "#%%\n"
    }
   },
   "outputs": [
    {
     "name": "stdout",
     "output_type": "stream",
     "text": [
      "Casearrest:\n",
      "N of features: 3\n",
      "High score: 0.012440693217863896\n",
      "Score list: [0.008050461031538392, 0.012089443432227287, 0.012440693217863896]\n"
     ]
    }
   ],
   "source": [
    "import seaborn as sns\n",
    "\n",
    "\n",
    "\n",
    "casearrest_X = casearrest.drop(['decile_score'], axis='columns')\n",
    "casearrest_y = casearrest['decile_score']\n",
    "nof, high_score, score_list = get_best_features(casearrest_X, casearrest_y)\n",
    "print('Casearrest:')\n",
    "print('N of features:', nof)\n",
    "print('High score:', high_score)\n",
    "print('Score list:', score_list)\n",
    "\n",
    "# son todas, asi que da igual"
   ]
  },
  {
   "cell_type": "markdown",
   "metadata": {
    "pycharm": {
     "name": "#%% md\n"
    }
   },
   "source": [
    "#### Tabla `jailhistory`"
   ]
  },
  {
   "cell_type": "code",
   "execution_count": 34,
   "metadata": {
    "pycharm": {
     "name": "#%%\n"
    }
   },
   "outputs": [
    {
     "name": "stdout",
     "output_type": "stream",
     "text": [
      "jailhistory:\n",
      "N of features: 3\n",
      "High score: 0.16073495854007736\n",
      "Score list: [0.01205922038852969, 0.037284843185304783, 0.16073495854007736]\n"
     ]
    }
   ],
   "source": [
    "jailhistory_X = jailhistory.drop(['decile_score'], axis='columns')\n",
    "jailhistory_y = jailhistory['decile_score']\n",
    "nof, high_score, score_list = get_best_features(jailhistory_X, jailhistory_y)\n",
    "print('jailhistory:')\n",
    "print('N of features:', nof)\n",
    "print('High score:', high_score)\n",
    "print('Score list:', score_list)\n",
    "\n",
    "# son todas, asi que da igual\n"
   ]
  },
  {
   "cell_type": "markdown",
   "metadata": {
    "pycharm": {
     "name": "#%% md\n"
    }
   },
   "source": [
    "#### Tabla `people`"
   ]
  },
  {
   "cell_type": "code",
   "execution_count": 35,
   "metadata": {
    "pycharm": {
     "name": "#%%\n"
    }
   },
   "outputs": [
    {
     "name": "stdout",
     "output_type": "stream",
     "text": [
      "people:\n",
      "N of features: 20\n",
      "High score: 0.4482377264723971\n",
      "Score list: [-0.002203948720679083, 0.05160922465324835, 0.054841435580452735, 0.05655485210824118, 0.19831525083241452, 0.21585304056185717, 0.2548896401613516, 0.2955923588089838, 0.2960831310784038, 0.29610748676899323, 0.30004315375235613, 0.3151062780841969, 0.3155863530060272, 0.3230720009696181, 0.32272243939528844, 0.3224268098863966, 0.44768425608582907, 0.44768425608616325, 0.4480347641430945, 0.4482377264723971]\n"
     ]
    }
   ],
   "source": [
    "people_filter = people[people.columns[0:-9]].drop(columns=['age'])\n",
    "people_filter.head()\n",
    "df_race = pd.get_dummies(people_filter['race'], prefix='race', prefix_sep='_')\n",
    "df_sex = pd.get_dummies(people_filter['sex'], prefix='sex',\n",
    "                        prefix_sep='_', drop_first=True)\n",
    "\n",
    "people_filter = pd.concat([people_filter, df_race, df_sex], axis=1).drop('sex', axis=1).drop('race', axis=1)\n",
    "people_filter.head()\n",
    "people_X = people_filter.drop(['decile_score'], axis='columns')\n",
    "people_y = people_filter['decile_score']\n",
    "nof, high_score, score_list = get_best_features(people_X, people_y)\n",
    "print('people:')\n",
    "print('N of features:', nof)\n",
    "print('High score:', high_score)\n",
    "print('Score list:', score_list)\n",
    "\n",
    "# son todas, asi que da igual"
   ]
  },
  {
   "cell_type": "markdown",
   "metadata": {
    "pycharm": {
     "name": "#%% md\n"
    }
   },
   "source": [
    "#### Tabla `prisonhistory`"
   ]
  },
  {
   "cell_type": "code",
   "execution_count": 36,
   "metadata": {
    "pycharm": {
     "name": "#%%\n"
    }
   },
   "outputs": [
    {
     "name": "stdout",
     "output_type": "stream",
     "text": [
      "prisonhistory:\n",
      "N of features: 3\n",
      "High score: 0.08858798413667879\n",
      "Score list: [-0.006326693289959051, -0.008560941503100272, 0.08858798413667879]\n"
     ]
    }
   ],
   "source": [
    "prisonhistory_X = prisonhistory.drop(['decile_score'], axis='columns')\n",
    "prisonhistory_y = prisonhistory['decile_score']\n",
    "nof, high_score, score_list = get_best_features(prisonhistory_X, prisonhistory_y)\n",
    "print('prisonhistory:')\n",
    "print('N of features:', nof)\n",
    "print('High score:', high_score)\n",
    "print('Score list:', score_list)\n",
    "\n",
    "# son todas, asi que da igual"
   ]
  },
  {
   "cell_type": "markdown",
   "metadata": {
    "pycharm": {
     "name": "#%% md\n"
    }
   },
   "source": [
    "#### Tabla `charge`"
   ]
  },
  {
   "cell_type": "code",
   "execution_count": 37,
   "metadata": {
    "pycharm": {
     "name": "#%%\n"
    }
   },
   "outputs": [
    {
     "name": "stdout",
     "output_type": "stream",
     "text": [
      "charge:\n",
      "N of features: 5\n",
      "High score: 0.051760002435358166\n",
      "Score list: [0.012744096442611985, 0.012744096442611985, 0.04289828847293897, 0.05066701750574043, 0.051760002435358166]\n"
     ]
    }
   ],
   "source": [
    "charge_X = charge.drop(['decile_score'], axis='columns')\n",
    "charge_y = charge['decile_score']\n",
    "nof, high_score, score_list = get_best_features(charge_X, charge_y)\n",
    "print('charge:')\n",
    "print('N of features:', nof)\n",
    "print('High score:', high_score)\n",
    "print('Score list:', score_list)\n",
    "\n",
    "# son todas, asi que da igual"
   ]
  },
  {
   "cell_type": "markdown",
   "metadata": {
    "pycharm": {
     "name": "#%% md\n"
    }
   },
   "source": [
    "Se nota que para todas las tablas el \"N of features\" corresponde al numero de atributos que tiene la tabla, por lo que todos los atributos en todas las tablas son relevantes para un mejor reconocimiento del decile_score, juzgando a partir de una regresión lineal.\n",
    "\n",
    "#### Modelo para predecir decile_scores\n",
    "\n",
    "Utilizando la tabla people se intentará buscar modelos de KMeans y DecisionTree con los datos originales y subsampleados para ver que tan predecible es el decile_score, se usará unicamente la tabla people puesto que su puntaje de $R^{2}$ fue mucho más alto que para las otras tablas."
   ]
  },
  {
   "cell_type": "code",
   "execution_count": 38,
   "metadata": {
    "pycharm": {
     "name": "#%%\n"
    }
   },
   "outputs": [
    {
     "name": "stdout",
     "output_type": "stream",
     "text": [
      " ORIG Mejor combinación de parámetros:\n",
      "{'n_neighbors': 7, 'weights': 'distance'}\n",
      "              precision    recall  f1-score   support\n",
      "\n",
      "           1       0.49      0.59      0.54       709\n",
      "           2       0.24      0.26      0.25       442\n",
      "           3       0.17      0.16      0.17       348\n",
      "           4       0.16      0.17      0.17       337\n",
      "           5       0.13      0.12      0.12       294\n",
      "           6       0.12      0.10      0.11       282\n",
      "           7       0.12      0.11      0.11       259\n",
      "           8       0.10      0.09      0.09       227\n",
      "           9       0.14      0.12      0.13       228\n",
      "          10       0.15      0.13      0.14       173\n",
      "\n",
      "    accuracy                           0.24      3299\n",
      "   macro avg       0.18      0.18      0.18      3299\n",
      "weighted avg       0.23      0.24      0.24      3299\n",
      "\n"
     ]
    }
   ],
   "source": [
    "# Parámetros a utilizar en GridSearch\n",
    "tuned_parameters = {'n_neighbors': [2, 3, 4, 5, 6, 7, 8, 9, 10],\n",
    "                    'weights': ['uniform','distance']}\n",
    "\n",
    "###separamos valores\n",
    "data_train, data_test, y_train, y_test = train_test_split(people_filter, people_filter['decile_score'], test_size=.30,\n",
    "                                                    random_state=15, stratify=people_filter['decile_score'])\n",
    "\n",
    "\n",
    "### dejamos los datos para trabajar\n",
    "y_test = data_test.decile_score\n",
    "X_test = data_test.drop(columns=['decile_score'])\n",
    "y_orig = data_train.decile_score\n",
    "X_orig = data_train.drop(columns=['decile_score'])\n",
    "\n",
    "\n",
    "### modelo del original\n",
    "clf_org = GridSearchCV(KNeighborsClassifier(),\n",
    "                       param_grid=tuned_parameters,\n",
    "                       cv=5,\n",
    "                       scoring=\"f1_macro\")\n",
    "print(\" ORIG Mejor combinación de parámetros:\")\n",
    "clf_org.fit(X_orig,y_orig)\n",
    "print(clf_org.best_params_)\n",
    "\n",
    "y_pred = clf_org.predict(X_test)\n",
    "\n",
    "print(classification_report(y_test, y_pred))"
   ]
  },
  {
   "cell_type": "code",
   "execution_count": 39,
   "metadata": {
    "pycharm": {
     "name": "#%%\n"
    }
   },
   "outputs": [],
   "source": [
    "tuned_parameters = {'max_depth': [1, 2, 3, 4, 5, 6, 7, 8, 9, 10],\n",
    "                    'min_samples_leaf': [1, 2, 3, 4, 5, 6, 7, 8, 9, 10],\n",
    "                    'min_samples_split': [2, 3, 4, 5, 6, 7, 8, 9, 10, 11, 12, 13, 14, 15],\n",
    "                    'criterion': ['gini','entropy']}"
   ]
  },
  {
   "cell_type": "code",
   "execution_count": 40,
   "metadata": {
    "pycharm": {
     "name": "#%%\n"
    }
   },
   "outputs": [
    {
     "name": "stdout",
     "output_type": "stream",
     "text": [
      " ORIG Mejor combinación de parámetros:\n",
      "{'criterion': 'gini', 'max_depth': 8, 'min_samples_leaf': 8, 'min_samples_split': 4}\n",
      "              precision    recall  f1-score   support\n",
      "\n",
      "           1       0.54      0.81      0.65       709\n",
      "           2       0.25      0.35      0.29       442\n",
      "           3       0.20      0.12      0.15       348\n",
      "           4       0.19      0.20      0.19       337\n",
      "           5       0.15      0.14      0.14       294\n",
      "           6       0.13      0.09      0.11       282\n",
      "           7       0.16      0.11      0.13       259\n",
      "           8       0.18      0.13      0.15       227\n",
      "           9       0.20      0.12      0.15       228\n",
      "          10       0.25      0.16      0.20       173\n",
      "\n",
      "    accuracy                           0.31      3299\n",
      "   macro avg       0.23      0.22      0.22      3299\n",
      "weighted avg       0.27      0.31      0.28      3299\n",
      "\n"
     ]
    }
   ],
   "source": [
    "clf_org = GridSearchCV(DecisionTreeClassifier(),\n",
    "                       param_grid=tuned_parameters,\n",
    "                       cv=5,\n",
    "                       scoring=\"f1_macro\")\n",
    "print(\" ORIG Mejor combinación de parámetros:\")\n",
    "clf_org.fit(X_orig,y_orig)\n",
    "print(clf_org.best_params_)\n",
    "\n",
    "y_pred = clf_org.predict(X_test)\n",
    "\n",
    "print(classification_report(y_test, y_pred))"
   ]
  },
  {
   "cell_type": "markdown",
   "metadata": {
    "pycharm": {
     "name": "#%% md\n"
    }
   },
   "source": [
    "Usando los datos orignales se puede encontar que la mejor accuracy que se logró fue del $0.31$ usando DecisionTree"
   ]
  },
  {
   "cell_type": "code",
   "execution_count": 41,
   "metadata": {
    "pycharm": {
     "name": "#%%\n"
    }
   },
   "outputs": [],
   "source": [
    "data_train = data_train.reset_index(drop=True)\n",
    "data_subsampled = data_train[data_train.decile_score == 10]\n",
    "for i in range(1,10):\n",
    "    idx = np.random.choice(data_train.loc[data_train['decile_score'] == i].index, size=404, replace=False)\n",
    "    data_subsampled = pd.concat([data_subsampled,  data_train.iloc[idx]])"
   ]
  },
  {
   "cell_type": "code",
   "execution_count": 42,
   "metadata": {
    "pycharm": {
     "name": "#%%\n"
    }
   },
   "outputs": [
    {
     "name": "stdout",
     "output_type": "stream",
     "text": [
      " SUB Mejor combinación de parámetros:\n",
      "{'n_neighbors': 10, 'weights': 'distance'}\n",
      "              precision    recall  f1-score   support\n",
      "\n",
      "           1       0.57      0.44      0.49       709\n",
      "           2       0.25      0.24      0.25       442\n",
      "           3       0.15      0.16      0.16       348\n",
      "           4       0.14      0.13      0.13       337\n",
      "           5       0.13      0.16      0.15       294\n",
      "           6       0.08      0.07      0.08       282\n",
      "           7       0.08      0.08      0.08       259\n",
      "           8       0.11      0.13      0.12       227\n",
      "           9       0.15      0.15      0.15       228\n",
      "          10       0.16      0.24      0.19       173\n",
      "\n",
      "    accuracy                           0.21      3299\n",
      "   macro avg       0.18      0.18      0.18      3299\n",
      "weighted avg       0.24      0.21      0.22      3299\n",
      "\n"
     ]
    }
   ],
   "source": [
    "# Parámetros a utilizar en GridSearch\n",
    "tuned_parameters = {'n_neighbors': [2, 3, 4, 5, 6, 7, 8, 9, 10],\n",
    "                    'weights': ['uniform','distance']}\n",
    "\n",
    "### dejamos los datos para trabajar\n",
    "y_test = data_test.decile_score\n",
    "X_test = data_test.drop(columns=['decile_score'])\n",
    "y_sub = data_subsampled.decile_score\n",
    "X_sub = data_subsampled.drop(columns=['decile_score'])\n",
    "\n",
    "\n",
    "### modelo del original\n",
    "clf_sub = GridSearchCV(KNeighborsClassifier(),\n",
    "                       param_grid=tuned_parameters,\n",
    "                       cv=5,\n",
    "                       scoring=\"f1_macro\")\n",
    "print(\" SUB Mejor combinación de parámetros:\")\n",
    "clf_sub.fit(X_sub,y_sub)\n",
    "print(clf_sub.best_params_)\n",
    "\n",
    "y_pred = clf_sub.predict(X_test)\n",
    "\n",
    "print(classification_report(y_test, y_pred))"
   ]
  },
  {
   "cell_type": "code",
   "execution_count": 43,
   "metadata": {
    "pycharm": {
     "name": "#%%\n"
    }
   },
   "outputs": [
    {
     "name": "stdout",
     "output_type": "stream",
     "text": [
      " SUB Mejor combinación de parámetros:\n",
      "{'criterion': 'gini', 'max_depth': 9, 'min_samples_leaf': 3, 'min_samples_split': 12}\n",
      "              precision    recall  f1-score   support\n",
      "\n",
      "           1       0.61      0.61      0.61       709\n",
      "           2       0.23      0.27      0.25       442\n",
      "           3       0.17      0.18      0.17       348\n",
      "           4       0.19      0.12      0.15       337\n",
      "           5       0.13      0.12      0.12       294\n",
      "           6       0.15      0.10      0.12       282\n",
      "           7       0.12      0.10      0.11       259\n",
      "           8       0.11      0.15      0.12       227\n",
      "           9       0.20      0.22      0.21       228\n",
      "          10       0.17      0.21      0.19       173\n",
      "\n",
      "    accuracy                           0.26      3299\n",
      "   macro avg       0.21      0.21      0.20      3299\n",
      "weighted avg       0.26      0.26      0.26      3299\n",
      "\n"
     ]
    }
   ],
   "source": [
    "tuned_parameters = {'max_depth': [1, 2, 3, 4, 5, 6, 7, 8, 9, 10],\n",
    "                    'min_samples_leaf': [1, 2, 3, 4, 5, 6, 7, 8, 9, 10],\n",
    "                    'min_samples_split': [2, 3, 4, 5, 6, 7, 8, 9, 10, 11, 12, 13, 14, 15],\n",
    "                    'criterion': ['gini','entropy']}\n",
    "\n",
    "### dejamos los datos para trabajar\n",
    "y_test = data_test.decile_score\n",
    "X_test = data_test.drop(columns=['decile_score'])\n",
    "y_sub = data_subsampled.decile_score\n",
    "X_sub = data_subsampled.drop(columns=['decile_score'])\n",
    "\n",
    "\n",
    "### modelo del original\n",
    "clf_sub = GridSearchCV(DecisionTreeClassifier(),\n",
    "                       param_grid=tuned_parameters,\n",
    "                       cv=5,\n",
    "                       scoring=\"f1_macro\")\n",
    "print(\" SUB Mejor combinación de parámetros:\")\n",
    "clf_sub.fit(X_sub,y_sub)\n",
    "print(clf_sub.best_params_)\n",
    "\n",
    "y_pred = clf_sub.predict(X_test)\n",
    "\n",
    "print(classification_report(y_test, y_pred))"
   ]
  },
  {
   "cell_type": "code",
   "execution_count": 44,
   "metadata": {
    "pycharm": {
     "name": "#%%\n"
    }
   },
   "outputs": [
    {
     "name": "stdout",
     "output_type": "stream",
     "text": [
      " ORIG Mejor combinación de parámetros:\n",
      "{'criterion': 'gini', 'max_depth': 8, 'min_samples_leaf': 8, 'min_samples_split': 2}\n",
      "              precision    recall  f1-score   support\n",
      "\n",
      "           1       0.54      0.81      0.65       709\n",
      "           2       0.25      0.35      0.29       442\n",
      "           3       0.18      0.15      0.16       348\n",
      "           4       0.20      0.19      0.19       337\n",
      "           5       0.14      0.14      0.14       294\n",
      "           6       0.13      0.08      0.10       282\n",
      "           7       0.16      0.10      0.12       259\n",
      "           8       0.19      0.11      0.14       227\n",
      "           9       0.19      0.12      0.15       228\n",
      "          10       0.23      0.18      0.20       173\n",
      "\n",
      "    accuracy                           0.31      3299\n",
      "   macro avg       0.22      0.22      0.22      3299\n",
      "weighted avg       0.26      0.31      0.28      3299\n",
      "\n"
     ]
    }
   ],
   "source": [
    "people_filter2 = people[people.columns[0:-9]].drop(columns=['age', 'race'])\n",
    "df_sex = pd.get_dummies(people_filter2['sex'], prefix='sex',\n",
    "                        prefix_sep='_', drop_first=True)\n",
    "people_filter2 = pd.concat([people_filter2, df_sex], axis=1).drop('sex', axis=1)\n",
    "\n",
    "###separamos valores\n",
    "data_train, data_test, y_train, y_test = train_test_split(people_filter2, people_filter2['decile_score'], test_size=.30,\n",
    "                                                    random_state=15, stratify=people_filter2['decile_score'])\n",
    "\n",
    "data_train = data_train.reset_index(drop=True)\n",
    "data_subsampled = data_train[data_train.decile_score == 10]\n",
    "for i in range(1,10):\n",
    "    idx = np.random.choice(data_train.loc[data_train['decile_score'] == i].index, size=404, replace=False)\n",
    "    data_subsampled = pd.concat([data_subsampled,  data_train.iloc[idx]])\n",
    "\n",
    "### dejamos los datos para trabajar\n",
    "y_test = data_test.decile_score\n",
    "X_test = data_test.drop(columns=['decile_score'])\n",
    "y_orig = data_train.decile_score\n",
    "X_orig = data_train.drop(columns=['decile_score'])\n",
    "\n",
    "\n",
    "### modelo del original\n",
    "clf_org = GridSearchCV(DecisionTreeClassifier(),\n",
    "                       param_grid=tuned_parameters,\n",
    "                       cv=5,\n",
    "                       scoring=\"f1_macro\")\n",
    "print(\" ORIG Mejor combinación de parámetros:\")\n",
    "clf_org.fit(X_orig,y_orig)\n",
    "print(clf_org.best_params_)\n",
    "\n",
    "y_pred = clf_org.predict(X_test)\n",
    "\n",
    "print(classification_report(y_test, y_pred))"
   ]
  },
  {
   "cell_type": "markdown",
   "metadata": {
    "pycharm": {
     "name": "#%% md\n"
    }
   },
   "source": [
    "Usando los datos subsampleados se obtiene una accuracy de a lo más $0.26$, usando de nuevo DecisionTree. Por lo que se obtiene que usando un modelo relativamente basico se puede lograr acertar a el decile_score que COMPAS asigna a un individuo entre el 26% y 31% de las veces, lo que es considerablemente más alto que el azar. Consideramos esto como un buen resultado considerando la baja cantidad de datos relativa a la cantidad de clases que posee decile_score y el desbalance en la cantidad de población de cada nivel de este.\n",
    "\n",
    "Volviendo entonces a la pregunta: **Con los datos que se tienen ¿Qué tan bien se puede (predecir/agrupar/clasificar) el decile_score?** llegamos a la conclusión que si bien no se puede clasificar el decile_score con un nivel de precisión util, el nivel alcanzado es bastante mejor que el azar, por lo que ciertamente se ha encontrado una relación entre los datos y el algoritmo de COMPAS para asignar puntaje de deciles, pero se estima que faltan datos para lograr obtener una imagen clara de como COMPAS calcula este."
   ]
  },
  {
   "cell_type": "markdown",
   "metadata": {
    "pycharm": {
     "name": "#%% md\n"
    }
   },
   "source": [
    "### Pregunta 3\n"
   ]
  },
  {
   "cell_type": "markdown",
   "metadata": {
    "collapsed": false,
    "pycharm": {
     "name": "#%% md\n"
    }
   },
   "source": [
    "Como se vio en la pregunta 2, las tablas que poseen una gran incidencia en el decile score es principalmente people, por lo que mediante un [script](join_charge_people_compas.R) de R se decide juntar esta con datos relevantes de charge\n",
    "\n",
    "Porque incluir charge a pesar de su baja correlacion con decile score?\n",
    "\n",
    "- Consideramos que contiene información util que puede revelar alguna agrupacion natural, ademas de informacion con respecto a la reincidencia\n",
    "- Jailhistory se descarta por tener datos similares a los de people"
   ]
  },
  {
   "cell_type": "code",
   "execution_count": null,
   "metadata": {
    "collapsed": false,
    "pycharm": {
     "name": "#%%\n"
    }
   },
   "outputs": [],
   "source": [
    "# Load data\n",
    "main_people = pd.read_csv('../data/cleaned/people_joined_charge_decile.csv', index_col=0).drop('c_days_from_compas', axis=1)\n",
    "main_people.head()"
   ]
  },
  {
   "cell_type": "code",
   "execution_count": null,
   "metadata": {
    "collapsed": false,
    "pycharm": {
     "name": "#%%\n"
    }
   },
   "outputs": [],
   "source": [
    "# Ahora pasamos los elementos categoricos a numericos\n",
    "main_people.replace(['Male', 'Female'], [1, 0], inplace=True)\n",
    "people_race = pd.get_dummies(main_people['race'], prefix='race', prefix_sep=\"_\")\n",
    "main_people = pd.concat([main_people, people_race], axis=1).drop('race', axis=1)\n",
    "main_people.head()"
   ]
  },
  {
   "cell_type": "code",
   "execution_count": null,
   "metadata": {
    "collapsed": false,
    "pycharm": {
     "name": "#%%\n"
    }
   },
   "outputs": [],
   "source": [
    "# Como se ve, las columnas que corresponden a reincidencia son is_recid, num_r_cases, charges_recid, charges_not_recid, decile_recid\n",
    "# Entonces las quitamos para hacer el clustering\n",
    "blind_recid_people = main_people.drop(['is_recid', 'num_r_cases', 'charges_recid', 'charges_total', 'charge_latest', 'decile_recid'], axis=1)\n",
    "blind_recid_people.head()"
   ]
  },
  {
   "cell_type": "code",
   "execution_count": null,
   "metadata": {
    "collapsed": false,
    "pycharm": {
     "name": "#%%\n"
    }
   },
   "outputs": [],
   "source": [
    "# Ahora revisamos si existen elementos muy correlacionados\n",
    "plt.figure(figsize=(14, 10))\n",
    "sns.heatmap(blind_recid_people.corr(), annot=True)"
   ]
  },
  {
   "cell_type": "code",
   "execution_count": null,
   "metadata": {
    "collapsed": false,
    "pycharm": {
     "name": "#%%\n"
    }
   },
   "outputs": [],
   "source": [
    "# Como se ve, la correlacion entre c_jail_in y c_jail_out es muy alta, por lo que podemos dejar compas_screening_date como representante de ambos.\n",
    "# Lo mismo pasa con min, med y avg degree, con lo cual podemos quedarnos con min\n",
    "# priors_count y degrees_total tambien, pero a pesar de tener una relación alta, son cosas distintas.\n",
    "blind_recid_people.drop(['c_jail_in', 'c_jail_out', 'med_degree', 'avg_degree'], axis=1, inplace=True)\n",
    "plt.figure(figsize=(14, 10))\n",
    "sns.heatmap(blind_recid_people.corr(), annot=True)"
   ]
  },
  {
   "cell_type": "code",
   "execution_count": null,
   "metadata": {
    "collapsed": false,
    "pycharm": {
     "name": "#%%\n"
    }
   },
   "outputs": [],
   "source": [
    "# Ahora podemos hacer clustering, empezando con KMeans\n",
    "# Usaremos la técnica del codo\n",
    "km_sse = []\n",
    "km_clusters = [i for i in range(1, 16)]\n",
    "for k in km_clusters:\n",
    "    kmeans = KMeans(n_clusters=k).fit(blind_recid_people)\n",
    "    km_sse.append(kmeans.inertia_)\n",
    "\n",
    "plt.plot(km_clusters, km_sse, marker='o')\n",
    "plt.title('Método del codo de 1 a 15 clusters')\n",
    "plt.grid(True)\n",
    "plt.show()"
   ]
  },
  {
   "cell_type": "code",
   "execution_count": null,
   "metadata": {
    "collapsed": false,
    "pycharm": {
     "name": "#%%\n"
    }
   },
   "outputs": [],
   "source": [
    "# Usaremos 4 clusters\n",
    "kmeans = KMeans(n_clusters=4, random_state=0).fit(blind_recid_people)\n",
    "km_cl = kmeans.labels_\n",
    "# Reducimos la dimensionalidad usando PCA para ver los resultados visuales\n",
    "X = PCA(n_components=2, random_state=0).fit_transform(main_people)\n",
    "plt.scatter(X[:, 0], X[:, 1], c=km_cl, cmap='rainbow')\n",
    "plt.title('Clusters de la tabla blind_recid_people usando KMeans')"
   ]
  },
  {
   "cell_type": "code",
   "execution_count": null,
   "metadata": {
    "collapsed": false,
    "pycharm": {
     "name": "#%%\n"
    }
   },
   "outputs": [],
   "source": [
    "# Revisamos el porcentaje de reincidencia por cluster\n",
    "main_people['km_cl'] = km_cl\n",
    "main_people.groupby('km_cl').is_recid.mean()"
   ]
  },
  {
   "cell_type": "code",
   "execution_count": null,
   "metadata": {
    "collapsed": false,
    "pycharm": {
     "name": "#%%\n"
    }
   },
   "outputs": [],
   "source": [
    "# Demasiado iguales con respecto a la reincidencia, por lo que cambiamos a DBSCAN\n",
    "# Usaremos la tecnica de la rodilla para 3 distintos k=[4,5,6]\n",
    "nbrs = NearestNeighbors(n_neighbors=10).fit(blind_recid_people)\n",
    "distances, indices = nbrs.kneighbors(blind_recid_people)\n",
    "\n",
    "distances = np.sort(distances, axis=0)\n",
    "distances = distances[:,1]\n",
    "plt.title('Tecnica de la rodilla')\n",
    "plt.axhline(y=25, color='r', linestyle='--') #Ajuste el valor para y\n",
    "plt.plot(distances)\n",
    "plt.show()\n"
   ]
  },
  {
   "cell_type": "code",
   "execution_count": null,
   "metadata": {
    "collapsed": false,
    "pycharm": {
     "name": "#%%\n"
    }
   },
   "outputs": [],
   "source": [
    "# Nos quedamos con 25 y 4\n",
    "dbscan = DBSCAN(eps=25, min_samples=10).fit(blind_recid_people)\n",
    "db_cl = dbscan.labels_\n",
    "plt.figure(figsize=(14, 10))\n",
    "plt.title('Clusters de la tabla blind_recid_people usando DBSCAN')\n",
    "plt.scatter(X[:, 0], X[:, 1], c=db_cl)"
   ]
  },
  {
   "cell_type": "code",
   "execution_count": null,
   "metadata": {
    "collapsed": false,
    "pycharm": {
     "name": "#%%\n"
    }
   },
   "outputs": [],
   "source": [
    "# Revisamos la reincidencia por cluster, filtramos los outlayers\n",
    "main_people['db_cl'] = db_cl\n",
    "main_people.groupby('db_cl').is_recid.mean()"
   ]
  },
  {
   "cell_type": "code",
   "execution_count": null,
   "metadata": {
    "collapsed": false,
    "pycharm": {
     "name": "#%%\n"
    }
   },
   "outputs": [],
   "source": [
    "# DBScan no nos da una solucion buena para la reincidencia, pues solo consigue identificar outlayers, por lo mismo, puede que sirva como metodo de subsampling para la clasificacion\n",
    "main_people.db_cl.value_counts()"
   ]
  },
  {
   "cell_type": "code",
   "execution_count": null,
   "metadata": {
    "collapsed": false,
    "pycharm": {
     "name": "#%%\n"
    }
   },
   "outputs": [],
   "source": [
    "# Ahora vamos a usar agglomerative clustering\n",
    "complete = linkage(blind_recid_people, 'complete')\n",
    "single = linkage(blind_recid_people, 'single')\n",
    "average = linkage(blind_recid_people, 'average')\n",
    "ward = linkage(blind_recid_people, 'ward')\n",
    "\n",
    "dendrogram(complete, labels=blind_recid_people.index, orientation='top', leaf_rotation=90)\n",
    "plt.title('Complete')\n",
    "plt.show()"
   ]
  },
  {
   "cell_type": "code",
   "execution_count": null,
   "metadata": {
    "collapsed": false,
    "pycharm": {
     "name": "#%%\n"
    }
   },
   "outputs": [],
   "source": [
    "dendrogram(single, labels=blind_recid_people.index, orientation='top', leaf_rotation=90)\n",
    "plt.title('Single')\n",
    "plt.show()"
   ]
  },
  {
   "cell_type": "code",
   "execution_count": null,
   "metadata": {
    "collapsed": false,
    "pycharm": {
     "name": "#%%\n"
    }
   },
   "outputs": [],
   "source": [
    "dendrogram(average, labels=blind_recid_people.index, orientation='top', leaf_rotation=90)\n",
    "plt.title('Average')\n",
    "plt.show()"
   ]
  },
  {
   "cell_type": "code",
   "execution_count": null,
   "metadata": {
    "collapsed": false,
    "pycharm": {
     "name": "#%%\n"
    }
   },
   "outputs": [],
   "source": [
    "dendrogram(ward, labels=blind_recid_people.index, orientation='top', leaf_rotation=90)\n",
    "plt.title('Ward')\n",
    "plt.show()"
   ]
  },
  {
   "cell_type": "code",
   "execution_count": null,
   "metadata": {
    "collapsed": false,
    "pycharm": {
     "name": "#%%\n"
    }
   },
   "outputs": [],
   "source": [
    "# Descartamos el metodo single puesto que no se puede definir la altura de corte de manera visual\n",
    "# Para complete el trehshold sera de 6000, para average de 3000 y para ward de 1000000\n",
    "complete_agg = AgglomerativeClustering(n_clusters=None, linkage='complete', distance_threshold=5000).fit(blind_recid_people)\n",
    "average_agg = AgglomerativeClustering(n_clusters=None, linkage='average', distance_threshold=2500).fit(blind_recid_people)\n",
    "ward_agg = AgglomerativeClustering(n_clusters=None, linkage='ward', distance_threshold=150000).fit(blind_recid_people)\n",
    "\n",
    "# Ahora revisamos el porcentaje de reincidencia por cluster\n",
    "main_people['complete_cl'] = complete_agg.labels_\n",
    "main_people.groupby('complete_cl').is_recid.mean()"
   ]
  },
  {
   "cell_type": "code",
   "execution_count": null,
   "metadata": {
    "collapsed": false,
    "pycharm": {
     "name": "#%%\n"
    }
   },
   "outputs": [],
   "source": [
    "main_people['average_cl'] = average_agg.labels_\n",
    "main_people.groupby('average_cl').is_recid.mean()"
   ]
  },
  {
   "cell_type": "code",
   "execution_count": null,
   "metadata": {
    "collapsed": false,
    "pycharm": {
     "name": "#%%\n"
    }
   },
   "outputs": [],
   "source": [
    "main_people['ward_cl'] = ward_agg.labels_\n",
    "main_people.groupby('ward_cl').is_recid.mean()"
   ]
  },
  {
   "cell_type": "markdown",
   "metadata": {
    "collapsed": false,
    "pycharm": {
     "name": "#%% md\n"
    }
   },
   "source": [
    "## Volviendo a DBSCAN"
   ]
  },
  {
   "cell_type": "code",
   "execution_count": null,
   "metadata": {
    "collapsed": false,
    "pycharm": {
     "name": "#%%\n"
    }
   },
   "outputs": [],
   "source": [
    "# Notamos que DBSCAN nos muestra outliers, pero dichos outliers son notoriamente reincidentes, ahora procederemos a describir este grupo\n",
    "reincident_people = main_people[main_people.db_cl == -1]\n",
    "reincident_people.describe()"
   ]
  },
  {
   "cell_type": "code",
   "execution_count": null,
   "metadata": {
    "collapsed": false,
    "pycharm": {
     "name": "#%%\n"
    }
   },
   "outputs": [],
   "source": [
    "reincident_people.sex.value_counts()"
   ]
  },
  {
   "cell_type": "code",
   "execution_count": null,
   "metadata": {
    "collapsed": false,
    "pycharm": {
     "name": "#%%\n"
    }
   },
   "outputs": [],
   "source": [
    "# Piechart by race\n",
    "labels = ['african_american', 'asian', 'caucasian', 'hispanic', 'native_american', 'other']\n",
    "race_count = [len(reincident_people[reincident_people['race_African-American'] == 1]), len(reincident_people[reincident_people['race_Asian'] == 1]), len(reincident_people[reincident_people['race_Caucasian'] == 1]),\n",
    "              len(reincident_people[reincident_people['race_Hispanic'] == 1]), len(reincident_people[reincident_people['race_Native American'] == 1]), len(reincident_people[reincident_people['race_Other'] == 1])]\n",
    "\n",
    "plt.figure(figsize=(14, 10))\n",
    "plt.title('outliers por etnia')\n",
    "plt.pie(race_count, labels=labels)\n",
    "plt.show()\n",
    "\n"
   ]
  },
  {
   "cell_type": "code",
   "execution_count": null,
   "metadata": {
    "collapsed": false,
    "pycharm": {
     "name": "#%%\n"
    }
   },
   "outputs": [],
   "source": [
    "import datetime\n",
    "\n",
    "ages = reincident_people['dob'] * 36604 - 18342 # float to posix\n",
    "ages = ages.map(lambda x: (datetime.datetime.now() - datetime.datetime.fromtimestamp(int(86400*x))).days//365) # convert to years\n",
    "\n",
    "plt.figure(figsize=(14, 10))\n",
    "plt.title('Cantidad de outliers por edad')\n",
    "plt.xlabel(\"Edades (años)\",\n",
    "           family='serif',\n",
    "           color='b',\n",
    "           weight='normal',\n",
    "           size = 16,\n",
    "           labelpad = 6)\n",
    "plt.ylabel(\"cantidad\",\n",
    "           family='serif',\n",
    "           color='b',\n",
    "           weight='normal',\n",
    "           size = 16,\n",
    "           labelpad = 6)\n",
    "plt.hist(ages, bins=20)\n",
    "plt.show()"
   ]
  },
  {
   "cell_type": "code",
   "execution_count": null,
   "metadata": {
    "collapsed": false,
    "pycharm": {
     "name": "#%%\n"
    }
   },
   "outputs": [],
   "source": [
    "reincident_people['max_degree'].value_counts()"
   ]
  },
  {
   "cell_type": "code",
   "execution_count": null,
   "metadata": {
    "collapsed": false,
    "pycharm": {
     "name": "#%%\n"
    }
   },
   "outputs": [],
   "source": [
    "plt.figure(figsize=(14, 10))\n",
    "plt.hist(reincident_people['charges_total'], bins=50)\n",
    "plt.title('Cantidad de outliers por cantidad de cargos')\n",
    "plt.xlabel(\"Cargos totales\",\n",
    "           family='serif',\n",
    "           color='b',\n",
    "           weight='normal',\n",
    "           size = 16,\n",
    "           labelpad = 6)\n",
    "plt.ylabel(\"cantidad\",\n",
    "           family='serif',\n",
    "           color='b',\n",
    "           weight='normal',\n",
    "           size = 16,\n",
    "           labelpad = 6)\n",
    "plt.xticks(np.arange(0, 725, 25))\n",
    "plt.show()"
   ]
  },
  {
   "cell_type": "code",
   "execution_count": null,
   "metadata": {
    "collapsed": false,
    "pycharm": {
     "name": "#%%\n"
    }
   },
   "outputs": [],
   "source": [
    "# Guardamos la informacion\n",
    "main_people.to_csv('../data/cleaned/cluster_people.csv', index=False)"
   ]
  },
  {
   "cell_type": "markdown",
   "metadata": {
    "collapsed": false,
    "pycharm": {
     "name": "#%% md\n"
    }
   },
   "source": [
    "## Conclusión\n",
    "No se pudieron evidenciar grupos claros que compartan reincidencia, por lo que a priori no existen grupos grandes de personas que definan claramente la reincidencia. Sin embargo, existe un grupo menor \"marginado\" que posee una muy alta reincidencia. El cual esta compuesto por hombres, afroamericanos, mayoritariamente de 40 años y con una gran cantidad de cargos, todos teniendo sobre los 30 cargos."
   ]
  },
  {
   "cell_type": "markdown",
   "metadata": {
    "pycharm": {
     "name": "#%% md\n"
    }
   },
   "source": [
    "### Pregunta 4\n"
   ]
  },
  {
   "cell_type": "markdown",
   "metadata": {
    "pycharm": {
     "name": "#%% md\n"
    }
   },
   "source": [
    "## Contribuciones\n",
    "-   Vicente González: Redactó y planifico la propuesta experimental.\n",
    "-   Rodrigo Iturrieta: Realizó la respuesta preliminar a la pregunta 1.\n",
    "-   Pablo Jaramillo: Corrigió los fallos del hito 1 con respecto a la exploración de datos e hizo preprocesamiento de los datos.\n",
    "-   Cristián Lillo: Creó la presentación.\n",
    "-   Benjamin Valenzuela: Ayudó a la planificación de la propuesta experimental, asi como en la presentación."
   ]
  }
 ],
 "metadata": {
  "kernelspec": {
   "display_name": "Python 3.8.8 ('py38')",
   "language": "python",
   "name": "python3"
  },
  "language_info": {
   "codemirror_mode": {
    "name": "ipython",
    "version": 3
   },
   "file_extension": ".py",
   "mimetype": "text/x-python",
   "name": "python",
   "nbconvert_exporter": "python",
   "pygments_lexer": "ipython3",
   "version": "3.8.8"
  },
  "vscode": {
   "interpreter": {
    "hash": "23ceb7112fbf9d0e38ecbf60d6e6d5e2dcebcc82200eeb1e5a5d5f9ffb9e27ca"
   }
  }
 },
 "nbformat": 4,
 "nbformat_minor": 0
}