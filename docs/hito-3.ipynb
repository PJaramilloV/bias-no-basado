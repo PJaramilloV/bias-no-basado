{
 "cells": [
  {
   "cell_type": "markdown",
   "metadata": {
    "collapsed": false,
    "pycharm": {
     "name": "#%% md\n"
    }
   },
   "source": [
    "# Hito 2 - Grupo 8\n",
    "## Intregrantes\n",
    "- Vicente González\n",
    "- Rodrigo Iturrieta\n",
    "- Pablo Jaramillo\n",
    "- Cristian Lillo\n",
    "- Benjamín Valenzuela\n",
    "\n",
    "## Material\n",
    "\n",
    "- [Repositorio](https://github.com/propublica/compas-analysis)\n",
    "- [Video (hito 1)](https://drive.google.com/file/d/1TNpHXC2bTTwXfvSc1zU21SxwGIv-3yGU/view?usp=sharing)\n",
    "\n",
    "\n",
    "## Introducción\n",
    "\n",
    "Durante la última década, la sociedad moderna ha estado expuesta a un periodo de disconformidad y crisis. Múltiples protestas han ocurrido a lo largo del mundo, donde se evidencian malestares en temas de discriminación, igualdad y justicia.\n",
    "\n",
    "Uno de estos movimientos es el de Black Lives Matter, donde la población afroamericana de Estados Unidos ha dejado claro que existe, a día de hoy, un trato desigual debido a la etnia de la persona, donde se mostró al mundo entero un sistema que los desfavorecía enormemente o directamente no esperaban nada de ellos.\n",
    "\n",
    "La motivación del equipo nace a raíz de estas problemáticas, donde, además, desde un punto de vista de *data mining*, salta a la vista la pregunta: ¿Se puede hacer un modelo que consiga evidenciar la discriminación en una base de datos?\n",
    "\n",
    "Particularmente, para abarcar esta problemática, se decidió dar enfoque al caso de estudio de COMPAS. En este, se encontró que el modelo predictivo **COMPAS** (Correctional Offender Management Profiling for Alternative Sanctions) otorgaba una evaluación de riesgo mayor a personas afroamericanas que al resto. Es decir, que el modelo \"discriminaba\" a ciertos grupos de personas basadas en su etnia, marcándolas como potencialmente más propensos a cometer un crimen.\n",
    "\n",
    "La idea central del proyecto es poder construir un modelo a partir de los datos de COMPAS, para poder evaluar la discriminación en la base de datos. Identificando, además los parámetros bajo los cuales COMPAS hace la discriminación.\n",
    "\n",
    "## Exploración de datos\n",
    "\n",
    "[Ver hito 1](hito-1_revision.html)\n",
    "\n",
    "## Preguntas y Problemas\n",
    "\n",
    "Dado el análisis realizado, se formularon las siguientes preguntas:\n",
    "\n",
    "1. ¿Qué características describen mejor un factor de reincidencia?\n",
    "\n",
    "    Como el objetivo principal de COMPAS es el de predecir la probabilidad de reincidencia de los individuos, es importante saber que el factor de reincidencia no este basado en características inherentes a las personas como lo es edad o lugar de procedencia, mientras que debería estar basada en características conductuales como lo es la gravedad de un crimen cometido.\n",
    "\n",
    "2. ¿Existirán grupos de personas que compartan la misma tasa de reincidencia? Si existen, ¿Qué atributos componen a dichos grupos?\n",
    "\n",
    "    Identificar grupos naturales dentro de los datos mostrará de manera más clara si existe algun tipo de sesgo con respecto a la etnia de una persona.\n",
    "\n",
    "3. ¿Es posible predecir la etnia de una persona en base a atributos del análisis de COMPAS?\n",
    "\n",
    "    Dependiendo de la eficaz que sea un modelo entrenado con los datos entregados por COMPAS a la hora de predecir la etnia, podemos concluir si existe realmente racismo por parte del modelo.\n",
    "    \n",
    "4. Con los datos que se tienen ¿Qué tan bien se puede (predecir/agrupar/clasificar) el decile_score?\n",
    "\n",
    "    Es importante poder identficar correctamente los aspectos que influyen en el decile score, para así poder ver si en realidad los resultados se ven afectados por la etnia, o es algún otro parámetro que a su vez este estrechamente relacionado con la etnia, ya sea por temas culturales o sociales.\n",
    "\n",
    "## Propuesta experimental\n",
    "Para llevar a cabo la investigación se utilizará la siguiente metodología:\n",
    "\n",
    "- Se realiza un preprocesamiento de datos, que consiste en sondear los datos para identificar los datos que presentan valores NA o no numericos y se eliminan y/o modifican acordemente, por ejemplo si se quiere crear un clasificador, se utilizaran valores numéricos por lo que se convierten datos tipo fecha a decimales normalizados respecto a la mínima y máxima fecha, o se crean factores ordenados para valores string categoricos, mientras que se pueden eliminar atributos con gran cantidad de valores nulos que no tienen sentido si se les asigna un valor predeterminado, como es la fecha de ocurrencia de un suceso. Un ejemplo del preprocesamiento sería: si se quisiera saber cómo afectaría el sexo, se podría transformar en valor binario dando un valor para masculino y el otro para femenino.\n",
    "- Como se ve, las preguntas están muy centradas en clasificación. La idea general del proyecto es generar un modelo capaz de predecir la reincidencia de una persona, tratando de evitar que este modelo quede sesgado por la etnia. Asi como hacer un análisis del modelo COMPAS con respecto a su sesgo.\n",
    "- Partiremos con la pregunta 4. Esta pregunta se centra en encontrar las columnas que más afectan al `decile_score` por tabla, por lo que nos permitirá encontrar las columnas que más afectaron a COMPAS.\n",
    "- Para ello añadiremos el `decile_score` a cada tabla y usando los modelos KMeans y Decision Trees, nos centraremos en ir redunciendo la dimensionalidad para obtener mejores resultados.\n",
    "- Para evaluar el rendimiento de los modelos usaremos el párametro F1. Comparando entre distintos modelos, obtenidos a partir de subconjuntos de columnas, nos permitira concluir que párametros tuvieron más peso dentro del modelo de COMPAS, donde una mejor predicción indica las columnas a usar por tabla para analizar el modelo.\n",
    "- Una vez encontradas estas columnas, filtraremos todas las tablas para asi trabajar con los datos reducidos.\n",
    "- Luego de esto, continuaremos con la pregunta 2, haremos clustering de los datos con el fin de encontrar grupos naturales que se diferencien con respecto al factor de reincidencia. Esto nos permitirá hacer sub-sampling para el resto de preguntas.\n",
    "- Para ello, tomaremos estas tablas filtradas y se juntaran todas en una tabla única.\n",
    "- Una vez hecho esto, se quitarán las columnas relacionadas con la reincidencia, para luego aplicar una reducción de dimensionalidad a 2D usando PCA para facilitar la visualización.\n",
    "- Se aplicarán modelos de clustering (KNN, Jerárquico y DBSCAN) sobre los datos.\n",
    "- Para cada modelo se identificarán los *hiper-párametros* óptimos utilizando los métodos de rodilla y codo, según corresponda.\n",
    "- Luego mediremos el porcentaje de reincidencia para cada clúster dentro de cada modelo, usando una división simple entre la cantidad de reincidentes dentro del clúster y las personas totales.\n",
    "- Nos interesan los clústers con resultados extremos ya que con estos podemos identificar patrones en las demás características que nos permitan concluir ciertos patrones entre grupos que son \"muy\" reincidentes y los que no lo son.\n",
    "- Para identificar dichos patrones se recurrirá a una exploración de los datos sobre los clúster, similar a la hecha para la base de datos.\n",
    "- Finalmente, la última parte de la investigación corresponde a realizar los modelos de clasificación. Con los cuales seguiremos el siguiente patrón:\n",
    "    - Se identificarán los atributos importantes usando matriz de correlación.\n",
    "    - Se entrenaran los modelos KNN y Decision Trees usando GridSearch para encontrar los mejores atributos de cada modelo. \n",
    "    - Se juzgará entorno a el parámetro f1 para determinar los mejores *hiper-parámetros*. Esto debido a que el f1 score mezcla los otros parámetros númericos, por lo que representa de mejor manera el rendimiento de un modelo.\n",
    "    - Se aplicará over y sub sampling a los datos para evitar desequilibrios.\n",
    "    - Dependiendo si el modelo resultante es lo suficientemente satisfactorio, se puede concluir con respecto a la pregunta.\n",
    "- Particularmente, para la pregunta 1 se aplicará esto sobre la reincidencia, quitando columnas para evaluar distintos casos. Para la pregunta 3 se hará sobre la etnia usando sólo los datos que COMPAS fue capaz de generar.\n",
    "- Para concluir, se analizarán los resultados obtenidos a través de las preguntas, lo que permitirá evaluar la discriminación dentro de COMPAS.\n"
   ]
  },
  {
   "cell_type": "markdown",
   "metadata": {},
   "source": [
    "\n",
    "## Ejecución de preguntas\n",
    "\n",
    "La limpieza preeliminar de los datos se realizó con este [script](clean_tables.R) de R, con el cual también se exportaron los datos a un csv que se cargan en Python para crear los modelos."
   ]
  },
  {
   "cell_type": "code",
   "execution_count": 3,
   "metadata": {},
   "outputs": [],
   "source": [
    "# Imports iniciales\n",
    "import pandas as pd\n",
    "import numpy as np\n",
    "import matplotlib.pyplot as plt\n",
    "import seaborn as sns\n",
    "from sklearn.metrics import f1_score, recall_score, precision_score, classification_report\n",
    "from sklearn.model_selection import train_test_split\n",
    "from sklearn.model_selection import GridSearchCV\n",
    "from sklearn.linear_model import LinearRegression\n",
    "from sklearn.tree import DecisionTreeClassifier\n",
    "from sklearn.naive_bayes import GaussianNB  # naive bayes\n",
    "from sklearn.neighbors import KNeighborsClassifier #kNN\n",
    "from sklearn.svm import SVC  # support vector machine\n",
    "from sklearn.feature_selection import RFE\n",
    "from sklearn.cluster import KMeans, DBSCAN, AgglomerativeClustering\n",
    "from scipy.cluster.hierarchy import dendrogram, linkage, fcluster\n",
    "from sklearn.decomposition import PCA\n",
    "from sklearn.neighbors import NearestNeighbors\n",
    "\n",
    "%matplotlib inline"
   ]
  },
  {
   "cell_type": "code",
   "execution_count": 4,
   "metadata": {},
   "outputs": [],
   "source": [
    "# Los datos cargados con R, los pasamos a csv, para luego leerlos con pandas\n",
    "casearrest = pd.read_csv('../data/cleaned/casearrest_cl.csv', index_col=0)\n",
    "jailhistory = pd.read_csv('../data/cleaned/jailhistory_cl.csv', index_col=0)\n",
    "people = pd.read_csv('../data/cleaned/people_cl.csv', index_col=0)\n",
    "prisonhistory = pd.read_csv('../data/cleaned/prisonhistory_cl.csv', index_col=0)\n",
    "charge = pd.read_csv('../data/cleaned/charge_cl.csv', index_col=0)\n",
    "compas_recid=pd.read_csv('../data/cleaned/compas_recid_cl.csv')\n",
    "compas_violence=pd.read_csv('../data/cleaned/compas_violence_cl.csv')\n",
    "main_people = pd.read_csv('../data/cleaned/people_joined_charge_decile.csv', index_col=0).drop('c_days_from_compas', axis=1)\n"
   ]
  },
  {
   "cell_type": "markdown",
   "metadata": {},
   "source": [
    "### Pregunta 1\n"
   ]
  },
  {
   "cell_type": "code",
   "execution_count": 2,
   "metadata": {
    "collapsed": true,
    "pycharm": {
     "name": "#%%\n"
    }
   },
   "outputs": [],
   "source": [
    "# Parámetros a utilizar en GridSearch\n",
    "tuned_parameters = {'n_neighbors': [1, 2, 3, 4, 5, 6, 7, 8, 9, 10],\n",
    "                    'weights': ['uniform','distance']}\n",
    "score = 'f1'"
   ]
  },
  {
   "cell_type": "markdown",
   "metadata": {
    "pycharm": {
     "name": "#%% md\n"
    }
   },
   "source": [
    "Con fin de analizar la reincidencia se necesita la tabla \"people\" hasta la columna \"is_recid\".\n",
    "Las columnas eliminadas y la razón de esto son las siguientes:\n",
    "- age: su valor es redundante, entrega la misma info que 'dob' (date of birth).\n",
    "- race: string, se omite en este caso para comprobar si su presencia influye significantemente en la capacidad predictiva del modelo.\n",
    "- c_offense_date: contenía valores nulos.\n",
    "\n",
    "Además de dejar el atributo sexo como binario."
   ]
  },
  {
   "cell_type": "code",
   "execution_count": 3,
   "metadata": {
    "pycharm": {
     "name": "#%%\n"
    }
   },
   "outputs": [],
   "source": [
    "dataset = people.copy()\n",
    "dataset = dataset[dataset.columns[0:-9]].drop(columns=[\"age\", \"race\", \"c_offense_date\"])\n",
    "dataset['sex'] = np.where(dataset['sex']=='Male',1,0)"
   ]
  },
  {
   "cell_type": "markdown",
   "metadata": {
    "pycharm": {
     "name": "#%% md\n"
    }
   },
   "source": [
    "Formamos la matriz de correlación, donde se pueden observar las relaciones entre los distintos atributos. Con respecto a 'is_recid', se pueden distiguir como importantes a los atributos 'decile_score' y 'priors_count'."
   ]
  },
  {
   "cell_type": "code",
   "execution_count": 4,
   "metadata": {
    "pycharm": {
     "name": "#%%\n"
    }
   },
   "outputs": [
    {
     "data": {
      "image/png": "[encoded data removed]",
      "text/plain": [
       "<Figure size 1008x720 with 2 Axes>"
      ]
     },
     "metadata": {
      "needs_background": "light"
     },
     "output_type": "display_data"
    }
   ],
   "source": [
    "plt.figure(figsize=(14, 10))\n",
    "sns.heatmap(dataset.corr(method='spearman'), cmap='viridis', annot=True);"
   ]
  },
  {
   "cell_type": "markdown",
   "metadata": {
    "pycharm": {
     "name": "#%% md\n"
    }
   },
   "source": [
    "Se entrenan modelos usando GridSearch y K-Neighbours, en la base de datos normalizada. Se realiza también para dataframes con SubSampling y OverSampling para después comparar sus resultados."
   ]
  },
  {
   "cell_type": "code",
   "execution_count": 5,
   "metadata": {
    "pycharm": {
     "name": "#%%\n"
    }
   },
   "outputs": [
    {
     "name": "stdout",
     "output_type": "stream",
     "text": [
      " ORIG Mejor combinación de parámetros:\n",
      "{'n_neighbors': 7, 'weights': 'uniform'}\n",
      "              precision    recall  f1-score   support\n",
      "\n",
      "         0.0       0.73      0.84      0.78      2195\n",
      "         1.0       0.54      0.38      0.45      1104\n",
      "\n",
      "    accuracy                           0.68      3299\n",
      "   macro avg       0.63      0.61      0.61      3299\n",
      "weighted avg       0.67      0.68      0.67      3299\n",
      "\n"
     ]
    }
   ],
   "source": [
    "norm_dataset = (dataset -dataset.min())/(dataset.max() -dataset.min())\n",
    "\n",
    "###separamos valores\n",
    "data_train, data_test, y_train, y_test = train_test_split(norm_dataset, norm_dataset['is_recid'], test_size=.30,\n",
    "                                                    random_state=15, stratify=norm_dataset['is_recid'])\n",
    "##subsampleamos\n",
    "data_train = data_train.reset_index(drop=True)\n",
    "idx = np.random.choice(data_train.loc[data_train.is_recid == 0].index, size=2545, replace=False)\n",
    "data_subsampled = data_train.drop(data_train.iloc[idx].index)\n",
    "##Oversampleamos\n",
    "idx = np.random.choice(data_train[data_train['is_recid'] == 1].index, size=2545)\n",
    "data_oversampled = data_train.drop(data_train.iloc[idx].index)\n",
    "\n",
    "### dejamos los datos para trabajar\n",
    "y_test = data_test.is_recid\n",
    "X_test = data_test.drop(columns=['is_recid'])\n",
    "y_orig =data_train.is_recid\n",
    "X_orig = data_train.drop(columns=['is_recid'])\n",
    "y_subs=data_subsampled.is_recid\n",
    "X_subs=data_subsampled.drop(columns=['is_recid'])\n",
    "y_over=data_oversampled.is_recid\n",
    "X_over=data_oversampled.drop(columns=['is_recid'])\n",
    "\n",
    "### modelo del original\n",
    "clf_org = GridSearchCV(KNeighborsClassifier(),\n",
    "                       param_grid=tuned_parameters,\n",
    "                       cv=5,\n",
    "                       scoring=score)\n",
    "print(\" ORIG Mejor combinación de parámetros:\")\n",
    "clf_org.fit(X_orig,y_orig)\n",
    "print(clf_org.best_params_)\n",
    "\n",
    "y_pred = clf_org.predict(X_test)\n",
    "\n",
    "print(classification_report(y_test, y_pred))"
   ]
  },
  {
   "cell_type": "code",
   "execution_count": 6,
   "metadata": {
    "pycharm": {
     "name": "#%%\n"
    }
   },
   "outputs": [
    {
     "name": "stdout",
     "output_type": "stream",
     "text": [
      " SUB Mejor combinación de parámetros:\n",
      "{'n_neighbors': 5, 'weights': 'uniform'}\n",
      "              precision    recall  f1-score   support\n",
      "\n",
      "         0.0       0.77      0.63      0.69      2195\n",
      "         1.0       0.46      0.63      0.53      1104\n",
      "\n",
      "    accuracy                           0.63      3299\n",
      "   macro avg       0.62      0.63      0.61      3299\n",
      "weighted avg       0.67      0.63      0.64      3299\n",
      "\n"
     ]
    }
   ],
   "source": [
    "### modelo subsampling\n",
    "clf_sub = GridSearchCV(KNeighborsClassifier(),\n",
    "                   param_grid=tuned_parameters,\n",
    "                   cv=5,\n",
    "                   scoring=score)\n",
    "print(\" SUB Mejor combinación de parámetros:\")\n",
    "clf_sub.fit(X_subs,y_subs)\n",
    "print(clf_sub.best_params_)\n",
    "\n",
    "y_pred = clf_sub.predict(X_test)\n",
    "\n",
    "print(classification_report(y_test, y_pred))"
   ]
  },
  {
   "cell_type": "code",
   "execution_count": 7,
   "metadata": {
    "pycharm": {
     "name": "#%%\n"
    }
   },
   "outputs": [
    {
     "name": "stdout",
     "output_type": "stream",
     "text": [
      " OVER Mejor combinación de parámetros:\n",
      "{'n_neighbors': 1, 'weights': 'uniform'}\n",
      "              precision    recall  f1-score   support\n",
      "\n",
      "         0.0       0.70      0.88      0.78      2195\n",
      "         1.0       0.53      0.26      0.35      1104\n",
      "\n",
      "    accuracy                           0.67      3299\n",
      "   macro avg       0.62      0.57      0.56      3299\n",
      "weighted avg       0.64      0.67      0.64      3299\n",
      "\n"
     ]
    }
   ],
   "source": [
    "### modelo oversampling\n",
    "clf_over = GridSearchCV(KNeighborsClassifier(),\n",
    "                       param_grid=tuned_parameters,\n",
    "                       cv=5,\n",
    "                       scoring=score)\n",
    "print(\" OVER Mejor combinación de parámetros:\")\n",
    "clf_over.fit(X_over,y_over)\n",
    "print(clf_over.best_params_)\n",
    "\n",
    "y_pred = clf_over.predict(X_test)\n",
    "\n",
    "print(classification_report(y_test, y_pred))"
   ]
  },
  {
   "cell_type": "markdown",
   "metadata": {
    "pycharm": {
     "name": "#%% md\n"
    }
   },
   "source": [
    "Se obtuvieron los mejores parámetros para los datos originales y utilizando SubSampling y OverSampling. Sin embargo, en la matriz de correlación se pueden identificar muchos atributos poco relacionados con 'is_recid'. Se probará el omitir algunos de estos para ver si se obtienen mejores resultados.\n",
    "\n",
    "Se omitirá primero 'days_b_screening_arrest', 'c_days_from_compas' y 'c_charge_degree', pues son los datos con la correlación menos significativa."
   ]
  },
  {
   "cell_type": "code",
   "execution_count": 8,
   "metadata": {
    "pycharm": {
     "name": "#%%\n"
    }
   },
   "outputs": [
    {
     "name": "stdout",
     "output_type": "stream",
     "text": [
      " ORIG Mejor combinación de parámetros:\n",
      "{'n_neighbors': 9, 'weights': 'uniform'}\n",
      "              precision    recall  f1-score   support\n",
      "\n",
      "           0       0.72      0.83      0.77      2195\n",
      "           1       0.52      0.37      0.43      1104\n",
      "\n",
      "    accuracy                           0.67      3299\n",
      "   macro avg       0.62      0.60      0.60      3299\n",
      "weighted avg       0.65      0.67      0.66      3299\n",
      "\n"
     ]
    }
   ],
   "source": [
    "dataset2 = people.copy()\n",
    "dataset2 = dataset2[dataset2.columns[0:-9]].drop(columns=[\"age\", \"race\", \"c_offense_date\", \"c_charge_degree\", \"c_days_from_compas\", \"days_b_screening_arrest\"])\n",
    "dataset2[\"sex\"] = np.where(dataset2[\"sex\"]=='Male',1,0)\n",
    "\n",
    "###separamos valores\n",
    "data_train, data_test, y_train, y_test = train_test_split(dataset2, dataset2['is_recid'], test_size=.30,\n",
    "                                                    random_state=15, stratify=dataset2['is_recid'])\n",
    "##subsampleamos\n",
    "data_train = data_train.reset_index(drop=True)\n",
    "idx = np.random.choice(data_train.loc[data_train.is_recid == 0].index, size=2545, replace=False)\n",
    "data_subsampled = data_train.drop(data_train.iloc[idx].index)\n",
    "##Oversampleamos\n",
    "idx = np.random.choice(data_train[data_train['is_recid'] == 1].index, size=2545)\n",
    "data_oversampled = data_train.drop(data_train.iloc[idx].index)\n",
    "\n",
    "### dejamos los datos para trabajar\n",
    "y_test = data_test.is_recid\n",
    "X_test = data_test.drop(columns=['is_recid'])\n",
    "y_orig =data_train.is_recid\n",
    "X_orig = data_train.drop(columns=['is_recid'])\n",
    "y_subs=data_subsampled.is_recid\n",
    "X_subs=data_subsampled.drop(columns=['is_recid'])\n",
    "y_over=data_oversampled.is_recid\n",
    "X_over=data_oversampled.drop(columns=['is_recid'])\n",
    "\n",
    "### modelo del original\n",
    "clf_org = GridSearchCV(KNeighborsClassifier(),\n",
    "                       param_grid=tuned_parameters,\n",
    "                       cv=5,\n",
    "                       scoring=score)\n",
    "print(\" ORIG Mejor combinación de parámetros:\")\n",
    "clf_org.fit(X_orig,y_orig)\n",
    "print(clf_org.best_params_)\n",
    "\n",
    "y_pred = clf_org.predict(X_test)\n",
    "\n",
    "print(classification_report(y_test, y_pred))"
   ]
  },
  {
   "cell_type": "code",
   "execution_count": 9,
   "metadata": {
    "pycharm": {
     "name": "#%%\n"
    }
   },
   "outputs": [
    {
     "name": "stdout",
     "output_type": "stream",
     "text": [
      " SUB Mejor combinación de parámetros:\n",
      "{'n_neighbors': 9, 'weights': 'uniform'}\n",
      "              precision    recall  f1-score   support\n",
      "\n",
      "           0       0.77      0.65      0.71      2195\n",
      "           1       0.47      0.62      0.54      1104\n",
      "\n",
      "    accuracy                           0.64      3299\n",
      "   macro avg       0.62      0.64      0.62      3299\n",
      "weighted avg       0.67      0.64      0.65      3299\n",
      "\n"
     ]
    }
   ],
   "source": [
    "### modelo subsampling\n",
    "clf_sub = GridSearchCV(KNeighborsClassifier(),\n",
    "                   param_grid=tuned_parameters,\n",
    "                   cv=5,\n",
    "                   scoring=score)\n",
    "print(\" SUB Mejor combinación de parámetros:\")\n",
    "clf_sub.fit(X_subs,y_subs)\n",
    "print(clf_sub.best_params_)\n",
    "\n",
    "y_pred = clf_sub.predict(X_test)\n",
    "\n",
    "print(classification_report(y_test, y_pred))"
   ]
  },
  {
   "cell_type": "code",
   "execution_count": 10,
   "metadata": {
    "pycharm": {
     "name": "#%%\n"
    }
   },
   "outputs": [
    {
     "name": "stdout",
     "output_type": "stream",
     "text": [
      " OVER Mejor combinación de parámetros:\n",
      "{'n_neighbors': 4, 'weights': 'distance'}\n",
      "              precision    recall  f1-score   support\n",
      "\n",
      "           0       0.68      0.91      0.78      2195\n",
      "           1       0.47      0.16      0.23      1104\n",
      "\n",
      "    accuracy                           0.66      3299\n",
      "   macro avg       0.58      0.53      0.51      3299\n",
      "weighted avg       0.61      0.66      0.60      3299\n",
      "\n"
     ]
    }
   ],
   "source": [
    "### modelo oversampling\n",
    "clf_over = GridSearchCV(KNeighborsClassifier(),\n",
    "                       param_grid=tuned_parameters,\n",
    "                       cv=5,\n",
    "                       scoring=score)\n",
    "print(\" OVER Mejor combinación de parámetros:\")\n",
    "clf_over.fit(X_over,y_over)\n",
    "print(clf_over.best_params_)\n",
    "\n",
    "y_pred = clf_over.predict(X_test)\n",
    "\n",
    "print(classification_report(y_test, y_pred))"
   ]
  },
  {
   "cell_type": "markdown",
   "metadata": {
    "pycharm": {
     "name": "#%% md\n"
    }
   },
   "source": [
    "Ahora se omitirán todos los atributos cuya correlación con 'is_recid' esté entre $-0.1$ y $0.1$."
   ]
  },
  {
   "cell_type": "code",
   "execution_count": 11,
   "metadata": {
    "pycharm": {
     "name": "#%%\n"
    }
   },
   "outputs": [
    {
     "name": "stdout",
     "output_type": "stream",
     "text": [
      " ORIG Mejor combinación de parámetros:\n",
      "{'n_neighbors': 7, 'weights': 'uniform'}\n",
      "              precision    recall  f1-score   support\n",
      "\n",
      "           0       0.72      0.83      0.77      2195\n",
      "           1       0.51      0.36      0.42      1104\n",
      "\n",
      "    accuracy                           0.67      3299\n",
      "   macro avg       0.62      0.59      0.60      3299\n",
      "weighted avg       0.65      0.67      0.65      3299\n",
      "\n"
     ]
    }
   ],
   "source": [
    "dataset3 = people.copy()\n",
    "dataset3 = dataset3[dataset3.columns[0:-9]].drop(columns=[\"age\", \"race\", \"sex\", \"c_charge_degree\", \"c_offense_date\", \"c_days_from_compas\", \"days_b_screening_arrest\", \"c_jail_out\", \"c_jail_in\", \"juv_fel_count\"])\n",
    "\n",
    "###separamos valores\n",
    "data_train, data_test, y_train, y_test = train_test_split(dataset3, dataset3['is_recid'], test_size=.30,\n",
    "                                                    random_state=15, stratify=dataset3['is_recid'])\n",
    "##subsampleamos\n",
    "data_train = data_train.reset_index(drop=True)\n",
    "idx = np.random.choice(data_train.loc[data_train.is_recid == 0].index, size=2545, replace=False)\n",
    "data_subsampled = data_train.drop(data_train.iloc[idx].index)\n",
    "##Oversampleamos\n",
    "idx = np.random.choice(data_train[data_train['is_recid'] == 1].index, size=2545)\n",
    "data_oversampled = data_train.drop(data_train.iloc[idx].index)\n",
    "\n",
    "### dejamos los datos para trabajar\n",
    "y_test = data_test.is_recid\n",
    "X_test = data_test.drop(columns=['is_recid'])\n",
    "y_orig =data_train.is_recid\n",
    "X_orig = data_train.drop(columns=['is_recid'])\n",
    "y_subs=data_subsampled.is_recid\n",
    "X_subs=data_subsampled.drop(columns=['is_recid'])\n",
    "y_over=data_oversampled.is_recid\n",
    "X_over=data_oversampled.drop(columns=['is_recid'])\n",
    "\n",
    "### modelo del original\n",
    "clf_org = GridSearchCV(KNeighborsClassifier(),\n",
    "                       param_grid=tuned_parameters,\n",
    "                       cv=5,\n",
    "                       scoring=score)\n",
    "print(\" ORIG Mejor combinación de parámetros:\")\n",
    "clf_org.fit(X_orig,y_orig)\n",
    "print(clf_org.best_params_)\n",
    "\n",
    "y_pred = clf_org.predict(X_test)\n",
    "\n",
    "print(classification_report(y_test, y_pred))"
   ]
  },
  {
   "cell_type": "code",
   "execution_count": 12,
   "metadata": {
    "pycharm": {
     "name": "#%%\n"
    }
   },
   "outputs": [
    {
     "name": "stdout",
     "output_type": "stream",
     "text": [
      " SUB Mejor combinación de parámetros:\n",
      "{'n_neighbors': 9, 'weights': 'uniform'}\n",
      "              precision    recall  f1-score   support\n",
      "\n",
      "           0       0.77      0.66      0.71      2195\n",
      "           1       0.48      0.62      0.54      1104\n",
      "\n",
      "    accuracy                           0.65      3299\n",
      "   macro avg       0.63      0.64      0.63      3299\n",
      "weighted avg       0.67      0.65      0.65      3299\n",
      "\n"
     ]
    }
   ],
   "source": [
    "### modelo subsampling\n",
    "clf_sub = GridSearchCV(KNeighborsClassifier(),\n",
    "                   param_grid=tuned_parameters,\n",
    "                   cv=5,\n",
    "                   scoring=score)\n",
    "print(\" SUB Mejor combinación de parámetros:\")\n",
    "clf_sub.fit(X_subs,y_subs)\n",
    "print(clf_sub.best_params_)\n",
    "\n",
    "y_pred = clf_sub.predict(X_test)\n",
    "\n",
    "print(classification_report(y_test, y_pred))"
   ]
  },
  {
   "cell_type": "code",
   "execution_count": 13,
   "metadata": {
    "pycharm": {
     "name": "#%%\n"
    }
   },
   "outputs": [
    {
     "name": "stdout",
     "output_type": "stream",
     "text": [
      " OVER Mejor combinación de parámetros:\n",
      "{'n_neighbors': 1, 'weights': 'uniform'}\n",
      "              precision    recall  f1-score   support\n",
      "\n",
      "           0       0.68      0.86      0.76      2195\n",
      "           1       0.43      0.21      0.28      1104\n",
      "\n",
      "    accuracy                           0.64      3299\n",
      "   macro avg       0.56      0.54      0.52      3299\n",
      "weighted avg       0.60      0.64      0.60      3299\n",
      "\n"
     ]
    }
   ],
   "source": [
    "### modelo oversampling\n",
    "clf_over = GridSearchCV(KNeighborsClassifier(),\n",
    "                       param_grid=tuned_parameters,\n",
    "                       cv=5,\n",
    "                       scoring=score)\n",
    "print(\" OVER Mejor combinación de parámetros:\")\n",
    "clf_over.fit(X_over,y_over)\n",
    "print(clf_over.best_params_)\n",
    "\n",
    "y_pred = clf_over.predict(X_test)\n",
    "\n",
    "print(classification_report(y_test, y_pred))"
   ]
  },
  {
   "cell_type": "markdown",
   "metadata": {
    "pycharm": {
     "name": "#%% md\n"
    }
   },
   "source": [
    "De momento, se obtuvo la Accuracy más alta de $0.68$ utilizando todos los parámetros de la tabla (a excepción de race) y sin realizar ni SubSampling ni OverSampling. Estos valores aún no son suficientes para ayudar a dar una respueta concisa la pregunta propuesta.\n",
    "\n",
    "Se repetiran los entrenamientos, pero utilizando el atributo 'race'. Al ser un string se pasará a binario, donde si es igual a 'African-American' se le asignara un $1$ y, en caso contrario, un $0$.\n",
    "\n",
    "Notemos que la correlación entre 'is_recid' y 'race' es bastante menor, con un valor de solo $0.13$."
   ]
  },
  {
   "cell_type": "code",
   "execution_count": 14,
   "metadata": {
    "pycharm": {
     "name": "#%%\n"
    }
   },
   "outputs": [
    {
     "data": {
      "image/png": "[encoded data removed]",
      "text/plain": [
       "<Figure size 1008x720 with 2 Axes>"
      ]
     },
     "metadata": {
      "needs_background": "light"
     },
     "output_type": "display_data"
    }
   ],
   "source": [
    "peoplemejor=people.copy()\n",
    "peoplemejor['race'] = np.where(peoplemejor['race']=='African-American',1,0)\n",
    "peoplemejor['sex'] = np.where(peoplemejor['sex']=='Male',1,0)\n",
    "peoplemejor = peoplemejor[peoplemejor.columns[0:-9]].drop(columns=[\"age\", \"c_offense_date\"])\n",
    "plt.figure(figsize=(14, 10))\n",
    "sns.heatmap(peoplemejor.corr(), cmap='viridis', annot=True);"
   ]
  },
  {
   "cell_type": "markdown",
   "metadata": {
    "pycharm": {
     "name": "#%% md\n"
    }
   },
   "source": [
    "Entrenar modelos usando GridSearch, etnia y sexo binarios."
   ]
  },
  {
   "cell_type": "code",
   "execution_count": 15,
   "metadata": {
    "pycharm": {
     "name": "#%%\n"
    }
   },
   "outputs": [
    {
     "name": "stdout",
     "output_type": "stream",
     "text": [
      " ORG Mejor combinación de parámetros:\n",
      "{'n_neighbors': 10, 'weights': 'distance'}\n",
      "              precision    recall  f1-score   support\n",
      "\n",
      "           0       0.72      0.83      0.77      2195\n",
      "           1       0.51      0.36      0.42      1104\n",
      "\n",
      "    accuracy                           0.67      3299\n",
      "   macro avg       0.62      0.59      0.60      3299\n",
      "weighted avg       0.65      0.67      0.65      3299\n",
      "\n"
     ]
    }
   ],
   "source": [
    "##########################  KNeighbors con race  ##########################\n",
    "###separamos valores\n",
    "X_train, X_test, y_train, y_test = train_test_split(peoplemejor, peoplemejor['is_recid'], test_size=.30,\n",
    "                                                          random_state=15, stratify=peoplemejor['is_recid'])\n",
    "##subsampleamos\n",
    "X_train = X_train.reset_index(drop=True)\n",
    "idx = np.random.choice(X_train.loc[X_train.is_recid == 0].index, size=2545, replace=False)\n",
    "data_subsampled = X_train.drop(X_train.iloc[idx].index)\n",
    "##Oversampleamos\n",
    "idx = np.random.choice(X_train[X_train['is_recid'] == 1].index, size=2545)\n",
    "data_oversampled = X_train.drop(X_train.iloc[idx].index)\n",
    "### dejamos los datos para trabajar\n",
    "y_test = X_test.is_recid\n",
    "X_test = X_test.drop(columns=['is_recid'])\n",
    "y_orig =X_train.is_recid\n",
    "X_orig = X_train.drop(columns=['is_recid'])\n",
    "y_subs=data_subsampled.is_recid\n",
    "X_subs=data_subsampled.drop(columns=['is_recid'])\n",
    "y_over=data_oversampled.is_recid\n",
    "X_over=data_oversampled.drop(columns=['is_recid'])\n",
    "\n",
    "### modelo del original\n",
    "clf_org = GridSearchCV(KNeighborsClassifier(),\n",
    "                       param_grid=tuned_parameters,\n",
    "                       cv=5,\n",
    "                       scoring=score)\n",
    "print(\" ORG Mejor combinación de parámetros:\")\n",
    "clf_org.fit(X_orig,y_orig)\n",
    "print(clf_org.best_params_)\n",
    "\n",
    "y_pred = clf_org.predict(X_test)\n",
    "\n",
    "print(classification_report(y_test, y_pred))"
   ]
  },
  {
   "cell_type": "code",
   "execution_count": 16,
   "metadata": {
    "pycharm": {
     "name": "#%%\n"
    }
   },
   "outputs": [
    {
     "name": "stdout",
     "output_type": "stream",
     "text": [
      " SUB Mejor combinación de parámetros:\n",
      "{'n_neighbors': 9, 'weights': 'uniform'}\n",
      "              precision    recall  f1-score   support\n",
      "\n",
      "           0       0.76      0.63      0.69      2195\n",
      "           1       0.45      0.61      0.52      1104\n",
      "\n",
      "    accuracy                           0.62      3299\n",
      "   macro avg       0.61      0.62      0.61      3299\n",
      "weighted avg       0.66      0.62      0.63      3299\n",
      "\n"
     ]
    }
   ],
   "source": [
    "### modelo subsampling\n",
    "clf_sub = GridSearchCV(KNeighborsClassifier(),\n",
    "                       param_grid=tuned_parameters,\n",
    "                       cv=5,\n",
    "                       scoring=score)\n",
    "print(\" SUB Mejor combinación de parámetros:\")\n",
    "clf_sub.fit(X_subs,y_subs)\n",
    "print(clf_sub.best_params_)\n",
    "\n",
    "y_pred = clf_sub.predict(X_test)\n",
    "\n",
    "print(classification_report(y_test, y_pred))"
   ]
  },
  {
   "cell_type": "code",
   "execution_count": 17,
   "metadata": {
    "pycharm": {
     "name": "#%%\n"
    }
   },
   "outputs": [
    {
     "name": "stdout",
     "output_type": "stream",
     "text": [
      " OVER Mejor combinación de parámetros:\n",
      "{'n_neighbors': 4, 'weights': 'distance'}\n",
      "              precision    recall  f1-score   support\n",
      "\n",
      "           0       0.69      0.92      0.78      2195\n",
      "           1       0.49      0.16      0.25      1104\n",
      "\n",
      "    accuracy                           0.66      3299\n",
      "   macro avg       0.59      0.54      0.52      3299\n",
      "weighted avg       0.62      0.66      0.60      3299\n",
      "\n"
     ]
    }
   ],
   "source": [
    "### modelo oversampling\n",
    "clf_over = GridSearchCV(KNeighborsClassifier(),\n",
    "                        param_grid=tuned_parameters,\n",
    "                        cv=5,\n",
    "                        scoring=score)\n",
    "print(\" OVER Mejor combinación de parámetros:\")\n",
    "clf_over.fit(X_over,y_over)\n",
    "print(clf_over.best_params_)\n",
    "\n",
    "y_pred = clf_over.predict(X_test)\n",
    "\n",
    "print(classification_report(y_test, y_pred))"
   ]
  },
  {
   "cell_type": "markdown",
   "metadata": {
    "pycharm": {
     "name": "#%% md\n"
    }
   },
   "source": [
    "Se repite lo anterior, omitiendo los mismos atributos poco significativos del caso anterior 'days_b_screening_arrest', 'c_days_from_compas' y 'c_charge_degree'."
   ]
  },
  {
   "cell_type": "code",
   "execution_count": 18,
   "metadata": {
    "pycharm": {
     "name": "#%%\n"
    }
   },
   "outputs": [
    {
     "name": "stdout",
     "output_type": "stream",
     "text": [
      " ORG Mejor combinación de parámetros:\n",
      "{'n_neighbors': 9, 'weights': 'uniform'}\n",
      "              precision    recall  f1-score   support\n",
      "\n",
      "           0       0.73      0.83      0.77      2195\n",
      "           1       0.53      0.38      0.44      1104\n",
      "\n",
      "    accuracy                           0.68      3299\n",
      "   macro avg       0.63      0.60      0.61      3299\n",
      "weighted avg       0.66      0.68      0.66      3299\n",
      "\n"
     ]
    }
   ],
   "source": [
    "peoplemejor2=people.copy()\n",
    "peoplemejor2['race'] = np.where(peoplemejor2['race']=='African-American',1,0)\n",
    "peoplemejor2['sex'] = np.where(peoplemejor2['sex']=='Male',1,0)\n",
    "peoplemejor2 = peoplemejor2[peoplemejor2.columns[0:-9]].drop(columns=[\"age\", \"c_charge_degree\",\"c_offense_date\", \"days_b_screening_arrest\", \"c_days_from_compas\"])\n",
    "\n",
    "###separamos valores\n",
    "X_train, X_test, y_train, y_test = train_test_split(peoplemejor2, peoplemejor2['is_recid'], test_size=.30,\n",
    "                                                          random_state=15, stratify=peoplemejor2['is_recid'])\n",
    "##subsampleamos\n",
    "X_train = X_train.reset_index(drop=True)\n",
    "idx = np.random.choice(X_train.loc[X_train.is_recid == 0].index, size=2545, replace=False)\n",
    "data_subsampled = X_train.drop(X_train.iloc[idx].index)\n",
    "##Oversampleamos\n",
    "idx = np.random.choice(X_train[X_train['is_recid'] == 1].index, size=2545)\n",
    "data_oversampled = X_train.drop(X_train.iloc[idx].index)\n",
    "### dejamos los datos para trabajar\n",
    "y_test = X_test.is_recid\n",
    "X_test = X_test.drop(columns=['is_recid'])\n",
    "y_orig =X_train.is_recid\n",
    "X_orig = X_train.drop(columns=['is_recid'])\n",
    "y_subs=data_subsampled.is_recid\n",
    "X_subs=data_subsampled.drop(columns=['is_recid'])\n",
    "y_over=data_oversampled.is_recid\n",
    "X_over=data_oversampled.drop(columns=['is_recid'])\n",
    "\n",
    "### modelo del original\n",
    "clf_org = GridSearchCV(KNeighborsClassifier(),\n",
    "                       param_grid=tuned_parameters,\n",
    "                       cv=5,\n",
    "                       scoring=score)\n",
    "print(\" ORG Mejor combinación de parámetros:\")\n",
    "clf_org.fit(X_orig,y_orig)\n",
    "print(clf_org.best_params_)\n",
    "\n",
    "y_pred = clf_org.predict(X_test)\n",
    "\n",
    "print(classification_report(y_test, y_pred))"
   ]
  },
  {
   "cell_type": "code",
   "execution_count": 19,
   "metadata": {
    "pycharm": {
     "name": "#%%\n"
    }
   },
   "outputs": [
    {
     "name": "stdout",
     "output_type": "stream",
     "text": [
      " SUB Mejor combinación de parámetros:\n",
      "{'n_neighbors': 9, 'weights': 'uniform'}\n",
      "              precision    recall  f1-score   support\n",
      "\n",
      "           0       0.77      0.63      0.69      2195\n",
      "           1       0.46      0.62      0.53      1104\n",
      "\n",
      "    accuracy                           0.63      3299\n",
      "   macro avg       0.61      0.63      0.61      3299\n",
      "weighted avg       0.66      0.63      0.64      3299\n",
      "\n"
     ]
    }
   ],
   "source": [
    "### modelo subsampling\n",
    "clf_sub = GridSearchCV(KNeighborsClassifier(),\n",
    "                       param_grid=tuned_parameters,\n",
    "                       cv=5,\n",
    "                       scoring=score)\n",
    "print(\" SUB Mejor combinación de parámetros:\")\n",
    "clf_sub.fit(X_subs,y_subs)\n",
    "print(clf_sub.best_params_)\n",
    "\n",
    "y_pred = clf_sub.predict(X_test)\n",
    "\n",
    "print(classification_report(y_test, y_pred))"
   ]
  },
  {
   "cell_type": "code",
   "execution_count": 20,
   "metadata": {
    "pycharm": {
     "name": "#%%\n"
    }
   },
   "outputs": [
    {
     "name": "stdout",
     "output_type": "stream",
     "text": [
      " OVER Mejor combinación de parámetros:\n",
      "{'n_neighbors': 1, 'weights': 'uniform'}\n",
      "              precision    recall  f1-score   support\n",
      "\n",
      "           0       0.69      0.86      0.76      2195\n",
      "           1       0.44      0.22      0.29      1104\n",
      "\n",
      "    accuracy                           0.65      3299\n",
      "   macro avg       0.56      0.54      0.53      3299\n",
      "weighted avg       0.61      0.65      0.61      3299\n",
      "\n"
     ]
    }
   ],
   "source": [
    "### modelo oversampling\n",
    "clf_over = GridSearchCV(KNeighborsClassifier(),\n",
    "                        param_grid=tuned_parameters,\n",
    "                        cv=5,\n",
    "                        scoring=score)\n",
    "print(\" OVER Mejor combinación de parámetros:\")\n",
    "clf_over.fit(X_over,y_over)\n",
    "print(clf_over.best_params_)\n",
    "\n",
    "y_pred = clf_over.predict(X_test)\n",
    "\n",
    "print(classification_report(y_test, y_pred))"
   ]
  },
  {
   "cell_type": "markdown",
   "metadata": {
    "pycharm": {
     "name": "#%% md\n"
    }
   },
   "source": [
    "Se realiza el mismo entrenamiento anterior, pero esta vez se omitiran los atributos menos significativos en la segunda matriz de correlación, 'juv_fel_count', 'c_days_from_compas' y 'c_charge_degree'."
   ]
  },
  {
   "cell_type": "code",
   "execution_count": 21,
   "metadata": {
    "pycharm": {
     "name": "#%%\n"
    }
   },
   "outputs": [
    {
     "name": "stdout",
     "output_type": "stream",
     "text": [
      " ORG Mejor combinación de parámetros:\n",
      "{'n_neighbors': 7, 'weights': 'distance'}\n",
      "              precision    recall  f1-score   support\n",
      "\n",
      "           0       0.72      0.80      0.76      2195\n",
      "           1       0.49      0.39      0.44      1104\n",
      "\n",
      "    accuracy                           0.66      3299\n",
      "   macro avg       0.61      0.59      0.60      3299\n",
      "weighted avg       0.65      0.66      0.65      3299\n",
      "\n"
     ]
    }
   ],
   "source": [
    "peoplemejor21=people.copy()\n",
    "peoplemejor21['race'] = np.where(peoplemejor21['race']=='African-American',1,0)\n",
    "peoplemejor21['sex'] = np.where(peoplemejor21['sex']=='Male',1,0)\n",
    "peoplemejor21 = peoplemejor21[peoplemejor21.columns[0:-9]].drop(columns=[\"age\", \"c_charge_degree\",\"c_offense_date\", \"juv_fel_count\", \"c_days_from_compas\"])\n",
    "\n",
    "###separamos valores\n",
    "X_train, X_test, y_train, y_test = train_test_split(peoplemejor21, peoplemejor21['is_recid'], test_size=.30,\n",
    "                                                          random_state=15, stratify=peoplemejor21['is_recid'])\n",
    "##subsampleamos\n",
    "X_train = X_train.reset_index(drop=True)\n",
    "idx = np.random.choice(X_train.loc[X_train.is_recid == 0].index, size=2545, replace=False)\n",
    "data_subsampled = X_train.drop(X_train.iloc[idx].index)\n",
    "##Oversampleamos\n",
    "idx = np.random.choice(X_train[X_train['is_recid'] == 1].index, size=2545)\n",
    "data_oversampled = X_train.drop(X_train.iloc[idx].index)\n",
    "### dejamos los datos para trabajar\n",
    "y_test = X_test.is_recid\n",
    "X_test = X_test.drop(columns=['is_recid'])\n",
    "y_orig =X_train.is_recid\n",
    "X_orig = X_train.drop(columns=['is_recid'])\n",
    "y_subs=data_subsampled.is_recid\n",
    "X_subs=data_subsampled.drop(columns=['is_recid'])\n",
    "y_over=data_oversampled.is_recid\n",
    "X_over=data_oversampled.drop(columns=['is_recid'])\n",
    "\n",
    "### modelo del original\n",
    "clf_org = GridSearchCV(KNeighborsClassifier(),\n",
    "                       param_grid=tuned_parameters,\n",
    "                       cv=5,\n",
    "                       scoring=score)\n",
    "print(\" ORG Mejor combinación de parámetros:\")\n",
    "clf_org.fit(X_orig,y_orig)\n",
    "print(clf_org.best_params_)\n",
    "\n",
    "y_pred = clf_org.predict(X_test)\n",
    "\n",
    "print(classification_report(y_test, y_pred))"
   ]
  },
  {
   "cell_type": "code",
   "execution_count": 22,
   "metadata": {
    "pycharm": {
     "name": "#%%\n"
    }
   },
   "outputs": [
    {
     "name": "stdout",
     "output_type": "stream",
     "text": [
      " SUB Mejor combinación de parámetros:\n",
      "{'n_neighbors': 7, 'weights': 'uniform'}\n",
      "              precision    recall  f1-score   support\n",
      "\n",
      "           0       0.77      0.62      0.69      2195\n",
      "           1       0.46      0.64      0.53      1104\n",
      "\n",
      "    accuracy                           0.63      3299\n",
      "   macro avg       0.62      0.63      0.61      3299\n",
      "weighted avg       0.67      0.63      0.64      3299\n",
      "\n"
     ]
    }
   ],
   "source": [
    "### modelo subsampling\n",
    "clf_sub = GridSearchCV(KNeighborsClassifier(),\n",
    "                       param_grid=tuned_parameters,\n",
    "                       cv=5,\n",
    "                       scoring=score)\n",
    "print(\" SUB Mejor combinación de parámetros:\")\n",
    "clf_sub.fit(X_subs,y_subs)\n",
    "print(clf_sub.best_params_)\n",
    "\n",
    "y_pred = clf_sub.predict(X_test)\n",
    "\n",
    "print(classification_report(y_test, y_pred))"
   ]
  },
  {
   "cell_type": "code",
   "execution_count": 23,
   "metadata": {
    "pycharm": {
     "name": "#%%\n"
    }
   },
   "outputs": [
    {
     "name": "stdout",
     "output_type": "stream",
     "text": [
      " OVER Mejor combinación de parámetros:\n",
      "{'n_neighbors': 1, 'weights': 'uniform'}\n",
      "              precision    recall  f1-score   support\n",
      "\n",
      "           0       0.69      0.85      0.76      2195\n",
      "           1       0.45      0.23      0.31      1104\n",
      "\n",
      "    accuracy                           0.65      3299\n",
      "   macro avg       0.57      0.54      0.54      3299\n",
      "weighted avg       0.61      0.65      0.61      3299\n",
      "\n"
     ]
    }
   ],
   "source": [
    "### modelo oversampling\n",
    "clf_over = GridSearchCV(KNeighborsClassifier(),\n",
    "                        param_grid=tuned_parameters,\n",
    "                        cv=5,\n",
    "                        scoring=score)\n",
    "print(\" OVER Mejor combinación de parámetros:\")\n",
    "clf_over.fit(X_over,y_over)\n",
    "print(clf_over.best_params_)\n",
    "\n",
    "y_pred = clf_over.predict(X_test)\n",
    "\n",
    "print(classification_report(y_test, y_pred))"
   ]
  },
  {
   "cell_type": "markdown",
   "metadata": {
    "pycharm": {
     "name": "#%% md\n"
    }
   },
   "source": [
    "Se repite el entrenamiento, omitiendo todos los atributos cuya correlación con 'is_recid' esté entre $-0.1$ y $0.1$."
   ]
  },
  {
   "cell_type": "code",
   "execution_count": 24,
   "metadata": {
    "pycharm": {
     "name": "#%%\n"
    }
   },
   "outputs": [
    {
     "name": "stdout",
     "output_type": "stream",
     "text": [
      " ORG Mejor combinación de parámetros:\n",
      "{'n_neighbors': 9, 'weights': 'distance'}\n",
      "              precision    recall  f1-score   support\n",
      "\n",
      "           0       0.72      0.80      0.76      2195\n",
      "           1       0.49      0.38      0.43      1104\n",
      "\n",
      "    accuracy                           0.66      3299\n",
      "   macro avg       0.61      0.59      0.59      3299\n",
      "weighted avg       0.64      0.66      0.65      3299\n",
      "\n"
     ]
    }
   ],
   "source": [
    "peoplemejor3=people.copy()\n",
    "peoplemejor3['race'] = np.where(peoplemejor3['race']=='African-American',1,0)\n",
    "#peoplemejor3['sex'] = np.where(peoplemejor3['sex']=='Male',1,0)\n",
    "peoplemejor3 = peoplemejor3[peoplemejor3.columns[0:-9]].drop(columns=[\"age\", \"sex\", \"c_charge_degree\", \"c_offense_date\", \"c_days_from_compas\", \"days_b_screening_arrest\", \"c_jail_out\", \"c_jail_in\", \"juv_fel_count\", \"juv_other_count\"])\n",
    "\n",
    "###separamos valores\n",
    "X_train, X_test, y_train, y_test = train_test_split(peoplemejor3, peoplemejor3['is_recid'], test_size=.30,\n",
    "                                                          random_state=15, stratify=peoplemejor3['is_recid'])\n",
    "##subsampleamos\n",
    "X_train = X_train.reset_index(drop=True)\n",
    "idx = np.random.choice(X_train.loc[X_train.is_recid == 0].index, size=2545, replace=False)\n",
    "data_subsampled = X_train.drop(X_train.iloc[idx].index)\n",
    "##Oversampleamos\n",
    "idx = np.random.choice(X_train[X_train['is_recid'] == 1].index, size=2545)\n",
    "data_oversampled = X_train.drop(X_train.iloc[idx].index)\n",
    "### dejamos los datos para trabajar\n",
    "y_test = X_test.is_recid\n",
    "X_test = X_test.drop(columns=['is_recid'])\n",
    "y_orig =X_train.is_recid\n",
    "X_orig = X_train.drop(columns=['is_recid'])\n",
    "y_subs=data_subsampled.is_recid\n",
    "X_subs=data_subsampled.drop(columns=['is_recid'])\n",
    "y_over=data_oversampled.is_recid\n",
    "X_over=data_oversampled.drop(columns=['is_recid'])\n",
    "\n",
    "### modelo del original\n",
    "clf_org = GridSearchCV(KNeighborsClassifier(),\n",
    "                       param_grid=tuned_parameters,\n",
    "                       cv=5,\n",
    "                       scoring=score)\n",
    "print(\" ORG Mejor combinación de parámetros:\")\n",
    "clf_org.fit(X_orig,y_orig)\n",
    "print(clf_org.best_params_)\n",
    "\n",
    "y_pred = clf_org.predict(X_test)\n",
    "\n",
    "print(classification_report(y_test, y_pred))"
   ]
  },
  {
   "cell_type": "code",
   "execution_count": 25,
   "metadata": {
    "pycharm": {
     "name": "#%%\n"
    }
   },
   "outputs": [
    {
     "name": "stdout",
     "output_type": "stream",
     "text": [
      " SUB Mejor combinación de parámetros:\n",
      "{'n_neighbors': 9, 'weights': 'uniform'}\n",
      "              precision    recall  f1-score   support\n",
      "\n",
      "           0       0.78      0.62      0.69      2195\n",
      "           1       0.47      0.66      0.54      1104\n",
      "\n",
      "    accuracy                           0.63      3299\n",
      "   macro avg       0.62      0.64      0.62      3299\n",
      "weighted avg       0.68      0.63      0.64      3299\n",
      "\n"
     ]
    }
   ],
   "source": [
    "### modelo subsampling\n",
    "clf_sub = GridSearchCV(KNeighborsClassifier(),\n",
    "                       param_grid=tuned_parameters,\n",
    "                       cv=5,\n",
    "                       scoring=score)\n",
    "print(\" SUB Mejor combinación de parámetros:\")\n",
    "clf_sub.fit(X_subs,y_subs)\n",
    "print(clf_sub.best_params_)\n",
    "\n",
    "y_pred = clf_sub.predict(X_test)\n",
    "\n",
    "print(classification_report(y_test, y_pred))"
   ]
  },
  {
   "cell_type": "code",
   "execution_count": 26,
   "metadata": {
    "pycharm": {
     "name": "#%%\n"
    }
   },
   "outputs": [
    {
     "name": "stdout",
     "output_type": "stream",
     "text": [
      " OVER Mejor combinación de parámetros:\n",
      "{'n_neighbors': 1, 'weights': 'uniform'}\n",
      "              precision    recall  f1-score   support\n",
      "\n",
      "           0       0.69      0.86      0.76      2195\n",
      "           1       0.44      0.22      0.30      1104\n",
      "\n",
      "    accuracy                           0.65      3299\n",
      "   macro avg       0.56      0.54      0.53      3299\n",
      "weighted avg       0.60      0.65      0.61      3299\n",
      "\n"
     ]
    }
   ],
   "source": [
    "### modelo oversampling\n",
    "clf_over = GridSearchCV(KNeighborsClassifier(),\n",
    "                        param_grid=tuned_parameters,\n",
    "                        cv=5,\n",
    "                        scoring=score)\n",
    "print(\" OVER Mejor combinación de parámetros:\")\n",
    "clf_over.fit(X_over,y_over)\n",
    "print(clf_over.best_params_)\n",
    "\n",
    "y_pred = clf_over.predict(X_test)\n",
    "\n",
    "print(classification_report(y_test, y_pred))"
   ]
  },
  {
   "cell_type": "markdown",
   "metadata": {
    "pycharm": {
     "name": "#%% md\n"
    }
   },
   "source": [
    "Incluyendo el atributo 'race' no se alcanza una Accuracy mayor o igual a la alcanzada anteriormente $0.69$.\n",
    "\n",
    "Se repetiran todos los entrenamientos anteriores, utilizando Oversampling, Subsampling y tomando en cuenta o no al atributo 'race'. En este caso se utilizará un clasificador de **Decision Tree**, con el fin de abordar más posibilidades y así seleccionar el mejor resultado entre ambos clasificadores."
   ]
  },
  {
   "cell_type": "code",
   "execution_count": 27,
   "metadata": {
    "pycharm": {
     "name": "#%%\n"
    }
   },
   "outputs": [],
   "source": [
    "dataset = people.copy()\n",
    "dataset = dataset[dataset.columns[0:-9]].drop(columns=[\"age\", \"race\", \"c_offense_date\"])\n",
    "dataset['sex'] = np.where(dataset['sex']=='Male',1,0)\n",
    "\n",
    "# Parámetros a utilizar en GridSearch-DecisionTree\n",
    "tuned_parameters = {'max_depth': [1, 2, 3, 4, 5, 6, 7, 8, 9, 10],\n",
    "                    'min_samples_leaf': [1, 2, 3, 4, 5, 6, 7, 8, 9, 10],\n",
    "                    'min_samples_split': [2, 3, 4, 5, 6, 7, 8, 9, 10, 11, 12, 13, 14, 15],\n",
    "                    'criterion': ['gini','entropy']}"
   ]
  },
  {
   "cell_type": "markdown",
   "metadata": {
    "pycharm": {
     "name": "#%% md\n"
    }
   },
   "source": [
    "Se entrenan modelos usando GridSearch, en la base de datos normalizada. Se realiza también para dataframes con SubSampling y OverSampling."
   ]
  },
  {
   "cell_type": "code",
   "execution_count": 28,
   "metadata": {
    "pycharm": {
     "name": "#%%\n"
    }
   },
   "outputs": [
    {
     "name": "stdout",
     "output_type": "stream",
     "text": [
      " ORIG Mejor combinación de parámetros:\n",
      "{'criterion': 'entropy', 'max_depth': 3, 'min_samples_leaf': 1, 'min_samples_split': 2}\n",
      "              precision    recall  f1-score   support\n",
      "\n",
      "         0.0       0.76      0.78      0.77      2195\n",
      "         1.0       0.55      0.52      0.53      1104\n",
      "\n",
      "    accuracy                           0.70      3299\n",
      "   macro avg       0.66      0.65      0.65      3299\n",
      "weighted avg       0.69      0.70      0.69      3299\n",
      "\n"
     ]
    }
   ],
   "source": [
    "norm_dataset = (dataset -dataset.min())/(dataset.max() -dataset.min())\n",
    "\n",
    "###separamos valores\n",
    "data_train, data_test, y_train, y_test = train_test_split(norm_dataset, norm_dataset['is_recid'], test_size=.30,\n",
    "                                                    random_state=15, stratify=norm_dataset['is_recid'])\n",
    "##subsampleamos\n",
    "data_train = data_train.reset_index(drop=True)\n",
    "idx = np.random.choice(data_train.loc[data_train.is_recid == 0].index, size=2545, replace=False)\n",
    "data_subsampled = data_train.drop(data_train.iloc[idx].index)\n",
    "##Oversampleamos\n",
    "idx = np.random.choice(data_train[data_train['is_recid'] == 1].index, size=2545)\n",
    "data_oversampled = data_train.drop(data_train.iloc[idx].index)\n",
    "\n",
    "### dejamos los datos para trabajar\n",
    "y_test = data_test.is_recid\n",
    "X_test = data_test.drop(columns=['is_recid'])\n",
    "y_orig =data_train.is_recid\n",
    "X_orig = data_train.drop(columns=['is_recid'])\n",
    "y_subs=data_subsampled.is_recid\n",
    "X_subs=data_subsampled.drop(columns=['is_recid'])\n",
    "y_over=data_oversampled.is_recid\n",
    "X_over=data_oversampled.drop(columns=['is_recid'])\n",
    "\n",
    "### modelo del original\n",
    "clf_org = GridSearchCV(DecisionTreeClassifier(),\n",
    "                       param_grid=tuned_parameters,\n",
    "                       cv=5,\n",
    "                       scoring=score)\n",
    "print(\" ORIG Mejor combinación de parámetros:\")\n",
    "clf_org.fit(X_orig,y_orig)\n",
    "print(clf_org.best_params_)\n",
    "\n",
    "y_pred = clf_org.predict(X_test)\n",
    "\n",
    "print(classification_report(y_test, y_pred))"
   ]
  },
  {
   "cell_type": "code",
   "execution_count": 29,
   "metadata": {
    "pycharm": {
     "name": "#%%\n"
    }
   },
   "outputs": [
    {
     "name": "stdout",
     "output_type": "stream",
     "text": [
      " SUB Mejor combinación de parámetros:\n",
      "{'criterion': 'gini', 'max_depth': 3, 'min_samples_leaf': 1, 'min_samples_split': 2}\n",
      "              precision    recall  f1-score   support\n",
      "\n",
      "         0.0       0.79      0.73      0.76      2195\n",
      "         1.0       0.53      0.61      0.57      1104\n",
      "\n",
      "    accuracy                           0.69      3299\n",
      "   macro avg       0.66      0.67      0.66      3299\n",
      "weighted avg       0.70      0.69      0.69      3299\n",
      "\n"
     ]
    }
   ],
   "source": [
    "### modelo subsampling\n",
    "clf_sub = GridSearchCV(DecisionTreeClassifier(),\n",
    "                   param_grid=tuned_parameters,\n",
    "                   cv=5,\n",
    "                   scoring=score)\n",
    "print(\" SUB Mejor combinación de parámetros:\")\n",
    "clf_sub.fit(X_subs,y_subs)\n",
    "print(clf_sub.best_params_)\n",
    "\n",
    "y_pred = clf_sub.predict(X_test)\n",
    "\n",
    "print(classification_report(y_test, y_pred))"
   ]
  },
  {
   "cell_type": "code",
   "execution_count": 30,
   "metadata": {
    "pycharm": {
     "name": "#%%\n"
    }
   },
   "outputs": [
    {
     "name": "stdout",
     "output_type": "stream",
     "text": [
      " OVER Mejor combinación de parámetros:\n",
      "{'criterion': 'gini', 'max_depth': 10, 'min_samples_leaf': 5, 'min_samples_split': 11}\n",
      "              precision    recall  f1-score   support\n",
      "\n",
      "         0.0       0.70      0.94      0.81      2195\n",
      "         1.0       0.65      0.20      0.31      1104\n",
      "\n",
      "    accuracy                           0.70      3299\n",
      "   macro avg       0.68      0.57      0.56      3299\n",
      "weighted avg       0.68      0.70      0.64      3299\n",
      "\n"
     ]
    }
   ],
   "source": [
    "### modelo oversampling\n",
    "clf_over = GridSearchCV(DecisionTreeClassifier(),\n",
    "                       param_grid=tuned_parameters,\n",
    "                       cv=5,\n",
    "                       scoring=score)\n",
    "print(\" OVER Mejor combinación de parámetros:\")\n",
    "clf_over.fit(X_over,y_over)\n",
    "print(clf_over.best_params_)\n",
    "\n",
    "y_pred = clf_over.predict(X_test)\n",
    "\n",
    "print(classification_report(y_test, y_pred))"
   ]
  },
  {
   "cell_type": "markdown",
   "metadata": {
    "pycharm": {
     "name": "#%% md\n"
    }
   },
   "source": [
    "Se realiza otro entrenamiento, omitiendo los parámetros menos significativos 'days_b_screening_arrest', 'c_days_from_compas' y 'c_charge_degree'."
   ]
  },
  {
   "cell_type": "code",
   "execution_count": 31,
   "metadata": {
    "pycharm": {
     "name": "#%%\n"
    }
   },
   "outputs": [
    {
     "name": "stdout",
     "output_type": "stream",
     "text": [
      " ORIG Mejor combinación de parámetros:\n",
      "{'criterion': 'gini', 'max_depth': 5, 'min_samples_leaf': 5, 'min_samples_split': 2}\n",
      "              precision    recall  f1-score   support\n",
      "\n",
      "           0       0.74      0.88      0.80      2195\n",
      "           1       0.61      0.37      0.46      1104\n",
      "\n",
      "    accuracy                           0.71      3299\n",
      "   macro avg       0.67      0.63      0.63      3299\n",
      "weighted avg       0.69      0.71      0.69      3299\n",
      "\n"
     ]
    }
   ],
   "source": [
    "dataset2 = people.copy()\n",
    "dataset2 = dataset2[dataset2.columns[0:-9]].drop(columns=[\"age\", \"race\", \"c_charge_degree\", \"c_offense_date\", \"c_days_from_compas\", \"days_b_screening_arrest\"])\n",
    "dataset2[\"sex\"] = np.where(dataset2[\"sex\"]=='Male',1,0)\n",
    "\n",
    "###separamos valores\n",
    "data_train, data_test, y_train, y_test = train_test_split(dataset2, dataset2['is_recid'], test_size=.30,\n",
    "                                                    random_state=15, stratify=dataset2['is_recid'])\n",
    "##subsampleamos\n",
    "data_train = data_train.reset_index(drop=True)\n",
    "idx = np.random.choice(data_train.loc[data_train.is_recid == 0].index, size=2545, replace=False)\n",
    "data_subsampled = data_train.drop(data_train.iloc[idx].index)\n",
    "##Oversampleamos\n",
    "idx = np.random.choice(data_train[data_train['is_recid'] == 1].index, size=2545)\n",
    "data_oversampled = data_train.drop(data_train.iloc[idx].index)\n",
    "\n",
    "### dejamos los datos para trabajar\n",
    "y_test = data_test.is_recid\n",
    "X_test = data_test.drop(columns=['is_recid'])\n",
    "y_orig =data_train.is_recid\n",
    "X_orig = data_train.drop(columns=['is_recid'])\n",
    "y_subs=data_subsampled.is_recid\n",
    "X_subs=data_subsampled.drop(columns=['is_recid'])\n",
    "y_over=data_oversampled.is_recid\n",
    "X_over=data_oversampled.drop(columns=['is_recid'])\n",
    "\n",
    "### modelo del original\n",
    "clf_org = GridSearchCV(DecisionTreeClassifier(),\n",
    "                       param_grid=tuned_parameters,\n",
    "                       cv=5,\n",
    "                       scoring=score)\n",
    "print(\" ORIG Mejor combinación de parámetros:\")\n",
    "clf_org.fit(X_orig,y_orig)\n",
    "print(clf_org.best_params_)\n",
    "\n",
    "y_pred = clf_org.predict(X_test)\n",
    "\n",
    "print(classification_report(y_test, y_pred))"
   ]
  },
  {
   "cell_type": "code",
   "execution_count": 32,
   "metadata": {
    "pycharm": {
     "name": "#%%\n"
    }
   },
   "outputs": [
    {
     "name": "stdout",
     "output_type": "stream",
     "text": [
      " SUB Mejor combinación de parámetros:\n",
      "{'criterion': 'entropy', 'max_depth': 4, 'min_samples_leaf': 1, 'min_samples_split': 2}\n",
      "              precision    recall  f1-score   support\n",
      "\n",
      "           0       0.81      0.55      0.65      2195\n",
      "           1       0.45      0.74      0.56      1104\n",
      "\n",
      "    accuracy                           0.61      3299\n",
      "   macro avg       0.63      0.64      0.61      3299\n",
      "weighted avg       0.69      0.61      0.62      3299\n",
      "\n"
     ]
    }
   ],
   "source": [
    "### modelo subsampling\n",
    "clf_sub = GridSearchCV(DecisionTreeClassifier(),\n",
    "                   param_grid=tuned_parameters,\n",
    "                   cv=5,\n",
    "                   scoring=score)\n",
    "print(\" SUB Mejor combinación de parámetros:\")\n",
    "clf_sub.fit(X_subs,y_subs)\n",
    "print(clf_sub.best_params_)\n",
    "\n",
    "y_pred = clf_sub.predict(X_test)\n",
    "\n",
    "print(classification_report(y_test, y_pred))"
   ]
  },
  {
   "cell_type": "code",
   "execution_count": 33,
   "metadata": {
    "pycharm": {
     "name": "#%%\n"
    }
   },
   "outputs": [
    {
     "name": "stdout",
     "output_type": "stream",
     "text": [
      " OVER Mejor combinación de parámetros:\n",
      "{'criterion': 'gini', 'max_depth': 10, 'min_samples_leaf': 2, 'min_samples_split': 15}\n",
      "              precision    recall  f1-score   support\n",
      "\n",
      "           0       0.68      0.95      0.80      2195\n",
      "           1       0.58      0.12      0.20      1104\n",
      "\n",
      "    accuracy                           0.68      3299\n",
      "   macro avg       0.63      0.54      0.50      3299\n",
      "weighted avg       0.65      0.68      0.60      3299\n",
      "\n"
     ]
    }
   ],
   "source": [
    "### modelo oversampling\n",
    "clf_over = GridSearchCV(DecisionTreeClassifier(),\n",
    "                       param_grid=tuned_parameters,\n",
    "                       cv=5,\n",
    "                       scoring=score)\n",
    "print(\" OVER Mejor combinación de parámetros:\")\n",
    "clf_over.fit(X_over,y_over)\n",
    "print(clf_over.best_params_)\n",
    "\n",
    "y_pred = clf_over.predict(X_test)\n",
    "\n",
    "print(classification_report(y_test, y_pred))"
   ]
  },
  {
   "cell_type": "markdown",
   "metadata": {
    "pycharm": {
     "name": "#%% md\n"
    }
   },
   "source": [
    "Ahora se omitirán todos los atributos cuya correlación con 'is_recid' esté entre $-0.1$ y $0.1$."
   ]
  },
  {
   "cell_type": "code",
   "execution_count": 34,
   "metadata": {
    "pycharm": {
     "name": "#%%\n"
    }
   },
   "outputs": [
    {
     "name": "stdout",
     "output_type": "stream",
     "text": [
      " ORIG Mejor combinación de parámetros:\n",
      "{'criterion': 'gini', 'max_depth': 9, 'min_samples_leaf': 1, 'min_samples_split': 2}\n",
      "              precision    recall  f1-score   support\n",
      "\n",
      "           0       0.73      0.87      0.80      2195\n",
      "           1       0.59      0.36      0.45      1104\n",
      "\n",
      "    accuracy                           0.70      3299\n",
      "   macro avg       0.66      0.62      0.62      3299\n",
      "weighted avg       0.68      0.70      0.68      3299\n",
      "\n"
     ]
    }
   ],
   "source": [
    "dataset3 = people.copy()\n",
    "dataset3 = dataset3[dataset3.columns[0:-9]].drop(columns=[\"age\", \"race\", \"sex\", \"c_charge_degree\", \"c_offense_date\", \"c_days_from_compas\", \"days_b_screening_arrest\", \"c_jail_out\", \"c_jail_in\", \"juv_fel_count\"])\n",
    "\n",
    "###separamos valores\n",
    "data_train, data_test, y_train, y_test = train_test_split(dataset3, dataset3['is_recid'], test_size=.30,\n",
    "                                                    random_state=15, stratify=dataset3['is_recid'])\n",
    "##subsampleamos\n",
    "data_train = data_train.reset_index(drop=True)\n",
    "idx = np.random.choice(data_train.loc[data_train.is_recid == 0].index, size=2545, replace=False)\n",
    "data_subsampled = data_train.drop(data_train.iloc[idx].index)\n",
    "##Oversampleamos\n",
    "idx = np.random.choice(data_train[data_train['is_recid'] == 1].index, size=2545)\n",
    "data_oversampled = data_train.drop(data_train.iloc[idx].index)\n",
    "\n",
    "### dejamos los datos para trabajar\n",
    "y_test = data_test.is_recid\n",
    "X_test = data_test.drop(columns=['is_recid'])\n",
    "y_orig =data_train.is_recid\n",
    "X_orig = data_train.drop(columns=['is_recid'])\n",
    "y_subs=data_subsampled.is_recid\n",
    "X_subs=data_subsampled.drop(columns=['is_recid'])\n",
    "y_over=data_oversampled.is_recid\n",
    "X_over=data_oversampled.drop(columns=['is_recid'])\n",
    "\n",
    "### modelo del original\n",
    "clf_org = GridSearchCV(DecisionTreeClassifier(),\n",
    "                       param_grid=tuned_parameters,\n",
    "                       cv=5,\n",
    "                       scoring=score)\n",
    "print(\" ORIG Mejor combinación de parámetros:\")\n",
    "clf_org.fit(X_orig,y_orig)\n",
    "print(clf_org.best_params_)\n",
    "\n",
    "y_pred = clf_org.predict(X_test)\n",
    "\n",
    "print(classification_report(y_test, y_pred))"
   ]
  },
  {
   "cell_type": "code",
   "execution_count": 35,
   "metadata": {
    "pycharm": {
     "name": "#%%\n"
    }
   },
   "outputs": [
    {
     "name": "stdout",
     "output_type": "stream",
     "text": [
      " SUB Mejor combinación de parámetros:\n",
      "{'criterion': 'entropy', 'max_depth': 1, 'min_samples_leaf': 1, 'min_samples_split': 2}\n",
      "              precision    recall  f1-score   support\n",
      "\n",
      "           0       0.80      0.54      0.65      2195\n",
      "           1       0.44      0.73      0.55      1104\n",
      "\n",
      "    accuracy                           0.60      3299\n",
      "   macro avg       0.62      0.63      0.60      3299\n",
      "weighted avg       0.68      0.60      0.61      3299\n",
      "\n"
     ]
    }
   ],
   "source": [
    "### modelo subsampling\n",
    "clf_sub = GridSearchCV(DecisionTreeClassifier(),\n",
    "                   param_grid=tuned_parameters,\n",
    "                   cv=5,\n",
    "                   scoring=score)\n",
    "print(\" SUB Mejor combinación de parámetros:\")\n",
    "clf_sub.fit(X_subs,y_subs)\n",
    "print(clf_sub.best_params_)\n",
    "\n",
    "y_pred = clf_sub.predict(X_test)\n",
    "\n",
    "print(classification_report(y_test, y_pred))"
   ]
  },
  {
   "cell_type": "code",
   "execution_count": 36,
   "metadata": {
    "pycharm": {
     "name": "#%%\n"
    }
   },
   "outputs": [
    {
     "name": "stdout",
     "output_type": "stream",
     "text": [
      " OVER Mejor combinación de parámetros:\n",
      "{'criterion': 'entropy', 'max_depth': 10, 'min_samples_leaf': 5, 'min_samples_split': 14}\n",
      "              precision    recall  f1-score   support\n",
      "\n",
      "           0       0.68      0.95      0.79      2195\n",
      "           1       0.56      0.13      0.21      1104\n",
      "\n",
      "    accuracy                           0.67      3299\n",
      "   macro avg       0.62      0.54      0.50      3299\n",
      "weighted avg       0.64      0.67      0.60      3299\n",
      "\n"
     ]
    }
   ],
   "source": [
    "### modelo oversampling\n",
    "clf_over = GridSearchCV(DecisionTreeClassifier(),\n",
    "                       param_grid=tuned_parameters,\n",
    "                       cv=5,\n",
    "                       scoring=score)\n",
    "print(\" OVER Mejor combinación de parámetros:\")\n",
    "clf_over.fit(X_over,y_over)\n",
    "print(clf_over.best_params_)\n",
    "\n",
    "y_pred = clf_over.predict(X_test)\n",
    "\n",
    "print(classification_report(y_test, y_pred))"
   ]
  },
  {
   "cell_type": "markdown",
   "metadata": {
    "pycharm": {
     "name": "#%% md\n"
    }
   },
   "source": [
    "Con el cambio de clasificador se notan dos casos sobresalientes. Ambos no realizan SubSampling ni OverSampling. Se obtuvo un Accuracy de $0.70$ al utilizar todos los atributos (salvo de 'race') y $0.71$ dejando de lado los tres atributos menos significativos.\n",
    "\n",
    "Se repetiran los entrenamientos, pero utilizando el atributo 'race'."
   ]
  },
  {
   "cell_type": "code",
   "execution_count": 37,
   "metadata": {
    "pycharm": {
     "name": "#%%\n"
    }
   },
   "outputs": [],
   "source": [
    "peoplemejor=people.copy()\n",
    "peoplemejor['race'] = np.where(peoplemejor['race']=='African-American',1,0)\n",
    "peoplemejor['sex'] = np.where(peoplemejor['sex']=='Male',1,0)\n",
    "peoplemejor = peoplemejor[peoplemejor.columns[0:-9]].drop(columns=[\"age\", \"c_charge_degree\",\"c_offense_date\"])"
   ]
  },
  {
   "cell_type": "markdown",
   "metadata": {
    "pycharm": {
     "name": "#%% md\n"
    }
   },
   "source": [
    "Entrenar modelos usando GridSearch, 'race' y sexo binarios."
   ]
  },
  {
   "cell_type": "code",
   "execution_count": 38,
   "metadata": {
    "pycharm": {
     "name": "#%%\n"
    }
   },
   "outputs": [
    {
     "name": "stdout",
     "output_type": "stream",
     "text": [
      " ORG Mejor combinación de parámetros:\n",
      "{'criterion': 'entropy', 'max_depth': 3, 'min_samples_leaf': 1, 'min_samples_split': 2}\n",
      "              precision    recall  f1-score   support\n",
      "\n",
      "           0       0.76      0.78      0.77      2195\n",
      "           1       0.55      0.52      0.53      1104\n",
      "\n",
      "    accuracy                           0.70      3299\n",
      "   macro avg       0.66      0.65      0.65      3299\n",
      "weighted avg       0.69      0.70      0.69      3299\n",
      "\n"
     ]
    }
   ],
   "source": [
    "##########################  KNeighbors con race  ##########################\n",
    "###separamos valores\n",
    "X_train, X_test, y_train, y_test = train_test_split(peoplemejor, peoplemejor['is_recid'], test_size=.30,\n",
    "                                                          random_state=15, stratify=peoplemejor['is_recid'])\n",
    "##subsampleamos\n",
    "X_train = X_train.reset_index(drop=True)\n",
    "idx = np.random.choice(X_train.loc[X_train.is_recid == 0].index, size=2545, replace=False)\n",
    "data_subsampled = X_train.drop(X_train.iloc[idx].index)\n",
    "##Oversampleamos\n",
    "idx = np.random.choice(X_train[X_train['is_recid'] == 1].index, size=2545)\n",
    "data_oversampled = X_train.drop(X_train.iloc[idx].index)\n",
    "### dejamos los datos para trabajar\n",
    "y_test = X_test.is_recid\n",
    "X_test = X_test.drop(columns=['is_recid'])\n",
    "y_orig =X_train.is_recid\n",
    "X_orig = X_train.drop(columns=['is_recid'])\n",
    "y_subs=data_subsampled.is_recid\n",
    "X_subs=data_subsampled.drop(columns=['is_recid'])\n",
    "y_over=data_oversampled.is_recid\n",
    "X_over=data_oversampled.drop(columns=['is_recid'])\n",
    "\n",
    "### modelo del original\n",
    "clf_org = GridSearchCV(DecisionTreeClassifier(),\n",
    "                       param_grid=tuned_parameters,\n",
    "                       cv=5,\n",
    "                       scoring=score)\n",
    "print(\" ORG Mejor combinación de parámetros:\")\n",
    "clf_org.fit(X_orig,y_orig)\n",
    "print(clf_org.best_params_)\n",
    "\n",
    "y_pred = clf_org.predict(X_test)\n",
    "\n",
    "print(classification_report(y_test, y_pred))"
   ]
  },
  {
   "cell_type": "code",
   "execution_count": 39,
   "metadata": {
    "pycharm": {
     "name": "#%%\n"
    }
   },
   "outputs": [
    {
     "name": "stdout",
     "output_type": "stream",
     "text": [
      " SUB Mejor combinación de parámetros:\n",
      "{'criterion': 'gini', 'max_depth': 2, 'min_samples_leaf': 1, 'min_samples_split': 2}\n",
      "              precision    recall  f1-score   support\n",
      "\n",
      "           0       0.83      0.47      0.60      2195\n",
      "           1       0.43      0.81      0.57      1104\n",
      "\n",
      "    accuracy                           0.58      3299\n",
      "   macro avg       0.63      0.64      0.58      3299\n",
      "weighted avg       0.70      0.58      0.59      3299\n",
      "\n"
     ]
    }
   ],
   "source": [
    "### modelo subsampling\n",
    "clf_sub = GridSearchCV(DecisionTreeClassifier(),\n",
    "                       param_grid=tuned_parameters,\n",
    "                       cv=5,\n",
    "                       scoring=score)\n",
    "print(\" SUB Mejor combinación de parámetros:\")\n",
    "clf_sub.fit(X_subs,y_subs)\n",
    "print(clf_sub.best_params_)\n",
    "\n",
    "y_pred = clf_sub.predict(X_test)\n",
    "\n",
    "print(classification_report(y_test, y_pred))"
   ]
  },
  {
   "cell_type": "code",
   "execution_count": 40,
   "metadata": {
    "pycharm": {
     "name": "#%%\n"
    }
   },
   "outputs": [
    {
     "name": "stdout",
     "output_type": "stream",
     "text": [
      " OVER Mejor combinación de parámetros:\n",
      "{'criterion': 'gini', 'max_depth': 10, 'min_samples_leaf': 9, 'min_samples_split': 9}\n",
      "              precision    recall  f1-score   support\n",
      "\n",
      "           0       0.68      0.96      0.80      2195\n",
      "           1       0.57      0.11      0.19      1104\n",
      "\n",
      "    accuracy                           0.67      3299\n",
      "   macro avg       0.63      0.54      0.49      3299\n",
      "weighted avg       0.64      0.67      0.59      3299\n",
      "\n"
     ]
    }
   ],
   "source": [
    "### modelo oversampling\n",
    "clf_over = GridSearchCV(DecisionTreeClassifier(),\n",
    "                        param_grid=tuned_parameters,\n",
    "                        cv=5,\n",
    "                        scoring=score)\n",
    "print(\" OVER Mejor combinación de parámetros:\")\n",
    "clf_over.fit(X_over,y_over)\n",
    "print(clf_over.best_params_)\n",
    "\n",
    "y_pred = clf_over.predict(X_test)\n",
    "\n",
    "print(classification_report(y_test, y_pred))"
   ]
  },
  {
   "cell_type": "markdown",
   "metadata": {
    "pycharm": {
     "name": "#%% md\n"
    }
   },
   "source": [
    "Se repite lo anterior, omitiendo los atributos poco significativos 'days_b_screening_arrest', 'c_days_from_compas' y 'c_charge_degree'."
   ]
  },
  {
   "cell_type": "code",
   "execution_count": 41,
   "metadata": {
    "pycharm": {
     "name": "#%%\n"
    }
   },
   "outputs": [
    {
     "name": "stdout",
     "output_type": "stream",
     "text": [
      " ORG Mejor combinación de parámetros:\n",
      "{'criterion': 'gini', 'max_depth': 5, 'min_samples_leaf': 5, 'min_samples_split': 2}\n",
      "              precision    recall  f1-score   support\n",
      "\n",
      "           0       0.74      0.88      0.80      2195\n",
      "           1       0.61      0.37      0.46      1104\n",
      "\n",
      "    accuracy                           0.71      3299\n",
      "   macro avg       0.67      0.63      0.63      3299\n",
      "weighted avg       0.69      0.71      0.69      3299\n",
      "\n"
     ]
    }
   ],
   "source": [
    "peoplemejor2=people.copy()\n",
    "peoplemejor2['race'] = np.where(peoplemejor2['race']=='African-American',1,0)\n",
    "peoplemejor2['sex'] = np.where(peoplemejor2['sex']=='Male',1,0)\n",
    "peoplemejor2 = peoplemejor2[peoplemejor2.columns[0:-9]].drop(columns=[\"age\", \"c_charge_degree\",\"c_offense_date\", \"days_b_screening_arrest\", \"c_days_from_compas\"])\n",
    "\n",
    "###separamos valores\n",
    "X_train, X_test, y_train, y_test = train_test_split(peoplemejor2, peoplemejor2['is_recid'], test_size=.30,\n",
    "                                                          random_state=15, stratify=peoplemejor2['is_recid'])\n",
    "##subsampleamos\n",
    "X_train = X_train.reset_index(drop=True)\n",
    "idx = np.random.choice(X_train.loc[X_train.is_recid == 0].index, size=2545, replace=False)\n",
    "data_subsampled = X_train.drop(X_train.iloc[idx].index)\n",
    "##Oversampleamos\n",
    "idx = np.random.choice(X_train[X_train['is_recid'] == 1].index, size=2545)\n",
    "data_oversampled = X_train.drop(X_train.iloc[idx].index)\n",
    "### dejamos los datos para trabajar\n",
    "y_test = X_test.is_recid\n",
    "X_test = X_test.drop(columns=['is_recid'])\n",
    "y_orig =X_train.is_recid\n",
    "X_orig = X_train.drop(columns=['is_recid'])\n",
    "y_subs=data_subsampled.is_recid\n",
    "X_subs=data_subsampled.drop(columns=['is_recid'])\n",
    "y_over=data_oversampled.is_recid\n",
    "X_over=data_oversampled.drop(columns=['is_recid'])\n",
    "\n",
    "### modelo del original\n",
    "clf_org = GridSearchCV(DecisionTreeClassifier(),\n",
    "                       param_grid=tuned_parameters,\n",
    "                       cv=5,\n",
    "                       scoring=score)\n",
    "print(\" ORG Mejor combinación de parámetros:\")\n",
    "clf_org.fit(X_orig,y_orig)\n",
    "print(clf_org.best_params_)\n",
    "\n",
    "y_pred = clf_org.predict(X_test)\n",
    "\n",
    "print(classification_report(y_test, y_pred))"
   ]
  },
  {
   "cell_type": "code",
   "execution_count": 42,
   "metadata": {
    "pycharm": {
     "name": "#%%\n"
    }
   },
   "outputs": [
    {
     "name": "stdout",
     "output_type": "stream",
     "text": [
      " SUB Mejor combinación de parámetros:\n",
      "{'criterion': 'gini', 'max_depth': 1, 'min_samples_leaf': 1, 'min_samples_split': 2}\n",
      "              precision    recall  f1-score   support\n",
      "\n",
      "           0       0.82      0.43      0.57      2195\n",
      "           1       0.42      0.80      0.55      1104\n",
      "\n",
      "    accuracy                           0.56      3299\n",
      "   macro avg       0.62      0.62      0.56      3299\n",
      "weighted avg       0.68      0.56      0.56      3299\n",
      "\n"
     ]
    }
   ],
   "source": [
    "### modelo subsampling\n",
    "clf_sub = GridSearchCV(DecisionTreeClassifier(),\n",
    "                       param_grid=tuned_parameters,\n",
    "                       cv=5,\n",
    "                       scoring=score)\n",
    "print(\" SUB Mejor combinación de parámetros:\")\n",
    "clf_sub.fit(X_subs,y_subs)\n",
    "print(clf_sub.best_params_)\n",
    "\n",
    "y_pred = clf_sub.predict(X_test)\n",
    "\n",
    "print(classification_report(y_test, y_pred))"
   ]
  },
  {
   "cell_type": "code",
   "execution_count": 43,
   "metadata": {
    "pycharm": {
     "name": "#%%\n"
    }
   },
   "outputs": [
    {
     "name": "stdout",
     "output_type": "stream",
     "text": [
      " OVER Mejor combinación de parámetros:\n",
      "{'criterion': 'gini', 'max_depth': 10, 'min_samples_leaf': 5, 'min_samples_split': 6}\n",
      "              precision    recall  f1-score   support\n",
      "\n",
      "           0       0.69      0.95      0.80      2195\n",
      "           1       0.58      0.14      0.22      1104\n",
      "\n",
      "    accuracy                           0.68      3299\n",
      "   macro avg       0.63      0.54      0.51      3299\n",
      "weighted avg       0.65      0.68      0.61      3299\n",
      "\n"
     ]
    }
   ],
   "source": [
    "### modelo oversampling\n",
    "clf_over = GridSearchCV(DecisionTreeClassifier(),\n",
    "                        param_grid=tuned_parameters,\n",
    "                        cv=5,\n",
    "                        scoring=score)\n",
    "print(\" OVER Mejor combinación de parámetros:\")\n",
    "clf_over.fit(X_over,y_over)\n",
    "print(clf_over.best_params_)\n",
    "\n",
    "y_pred = clf_over.predict(X_test)\n",
    "\n",
    "print(classification_report(y_test, y_pred))"
   ]
  },
  {
   "cell_type": "markdown",
   "metadata": {
    "pycharm": {
     "name": "#%% md\n"
    }
   },
   "source": [
    "Se realiza el mismo entrenamiento anterior, pero esta vez se omitiran los atributos menos significativos en la segunda matriz de correlación, 'juv_fel_count', 'c_days_from_compas' y 'c_charge_degree'."
   ]
  },
  {
   "cell_type": "code",
   "execution_count": 44,
   "metadata": {
    "pycharm": {
     "name": "#%%\n"
    }
   },
   "outputs": [
    {
     "name": "stdout",
     "output_type": "stream",
     "text": [
      " ORG Mejor combinación de parámetros:\n",
      "{'criterion': 'gini', 'max_depth': 3, 'min_samples_leaf': 1, 'min_samples_split': 2}\n",
      "              precision    recall  f1-score   support\n",
      "\n",
      "           0       0.75      0.82      0.78      2195\n",
      "           1       0.56      0.46      0.50      1104\n",
      "\n",
      "    accuracy                           0.70      3299\n",
      "   macro avg       0.65      0.64      0.64      3299\n",
      "weighted avg       0.69      0.70      0.69      3299\n",
      "\n"
     ]
    }
   ],
   "source": [
    "peoplemejor21=people.copy()\n",
    "peoplemejor21['race'] = np.where(peoplemejor21['race']=='African-American',1,0)\n",
    "peoplemejor21['sex'] = np.where(peoplemejor21['sex']=='Male',1,0)\n",
    "peoplemejor21 = peoplemejor21[peoplemejor21.columns[0:-9]].drop(columns=[\"age\", \"c_charge_degree\",\"c_offense_date\", \"juv_fel_count\", \"c_days_from_compas\"])\n",
    "\n",
    "###separamos valores\n",
    "X_train, X_test, y_train, y_test = train_test_split(peoplemejor21, peoplemejor21['is_recid'], test_size=.30,\n",
    "                                                          random_state=15, stratify=peoplemejor21['is_recid'])\n",
    "##subsampleamos\n",
    "X_train = X_train.reset_index(drop=True)\n",
    "idx = np.random.choice(X_train.loc[X_train.is_recid == 0].index, size=2545, replace=False)\n",
    "data_subsampled = X_train.drop(X_train.iloc[idx].index)\n",
    "##Oversampleamos\n",
    "idx = np.random.choice(X_train[X_train['is_recid'] == 1].index, size=2545)\n",
    "data_oversampled = X_train.drop(X_train.iloc[idx].index)\n",
    "### dejamos los datos para trabajar\n",
    "y_test = X_test.is_recid\n",
    "X_test = X_test.drop(columns=['is_recid'])\n",
    "y_orig =X_train.is_recid\n",
    "X_orig = X_train.drop(columns=['is_recid'])\n",
    "y_subs=data_subsampled.is_recid\n",
    "X_subs=data_subsampled.drop(columns=['is_recid'])\n",
    "y_over=data_oversampled.is_recid\n",
    "X_over=data_oversampled.drop(columns=['is_recid'])\n",
    "\n",
    "### modelo del original\n",
    "clf_org = GridSearchCV(DecisionTreeClassifier(),\n",
    "                       param_grid=tuned_parameters,\n",
    "                       cv=5,\n",
    "                       scoring=score)\n",
    "print(\" ORG Mejor combinación de parámetros:\")\n",
    "clf_org.fit(X_orig,y_orig)\n",
    "print(clf_org.best_params_)\n",
    "\n",
    "y_pred = clf_org.predict(X_test)\n",
    "\n",
    "print(classification_report(y_test, y_pred))"
   ]
  },
  {
   "cell_type": "code",
   "execution_count": 45,
   "metadata": {
    "pycharm": {
     "name": "#%%\n"
    }
   },
   "outputs": [
    {
     "name": "stdout",
     "output_type": "stream",
     "text": [
      " SUB Mejor combinación de parámetros:\n",
      "{'criterion': 'entropy', 'max_depth': 5, 'min_samples_leaf': 7, 'min_samples_split': 2}\n",
      "              precision    recall  f1-score   support\n",
      "\n",
      "           0       0.78      0.71      0.74      2195\n",
      "           1       0.51      0.61      0.56      1104\n",
      "\n",
      "    accuracy                           0.68      3299\n",
      "   macro avg       0.65      0.66      0.65      3299\n",
      "weighted avg       0.69      0.68      0.68      3299\n",
      "\n"
     ]
    }
   ],
   "source": [
    "### modelo subsampling\n",
    "clf_sub = GridSearchCV(DecisionTreeClassifier(),\n",
    "                       param_grid=tuned_parameters,\n",
    "                       cv=5,\n",
    "                       scoring=score)\n",
    "print(\" SUB Mejor combinación de parámetros:\")\n",
    "clf_sub.fit(X_subs,y_subs)\n",
    "print(clf_sub.best_params_)\n",
    "\n",
    "y_pred = clf_sub.predict(X_test)\n",
    "\n",
    "print(classification_report(y_test, y_pred))"
   ]
  },
  {
   "cell_type": "code",
   "execution_count": 46,
   "metadata": {
    "pycharm": {
     "name": "#%%\n"
    }
   },
   "outputs": [
    {
     "name": "stdout",
     "output_type": "stream",
     "text": [
      " OVER Mejor combinación de parámetros:\n",
      "{'criterion': 'gini', 'max_depth': 10, 'min_samples_leaf': 9, 'min_samples_split': 3}\n",
      "              precision    recall  f1-score   support\n",
      "\n",
      "           0       0.69      0.95      0.80      2195\n",
      "           1       0.57      0.14      0.22      1104\n",
      "\n",
      "    accuracy                           0.68      3299\n",
      "   macro avg       0.63      0.54      0.51      3299\n",
      "weighted avg       0.65      0.68      0.60      3299\n",
      "\n"
     ]
    }
   ],
   "source": [
    "### modelo oversampling\n",
    "clf_over = GridSearchCV(DecisionTreeClassifier(),\n",
    "                        param_grid=tuned_parameters,\n",
    "                        cv=5,\n",
    "                        scoring=score)\n",
    "print(\" OVER Mejor combinación de parámetros:\")\n",
    "clf_over.fit(X_over,y_over)\n",
    "print(clf_over.best_params_)\n",
    "\n",
    "y_pred = clf_over.predict(X_test)\n",
    "\n",
    "print(classification_report(y_test, y_pred))"
   ]
  },
  {
   "cell_type": "markdown",
   "metadata": {
    "pycharm": {
     "name": "#%% md\n"
    }
   },
   "source": [
    "Se repite el entrenamiento, omitiendo todos los atributos cuya correlación con 'is_recid' esté entre $-0.1$ y $0.1$."
   ]
  },
  {
   "cell_type": "code",
   "execution_count": 47,
   "metadata": {
    "pycharm": {
     "name": "#%%\n"
    }
   },
   "outputs": [
    {
     "name": "stdout",
     "output_type": "stream",
     "text": [
      " ORG Mejor combinación de parámetros:\n",
      "{'criterion': 'gini', 'max_depth': 9, 'min_samples_leaf': 9, 'min_samples_split': 11}\n",
      "              precision    recall  f1-score   support\n",
      "\n",
      "           0       0.73      0.85      0.79      2195\n",
      "           1       0.57      0.38      0.45      1104\n",
      "\n",
      "    accuracy                           0.69      3299\n",
      "   macro avg       0.65      0.62      0.62      3299\n",
      "weighted avg       0.68      0.69      0.68      3299\n",
      "\n"
     ]
    }
   ],
   "source": [
    "peoplemejor3=people.copy()\n",
    "peoplemejor3['race'] = np.where(peoplemejor3['race']=='African-American',1,0)\n",
    "peoplemejor3['sex'] = np.where(peoplemejor3['sex']=='Male',1,0)\n",
    "peoplemejor3 = peoplemejor3[peoplemejor3.columns[0:-9]].drop(columns=[\"age\", \"sex\", \"c_charge_degree\", \"c_offense_date\", \"c_days_from_compas\", \"days_b_screening_arrest\", \"c_jail_out\", \"c_jail_in\", \"juv_fel_count\"])\n",
    "\n",
    "###separamos valores\n",
    "X_train, X_test, y_train, y_test = train_test_split(peoplemejor3, peoplemejor3['is_recid'], test_size=.30,\n",
    "                                                          random_state=15, stratify=peoplemejor3['is_recid'])\n",
    "##subsampleamos\n",
    "X_train = X_train.reset_index(drop=True)\n",
    "idx = np.random.choice(X_train.loc[X_train.is_recid == 0].index, size=2545, replace=False)\n",
    "data_subsampled = X_train.drop(X_train.iloc[idx].index)\n",
    "##Oversampleamos\n",
    "idx = np.random.choice(X_train[X_train['is_recid'] == 1].index, size=2545)\n",
    "data_oversampled = X_train.drop(X_train.iloc[idx].index)\n",
    "### dejamos los datos para trabajar\n",
    "y_test = X_test.is_recid\n",
    "X_test = X_test.drop(columns=['is_recid'])\n",
    "y_orig =X_train.is_recid\n",
    "X_orig = X_train.drop(columns=['is_recid'])\n",
    "y_subs=data_subsampled.is_recid\n",
    "X_subs=data_subsampled.drop(columns=['is_recid'])\n",
    "y_over=data_oversampled.is_recid\n",
    "X_over=data_oversampled.drop(columns=['is_recid'])\n",
    "\n",
    "### modelo del original\n",
    "clf_org = GridSearchCV(DecisionTreeClassifier(),\n",
    "                       param_grid=tuned_parameters,\n",
    "                       cv=5,\n",
    "                       scoring=score)\n",
    "print(\" ORG Mejor combinación de parámetros:\")\n",
    "clf_org.fit(X_orig,y_orig)\n",
    "print(clf_org.best_params_)\n",
    "\n",
    "y_pred = clf_org.predict(X_test)\n",
    "\n",
    "print(classification_report(y_test, y_pred))"
   ]
  },
  {
   "cell_type": "code",
   "execution_count": 48,
   "metadata": {
    "pycharm": {
     "name": "#%%\n"
    }
   },
   "outputs": [
    {
     "name": "stdout",
     "output_type": "stream",
     "text": [
      " SUB Mejor combinación de parámetros:\n",
      "{'criterion': 'gini', 'max_depth': 1, 'min_samples_leaf': 1, 'min_samples_split': 2}\n",
      "              precision    recall  f1-score   support\n",
      "\n",
      "           0       0.82      0.43      0.57      2195\n",
      "           1       0.42      0.80      0.55      1104\n",
      "\n",
      "    accuracy                           0.56      3299\n",
      "   macro avg       0.62      0.62      0.56      3299\n",
      "weighted avg       0.68      0.56      0.56      3299\n",
      "\n"
     ]
    }
   ],
   "source": [
    "### modelo subsampling\n",
    "clf_sub = GridSearchCV(DecisionTreeClassifier(),\n",
    "                       param_grid=tuned_parameters,\n",
    "                       cv=5,\n",
    "                       scoring=score)\n",
    "print(\" SUB Mejor combinación de parámetros:\")\n",
    "clf_sub.fit(X_subs,y_subs)\n",
    "print(clf_sub.best_params_)\n",
    "\n",
    "y_pred = clf_sub.predict(X_test)\n",
    "\n",
    "print(classification_report(y_test, y_pred))"
   ]
  },
  {
   "cell_type": "code",
   "execution_count": 49,
   "metadata": {
    "pycharm": {
     "name": "#%%\n"
    }
   },
   "outputs": [
    {
     "name": "stdout",
     "output_type": "stream",
     "text": [
      " OVER Mejor combinación de parámetros:\n",
      "{'criterion': 'gini', 'max_depth': 10, 'min_samples_leaf': 5, 'min_samples_split': 10}\n",
      "              precision    recall  f1-score   support\n",
      "\n",
      "           0       0.68      0.94      0.79      2195\n",
      "           1       0.54      0.13      0.21      1104\n",
      "\n",
      "    accuracy                           0.67      3299\n",
      "   macro avg       0.61      0.54      0.50      3299\n",
      "weighted avg       0.63      0.67      0.60      3299\n",
      "\n"
     ]
    }
   ],
   "source": [
    "### modelo oversampling\n",
    "clf_over = GridSearchCV(DecisionTreeClassifier(),\n",
    "                        param_grid=tuned_parameters,\n",
    "                        cv=5,\n",
    "                        scoring=score)\n",
    "print(\" OVER Mejor combinación de parámetros:\")\n",
    "clf_over.fit(X_over,y_over)\n",
    "print(clf_over.best_params_)\n",
    "\n",
    "y_pred = clf_over.predict(X_test)\n",
    "\n",
    "print(classification_report(y_test, y_pred))"
   ]
  },
  {
   "cell_type": "markdown",
   "metadata": {
    "pycharm": {
     "name": "#%% md\n"
    }
   },
   "source": [
    "Al incluir el atributo 'race' y utilizar Decision Trees no se obtuvieron resultados mejores. De hecho, los casos sobresalientes mencionados anteriormente se repiten.\n",
    "La mejor Accuracy fue de $0.71$, la cual se obtuvo utilizando Decision Tree y dejando de lado los atributos 'days_b_screening_arrest', 'c_days_from_compas' y 'c_charge_degree'.\n",
    "\n",
    "Volviendo a la pregunta propuesta: **¿Qué características describen mejor un factor de reincidencia?**\n",
    "Con los entrenamientos realizados *si se podría* dar una respuesta a esta pregunta. Se puede decir que estos factores son aquellos atributos que estuvieron presentes en todos los entrenamientos, o aquellos presentes en el entrenamiento con mejor Accuracy. Sin embargo esto no sería lo más correcto.\n",
    "\n",
    "Recordar que solo se obtuvo una Accuracy de a lo más $0.71$, la cual no consideramos como un valor lo suficientemente alto para afirmar que aquellos atributos encontrados describen en buena manera el factor de reincidencia.\n",
    "\n",
    "Estas características que describen mejor un factor de reincidencia existen, pero no con una influencia que nos permita asegurar que, conociendo estas, se pueda estimar con seguridad la reincidencia de un individuo."
   ]
  },
  {
   "cell_type": "markdown",
   "metadata": {},
   "source": [
    "### Pregunta 2\n"
   ]
  },
  {
   "cell_type": "code",
   "execution_count": null,
   "metadata": {
    "pycharm": {
     "name": "#%%\n"
    }
   },
   "outputs": [],
   "source": [
    "\n",
    "def get_best_features(df, target):\n",
    "    n_of_features = np.arange(1, df.shape[1]+1)\n",
    "    high_score = 0\n",
    "    nof = 0\n",
    "    score_list = []\n",
    "    for n in n_of_features:\n",
    "        X_train, X_test, y_train, y_test = train_test_split(df, target, test_size = 0.3, random_state = 0)\n",
    "        model = LinearRegression()\n",
    "        rfe = RFE(model, n_features_to_select=n)\n",
    "        X_train_rfe = rfe.fit_transform(X_train, y_train)\n",
    "        X_test_rfe = rfe.transform(X_test)\n",
    "        model.fit(X_train_rfe, y_train)\n",
    "        score = model.score(X_test_rfe, y_test)\n",
    "        score_list.append(score)\n",
    "        if(score>high_score):\n",
    "            high_score = score\n",
    "            nof = n\n",
    "    return nof, high_score, score_list"
   ]
  },
  {
   "cell_type": "markdown",
   "metadata": {
    "pycharm": {
     "name": "#%% md\n"
    }
   },
   "source": [
    "#### Tabla `casearrest`"
   ]
  },
  {
   "cell_type": "code",
   "execution_count": null,
   "metadata": {
    "pycharm": {
     "name": "#%%\n"
    }
   },
   "outputs": [
    {
     "name": "stdout",
     "output_type": "stream",
     "text": [
      "Casearrest:\n",
      "N of features: 3\n",
      "High score: 0.012440693217863563\n",
      "Score list: [0.008050461031538392, 0.012089443432227287, 0.012440693217863563]\n"
     ]
    }
   ],
   "source": [
    "import seaborn as sns\n",
    "\n",
    "\n",
    "\n",
    "casearrest_X = casearrest.drop(['decile_score'], axis='columns')\n",
    "casearrest_y = casearrest['decile_score']\n",
    "nof, high_score, score_list = get_best_features(casearrest_X, casearrest_y)\n",
    "print('Casearrest:')\n",
    "print('N of features:', nof)\n",
    "print('High score:', high_score)\n",
    "print('Score list:', score_list)\n",
    "\n",
    "# son todas, asi que da igual"
   ]
  },
  {
   "cell_type": "markdown",
   "metadata": {},
   "source": [
    "#### Tabla `jailhistory`"
   ]
  },
  {
   "cell_type": "code",
   "execution_count": 1,
   "metadata": {
    "pycharm": {
     "name": "#%%\n"
    }
   },
   "outputs": [
    {
     "ename": "NameError",
     "evalue": "name 'jailhistory' is not defined",
     "output_type": "error",
     "traceback": [
      "\u001b[1;31m---------------------------------------------------------------------------\u001b[0m",
      "\u001b[1;31mNameError\u001b[0m                                 Traceback (most recent call last)",
      "\u001b[1;32m<ipython-input-1-0951bf722cb5>\u001b[0m in \u001b[0;36m<module>\u001b[1;34m\u001b[0m\n\u001b[1;32m----> 1\u001b[1;33m \u001b[0mjailhistory_X\u001b[0m \u001b[1;33m=\u001b[0m \u001b[0mjailhistory\u001b[0m\u001b[1;33m.\u001b[0m\u001b[0mdrop\u001b[0m\u001b[1;33m(\u001b[0m\u001b[1;33m[\u001b[0m\u001b[1;34m'decile_score'\u001b[0m\u001b[1;33m]\u001b[0m\u001b[1;33m,\u001b[0m \u001b[0maxis\u001b[0m\u001b[1;33m=\u001b[0m\u001b[1;34m'columns'\u001b[0m\u001b[1;33m)\u001b[0m\u001b[1;33m\u001b[0m\u001b[1;33m\u001b[0m\u001b[0m\n\u001b[0m\u001b[0;32m      2\u001b[0m \u001b[0mjailhistory_y\u001b[0m \u001b[1;33m=\u001b[0m \u001b[0mjailhistory\u001b[0m\u001b[1;33m[\u001b[0m\u001b[1;34m'decile_score'\u001b[0m\u001b[1;33m]\u001b[0m\u001b[1;33m\u001b[0m\u001b[1;33m\u001b[0m\u001b[0m\n\u001b[0;32m      3\u001b[0m \u001b[0mnof\u001b[0m\u001b[1;33m,\u001b[0m \u001b[0mhigh_score\u001b[0m\u001b[1;33m,\u001b[0m \u001b[0mscore_list\u001b[0m \u001b[1;33m=\u001b[0m \u001b[0mget_best_features\u001b[0m\u001b[1;33m(\u001b[0m\u001b[0mjailhistory_X\u001b[0m\u001b[1;33m,\u001b[0m \u001b[0mjailhistory_y\u001b[0m\u001b[1;33m)\u001b[0m\u001b[1;33m\u001b[0m\u001b[1;33m\u001b[0m\u001b[0m\n\u001b[0;32m      4\u001b[0m \u001b[0mprint\u001b[0m\u001b[1;33m(\u001b[0m\u001b[1;34m'jailhistory:'\u001b[0m\u001b[1;33m)\u001b[0m\u001b[1;33m\u001b[0m\u001b[1;33m\u001b[0m\u001b[0m\n\u001b[0;32m      5\u001b[0m \u001b[0mprint\u001b[0m\u001b[1;33m(\u001b[0m\u001b[1;34m'N of features:'\u001b[0m\u001b[1;33m,\u001b[0m \u001b[0mnof\u001b[0m\u001b[1;33m)\u001b[0m\u001b[1;33m\u001b[0m\u001b[1;33m\u001b[0m\u001b[0m\n",
      "\u001b[1;31mNameError\u001b[0m: name 'jailhistory' is not defined"
     ]
    }
   ],
   "source": [
    "jailhistory_X = jailhistory.drop(['decile_score'], axis='columns')\n",
    "jailhistory_y = jailhistory['decile_score']\n",
    "nof, high_score, score_list = get_best_features(jailhistory_X, jailhistory_y)\n",
    "print('jailhistory:')\n",
    "print('N of features:', nof)\n",
    "print('High score:', high_score)\n",
    "print('Score list:', score_list)\n",
    "\n",
    "# son todas, asi que da igual\n"
   ]
  },
  {
   "cell_type": "markdown",
   "metadata": {},
   "source": [
    "#### Tabla `people`"
   ]
  },
  {
   "cell_type": "code",
   "execution_count": null,
   "metadata": {
    "pycharm": {
     "name": "#%%\n"
    }
   },
   "outputs": [
    {
     "name": "stdout",
     "output_type": "stream",
     "text": [
      "people:\n",
      "N of features: 20\n",
      "High score: 0.4482377264724221\n",
      "Score list: [-0.002203948720679083, 0.05160922465324713, 0.05484143558045085, 0.05655485210824196, 0.19831525083241386, 0.21585304056185683, 0.25488964016135207, 0.2955923588089835, 0.29608313107840334, 0.296107486768994, 0.30004315375235524, 0.3151062780841979, 0.315586353006027, 0.3230720009696194, 0.3227224393952839, 0.32242680988628114, 0.44768425608525864, 0.4476842560859339, 0.4480347641424699, 0.4482377264724221]\n"
     ]
    }
   ],
   "source": [
    "people_filter = people[people.columns[0:-9]].drop(columns=['age'])\n",
    "people_filter.head()\n",
    "df_race = pd.get_dummies(people_filter['race'], prefix='race', prefix_sep='_')\n",
    "df_sex = pd.get_dummies(people_filter['sex'], prefix='sex',\n",
    "                        prefix_sep='_', drop_first=True)\n",
    "\n",
    "people_filter = pd.concat([people_filter, df_race, df_sex], axis=1).drop('sex', axis=1).drop('race', axis=1)\n",
    "people_filter.head()\n",
    "people_X = people_filter.drop(['decile_score'], axis='columns')\n",
    "people_y = people_filter['decile_score']\n",
    "nof, high_score, score_list = get_best_features(people_X, people_y)\n",
    "print('people:')\n",
    "print('N of features:', nof)\n",
    "print('High score:', high_score)\n",
    "print('Score list:', score_list)\n",
    "\n",
    "# son todas, asi que da igual"
   ]
  },
  {
   "cell_type": "markdown",
   "metadata": {},
   "source": [
    "#### Tabla `prisonhistory`"
   ]
  },
  {
   "cell_type": "code",
   "execution_count": null,
   "metadata": {
    "pycharm": {
     "name": "#%%\n"
    }
   },
   "outputs": [
    {
     "name": "stdout",
     "output_type": "stream",
     "text": [
      "prisonhistory:\n",
      "N of features: 3\n",
      "High score: 0.0885879841366789\n",
      "Score list: [-0.006326693289959051, -0.008560941503100494, 0.0885879841366789]\n"
     ]
    }
   ],
   "source": [
    "prisonhistory_X = prisonhistory.drop(['decile_score'], axis='columns')\n",
    "prisonhistory_y = prisonhistory['decile_score']\n",
    "nof, high_score, score_list = get_best_features(prisonhistory_X, prisonhistory_y)\n",
    "print('prisonhistory:')\n",
    "print('N of features:', nof)\n",
    "print('High score:', high_score)\n",
    "print('Score list:', score_list)\n",
    "\n",
    "# son todas, asi que da igual"
   ]
  },
  {
   "cell_type": "markdown",
   "metadata": {},
   "source": [
    "#### Tabla `charge`"
   ]
  },
  {
   "cell_type": "code",
   "execution_count": null,
   "metadata": {
    "pycharm": {
     "name": "#%%\n"
    }
   },
   "outputs": [
    {
     "name": "stdout",
     "output_type": "stream",
     "text": [
      "charge:\n",
      "N of features: 5\n",
      "High score: 0.05176000243535828\n",
      "Score list: [0.012744096442611985, 0.012840579721098533, 0.04289828847293886, 0.05066701750574043, 0.05176000243535828]\n"
     ]
    }
   ],
   "source": [
    "charge_X = charge.drop(['decile_score'], axis='columns')\n",
    "charge_y = charge['decile_score']\n",
    "nof, high_score, score_list = get_best_features(charge_X, charge_y)\n",
    "print('charge:')\n",
    "print('N of features:', nof)\n",
    "print('High score:', high_score)\n",
    "print('Score list:', score_list)\n",
    "\n",
    "# son todas, asi que da igual"
   ]
  },
  {
   "cell_type": "markdown",
   "metadata": {},
   "source": [
    "Se nota que para todas las tablas el \"N of features\" corresponde al numero de atributos que tiene la tabla, por lo que todos los atributos en todas las tablas son relevantes para un mejor reconocimiento del decile_score, juzgando a partir de una regresión lineal.\n",
    "\n",
    "#### Modelo para predecir decile_scores\n",
    "\n",
    "Utilizando la tabla people se intentará buscar modelos de KMeans y DecisionTree con los datos originales y subsampleados para ver que tan predecible es el decile_score, se usará unicamente la tabla people puesto que su puntaje de $R^{2}$ fue mucho más alto que para las otras tablas."
   ]
  },
  {
   "cell_type": "code",
   "execution_count": null,
   "metadata": {
    "pycharm": {
     "name": "#%%\n"
    }
   },
   "outputs": [
    {
     "name": "stdout",
     "output_type": "stream",
     "text": [
      " ORIG Mejor combinación de parámetros:\n",
      "{'n_neighbors': 7, 'weights': 'distance'}\n",
      "              precision    recall  f1-score   support\n",
      "\n",
      "           1       0.49      0.59      0.54       709\n",
      "           2       0.24      0.26      0.25       442\n",
      "           3       0.17      0.16      0.17       348\n",
      "           4       0.16      0.17      0.17       337\n",
      "           5       0.13      0.12      0.12       294\n",
      "           6       0.12      0.10      0.11       282\n",
      "           7       0.12      0.11      0.11       259\n",
      "           8       0.10      0.09      0.09       227\n",
      "           9       0.14      0.12      0.13       228\n",
      "          10       0.15      0.13      0.14       173\n",
      "\n",
      "    accuracy                           0.24      3299\n",
      "   macro avg       0.18      0.18      0.18      3299\n",
      "weighted avg       0.23      0.24      0.24      3299\n",
      "\n"
     ]
    }
   ],
   "source": [
    "# Parámetros a utilizar en GridSearch\n",
    "tuned_parameters = {'n_neighbors': [2, 3, 4, 5, 6, 7, 8, 9, 10],\n",
    "                    'weights': ['uniform','distance']}\n",
    "\n",
    "###separamos valores\n",
    "data_train, data_test, y_train, y_test = train_test_split(people_filter, people_filter['decile_score'], test_size=.30,\n",
    "                                                    random_state=15, stratify=people_filter['decile_score'])\n",
    "\n",
    "\n",
    "### dejamos los datos para trabajar\n",
    "y_test = data_test.decile_score\n",
    "X_test = data_test.drop(columns=['decile_score'])\n",
    "y_orig = data_train.decile_score\n",
    "X_orig = data_train.drop(columns=['decile_score'])\n",
    "\n",
    "\n",
    "### modelo del original\n",
    "clf_org = GridSearchCV(KNeighborsClassifier(),\n",
    "                       param_grid=tuned_parameters,\n",
    "                       cv=5,\n",
    "                       scoring=\"f1_macro\")\n",
    "print(\" ORIG Mejor combinación de parámetros:\")\n",
    "clf_org.fit(X_orig,y_orig)\n",
    "print(clf_org.best_params_)\n",
    "\n",
    "y_pred = clf_org.predict(X_test)\n",
    "\n",
    "print(classification_report(y_test, y_pred))"
   ]
  },
  {
   "cell_type": "code",
   "execution_count": null,
   "metadata": {
    "pycharm": {
     "name": "#%%\n"
    }
   },
   "outputs": [],
   "source": [
    "tuned_parameters = {'max_depth': [1, 2, 3, 4, 5, 6, 7, 8, 9, 10],\n",
    "                    'min_samples_leaf': [1, 2, 3, 4, 5, 6, 7, 8, 9, 10],\n",
    "                    'min_samples_split': [2, 3, 4, 5, 6, 7, 8, 9, 10, 11, 12, 13, 14, 15],\n",
    "                    'criterion': ['gini','entropy']}"
   ]
  },
  {
   "cell_type": "code",
   "execution_count": null,
   "metadata": {
    "pycharm": {
     "name": "#%%\n"
    }
   },
   "outputs": [
    {
     "name": "stdout",
     "output_type": "stream",
     "text": [
      " ORIG Mejor combinación de parámetros:\n",
      "{'criterion': 'gini', 'max_depth': 8, 'min_samples_leaf': 8, 'min_samples_split': 12}\n",
      "              precision    recall  f1-score   support\n",
      "\n",
      "           1       0.54      0.81      0.65       709\n",
      "           2       0.25      0.35      0.29       442\n",
      "           3       0.20      0.12      0.15       348\n",
      "           4       0.19      0.20      0.19       337\n",
      "           5       0.15      0.14      0.14       294\n",
      "           6       0.13      0.09      0.11       282\n",
      "           7       0.16      0.11      0.13       259\n",
      "           8       0.18      0.13      0.15       227\n",
      "           9       0.20      0.12      0.15       228\n",
      "          10       0.25      0.16      0.20       173\n",
      "\n",
      "    accuracy                           0.31      3299\n",
      "   macro avg       0.23      0.22      0.22      3299\n",
      "weighted avg       0.27      0.31      0.28      3299\n",
      "\n"
     ]
    }
   ],
   "source": [
    "clf_org = GridSearchCV(DecisionTreeClassifier(),\n",
    "                       param_grid=tuned_parameters,\n",
    "                       cv=5,\n",
    "                       scoring=\"f1_macro\")\n",
    "print(\" ORIG Mejor combinación de parámetros:\")\n",
    "clf_org.fit(X_orig,y_orig)\n",
    "print(clf_org.best_params_)\n",
    "\n",
    "y_pred = clf_org.predict(X_test)\n",
    "\n",
    "print(classification_report(y_test, y_pred))"
   ]
  },
  {
   "cell_type": "markdown",
   "metadata": {},
   "source": [
    "Usando los datos orignales se puede encontar que la mejor accuracy que se logró fue del $0.31$ usando DecisionTree"
   ]
  },
  {
   "cell_type": "code",
   "execution_count": 7,
   "metadata": {
    "pycharm": {
     "name": "#%%\n"
    }
   },
   "outputs": [],
   "source": [
    "data_train = data_train.reset_index(drop=True)\n",
    "data_subsampled = data_train[data_train.decile_score == 10]\n",
    "for i in range(1,10):\n",
    "    idx = np.random.choice(data_train.loc[data_train['decile_score'] == i].index, size=404, replace=False)\n",
    "    data_subsampled = pd.concat([data_subsampled,  data_train.iloc[idx]])"
   ]
  },
  {
   "cell_type": "code",
   "execution_count": null,
   "metadata": {
    "pycharm": {
     "name": "#%%\n"
    }
   },
   "outputs": [
    {
     "name": "stdout",
     "output_type": "stream",
     "text": [
      " SUB Mejor combinación de parámetros:\n",
      "{'n_neighbors': 9, 'weights': 'distance'}\n",
      "              precision    recall  f1-score   support\n",
      "\n",
      "           1       0.57      0.41      0.48       709\n",
      "           2       0.20      0.20      0.20       442\n",
      "           3       0.14      0.15      0.15       348\n",
      "           4       0.14      0.15      0.15       337\n",
      "           5       0.12      0.12      0.12       294\n",
      "           6       0.12      0.13      0.13       282\n",
      "           7       0.11      0.11      0.11       259\n",
      "           8       0.09      0.11      0.10       227\n",
      "           9       0.14      0.14      0.14       228\n",
      "          10       0.15      0.21      0.18       173\n",
      "\n",
      "    accuracy                           0.21      3299\n",
      "   macro avg       0.18      0.17      0.17      3299\n",
      "weighted avg       0.23      0.21      0.22      3299\n",
      "\n"
     ]
    }
   ],
   "source": [
    "# Parámetros a utilizar en GridSearch\n",
    "tuned_parameters = {'n_neighbors': [2, 3, 4, 5, 6, 7, 8, 9, 10],\n",
    "                    'weights': ['uniform','distance']}\n",
    "\n",
    "### dejamos los datos para trabajar\n",
    "y_test = data_test.decile_score\n",
    "X_test = data_test.drop(columns=['decile_score'])\n",
    "y_sub = data_subsampled.decile_score\n",
    "X_sub = data_subsampled.drop(columns=['decile_score'])\n",
    "\n",
    "\n",
    "### modelo del original\n",
    "clf_sub = GridSearchCV(KNeighborsClassifier(),\n",
    "                       param_grid=tuned_parameters,\n",
    "                       cv=5,\n",
    "                       scoring=\"f1_macro\")\n",
    "print(\" SUB Mejor combinación de parámetros:\")\n",
    "clf_sub.fit(X_sub,y_sub)\n",
    "print(clf_sub.best_params_)\n",
    "\n",
    "y_pred = clf_sub.predict(X_test)\n",
    "\n",
    "print(classification_report(y_test, y_pred))"
   ]
  },
  {
   "cell_type": "code",
   "execution_count": 6,
   "metadata": {
    "pycharm": {
     "name": "#%%\n"
    }
   },
   "outputs": [
    {
     "ename": "NameError",
     "evalue": "name 'data_subsampled' is not defined",
     "output_type": "error",
     "traceback": [
      "\u001b[1;31m---------------------------------------------------------------------------\u001b[0m",
      "\u001b[1;31mNameError\u001b[0m                                 Traceback (most recent call last)",
      "\u001b[1;32m<ipython-input-6-3e8eeff2875e>\u001b[0m in \u001b[0;36m<module>\u001b[1;34m\u001b[0m\n\u001b[0;32m      7\u001b[0m \u001b[0my_test\u001b[0m \u001b[1;33m=\u001b[0m \u001b[0mdata_test\u001b[0m\u001b[1;33m.\u001b[0m\u001b[0mdecile_score\u001b[0m\u001b[1;33m\u001b[0m\u001b[1;33m\u001b[0m\u001b[0m\n\u001b[0;32m      8\u001b[0m \u001b[0mX_test\u001b[0m \u001b[1;33m=\u001b[0m \u001b[0mdata_test\u001b[0m\u001b[1;33m.\u001b[0m\u001b[0mdrop\u001b[0m\u001b[1;33m(\u001b[0m\u001b[0mcolumns\u001b[0m\u001b[1;33m=\u001b[0m\u001b[1;33m[\u001b[0m\u001b[1;34m'decile_score'\u001b[0m\u001b[1;33m]\u001b[0m\u001b[1;33m)\u001b[0m\u001b[1;33m\u001b[0m\u001b[1;33m\u001b[0m\u001b[0m\n\u001b[1;32m----> 9\u001b[1;33m \u001b[0my_sub\u001b[0m \u001b[1;33m=\u001b[0m \u001b[0mdata_subsampled\u001b[0m\u001b[1;33m.\u001b[0m\u001b[0mdecile_score\u001b[0m\u001b[1;33m\u001b[0m\u001b[1;33m\u001b[0m\u001b[0m\n\u001b[0m\u001b[0;32m     10\u001b[0m \u001b[0mX_sub\u001b[0m \u001b[1;33m=\u001b[0m \u001b[0mdata_subsampled\u001b[0m\u001b[1;33m.\u001b[0m\u001b[0mdrop\u001b[0m\u001b[1;33m(\u001b[0m\u001b[0mcolumns\u001b[0m\u001b[1;33m=\u001b[0m\u001b[1;33m[\u001b[0m\u001b[1;34m'decile_score'\u001b[0m\u001b[1;33m]\u001b[0m\u001b[1;33m)\u001b[0m\u001b[1;33m\u001b[0m\u001b[1;33m\u001b[0m\u001b[0m\n\u001b[0;32m     11\u001b[0m \u001b[1;33m\u001b[0m\u001b[0m\n",
      "\u001b[1;31mNameError\u001b[0m: name 'data_subsampled' is not defined"
     ]
    }
   ],
   "source": [
    "tuned_parameters = {'max_depth': [1, 2, 3, 4, 5, 6, 7, 8, 9, 10],\n",
    "                    'min_samples_leaf': [1, 2, 3, 4, 5, 6, 7, 8, 9, 10],\n",
    "                    'min_samples_split': [2, 3, 4, 5, 6, 7, 8, 9, 10, 11, 12, 13, 14, 15],\n",
    "                    'criterion': ['gini','entropy']}\n",
    "\n",
    "### dejamos los datos para trabajar\n",
    "y_test = data_test.decile_score\n",
    "X_test = data_test.drop(columns=['decile_score'])\n",
    "y_sub = data_subsampled.decile_score\n",
    "X_sub = data_subsampled.drop(columns=['decile_score'])\n",
    "\n",
    "\n",
    "### modelo del original\n",
    "clf_sub = GridSearchCV(DecisionTreeClassifier(),\n",
    "                       param_grid=tuned_parameters,\n",
    "                       cv=5,\n",
    "                       scoring=\"f1_macro\")\n",
    "print(\" SUB Mejor combinación de parámetros:\")\n",
    "clf_sub.fit(X_sub,y_sub)\n",
    "print(clf_sub.best_params_)\n",
    "\n",
    "y_pred = clf_sub.predict(X_test)\n",
    "\n",
    "print(classification_report(y_test, y_pred))"
   ]
  },
  {
   "cell_type": "code",
   "execution_count": 8,
   "metadata": {},
   "outputs": [
    {
     "name": "stdout",
     "output_type": "stream",
     "text": [
      " ORIG Mejor combinación de parámetros:\n"
     ]
    }
   ],
   "source": [
    "people_filter2 = people[people.columns[0:-9]].drop(columns=['age', 'race'])\n",
    "df_sex = pd.get_dummies(people_filter2['sex'], prefix='sex',\n",
    "                        prefix_sep='_', drop_first=True)\n",
    "people_filter2 = pd.concat([people_filter2, df_sex], axis=1).drop('sex', axis=1)\n",
    "\n",
    "###separamos valores\n",
    "data_train, data_test, y_train, y_test = train_test_split(people_filter2, people_filter2['decile_score'], test_size=.30,\n",
    "                                                    random_state=15, stratify=people_filter2['decile_score'])\n",
    "\n",
    "data_train = data_train.reset_index(drop=True)\n",
    "data_subsampled = data_train[data_train.decile_score == 10]\n",
    "for i in range(1,10):\n",
    "    idx = np.random.choice(data_train.loc[data_train['decile_score'] == i].index, size=404, replace=False)\n",
    "    data_subsampled = pd.concat([data_subsampled,  data_train.iloc[idx]])\n",
    "\n",
    "### dejamos los datos para trabajar\n",
    "y_test = data_test.decile_score\n",
    "X_test = data_test.drop(columns=['decile_score'])\n",
    "y_orig = data_train.decile_score\n",
    "X_orig = data_train.drop(columns=['decile_score'])\n",
    "\n",
    "\n",
    "### modelo del original\n",
    "clf_org = GridSearchCV(DecisionTreeClassifier(),\n",
    "                       param_grid=tuned_parameters,\n",
    "                       cv=5,\n",
    "                       scoring=\"f1_macro\")\n",
    "print(\" ORIG Mejor combinación de parámetros:\")\n",
    "clf_org.fit(X_orig,y_orig)\n",
    "print(clf_org.best_params_)\n",
    "\n",
    "y_pred = clf_org.predict(X_test)\n",
    "\n",
    "print(classification_report(y_test, y_pred))"
   ]
  },
  {
   "cell_type": "markdown",
   "metadata": {},
   "source": [
    "Usando los datos subsampleados se obtiene una accuracy de a lo más $0.26$, usando de nuevo DecisionTree. Por lo que se obtiene que usando un modelo relativamente basico se puede lograr acertar a el decile_score que COMPAS asigna a un individuo entre el 26% y 31% de las veces, lo que es considerablemente más alto que el azar. Consideramos esto como un buen resultado considerando la baja cantidad de datos relativa a la cantidad de clases que posee decile_score y el desbalance en la cantidad de población de cada nivel de este.\n",
    "\n",
    "Volviendo entonces a la pregunta: **Con los datos que se tienen ¿Qué tan bien se puede (predecir/agrupar/clasificar) el decile_score?** llegamos a la conclusión que si bien no se puede clasificar el decile_score con un nivel de precisión util, el nivel alcanzado es bastante mejor que el azar, por lo que ciertamente se ha encontrado una relación entre los datos y el algoritmo de COMPAS para asignar puntaje de deciles, pero se estima que faltan datos para lograr obtener una imagen clara de como COMPAS calcula este."
   ]
  },
  {
   "cell_type": "markdown",
   "metadata": {},
   "source": [
    "### Pregunta 3\n"
   ]
  },
  {
   "cell_type": "markdown",
   "metadata": {},
   "source": [
    "### Pregunta 4\n"
   ]
  },
  {
   "cell_type": "markdown",
   "metadata": {
    "pycharm": {
     "name": "#%% md\n"
    }
   },
   "source": [
    "## Contribuciones\n",
    "-   Vicente González: Redactó y planifico la propuesta experimental.\n",
    "-   Rodrigo Iturrieta: Realizó la respuesta preliminar a la pregunta 1.\n",
    "-   Pablo Jaramillo: Corrigió los fallos del hito 1 con respecto a la exploración de datos e hizo preprocesamiento de los datos.\n",
    "-   Cristián Lillo: Creó la presentación.\n",
    "-   Benjamin Valenzuela: Ayudó a la planificación de la propuesta experimental, asi como en la presentación."
   ]
  }
 ],
 "metadata": {
  "kernelspec": {
   "display_name": "Python 3.8.8 ('py38')",
   "language": "python",
   "name": "python3"
  },
  "language_info": {
   "codemirror_mode": {
    "name": "ipython",
    "version": 3
   },
   "file_extension": ".py",
   "mimetype": "text/x-python",
   "name": "python",
   "nbconvert_exporter": "python",
   "pygments_lexer": "ipython3",
   "version": "3.8.8"
  },
  "vscode": {
   "interpreter": {
    "hash": "23ceb7112fbf9d0e38ecbf60d6e6d5e2dcebcc82200eeb1e5a5d5f9ffb9e27ca"
   }
  }
 },
 "nbformat": 4,
 "nbformat_minor": 0
}
