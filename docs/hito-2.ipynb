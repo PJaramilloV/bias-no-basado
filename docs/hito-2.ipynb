{
 "cells": [
  {
   "cell_type": "markdown",
   "source": [
    "# Hito 2 Grupo 8\n",
    "Integrantes:\n",
    "- Vicente González\n",
    "- Rodrigo Iturrieta\n",
    "- Pablo Jaramillo\n",
    "- Cristian Lillo\n",
    "- Benjamín Valenzuela\n",
    "\n",
    "## Material\n",
    "\n",
    "- Repositorio: [https://github.com/propublica/compas-analysis](https://github.com/propublica/compas-analysis)\n",
    "- Video: [https://drive.google.com/file/d/1TNpHXC2bTTwXfvSc1zU21SxwGIv-3yGU/view?usp=sharing](https://drive.google.com/file/d/1TNpHXC2bTTwXfvSc1zU21SxwGIv-3yGU/view?usp=sharing)\n",
    "\n",
    "\n",
    "## Introducción\n",
    "\n",
    "Durante la última década, la sociedad moderna ha estado expuesta a un periodo de disconformidad y crisis. Múltiples protestas han ocurrido a lo largo del mundo, donde se evidencian malestares en temas de discriminación, igualdad y justicia.\n",
    "\n",
    "Uno de estos movimientos es el de Black Lives Matter, donde la población afroamericana de Estados Unidos ha dejado claro que existe, a dia de hoy, un trato desigual debido a la etnia de la persona, donde se mostró al mundo entero un sistema que los desfavorecía enormemente o directamente no esperaban nada de ellos.\n",
    "\n",
    "La motivación del equipo nace a raíz de estas problemáticas, donde, además, desde un punto de vista de *data mining*, salta a la vista la pregunta: ¿Se puede hacer un modelo que consiga evidenciar la discriminación en una base de datos?\n",
    "\n",
    "Particularmente, para abarcar esta problemática, se decidió dar enfoque al caso de estudio de COMPAS. En este, se encontró que el modelo predictivo **COMPAS** (Correctional Offender Management Profiling for Alternative Sanctions) otorgaba una evaluación de riesgo mayor a personas afroamericanas que al resto. Es decir, que el modelo \"discriminaba\" a ciertos grupos de personas basadas en su etnia, marcándolas como potencialmente más propensos a cometer un crimen.\n",
    "\n",
    "La idea central del proyecto es poder construir un modelo a partir de los datos de COMPAS, para poder evaluar la discriminación en la base de datos. Identificando, además los parámetros bajo los cuales COMPAS hace la discriminación.\n",
    "\n",
    "## Exploración de datos\n",
    "\n",
    "### Acercamiento inicial\n",
    "\n",
    "Primero cargamos los datos desde la base de datos de [COMPAS](https://github.com/propublica/compas-analysis). Esta contiene 7 tablas:\n",
    "\n",
    "1.  `casearrest`: Observaciones sobre los cargos de arrestos de forma sucinta y sin detalles sobre el cargo.\n",
    "2.  `charge`: Observaciones de cargos criminales/infracciones en detalle, la diferencia entre esta y la tabla `casearrest` es que en esta los cargos no se agrupan.\n",
    "3.  `compas`: Observaciones de evaluaciones de un cierto tipo de métrica de COMPAS.\n",
    "4.  `jailhistory`: Observaciones sobre el periodo carcelario de cada persona enviada a cárcel por el crimen que llevó a cabo el análisis de COMPAS. Solo se consideran periodos que tienen fin, las sentencias que continuaron después de la fecha de rescate de los datos están omitidos.\n",
    "5.  `people`: Cada observación es un resumen personal del historial de COMPAS del individuo. Notando nombre, edad, genero, etnia, crimen que llevó al análisis de COMPAS y en caso de existir, el crimen reincidente (o segundo crimen).\n",
    "6.  `prisonhistory`: Similar a la tabla de `jailhistory` pero es de datos que involucran periodo de prisión en lugar de cárcel.\n",
    "7.  `summary`: Esta no presenta datos útiles para la exploración de datos, por lo que se ha omitido."
   ],
   "metadata": {
    "collapsed": false,
    "pycharm": {
     "name": "#%% md\n"
    }
   }
  },
  {
   "cell_type": "code",
   "execution_count": 3,
   "metadata": {
    "collapsed": true,
    "pycharm": {
     "name": "#%%\n"
    }
   },
   "outputs": [
    {
     "data": {
      "text/plain": "   Unnamed: 0  id              name    case_number  arrest_id  \\\n0           1   1  aajah herrington  13005832CF10A    3026755   \n1           2   2  aajah herrington  13005832CF10A    3026756   \n2           3   3  aajah herrington  14007863MM10A    3144392   \n3           4   4      aaliyah lovo  13015312CF10A    3084831   \n4           5   5      aaliyah lovo  13015312CF10A    3084832   \n\n                  arrest_date charge_degree  days_since_compas_arrest  \\\n0  2013-04-23 00:00:00.000000          (F3)                         1   \n1  2013-04-23 00:00:00.000000          (M2)                         1   \n2  2014-05-13 00:00:00.000000          (M1)                      -384   \n3  2013-11-03 00:00:00.000000          (F2)                         1   \n4  2013-11-03 00:00:00.000000          (M1)                         1   \n\n   person_id  \n0        533  \n1        533  \n2        533  \n3        900  \n4        900  ",
      "text/html": "<div>\n<style scoped>\n    .dataframe tbody tr th:only-of-type {\n        vertical-align: middle;\n    }\n\n    .dataframe tbody tr th {\n        vertical-align: top;\n    }\n\n    .dataframe thead th {\n        text-align: right;\n    }\n</style>\n<table border=\"1\" class=\"dataframe\">\n  <thead>\n    <tr style=\"text-align: right;\">\n      <th></th>\n      <th>Unnamed: 0</th>\n      <th>id</th>\n      <th>name</th>\n      <th>case_number</th>\n      <th>arrest_id</th>\n      <th>arrest_date</th>\n      <th>charge_degree</th>\n      <th>days_since_compas_arrest</th>\n      <th>person_id</th>\n    </tr>\n  </thead>\n  <tbody>\n    <tr>\n      <th>0</th>\n      <td>1</td>\n      <td>1</td>\n      <td>aajah herrington</td>\n      <td>13005832CF10A</td>\n      <td>3026755</td>\n      <td>2013-04-23 00:00:00.000000</td>\n      <td>(F3)</td>\n      <td>1</td>\n      <td>533</td>\n    </tr>\n    <tr>\n      <th>1</th>\n      <td>2</td>\n      <td>2</td>\n      <td>aajah herrington</td>\n      <td>13005832CF10A</td>\n      <td>3026756</td>\n      <td>2013-04-23 00:00:00.000000</td>\n      <td>(M2)</td>\n      <td>1</td>\n      <td>533</td>\n    </tr>\n    <tr>\n      <th>2</th>\n      <td>3</td>\n      <td>3</td>\n      <td>aajah herrington</td>\n      <td>14007863MM10A</td>\n      <td>3144392</td>\n      <td>2014-05-13 00:00:00.000000</td>\n      <td>(M1)</td>\n      <td>-384</td>\n      <td>533</td>\n    </tr>\n    <tr>\n      <th>3</th>\n      <td>4</td>\n      <td>4</td>\n      <td>aaliyah lovo</td>\n      <td>13015312CF10A</td>\n      <td>3084831</td>\n      <td>2013-11-03 00:00:00.000000</td>\n      <td>(F2)</td>\n      <td>1</td>\n      <td>900</td>\n    </tr>\n    <tr>\n      <th>4</th>\n      <td>5</td>\n      <td>5</td>\n      <td>aaliyah lovo</td>\n      <td>13015312CF10A</td>\n      <td>3084832</td>\n      <td>2013-11-03 00:00:00.000000</td>\n      <td>(M1)</td>\n      <td>1</td>\n      <td>900</td>\n    </tr>\n  </tbody>\n</table>\n</div>"
     },
     "execution_count": 3,
     "metadata": {},
     "output_type": "execute_result"
    }
   ],
   "source": [
    "# Los datos cargados con R, los pasamos a csv, para luego leerlos con pandas\n",
    "import pandas as pd\n",
    "\n",
    "casearrest = pd.read_csv(\"../data/casearrest.csv\")\n",
    "charge = pd.read_csv(\"../data/charge.csv\")\n",
    "compas = pd.read_csv(\"../data/compas.csv\")\n",
    "jailhistory = pd.read_csv(\"../data/jailhistory.csv\")\n",
    "people = pd.read_csv(\"../data/people.csv\")\n",
    "prisonhistory = pd.read_csv(\"../data/prisonhistory.csv\")\n",
    "summary = pd.read_csv(\"../data/summary.csv\")\n"
   ]
  }
 ],
 "metadata": {
  "kernelspec": {
   "display_name": "Python 3",
   "language": "python",
   "name": "python3"
  },
  "language_info": {
   "codemirror_mode": {
    "name": "ipython",
    "version": 2
   },
   "file_extension": ".py",
   "mimetype": "text/x-python",
   "name": "python",
   "nbconvert_exporter": "python",
   "pygments_lexer": "ipython2",
   "version": "2.7.6"
  }
 },
 "nbformat": 4,
 "nbformat_minor": 0
}