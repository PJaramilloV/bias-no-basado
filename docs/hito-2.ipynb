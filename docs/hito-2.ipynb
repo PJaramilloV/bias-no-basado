{
 "cells": [
  {
   "cell_type": "markdown",
   "metadata": {
    "collapsed": false,
    "pycharm": {
     "name": "#%% md\n"
    }
   },
   "source": [
    "# Hito 2 - Grupo 8\n",
    "## Intregrantes\n",
    "- Vicente González\n",
    "- Rodrigo Iturrieta\n",
    "- Pablo Jaramillo\n",
    "- Cristian Lillo\n",
    "- Benjamín Valenzuela\n",
    "\n",
    "## Material\n",
    "\n",
    "- [Repositorio](https://github.com/propublica/compas-analysis)\n",
    "- [Video (hito 1)](https://drive.google.com/file/d/1TNpHXC2bTTwXfvSc1zU21SxwGIv-3yGU/view?usp=sharing)\n",
    "\n",
    "\n",
    "## Introducción\n",
    "\n",
    "Durante la última década, la sociedad moderna ha estado expuesta a un periodo de disconformidad y crisis. Múltiples protestas han ocurrido a lo largo del mundo, donde se evidencian malestares en temas de discriminación, igualdad y justicia.\n",
    "\n",
    "Uno de estos movimientos es el de Black Lives Matter, donde la población afroamericana de Estados Unidos ha dejado claro que existe, a día de hoy, un trato desigual debido a la etnia de la persona, donde se mostró al mundo entero un sistema que los desfavorecía enormemente o directamente no esperaban nada de ellos.\n",
    "\n",
    "La motivación del equipo nace a raíz de estas problemáticas, donde, además, desde un punto de vista de *data mining*, salta a la vista la pregunta: ¿Se puede hacer un modelo que consiga evidenciar la discriminación en una base de datos?\n",
    "\n",
    "Particularmente, para abarcar esta problemática, se decidió dar enfoque al caso de estudio de COMPAS. En este, se encontró que el modelo predictivo **COMPAS** (Correctional Offender Management Profiling for Alternative Sanctions) otorgaba una evaluación de riesgo mayor a personas afroamericanas que al resto. Es decir, que el modelo \"discriminaba\" a ciertos grupos de personas basadas en su etnia, marcándolas como potencialmente más propensos a cometer un crimen.\n",
    "\n",
    "La idea central del proyecto es poder construir un modelo a partir de los datos de COMPAS, para poder evaluar la discriminación en la base de datos. Identificando, además los parámetros bajo los cuales COMPAS hace la discriminación.\n",
    "\n",
    "## Exploración de datos\n",
    "\n",
    "[Ver hito 1](hito-1_revision.html)\n",
    "\n",
    "## Preguntas y Problemas\n",
    "\n",
    "Dado el análisis realizado, se formularon las siguientes preguntas:\n",
    "\n",
    "1. ¿Qué características describen mejor un factor de reincidencia?\n",
    "\n",
    "    Como el objetivo principal de COMPAS es el de predecir la probabilidad de reincidencia de los individuos, es importante saber que el factor de reincidencia no este basado en características inherentes a las personas como lo es edad o lugar de procedencia, mientras que debería estar basada en características conductuales como lo es la gravedad de un crimen cometido.\n",
    "\n",
    "2. ¿Existirán grupos de personas que compartan la misma tasa de reincidencia? Si existen, ¿Qué atributos componen a dichos grupos?\n",
    "\n",
    "    Identificar grupos naturales dentro de los datos mostrará de manera más clara si existe algun tipo de sesgo con respecto a la etnia de una persona.\n",
    "\n",
    "3. ¿Es posible predecir la etnia de una persona en base a atributos del análisis de COMPAS?\n",
    "\n",
    "    Dependiendo de la eficaz que sea un modelo entrenado con los datos entregados por COMPAS a la hora de predecir la etnia, podemos concluir si existe realmente racismo por parte del modelo.\n",
    "    \n",
    "4. Con los datos que se tienen ¿Qué tan bien se puede (predecir/agrupar/clasificar) el decile_score?\n",
    "\n",
    "    Es importante poder identficar correctamente los aspectos que influyen en el decile score, para así poder ver si en realidad los resultados se ven afectados por la etnia, o es algún otro parámetro que a su vez este estrechamente relacionado con la etnia, ya sea por temas culturales o sociales.\n",
    "\n",
    "## Propuesta experimental\n",
    "Para llevar a cabo la investigación se utilizará la siguiente metodología:\n",
    "\n",
    "- Se realiza un preprocesamiento de datos, que consiste en sondear los datos para identificar los datos que presentan valores NA o no numericos y se eliminan y/o modifican acordemente, por ejemplo si se quiere crear un clasificador, se utilizaran valores numéricos por lo que se convierten datos tipo fecha a decimales normalizados respecto a la mínima y máxima fecha, o se crean factores ordenados para valores string categoricos, mientras que se pueden eliminar atributos con gran cantidad de valores nulos que no tienen sentido si se les asigna un valor predeterminado, como es la fecha de ocurrencia de un suceso. Un ejemplo del preprocesamiento sería: si se quisiera saber cómo afectaría el sexo, se podría transformar en valor binario dando un valor para masculino y el otro para femenino.\n",
    "- Como se ve, las preguntas están muy centradas en clasificación. La idea general del proyecto es generar un modelo capaz de predecir la reincidencia de una persona, tratando de evitar que este modelo quede sesgado por la etnia. Asi como hacer un análisis del modelo COMPAS con respecto a su sesgo.\n",
    "- Partiremos con la pregunta 4. Esta pregunta se centra en encontrar las columnas que más afectan al `decile_score` por tabla, por lo que nos permitirá encontrar las columnas que más afectaron a COMPAS.\n",
    "- Para ello añadiremos el `decile_score` a cada tabla y usando los modelos KMeans y Decision Trees, nos centraremos en ir redunciendo la dimensionalidad para obtener mejores resultados.\n",
    "- Para evaluar el rendimiento de los modelos usaremos el párametro F1. Comparando entre distintos modelos, obtenidos a partir de subconjuntos de columnas, nos permitira concluir que párametros tuvieron más peso dentro del modelo de COMPAS, donde una mejor predicción indica las columnas a usar por tabla para analizar el modelo.\n",
    "- Una vez encontradas estas columnas, filtraremos todas las tablas para asi trabajar con los datos reducidos.\n",
    "- Luego de esto, continuaremos con la pregunta 2, haremos clustering de los datos con el fin de encontrar grupos naturales que se diferencien con respecto al factor de reincidencia. Esto nos permitirá hacer sub-sampling para el resto de preguntas.\n",
    "- Para ello, tomaremos estas tablas filtradas y se juntaran todas en una tabla única.\n",
    "- Una vez hecho esto, se quitarán las columnas relacionadas con la reincidencia, para luego aplicar una reducción de dimensionalidad a 2D usando PCA para facilitar la visualización.\n",
    "- Se aplicarán modelos de clustering (KNN, Jerárquico y DBSCAN) sobre los datos.\n",
    "- Para cada modelo se identificarán los *hiper-párametros* óptimos utilizando los métodos de rodilla y codo, según corresponda.\n",
    "- Luego mediremos el porcentaje de reincidencia para cada clúster dentro de cada modelo, usando una división simple entre la cantidad de reincidentes dentro del clúster y las personas totales.\n",
    "- Nos interesan los clústers con resultados extremos ya que con estos podemos identificar patrones en las demás características que nos permitan concluir ciertos patrones entre grupos que son \"muy\" reincidentes y los que no lo son.\n",
    "- Para identificar dichos patrones se recurrirá a una exploración de los datos sobre los clúster, similar a la hecha para la base de datos.\n",
    "- Finalmente, la última parte de la investigación corresponde a realizar los modelos de clasificación. Con los cuales seguiremos el siguiente patrón:\n",
    "    - Se identificarán los atributos importantes usando matriz de correlación.\n",
    "    - Se entrenaran los modelos KNN y Decision Trees usando GridSearch para encontrar los mejores atributos de cada modelo. \n",
    "    - Se juzgará entorno a el parámetro f1 para determinar los mejores *hiper-parámetros*. Esto debido a que el f1 score mezcla los otros parámetros númericos, por lo que representa de mejor manera el rendimiento de un modelo.\n",
    "    - Se aplicará over y sub sampling a los datos para evitar desequilibrios.\n",
    "    - Dependiendo si el modelo resultante es lo suficientemente satisfactorio, se puede concluir con respecto a la pregunta.\n",
    "- Particularmente, para la pregunta 1 se aplicará esto sobre la reincidencia, quitando columnas para evaluar distintos casos. Para la pregunta 3 se hará sobre la etnia usando sólo los datos que COMPAS fue capaz de generar.\n",
    "- Para concluir, se analizarán los resultados obtenidos a través de las preguntas, lo que permitirá evaluar la discriminación dentro de COMPAS.\n",
    "\n",
    "\n",
    "\n",
    "## Resultado preliminar\n",
    "A continuación nos dedicaremos a responder la primera pregunta, para ello se realizó una limpieza preeliminar de los datos usando este [script](clean_tables.R) de R, de donde se exportar dichos datos a un csv y luego se cargan en Python para crear los modelos."
   ]
  },
  {
   "cell_type": "code",
   "execution_count": 12,
   "metadata": {
    "pycharm": {
     "name": "#%%\n"
    }
   },
   "outputs": [],
   "source": [
    "# Imports iniciales\n",
    "import pandas as pd\n",
    "import numpy as np\n",
    "import matplotlib.pyplot as plt\n",
    "import seaborn as sns\n",
    "from sklearn.metrics import f1_score, recall_score, precision_score, classification_report\n",
    "from sklearn.model_selection import train_test_split\n",
    "from sklearn.model_selection import GridSearchCV\n",
    "from sklearn.dummy import DummyClassifier\n",
    "from sklearn.tree import DecisionTreeClassifier\n",
    "from sklearn.naive_bayes import GaussianNB  # naive bayes\n",
    "from sklearn.neighbors import KNeighborsClassifier #kNN\n",
    "from sklearn.svm import SVC  # support vector machine"
   ]
  },
  {
   "cell_type": "code",
   "execution_count": 13,
   "metadata": {
    "collapsed": true,
    "pycharm": {
     "name": "#%%\n"
    }
   },
   "outputs": [],
   "source": [
    "# Los datos cargados con R, los pasamos a csv, para luego leerlos con pandas\n",
    "casearrest = pd.read_csv('../data/cleaned/casearrest_cl.csv')\n",
    "compas_failure=pd.read_csv('../data/cleaned/compas_failure_cl.csv')\n",
    "jailhistory=pd.read_csv('../data/cleaned/jailhistory_cl.csv')\n",
    "people_charge=pd.read_csv('../data/original/people_charge.csv')\n",
    "people=pd.read_csv('../data/cleaned/people_cl.csv')\n",
    "prisonhistory=pd.read_csv('../data/cleaned/prisonhistory_cl.csv')\n",
    "compas_recid=pd.read_csv('../data/cleaned/compas_recid_cl.csv')\n",
    "compas_violence=pd.read_csv('../data/cleaned/compas_violence_cl.csv')\n",
    "\n",
    "# Parámetros a utilizar en GridSearch\n",
    "tuned_parameters = {'n_neighbors': [1, 2, 3, 4, 5, 6, 7, 8, 9, 10],\n",
    "                    'weights': ['uniform','distance']}\n",
    "score = 'f1'"
   ]
  },
  {
   "cell_type": "markdown",
   "metadata": {
    "pycharm": {
     "name": "#%% md\n"
    }
   },
   "source": [
    "Con fin de analizar la reincidencia se necesita la tabla \"people\" hasta la columna \"is_recid\".\n",
    "Las columnas eliminadas y la razón de esto son las siguientes:\n",
    "- age: su valor es redundante, entrega la misma info que 'dob' (date of birth).\n",
    "- race: string, se omite en este caso para comprobar si su presencia influye significantemente en la capacidad predictiva del modelo.\n",
    "- c_offense_date: contenía valores nulos.\n",
    "\n",
    "Además de dejar el atributo sexo como binario."
   ]
  },
  {
   "cell_type": "code",
   "execution_count": 14,
   "metadata": {
    "pycharm": {
     "name": "#%%\n"
    }
   },
   "outputs": [],
   "source": [
    "dataset = people.copy()\n",
    "dataset = dataset[dataset.columns[1:-9]].drop(columns=[\"age\", \"race\", \"c_offense_date\"])\n",
    "dataset['sex'] = np.where(dataset['sex']=='Male',1,0)"
   ]
  },
  {
   "cell_type": "markdown",
   "metadata": {
    "pycharm": {
     "name": "#%% md\n"
    }
   },
   "source": [
    "Formamos la matriz de correlación, donde se pueden observar las relaciones entre los distintos atributos. Con respecto a 'is_recid', se pueden distiguir como importantes a los atributos 'decile_score' y 'priors_count'."
   ]
  },
  {
   "cell_type": "code",
   "execution_count": 15,
   "metadata": {
    "pycharm": {
     "name": "#%%\n"
    }
   },
   "outputs": [
    {
     "data": {
      "image/png": "[encoded data removed]",
      "text/plain": [
       "<Figure size 1008x720 with 2 Axes>"
      ]
     },
     "metadata": {
      "needs_background": "light"
     },
     "output_type": "display_data"
    }
   ],
   "source": [
    "plt.figure(figsize=(14, 10))\n",
    "sns.heatmap(dataset.corr(method='spearman'), cmap='viridis', annot=True);"
   ]
  },
  {
   "cell_type": "markdown",
   "metadata": {
    "pycharm": {
     "name": "#%% md\n"
    }
   },
   "source": [
    "Se entrenan modelos usando GridSearch y K-Neighbours, en la base de datos normalizada. Se realiza también para dataframes con SubSampling y OverSampling para después comparar sus resultados."
   ]
  },
  {
   "cell_type": "code",
   "execution_count": 16,
   "metadata": {
    "pycharm": {
     "name": "#%%\n"
    }
   },
   "outputs": [
    {
     "name": "stdout",
     "output_type": "stream",
     "text": [
      " ORIG Mejor combinación de parámetros:\n",
      "{'n_neighbors': 7, 'weights': 'uniform'}\n",
      "              precision    recall  f1-score   support\n",
      "\n",
      "         0.0       0.73      0.84      0.78      2195\n",
      "         1.0       0.54      0.38      0.45      1104\n",
      "\n",
      "    accuracy                           0.68      3299\n",
      "   macro avg       0.63      0.61      0.61      3299\n",
      "weighted avg       0.67      0.68      0.67      3299\n",
      "\n"
     ]
    }
   ],
   "source": [
    "norm_dataset = (dataset -dataset.min())/(dataset.max() -dataset.min())\n",
    "\n",
    "###separamos valores\n",
    "data_train, data_test, y_train, y_test = train_test_split(norm_dataset, norm_dataset['is_recid'], test_size=.30,\n",
    "                                                    random_state=15, stratify=norm_dataset['is_recid'])\n",
    "##subsampleamos\n",
    "data_train = data_train.reset_index(drop=True)\n",
    "idx = np.random.choice(data_train.loc[data_train.is_recid == 0].index, size=2545, replace=False)\n",
    "data_subsampled = data_train.drop(data_train.iloc[idx].index)\n",
    "##Oversampleamos\n",
    "idx = np.random.choice(data_train[data_train['is_recid'] == 1].index, size=2545)\n",
    "data_oversampled = data_train.drop(data_train.iloc[idx].index)\n",
    "\n",
    "### dejamos los datos para trabajar\n",
    "y_test = data_test.is_recid\n",
    "X_test = data_test.drop(columns=['is_recid'])\n",
    "y_orig =data_train.is_recid\n",
    "X_orig = data_train.drop(columns=['is_recid'])\n",
    "y_subs=data_subsampled.is_recid\n",
    "X_subs=data_subsampled.drop(columns=['is_recid'])\n",
    "y_over=data_oversampled.is_recid\n",
    "X_over=data_oversampled.drop(columns=['is_recid'])\n",
    "\n",
    "### modelo del original\n",
    "clf_org = GridSearchCV(KNeighborsClassifier(),\n",
    "                       param_grid=tuned_parameters,\n",
    "                       cv=5,\n",
    "                       scoring=score)\n",
    "print(\" ORIG Mejor combinación de parámetros:\")\n",
    "clf_org.fit(X_orig,y_orig)\n",
    "print(clf_org.best_params_)\n",
    "\n",
    "y_pred = clf_org.predict(X_test)\n",
    "\n",
    "print(classification_report(y_test, y_pred))"
   ]
  },
  {
   "cell_type": "code",
   "execution_count": 17,
   "metadata": {
    "pycharm": {
     "name": "#%%\n"
    }
   },
   "outputs": [
    {
     "name": "stdout",
     "output_type": "stream",
     "text": [
      " SUB Mejor combinación de parámetros:\n",
      "{'n_neighbors': 7, 'weights': 'uniform'}\n",
      "              precision    recall  f1-score   support\n",
      "\n",
      "         0.0       0.77      0.63      0.69      2195\n",
      "         1.0       0.46      0.62      0.53      1104\n",
      "\n",
      "    accuracy                           0.63      3299\n",
      "   macro avg       0.61      0.63      0.61      3299\n",
      "weighted avg       0.67      0.63      0.64      3299\n",
      "\n"
     ]
    }
   ],
   "source": [
    "### modelo subsampling\n",
    "clf_sub = GridSearchCV(KNeighborsClassifier(),\n",
    "                   param_grid=tuned_parameters,\n",
    "                   cv=5,\n",
    "                   scoring=score)\n",
    "print(\" SUB Mejor combinación de parámetros:\")\n",
    "clf_sub.fit(X_subs,y_subs)\n",
    "print(clf_sub.best_params_)\n",
    "\n",
    "y_pred = clf_sub.predict(X_test)\n",
    "\n",
    "print(classification_report(y_test, y_pred))"
   ]
  },
  {
   "cell_type": "code",
   "execution_count": 18,
   "metadata": {
    "pycharm": {
     "name": "#%%\n"
    }
   },
   "outputs": [
    {
     "name": "stdout",
     "output_type": "stream",
     "text": [
      " OVER Mejor combinación de parámetros:\n",
      "{'n_neighbors': 1, 'weights': 'uniform'}\n",
      "              precision    recall  f1-score   support\n",
      "\n",
      "         0.0       0.70      0.88      0.78      2195\n",
      "         1.0       0.49      0.24      0.32      1104\n",
      "\n",
      "    accuracy                           0.66      3299\n",
      "   macro avg       0.59      0.56      0.55      3299\n",
      "weighted avg       0.63      0.66      0.62      3299\n",
      "\n"
     ]
    }
   ],
   "source": [
    "### modelo oversampling\n",
    "clf_over = GridSearchCV(KNeighborsClassifier(),\n",
    "                       param_grid=tuned_parameters,\n",
    "                       cv=5,\n",
    "                       scoring=score)\n",
    "print(\" OVER Mejor combinación de parámetros:\")\n",
    "clf_over.fit(X_over,y_over)\n",
    "print(clf_over.best_params_)\n",
    "\n",
    "y_pred = clf_over.predict(X_test)\n",
    "\n",
    "print(classification_report(y_test, y_pred))"
   ]
  },
  {
   "cell_type": "markdown",
   "metadata": {
    "pycharm": {
     "name": "#%% md\n"
    }
   },
   "source": [
    "Se obtuvieron los mejores parámetros para los datos originales y utilizando SubSampling y OverSampling. Sin embargo, en la matriz de correlación se pueden identificar muchos atributos poco relacionados con 'is_recid'. Se probará el omitir algunos de estos para ver si se obtienen mejores resultados.\n",
    "\n",
    "Se omitirá primero 'days_b_screening_arrest', 'c_days_from_compas' y 'c_charge_degree', pues son los datos con la correlación menos significativa."
   ]
  },
  {
   "cell_type": "code",
   "execution_count": 19,
   "metadata": {
    "pycharm": {
     "name": "#%%\n"
    }
   },
   "outputs": [
    {
     "name": "stdout",
     "output_type": "stream",
     "text": [
      " ORIG Mejor combinación de parámetros:\n",
      "{'n_neighbors': 1, 'weights': 'uniform'}\n",
      "              precision    recall  f1-score   support\n",
      "\n",
      "           0       0.67      0.67      0.67      2195\n",
      "           1       0.34      0.34      0.34      1104\n",
      "\n",
      "    accuracy                           0.56      3299\n",
      "   macro avg       0.51      0.51      0.51      3299\n",
      "weighted avg       0.56      0.56      0.56      3299\n",
      "\n"
     ]
    }
   ],
   "source": [
    "dataset2 = people.copy()\n",
    "dataset2 = dataset2[dataset2.columns[1:-9]].drop(columns=[\"age\", \"race\", \"c_offense_date\", \"c_charge_degree\", \"c_days_from_compas\", \"days_b_screening_arrest\"])\n",
    "dataset2[\"sex\"] = np.where(dataset2[\"sex\"]=='Male',1,0)\n",
    "\n",
    "###separamos valores\n",
    "data_train, data_test, y_train, y_test = train_test_split(dataset2, dataset2['is_recid'], test_size=.30,\n",
    "                                                    random_state=15, stratify=dataset2['is_recid'])\n",
    "##subsampleamos\n",
    "data_train = data_train.reset_index(drop=True)\n",
    "idx = np.random.choice(data_train.loc[data_train.is_recid == 0].index, size=2545, replace=False)\n",
    "data_subsampled = data_train.drop(data_train.iloc[idx].index)\n",
    "##Oversampleamos\n",
    "idx = np.random.choice(data_train[data_train['is_recid'] == 1].index, size=2545)\n",
    "data_oversampled = data_train.drop(data_train.iloc[idx].index)\n",
    "\n",
    "### dejamos los datos para trabajar\n",
    "y_test = data_test.is_recid\n",
    "X_test = data_test.drop(columns=['is_recid'])\n",
    "y_orig =data_train.is_recid\n",
    "X_orig = data_train.drop(columns=['is_recid'])\n",
    "y_subs=data_subsampled.is_recid\n",
    "X_subs=data_subsampled.drop(columns=['is_recid'])\n",
    "y_over=data_oversampled.is_recid\n",
    "X_over=data_oversampled.drop(columns=['is_recid'])\n",
    "\n",
    "### modelo del original\n",
    "clf_org = GridSearchCV(KNeighborsClassifier(),\n",
    "                       param_grid=tuned_parameters,\n",
    "                       cv=5,\n",
    "                       scoring=score)\n",
    "print(\" ORIG Mejor combinación de parámetros:\")\n",
    "clf_org.fit(X_orig,y_orig)\n",
    "print(clf_org.best_params_)\n",
    "\n",
    "y_pred = clf_org.predict(X_test)\n",
    "\n",
    "print(classification_report(y_test, y_pred))"
   ]
  },
  {
   "cell_type": "code",
   "execution_count": 20,
   "metadata": {
    "pycharm": {
     "name": "#%%\n"
    }
   },
   "outputs": [
    {
     "name": "stdout",
     "output_type": "stream",
     "text": [
      " SUB Mejor combinación de parámetros:\n",
      "{'n_neighbors': 8, 'weights': 'distance'}\n",
      "              precision    recall  f1-score   support\n",
      "\n",
      "           0       0.70      0.54      0.61      2195\n",
      "           1       0.37      0.53      0.44      1104\n",
      "\n",
      "    accuracy                           0.54      3299\n",
      "   macro avg       0.53      0.54      0.52      3299\n",
      "weighted avg       0.59      0.54      0.55      3299\n",
      "\n"
     ]
    }
   ],
   "source": [
    "### modelo subsampling\n",
    "clf_sub = GridSearchCV(KNeighborsClassifier(),\n",
    "                   param_grid=tuned_parameters,\n",
    "                   cv=5,\n",
    "                   scoring=score)\n",
    "print(\" SUB Mejor combinación de parámetros:\")\n",
    "clf_sub.fit(X_subs,y_subs)\n",
    "print(clf_sub.best_params_)\n",
    "\n",
    "y_pred = clf_sub.predict(X_test)\n",
    "\n",
    "print(classification_report(y_test, y_pred))"
   ]
  },
  {
   "cell_type": "code",
   "execution_count": 21,
   "metadata": {
    "pycharm": {
     "name": "#%%\n"
    }
   },
   "outputs": [
    {
     "name": "stdout",
     "output_type": "stream",
     "text": [
      " OVER Mejor combinación de parámetros:\n",
      "{'n_neighbors': 1, 'weights': 'uniform'}\n",
      "              precision    recall  f1-score   support\n",
      "\n",
      "           0       0.67      0.85      0.75      2195\n",
      "           1       0.36      0.16      0.22      1104\n",
      "\n",
      "    accuracy                           0.62      3299\n",
      "   macro avg       0.51      0.51      0.49      3299\n",
      "weighted avg       0.57      0.62      0.57      3299\n",
      "\n"
     ]
    }
   ],
   "source": [
    "### modelo oversampling\n",
    "clf_over = GridSearchCV(KNeighborsClassifier(),\n",
    "                       param_grid=tuned_parameters,\n",
    "                       cv=5,\n",
    "                       scoring=score)\n",
    "print(\" OVER Mejor combinación de parámetros:\")\n",
    "clf_over.fit(X_over,y_over)\n",
    "print(clf_over.best_params_)\n",
    "\n",
    "y_pred = clf_over.predict(X_test)\n",
    "\n",
    "print(classification_report(y_test, y_pred))"
   ]
  },
  {
   "cell_type": "markdown",
   "metadata": {
    "pycharm": {
     "name": "#%% md\n"
    }
   },
   "source": [
    "Ahora se omitirán todos los atributos cuya correlación con 'is_recid' esté entre $-0.1$ y $0.1$."
   ]
  },
  {
   "cell_type": "code",
   "execution_count": 22,
   "metadata": {
    "pycharm": {
     "name": "#%%\n"
    }
   },
   "outputs": [
    {
     "name": "stdout",
     "output_type": "stream",
     "text": [
      " ORIG Mejor combinación de parámetros:\n",
      "{'n_neighbors': 1, 'weights': 'uniform'}\n",
      "              precision    recall  f1-score   support\n",
      "\n",
      "           0       0.67      0.68      0.68      2195\n",
      "           1       0.35      0.34      0.34      1104\n",
      "\n",
      "    accuracy                           0.57      3299\n",
      "   macro avg       0.51      0.51      0.51      3299\n",
      "weighted avg       0.56      0.57      0.57      3299\n",
      "\n"
     ]
    }
   ],
   "source": [
    "dataset3 = people.copy()\n",
    "dataset3 = dataset3[dataset3.columns[1:-9]].drop(columns=[\"age\", \"race\", \"sex\", \"c_charge_degree\", \"c_offense_date\", \"c_days_from_compas\", \"days_b_screening_arrest\", \"c_jail_out\", \"c_jail_in\", \"juv_fel_count\"])\n",
    "\n",
    "###separamos valores\n",
    "data_train, data_test, y_train, y_test = train_test_split(dataset3, dataset3['is_recid'], test_size=.30,\n",
    "                                                    random_state=15, stratify=dataset3['is_recid'])\n",
    "##subsampleamos\n",
    "data_train = data_train.reset_index(drop=True)\n",
    "idx = np.random.choice(data_train.loc[data_train.is_recid == 0].index, size=2545, replace=False)\n",
    "data_subsampled = data_train.drop(data_train.iloc[idx].index)\n",
    "##Oversampleamos\n",
    "idx = np.random.choice(data_train[data_train['is_recid'] == 1].index, size=2545)\n",
    "data_oversampled = data_train.drop(data_train.iloc[idx].index)\n",
    "\n",
    "### dejamos los datos para trabajar\n",
    "y_test = data_test.is_recid\n",
    "X_test = data_test.drop(columns=['is_recid'])\n",
    "y_orig =data_train.is_recid\n",
    "X_orig = data_train.drop(columns=['is_recid'])\n",
    "y_subs=data_subsampled.is_recid\n",
    "X_subs=data_subsampled.drop(columns=['is_recid'])\n",
    "y_over=data_oversampled.is_recid\n",
    "X_over=data_oversampled.drop(columns=['is_recid'])\n",
    "\n",
    "### modelo del original\n",
    "clf_org = GridSearchCV(KNeighborsClassifier(),\n",
    "                       param_grid=tuned_parameters,\n",
    "                       cv=5,\n",
    "                       scoring=score)\n",
    "print(\" ORIG Mejor combinación de parámetros:\")\n",
    "clf_org.fit(X_orig,y_orig)\n",
    "print(clf_org.best_params_)\n",
    "\n",
    "y_pred = clf_org.predict(X_test)\n",
    "\n",
    "print(classification_report(y_test, y_pred))"
   ]
  },
  {
   "cell_type": "code",
   "execution_count": 23,
   "metadata": {
    "pycharm": {
     "name": "#%%\n"
    }
   },
   "outputs": [
    {
     "name": "stdout",
     "output_type": "stream",
     "text": [
      " SUB Mejor combinación de parámetros:\n",
      "{'n_neighbors': 9, 'weights': 'uniform'}\n",
      "              precision    recall  f1-score   support\n",
      "\n",
      "           0       0.70      0.52      0.60      2195\n",
      "           1       0.36      0.54      0.44      1104\n",
      "\n",
      "    accuracy                           0.53      3299\n",
      "   macro avg       0.53      0.53      0.52      3299\n",
      "weighted avg       0.58      0.53      0.54      3299\n",
      "\n"
     ]
    }
   ],
   "source": [
    "### modelo subsampling\n",
    "clf_sub = GridSearchCV(KNeighborsClassifier(),\n",
    "                   param_grid=tuned_parameters,\n",
    "                   cv=5,\n",
    "                   scoring=score)\n",
    "print(\" SUB Mejor combinación de parámetros:\")\n",
    "clf_sub.fit(X_subs,y_subs)\n",
    "print(clf_sub.best_params_)\n",
    "\n",
    "y_pred = clf_sub.predict(X_test)\n",
    "\n",
    "print(classification_report(y_test, y_pred))"
   ]
  },
  {
   "cell_type": "code",
   "execution_count": 24,
   "metadata": {
    "pycharm": {
     "name": "#%%\n"
    }
   },
   "outputs": [
    {
     "name": "stdout",
     "output_type": "stream",
     "text": [
      " OVER Mejor combinación de parámetros:\n",
      "{'n_neighbors': 1, 'weights': 'uniform'}\n",
      "              precision    recall  f1-score   support\n",
      "\n",
      "           0       0.67      0.84      0.75      2195\n",
      "           1       0.36      0.18      0.24      1104\n",
      "\n",
      "    accuracy                           0.62      3299\n",
      "   macro avg       0.51      0.51      0.49      3299\n",
      "weighted avg       0.57      0.62      0.58      3299\n",
      "\n"
     ]
    }
   ],
   "source": [
    "### modelo oversampling\n",
    "clf_over = GridSearchCV(KNeighborsClassifier(),\n",
    "                       param_grid=tuned_parameters,\n",
    "                       cv=5,\n",
    "                       scoring=score)\n",
    "print(\" OVER Mejor combinación de parámetros:\")\n",
    "clf_over.fit(X_over,y_over)\n",
    "print(clf_over.best_params_)\n",
    "\n",
    "y_pred = clf_over.predict(X_test)\n",
    "\n",
    "print(classification_report(y_test, y_pred))"
   ]
  },
  {
   "cell_type": "markdown",
   "metadata": {
    "pycharm": {
     "name": "#%% md\n"
    }
   },
   "source": [
    "De momento, se obtuvo la Accuracy más alta de $0.68$ utilizando todos los parámetros de la tabla (a excepción de race) y sin realizar ni SubSampling ni OverSampling. Estos valores aún no son suficientes para ayudar a dar una respueta concisa la pregunta propuesta.\n",
    "\n",
    "Se repetiran los entrenamientos, pero utilizando el atributo 'race'. Al ser un string se pasará a binario, donde si es igual a 'African-American' se le asignara un $1$ y, en caso contrario, un $0$.\n",
    "\n",
    "Notemos que la correlación entre 'is_recid' y 'race' es bastante menor, con un valor de solo $0.13$."
   ]
  },
  {
   "cell_type": "code",
   "execution_count": 25,
   "metadata": {
    "pycharm": {
     "name": "#%%\n"
    }
   },
   "outputs": [
    {
     "data": {
      "image/png": "[encoded data removed]",
      "text/plain": [
       "<Figure size 1008x720 with 2 Axes>"
      ]
     },
     "metadata": {
      "needs_background": "light"
     },
     "output_type": "display_data"
    }
   ],
   "source": [
    "peoplemejor=people.copy()\n",
    "peoplemejor['race'] = np.where(peoplemejor['race']=='African-American',1,0)\n",
    "peoplemejor['sex'] = np.where(peoplemejor['sex']=='Male',1,0)\n",
    "peoplemejor = peoplemejor[peoplemejor.columns[1:-9]].drop(columns=[\"age\", \"c_offense_date\"])\n",
    "plt.figure(figsize=(14, 10))\n",
    "sns.heatmap(peoplemejor.corr(), cmap='viridis', annot=True);"
   ]
  },
  {
   "cell_type": "markdown",
   "metadata": {
    "pycharm": {
     "name": "#%% md\n"
    }
   },
   "source": [
    "Entrenar modelos usando GridSearch, etnia y sexo binarios."
   ]
  },
  {
   "cell_type": "code",
   "execution_count": 26,
   "metadata": {
    "pycharm": {
     "name": "#%%\n"
    }
   },
   "outputs": [
    {
     "name": "stdout",
     "output_type": "stream",
     "text": [
      " ORG Mejor combinación de parámetros:\n",
      "{'n_neighbors': 1, 'weights': 'uniform'}\n",
      "              precision    recall  f1-score   support\n",
      "\n",
      "           0       0.67      0.67      0.67      2195\n",
      "           1       0.35      0.36      0.35      1104\n",
      "\n",
      "    accuracy                           0.57      3299\n",
      "   macro avg       0.51      0.51      0.51      3299\n",
      "weighted avg       0.57      0.57      0.57      3299\n",
      "\n"
     ]
    }
   ],
   "source": [
    "##########################  KNeighbors con race  ##########################\n",
    "###separamos valores\n",
    "X_train, X_test, y_train, y_test = train_test_split(peoplemejor, peoplemejor['is_recid'], test_size=.30,\n",
    "                                                          random_state=15, stratify=peoplemejor['is_recid'])\n",
    "##subsampleamos\n",
    "X_train = X_train.reset_index(drop=True)\n",
    "idx = np.random.choice(X_train.loc[X_train.is_recid == 0].index, size=2545, replace=False)\n",
    "data_subsampled = X_train.drop(X_train.iloc[idx].index)\n",
    "##Oversampleamos\n",
    "idx = np.random.choice(X_train[X_train['is_recid'] == 1].index, size=2545)\n",
    "data_oversampled = X_train.drop(X_train.iloc[idx].index)\n",
    "### dejamos los datos para trabajar\n",
    "y_test = X_test.is_recid\n",
    "X_test = X_test.drop(columns=['is_recid'])\n",
    "y_orig =X_train.is_recid\n",
    "X_orig = X_train.drop(columns=['is_recid'])\n",
    "y_subs=data_subsampled.is_recid\n",
    "X_subs=data_subsampled.drop(columns=['is_recid'])\n",
    "y_over=data_oversampled.is_recid\n",
    "X_over=data_oversampled.drop(columns=['is_recid'])\n",
    "\n",
    "### modelo del original\n",
    "clf_org = GridSearchCV(KNeighborsClassifier(),\n",
    "                       param_grid=tuned_parameters,\n",
    "                       cv=5,\n",
    "                       scoring=score)\n",
    "print(\" ORG Mejor combinación de parámetros:\")\n",
    "clf_org.fit(X_orig,y_orig)\n",
    "print(clf_org.best_params_)\n",
    "\n",
    "y_pred = clf_org.predict(X_test)\n",
    "\n",
    "print(classification_report(y_test, y_pred))"
   ]
  },
  {
   "cell_type": "code",
   "execution_count": 27,
   "metadata": {
    "pycharm": {
     "name": "#%%\n"
    }
   },
   "outputs": [
    {
     "name": "stdout",
     "output_type": "stream",
     "text": [
      " SUB Mejor combinación de parámetros:\n",
      "{'n_neighbors': 7, 'weights': 'uniform'}\n",
      "              precision    recall  f1-score   support\n",
      "\n",
      "           0       0.71      0.54      0.61      2195\n",
      "           1       0.38      0.55      0.45      1104\n",
      "\n",
      "    accuracy                           0.54      3299\n",
      "   macro avg       0.54      0.55      0.53      3299\n",
      "weighted avg       0.60      0.54      0.56      3299\n",
      "\n"
     ]
    }
   ],
   "source": [
    "### modelo subsampling\n",
    "clf_sub = GridSearchCV(KNeighborsClassifier(),\n",
    "                       param_grid=tuned_parameters,\n",
    "                       cv=5,\n",
    "                       scoring=score)\n",
    "print(\" SUB Mejor combinación de parámetros:\")\n",
    "clf_sub.fit(X_subs,y_subs)\n",
    "print(clf_sub.best_params_)\n",
    "\n",
    "y_pred = clf_sub.predict(X_test)\n",
    "\n",
    "print(classification_report(y_test, y_pred))"
   ]
  },
  {
   "cell_type": "code",
   "execution_count": 28,
   "metadata": {
    "pycharm": {
     "name": "#%%\n"
    }
   },
   "outputs": [
    {
     "name": "stdout",
     "output_type": "stream",
     "text": [
      " OVER Mejor combinación de parámetros:\n",
      "{'n_neighbors': 1, 'weights': 'uniform'}\n",
      "              precision    recall  f1-score   support\n",
      "\n",
      "           0       0.67      0.84      0.74      2195\n",
      "           1       0.34      0.17      0.23      1104\n",
      "\n",
      "    accuracy                           0.61      3299\n",
      "   macro avg       0.51      0.50      0.49      3299\n",
      "weighted avg       0.56      0.61      0.57      3299\n",
      "\n"
     ]
    }
   ],
   "source": [
    "### modelo oversampling\n",
    "clf_over = GridSearchCV(KNeighborsClassifier(),\n",
    "                        param_grid=tuned_parameters,\n",
    "                        cv=5,\n",
    "                        scoring=score)\n",
    "print(\" OVER Mejor combinación de parámetros:\")\n",
    "clf_over.fit(X_over,y_over)\n",
    "print(clf_over.best_params_)\n",
    "\n",
    "y_pred = clf_over.predict(X_test)\n",
    "\n",
    "print(classification_report(y_test, y_pred))"
   ]
  },
  {
   "cell_type": "markdown",
   "metadata": {
    "pycharm": {
     "name": "#%% md\n"
    }
   },
   "source": [
    "Se repite lo anterior, omitiendo los mismos atributos poco significativos del caso anterior 'days_b_screening_arrest', 'c_days_from_compas' y 'c_charge_degree'."
   ]
  },
  {
   "cell_type": "code",
   "execution_count": 29,
   "metadata": {
    "pycharm": {
     "name": "#%%\n"
    }
   },
   "outputs": [
    {
     "name": "stdout",
     "output_type": "stream",
     "text": [
      " ORG Mejor combinación de parámetros:\n",
      "{'n_neighbors': 1, 'weights': 'uniform'}\n",
      "              precision    recall  f1-score   support\n",
      "\n",
      "           0       0.67      0.67      0.67      2195\n",
      "           1       0.34      0.34      0.34      1104\n",
      "\n",
      "    accuracy                           0.56      3299\n",
      "   macro avg       0.51      0.51      0.51      3299\n",
      "weighted avg       0.56      0.56      0.56      3299\n",
      "\n"
     ]
    }
   ],
   "source": [
    "peoplemejor2=people.copy()\n",
    "peoplemejor2['race'] = np.where(peoplemejor2['race']=='African-American',1,0)\n",
    "peoplemejor2['sex'] = np.where(peoplemejor2['sex']=='Male',1,0)\n",
    "peoplemejor2 = peoplemejor2[peoplemejor2.columns[1:-9]].drop(columns=[\"age\", \"c_charge_degree\",\"c_offense_date\", \"days_b_screening_arrest\", \"c_days_from_compas\"])\n",
    "\n",
    "###separamos valores\n",
    "X_train, X_test, y_train, y_test = train_test_split(peoplemejor2, peoplemejor2['is_recid'], test_size=.30,\n",
    "                                                          random_state=15, stratify=peoplemejor2['is_recid'])\n",
    "##subsampleamos\n",
    "X_train = X_train.reset_index(drop=True)\n",
    "idx = np.random.choice(X_train.loc[X_train.is_recid == 0].index, size=2545, replace=False)\n",
    "data_subsampled = X_train.drop(X_train.iloc[idx].index)\n",
    "##Oversampleamos\n",
    "idx = np.random.choice(X_train[X_train['is_recid'] == 1].index, size=2545)\n",
    "data_oversampled = X_train.drop(X_train.iloc[idx].index)\n",
    "### dejamos los datos para trabajar\n",
    "y_test = X_test.is_recid\n",
    "X_test = X_test.drop(columns=['is_recid'])\n",
    "y_orig =X_train.is_recid\n",
    "X_orig = X_train.drop(columns=['is_recid'])\n",
    "y_subs=data_subsampled.is_recid\n",
    "X_subs=data_subsampled.drop(columns=['is_recid'])\n",
    "y_over=data_oversampled.is_recid\n",
    "X_over=data_oversampled.drop(columns=['is_recid'])\n",
    "\n",
    "### modelo del original\n",
    "clf_org = GridSearchCV(KNeighborsClassifier(),\n",
    "                       param_grid=tuned_parameters,\n",
    "                       cv=5,\n",
    "                       scoring=score)\n",
    "print(\" ORG Mejor combinación de parámetros:\")\n",
    "clf_org.fit(X_orig,y_orig)\n",
    "print(clf_org.best_params_)\n",
    "\n",
    "y_pred = clf_org.predict(X_test)\n",
    "\n",
    "print(classification_report(y_test, y_pred))"
   ]
  },
  {
   "cell_type": "code",
   "execution_count": 30,
   "metadata": {
    "pycharm": {
     "name": "#%%\n"
    }
   },
   "outputs": [
    {
     "name": "stdout",
     "output_type": "stream",
     "text": [
      " SUB Mejor combinación de parámetros:\n",
      "{'n_neighbors': 9, 'weights': 'uniform'}\n",
      "              precision    recall  f1-score   support\n",
      "\n",
      "           0       0.70      0.52      0.60      2195\n",
      "           1       0.37      0.55      0.44      1104\n",
      "\n",
      "    accuracy                           0.53      3299\n",
      "   macro avg       0.53      0.54      0.52      3299\n",
      "weighted avg       0.59      0.53      0.54      3299\n",
      "\n"
     ]
    }
   ],
   "source": [
    "### modelo subsampling\n",
    "clf_sub = GridSearchCV(KNeighborsClassifier(),\n",
    "                       param_grid=tuned_parameters,\n",
    "                       cv=5,\n",
    "                       scoring=score)\n",
    "print(\" SUB Mejor combinación de parámetros:\")\n",
    "clf_sub.fit(X_subs,y_subs)\n",
    "print(clf_sub.best_params_)\n",
    "\n",
    "y_pred = clf_sub.predict(X_test)\n",
    "\n",
    "print(classification_report(y_test, y_pred))"
   ]
  },
  {
   "cell_type": "code",
   "execution_count": 31,
   "metadata": {
    "pycharm": {
     "name": "#%%\n"
    }
   },
   "outputs": [
    {
     "name": "stdout",
     "output_type": "stream",
     "text": [
      " OVER Mejor combinación de parámetros:\n",
      "{'n_neighbors': 1, 'weights': 'uniform'}\n",
      "              precision    recall  f1-score   support\n",
      "\n",
      "           0       0.67      0.84      0.75      2195\n",
      "           1       0.35      0.17      0.23      1104\n",
      "\n",
      "    accuracy                           0.62      3299\n",
      "   macro avg       0.51      0.51      0.49      3299\n",
      "weighted avg       0.56      0.62      0.57      3299\n",
      "\n"
     ]
    }
   ],
   "source": [
    "### modelo oversampling\n",
    "clf_over = GridSearchCV(KNeighborsClassifier(),\n",
    "                        param_grid=tuned_parameters,\n",
    "                        cv=5,\n",
    "                        scoring=score)\n",
    "print(\" OVER Mejor combinación de parámetros:\")\n",
    "clf_over.fit(X_over,y_over)\n",
    "print(clf_over.best_params_)\n",
    "\n",
    "y_pred = clf_over.predict(X_test)\n",
    "\n",
    "print(classification_report(y_test, y_pred))"
   ]
  },
  {
   "cell_type": "markdown",
   "metadata": {
    "pycharm": {
     "name": "#%% md\n"
    }
   },
   "source": [
    "Se realiza el mismo entrenamiento anterior, pero esta vez se omitiran los atributos menos significativos en la segunda matriz de correlación, 'juv_fel_count', 'c_days_from_compas' y 'c_charge_degree'."
   ]
  },
  {
   "cell_type": "code",
   "execution_count": 32,
   "metadata": {
    "pycharm": {
     "name": "#%%\n"
    }
   },
   "outputs": [
    {
     "name": "stdout",
     "output_type": "stream",
     "text": [
      " ORG Mejor combinación de parámetros:\n",
      "{'n_neighbors': 1, 'weights': 'uniform'}\n",
      "              precision    recall  f1-score   support\n",
      "\n",
      "           0       0.67      0.68      0.67      2195\n",
      "           1       0.35      0.34      0.34      1104\n",
      "\n",
      "    accuracy                           0.56      3299\n",
      "   macro avg       0.51      0.51      0.51      3299\n",
      "weighted avg       0.56      0.56      0.56      3299\n",
      "\n"
     ]
    }
   ],
   "source": [
    "peoplemejor21=people.copy()\n",
    "peoplemejor21['race'] = np.where(peoplemejor21['race']=='African-American',1,0)\n",
    "peoplemejor21['sex'] = np.where(peoplemejor21['sex']=='Male',1,0)\n",
    "peoplemejor21 = peoplemejor21[peoplemejor21.columns[1:-9]].drop(columns=[\"age\", \"c_charge_degree\",\"c_offense_date\", \"juv_fel_count\", \"c_days_from_compas\"])\n",
    "\n",
    "###separamos valores\n",
    "X_train, X_test, y_train, y_test = train_test_split(peoplemejor21, peoplemejor21['is_recid'], test_size=.30,\n",
    "                                                          random_state=15, stratify=peoplemejor21['is_recid'])\n",
    "##subsampleamos\n",
    "X_train = X_train.reset_index(drop=True)\n",
    "idx = np.random.choice(X_train.loc[X_train.is_recid == 0].index, size=2545, replace=False)\n",
    "data_subsampled = X_train.drop(X_train.iloc[idx].index)\n",
    "##Oversampleamos\n",
    "idx = np.random.choice(X_train[X_train['is_recid'] == 1].index, size=2545)\n",
    "data_oversampled = X_train.drop(X_train.iloc[idx].index)\n",
    "### dejamos los datos para trabajar\n",
    "y_test = X_test.is_recid\n",
    "X_test = X_test.drop(columns=['is_recid'])\n",
    "y_orig =X_train.is_recid\n",
    "X_orig = X_train.drop(columns=['is_recid'])\n",
    "y_subs=data_subsampled.is_recid\n",
    "X_subs=data_subsampled.drop(columns=['is_recid'])\n",
    "y_over=data_oversampled.is_recid\n",
    "X_over=data_oversampled.drop(columns=['is_recid'])\n",
    "\n",
    "### modelo del original\n",
    "clf_org = GridSearchCV(KNeighborsClassifier(),\n",
    "                       param_grid=tuned_parameters,\n",
    "                       cv=5,\n",
    "                       scoring=score)\n",
    "print(\" ORG Mejor combinación de parámetros:\")\n",
    "clf_org.fit(X_orig,y_orig)\n",
    "print(clf_org.best_params_)\n",
    "\n",
    "y_pred = clf_org.predict(X_test)\n",
    "\n",
    "print(classification_report(y_test, y_pred))"
   ]
  },
  {
   "cell_type": "code",
   "execution_count": 33,
   "metadata": {
    "pycharm": {
     "name": "#%%\n"
    }
   },
   "outputs": [
    {
     "name": "stdout",
     "output_type": "stream",
     "text": [
      " SUB Mejor combinación de parámetros:\n",
      "{'n_neighbors': 7, 'weights': 'uniform'}\n",
      "              precision    recall  f1-score   support\n",
      "\n",
      "           0       0.68      0.52      0.59      2195\n",
      "           1       0.35      0.52      0.42      1104\n",
      "\n",
      "    accuracy                           0.52      3299\n",
      "   macro avg       0.52      0.52      0.51      3299\n",
      "weighted avg       0.57      0.52      0.54      3299\n",
      "\n"
     ]
    }
   ],
   "source": [
    "### modelo subsampling\n",
    "clf_sub = GridSearchCV(KNeighborsClassifier(),\n",
    "                       param_grid=tuned_parameters,\n",
    "                       cv=5,\n",
    "                       scoring=score)\n",
    "print(\" SUB Mejor combinación de parámetros:\")\n",
    "clf_sub.fit(X_subs,y_subs)\n",
    "print(clf_sub.best_params_)\n",
    "\n",
    "y_pred = clf_sub.predict(X_test)\n",
    "\n",
    "print(classification_report(y_test, y_pred))"
   ]
  },
  {
   "cell_type": "code",
   "execution_count": 34,
   "metadata": {
    "pycharm": {
     "name": "#%%\n"
    }
   },
   "outputs": [
    {
     "name": "stdout",
     "output_type": "stream",
     "text": [
      " OVER Mejor combinación de parámetros:\n",
      "{'n_neighbors': 1, 'weights': 'uniform'}\n",
      "              precision    recall  f1-score   support\n",
      "\n",
      "           0       0.67      0.84      0.74      2195\n",
      "           1       0.35      0.17      0.23      1104\n",
      "\n",
      "    accuracy                           0.61      3299\n",
      "   macro avg       0.51      0.50      0.49      3299\n",
      "weighted avg       0.56      0.61      0.57      3299\n",
      "\n"
     ]
    }
   ],
   "source": [
    "### modelo oversampling\n",
    "clf_over = GridSearchCV(KNeighborsClassifier(),\n",
    "                        param_grid=tuned_parameters,\n",
    "                        cv=5,\n",
    "                        scoring=score)\n",
    "print(\" OVER Mejor combinación de parámetros:\")\n",
    "clf_over.fit(X_over,y_over)\n",
    "print(clf_over.best_params_)\n",
    "\n",
    "y_pred = clf_over.predict(X_test)\n",
    "\n",
    "print(classification_report(y_test, y_pred))"
   ]
  },
  {
   "cell_type": "markdown",
   "metadata": {
    "pycharm": {
     "name": "#%% md\n"
    }
   },
   "source": [
    "Se repite el entrenamiento, omitiendo todos los atributos cuya correlación con 'is_recid' esté entre $-0.1$ y $0.1$."
   ]
  },
  {
   "cell_type": "code",
   "execution_count": 35,
   "metadata": {
    "pycharm": {
     "name": "#%%\n"
    }
   },
   "outputs": [
    {
     "name": "stdout",
     "output_type": "stream",
     "text": [
      " ORG Mejor combinación de parámetros:\n",
      "{'n_neighbors': 1, 'weights': 'uniform'}\n",
      "              precision    recall  f1-score   support\n",
      "\n",
      "           0       0.67      0.68      0.68      2195\n",
      "           1       0.35      0.34      0.34      1104\n",
      "\n",
      "    accuracy                           0.57      3299\n",
      "   macro avg       0.51      0.51      0.51      3299\n",
      "weighted avg       0.56      0.57      0.57      3299\n",
      "\n"
     ]
    }
   ],
   "source": [
    "peoplemejor3=people.copy()\n",
    "peoplemejor3['race'] = np.where(peoplemejor3['race']=='African-American',1,0)\n",
    "#peoplemejor3['sex'] = np.where(peoplemejor3['sex']=='Male',1,0)\n",
    "peoplemejor3 = peoplemejor3[peoplemejor3.columns[1:-9]].drop(columns=[\"age\", \"sex\", \"c_charge_degree\", \"c_offense_date\", \"c_days_from_compas\", \"days_b_screening_arrest\", \"c_jail_out\", \"c_jail_in\", \"juv_fel_count\", \"juv_other_count\"])\n",
    "\n",
    "###separamos valores\n",
    "X_train, X_test, y_train, y_test = train_test_split(peoplemejor3, peoplemejor3['is_recid'], test_size=.30,\n",
    "                                                          random_state=15, stratify=peoplemejor3['is_recid'])\n",
    "##subsampleamos\n",
    "X_train = X_train.reset_index(drop=True)\n",
    "idx = np.random.choice(X_train.loc[X_train.is_recid == 0].index, size=2545, replace=False)\n",
    "data_subsampled = X_train.drop(X_train.iloc[idx].index)\n",
    "##Oversampleamos\n",
    "idx = np.random.choice(X_train[X_train['is_recid'] == 1].index, size=2545)\n",
    "data_oversampled = X_train.drop(X_train.iloc[idx].index)\n",
    "### dejamos los datos para trabajar\n",
    "y_test = X_test.is_recid\n",
    "X_test = X_test.drop(columns=['is_recid'])\n",
    "y_orig =X_train.is_recid\n",
    "X_orig = X_train.drop(columns=['is_recid'])\n",
    "y_subs=data_subsampled.is_recid\n",
    "X_subs=data_subsampled.drop(columns=['is_recid'])\n",
    "y_over=data_oversampled.is_recid\n",
    "X_over=data_oversampled.drop(columns=['is_recid'])\n",
    "\n",
    "### modelo del original\n",
    "clf_org = GridSearchCV(KNeighborsClassifier(),\n",
    "                       param_grid=tuned_parameters,\n",
    "                       cv=5,\n",
    "                       scoring=score)\n",
    "print(\" ORG Mejor combinación de parámetros:\")\n",
    "clf_org.fit(X_orig,y_orig)\n",
    "print(clf_org.best_params_)\n",
    "\n",
    "y_pred = clf_org.predict(X_test)\n",
    "\n",
    "print(classification_report(y_test, y_pred))"
   ]
  },
  {
   "cell_type": "code",
   "execution_count": 36,
   "metadata": {
    "pycharm": {
     "name": "#%%\n"
    }
   },
   "outputs": [
    {
     "name": "stdout",
     "output_type": "stream",
     "text": [
      " SUB Mejor combinación de parámetros:\n",
      "{'n_neighbors': 9, 'weights': 'uniform'}\n",
      "              precision    recall  f1-score   support\n",
      "\n",
      "           0       0.69      0.53      0.60      2195\n",
      "           1       0.36      0.53      0.43      1104\n",
      "\n",
      "    accuracy                           0.53      3299\n",
      "   macro avg       0.53      0.53      0.52      3299\n",
      "weighted avg       0.58      0.53      0.55      3299\n",
      "\n"
     ]
    }
   ],
   "source": [
    "### modelo subsampling\n",
    "clf_sub = GridSearchCV(KNeighborsClassifier(),\n",
    "                       param_grid=tuned_parameters,\n",
    "                       cv=5,\n",
    "                       scoring=score)\n",
    "print(\" SUB Mejor combinación de parámetros:\")\n",
    "clf_sub.fit(X_subs,y_subs)\n",
    "print(clf_sub.best_params_)\n",
    "\n",
    "y_pred = clf_sub.predict(X_test)\n",
    "\n",
    "print(classification_report(y_test, y_pred))"
   ]
  },
  {
   "cell_type": "code",
   "execution_count": 37,
   "metadata": {
    "pycharm": {
     "name": "#%%\n"
    }
   },
   "outputs": [
    {
     "name": "stdout",
     "output_type": "stream",
     "text": [
      " OVER Mejor combinación de parámetros:\n",
      "{'n_neighbors': 2, 'weights': 'distance'}\n",
      "              precision    recall  f1-score   support\n",
      "\n",
      "           0       0.67      0.85      0.75      2195\n",
      "           1       0.36      0.17      0.23      1104\n",
      "\n",
      "    accuracy                           0.62      3299\n",
      "   macro avg       0.51      0.51      0.49      3299\n",
      "weighted avg       0.56      0.62      0.57      3299\n",
      "\n"
     ]
    }
   ],
   "source": [
    "### modelo oversampling\n",
    "clf_over = GridSearchCV(KNeighborsClassifier(),\n",
    "                        param_grid=tuned_parameters,\n",
    "                        cv=5,\n",
    "                        scoring=score)\n",
    "print(\" OVER Mejor combinación de parámetros:\")\n",
    "clf_over.fit(X_over,y_over)\n",
    "print(clf_over.best_params_)\n",
    "\n",
    "y_pred = clf_over.predict(X_test)\n",
    "\n",
    "print(classification_report(y_test, y_pred))"
   ]
  },
  {
   "cell_type": "markdown",
   "metadata": {
    "pycharm": {
     "name": "#%% md\n"
    }
   },
   "source": [
    "Incluyendo el atributo 'race' no se alcanza una Accuracy mayor o igual a la alcanzada anteriormente $0.69$.\n",
    "\n",
    "Se repetiran todos los entrenamientos anteriores, utilizando Oversampling, Subsampling y tomando en cuenta o no al atributo 'race'. En este caso se utilizará un clasificador de **Decision Tree**, con el fin de abordar más posibilidades y así seleccionar el mejor resultado entre ambos clasificadores."
   ]
  },
  {
   "cell_type": "code",
   "execution_count": 38,
   "metadata": {
    "pycharm": {
     "name": "#%%\n"
    }
   },
   "outputs": [],
   "source": [
    "dataset = people.copy()\n",
    "dataset = dataset[dataset.columns[1:-9]].drop(columns=[\"age\", \"race\", \"c_offense_date\"])\n",
    "dataset['sex'] = np.where(dataset['sex']=='Male',1,0)\n",
    "\n",
    "# Parámetros a utilizar en GridSearch-DecisionTree\n",
    "tuned_parameters = {'max_depth': [1, 2, 3, 4, 5, 6, 7, 8, 9, 10],\n",
    "                    'min_samples_leaf': [1, 2, 3, 4, 5, 6, 7, 8, 9, 10],\n",
    "                    'min_samples_split': [2, 3, 4, 5, 6, 7, 8, 9, 10, 11, 12, 13, 14, 15],\n",
    "                    'criterion': ['gini','entropy']}"
   ]
  },
  {
   "cell_type": "markdown",
   "metadata": {
    "pycharm": {
     "name": "#%% md\n"
    }
   },
   "source": [
    "Se entrenan modelos usando GridSearch, en la base de datos normalizada. Se realiza también para dataframes con SubSampling y OverSampling."
   ]
  },
  {
   "cell_type": "code",
   "execution_count": 39,
   "metadata": {
    "pycharm": {
     "name": "#%%\n"
    }
   },
   "outputs": [
    {
     "name": "stdout",
     "output_type": "stream",
     "text": [
      " ORIG Mejor combinación de parámetros:\n",
      "{'criterion': 'entropy', 'max_depth': 3, 'min_samples_leaf': 1, 'min_samples_split': 2}\n",
      "              precision    recall  f1-score   support\n",
      "\n",
      "         0.0       0.76      0.78      0.77      2195\n",
      "         1.0       0.55      0.52      0.53      1104\n",
      "\n",
      "    accuracy                           0.70      3299\n",
      "   macro avg       0.66      0.65      0.65      3299\n",
      "weighted avg       0.69      0.70      0.69      3299\n",
      "\n"
     ]
    }
   ],
   "source": [
    "norm_dataset = (dataset -dataset.min())/(dataset.max() -dataset.min())\n",
    "\n",
    "###separamos valores\n",
    "data_train, data_test, y_train, y_test = train_test_split(norm_dataset, norm_dataset['is_recid'], test_size=.30,\n",
    "                                                    random_state=15, stratify=norm_dataset['is_recid'])\n",
    "##subsampleamos\n",
    "data_train = data_train.reset_index(drop=True)\n",
    "idx = np.random.choice(data_train.loc[data_train.is_recid == 0].index, size=2545, replace=False)\n",
    "data_subsampled = data_train.drop(data_train.iloc[idx].index)\n",
    "##Oversampleamos\n",
    "idx = np.random.choice(data_train[data_train['is_recid'] == 1].index, size=2545)\n",
    "data_oversampled = data_train.drop(data_train.iloc[idx].index)\n",
    "\n",
    "### dejamos los datos para trabajar\n",
    "y_test = data_test.is_recid\n",
    "X_test = data_test.drop(columns=['is_recid'])\n",
    "y_orig =data_train.is_recid\n",
    "X_orig = data_train.drop(columns=['is_recid'])\n",
    "y_subs=data_subsampled.is_recid\n",
    "X_subs=data_subsampled.drop(columns=['is_recid'])\n",
    "y_over=data_oversampled.is_recid\n",
    "X_over=data_oversampled.drop(columns=['is_recid'])\n",
    "\n",
    "### modelo del original\n",
    "clf_org = GridSearchCV(DecisionTreeClassifier(),\n",
    "                       param_grid=tuned_parameters,\n",
    "                       cv=5,\n",
    "                       scoring=score)\n",
    "print(\" ORIG Mejor combinación de parámetros:\")\n",
    "clf_org.fit(X_orig,y_orig)\n",
    "print(clf_org.best_params_)\n",
    "\n",
    "y_pred = clf_org.predict(X_test)\n",
    "\n",
    "print(classification_report(y_test, y_pred))"
   ]
  },
  {
   "cell_type": "code",
   "execution_count": 40,
   "metadata": {
    "pycharm": {
     "name": "#%%\n"
    }
   },
   "outputs": [
    {
     "name": "stdout",
     "output_type": "stream",
     "text": [
      " SUB Mejor combinación de parámetros:\n",
      "{'criterion': 'gini', 'max_depth': 1, 'min_samples_leaf': 1, 'min_samples_split': 2}\n",
      "              precision    recall  f1-score   support\n",
      "\n",
      "         0.0       0.80      0.54      0.65      2195\n",
      "         1.0       0.44      0.73      0.55      1104\n",
      "\n",
      "    accuracy                           0.60      3299\n",
      "   macro avg       0.62      0.63      0.60      3299\n",
      "weighted avg       0.68      0.60      0.61      3299\n",
      "\n"
     ]
    }
   ],
   "source": [
    "### modelo subsampling\n",
    "clf_sub = GridSearchCV(DecisionTreeClassifier(),\n",
    "                   param_grid=tuned_parameters,\n",
    "                   cv=5,\n",
    "                   scoring=score)\n",
    "print(\" SUB Mejor combinación de parámetros:\")\n",
    "clf_sub.fit(X_subs,y_subs)\n",
    "print(clf_sub.best_params_)\n",
    "\n",
    "y_pred = clf_sub.predict(X_test)\n",
    "\n",
    "print(classification_report(y_test, y_pred))"
   ]
  },
  {
   "cell_type": "code",
   "execution_count": 41,
   "metadata": {
    "pycharm": {
     "name": "#%%\n"
    }
   },
   "outputs": [
    {
     "name": "stdout",
     "output_type": "stream",
     "text": [
      " OVER Mejor combinación de parámetros:\n",
      "{'criterion': 'gini', 'max_depth': 10, 'min_samples_leaf': 5, 'min_samples_split': 5}\n",
      "              precision    recall  f1-score   support\n",
      "\n",
      "         0.0       0.69      0.95      0.79      2195\n",
      "         1.0       0.56      0.14      0.22      1104\n",
      "\n",
      "    accuracy                           0.67      3299\n",
      "   macro avg       0.62      0.54      0.51      3299\n",
      "weighted avg       0.64      0.67      0.60      3299\n",
      "\n"
     ]
    }
   ],
   "source": [
    "### modelo oversampling\n",
    "clf_over = GridSearchCV(DecisionTreeClassifier(),\n",
    "                       param_grid=tuned_parameters,\n",
    "                       cv=5,\n",
    "                       scoring=score)\n",
    "print(\" OVER Mejor combinación de parámetros:\")\n",
    "clf_over.fit(X_over,y_over)\n",
    "print(clf_over.best_params_)\n",
    "\n",
    "y_pred = clf_over.predict(X_test)\n",
    "\n",
    "print(classification_report(y_test, y_pred))"
   ]
  },
  {
   "cell_type": "markdown",
   "metadata": {
    "pycharm": {
     "name": "#%% md\n"
    }
   },
   "source": [
    "Se realiza otro entrenamiento, omitiendo los parámetros menos significativos 'days_b_screening_arrest', 'c_days_from_compas' y 'c_charge_degree'."
   ]
  },
  {
   "cell_type": "code",
   "execution_count": 42,
   "metadata": {
    "pycharm": {
     "name": "#%%\n"
    }
   },
   "outputs": [
    {
     "name": "stdout",
     "output_type": "stream",
     "text": [
      " ORIG Mejor combinación de parámetros:\n",
      "{'criterion': 'gini', 'max_depth': 5, 'min_samples_leaf': 5, 'min_samples_split': 2}\n",
      "              precision    recall  f1-score   support\n",
      "\n",
      "           0       0.74      0.88      0.80      2195\n",
      "           1       0.61      0.37      0.46      1104\n",
      "\n",
      "    accuracy                           0.71      3299\n",
      "   macro avg       0.67      0.63      0.63      3299\n",
      "weighted avg       0.69      0.71      0.69      3299\n",
      "\n"
     ]
    }
   ],
   "source": [
    "dataset2 = people.copy()\n",
    "dataset2 = dataset2[dataset2.columns[1:-9]].drop(columns=[\"age\", \"race\", \"c_charge_degree\", \"c_offense_date\", \"c_days_from_compas\", \"days_b_screening_arrest\"])\n",
    "dataset2[\"sex\"] = np.where(dataset2[\"sex\"]=='Male',1,0)\n",
    "\n",
    "###separamos valores\n",
    "data_train, data_test, y_train, y_test = train_test_split(dataset2, dataset2['is_recid'], test_size=.30,\n",
    "                                                    random_state=15, stratify=dataset2['is_recid'])\n",
    "##subsampleamos\n",
    "data_train = data_train.reset_index(drop=True)\n",
    "idx = np.random.choice(data_train.loc[data_train.is_recid == 0].index, size=2545, replace=False)\n",
    "data_subsampled = data_train.drop(data_train.iloc[idx].index)\n",
    "##Oversampleamos\n",
    "idx = np.random.choice(data_train[data_train['is_recid'] == 1].index, size=2545)\n",
    "data_oversampled = data_train.drop(data_train.iloc[idx].index)\n",
    "\n",
    "### dejamos los datos para trabajar\n",
    "y_test = data_test.is_recid\n",
    "X_test = data_test.drop(columns=['is_recid'])\n",
    "y_orig =data_train.is_recid\n",
    "X_orig = data_train.drop(columns=['is_recid'])\n",
    "y_subs=data_subsampled.is_recid\n",
    "X_subs=data_subsampled.drop(columns=['is_recid'])\n",
    "y_over=data_oversampled.is_recid\n",
    "X_over=data_oversampled.drop(columns=['is_recid'])\n",
    "\n",
    "### modelo del original\n",
    "clf_org = GridSearchCV(DecisionTreeClassifier(),\n",
    "                       param_grid=tuned_parameters,\n",
    "                       cv=5,\n",
    "                       scoring=score)\n",
    "print(\" ORIG Mejor combinación de parámetros:\")\n",
    "clf_org.fit(X_orig,y_orig)\n",
    "print(clf_org.best_params_)\n",
    "\n",
    "y_pred = clf_org.predict(X_test)\n",
    "\n",
    "print(classification_report(y_test, y_pred))"
   ]
  },
  {
   "cell_type": "code",
   "execution_count": 43,
   "metadata": {
    "pycharm": {
     "name": "#%%\n"
    }
   },
   "outputs": [
    {
     "name": "stdout",
     "output_type": "stream",
     "text": [
      " SUB Mejor combinación de parámetros:\n",
      "{'criterion': 'entropy', 'max_depth': 1, 'min_samples_leaf': 1, 'min_samples_split': 2}\n",
      "              precision    recall  f1-score   support\n",
      "\n",
      "           0       0.82      0.43      0.57      2195\n",
      "           1       0.42      0.80      0.55      1104\n",
      "\n",
      "    accuracy                           0.56      3299\n",
      "   macro avg       0.62      0.62      0.56      3299\n",
      "weighted avg       0.68      0.56      0.56      3299\n",
      "\n"
     ]
    }
   ],
   "source": [
    "### modelo subsampling\n",
    "clf_sub = GridSearchCV(DecisionTreeClassifier(),\n",
    "                   param_grid=tuned_parameters,\n",
    "                   cv=5,\n",
    "                   scoring=score)\n",
    "print(\" SUB Mejor combinación de parámetros:\")\n",
    "clf_sub.fit(X_subs,y_subs)\n",
    "print(clf_sub.best_params_)\n",
    "\n",
    "y_pred = clf_sub.predict(X_test)\n",
    "\n",
    "print(classification_report(y_test, y_pred))"
   ]
  },
  {
   "cell_type": "code",
   "execution_count": 44,
   "metadata": {
    "pycharm": {
     "name": "#%%\n"
    }
   },
   "outputs": [
    {
     "name": "stdout",
     "output_type": "stream",
     "text": [
      " OVER Mejor combinación de parámetros:\n",
      "{'criterion': 'entropy', 'max_depth': 10, 'min_samples_leaf': 7, 'min_samples_split': 5}\n",
      "              precision    recall  f1-score   support\n",
      "\n",
      "           0       0.69      0.94      0.79      2195\n",
      "           1       0.56      0.16      0.24      1104\n",
      "\n",
      "    accuracy                           0.68      3299\n",
      "   macro avg       0.63      0.55      0.52      3299\n",
      "weighted avg       0.65      0.68      0.61      3299\n",
      "\n"
     ]
    }
   ],
   "source": [
    "### modelo oversampling\n",
    "clf_over = GridSearchCV(DecisionTreeClassifier(),\n",
    "                       param_grid=tuned_parameters,\n",
    "                       cv=5,\n",
    "                       scoring=score)\n",
    "print(\" OVER Mejor combinación de parámetros:\")\n",
    "clf_over.fit(X_over,y_over)\n",
    "print(clf_over.best_params_)\n",
    "\n",
    "y_pred = clf_over.predict(X_test)\n",
    "\n",
    "print(classification_report(y_test, y_pred))"
   ]
  },
  {
   "cell_type": "markdown",
   "metadata": {
    "pycharm": {
     "name": "#%% md\n"
    }
   },
   "source": [
    "Ahora se omitirán todos los atributos cuya correlación con 'is_recid' esté entre $-0.1$ y $0.1$."
   ]
  },
  {
   "cell_type": "code",
   "execution_count": 45,
   "metadata": {
    "pycharm": {
     "name": "#%%\n"
    }
   },
   "outputs": [
    {
     "name": "stdout",
     "output_type": "stream",
     "text": [
      " ORIG Mejor combinación de parámetros:\n",
      "{'criterion': 'gini', 'max_depth': 9, 'min_samples_leaf': 5, 'min_samples_split': 13}\n",
      "              precision    recall  f1-score   support\n",
      "\n",
      "           0       0.73      0.86      0.79      2195\n",
      "           1       0.58      0.37      0.46      1104\n",
      "\n",
      "    accuracy                           0.70      3299\n",
      "   macro avg       0.66      0.62      0.62      3299\n",
      "weighted avg       0.68      0.70      0.68      3299\n",
      "\n"
     ]
    }
   ],
   "source": [
    "dataset3 = people.copy()\n",
    "dataset3 = dataset3[dataset3.columns[1:-9]].drop(columns=[\"age\", \"race\", \"sex\", \"c_charge_degree\", \"c_offense_date\", \"c_days_from_compas\", \"days_b_screening_arrest\", \"c_jail_out\", \"c_jail_in\", \"juv_fel_count\"])\n",
    "\n",
    "###separamos valores\n",
    "data_train, data_test, y_train, y_test = train_test_split(dataset3, dataset3['is_recid'], test_size=.30,\n",
    "                                                    random_state=15, stratify=dataset3['is_recid'])\n",
    "##subsampleamos\n",
    "data_train = data_train.reset_index(drop=True)\n",
    "idx = np.random.choice(data_train.loc[data_train.is_recid == 0].index, size=2545, replace=False)\n",
    "data_subsampled = data_train.drop(data_train.iloc[idx].index)\n",
    "##Oversampleamos\n",
    "idx = np.random.choice(data_train[data_train['is_recid'] == 1].index, size=2545)\n",
    "data_oversampled = data_train.drop(data_train.iloc[idx].index)\n",
    "\n",
    "### dejamos los datos para trabajar\n",
    "y_test = data_test.is_recid\n",
    "X_test = data_test.drop(columns=['is_recid'])\n",
    "y_orig =data_train.is_recid\n",
    "X_orig = data_train.drop(columns=['is_recid'])\n",
    "y_subs=data_subsampled.is_recid\n",
    "X_subs=data_subsampled.drop(columns=['is_recid'])\n",
    "y_over=data_oversampled.is_recid\n",
    "X_over=data_oversampled.drop(columns=['is_recid'])\n",
    "\n",
    "### modelo del original\n",
    "clf_org = GridSearchCV(DecisionTreeClassifier(),\n",
    "                       param_grid=tuned_parameters,\n",
    "                       cv=5,\n",
    "                       scoring=score)\n",
    "print(\" ORIG Mejor combinación de parámetros:\")\n",
    "clf_org.fit(X_orig,y_orig)\n",
    "print(clf_org.best_params_)\n",
    "\n",
    "y_pred = clf_org.predict(X_test)\n",
    "\n",
    "print(classification_report(y_test, y_pred))"
   ]
  },
  {
   "cell_type": "code",
   "execution_count": 46,
   "metadata": {
    "pycharm": {
     "name": "#%%\n"
    }
   },
   "outputs": [
    {
     "name": "stdout",
     "output_type": "stream",
     "text": [
      " SUB Mejor combinación de parámetros:\n",
      "{'criterion': 'gini', 'max_depth': 1, 'min_samples_leaf': 1, 'min_samples_split': 2}\n",
      "              precision    recall  f1-score   support\n",
      "\n",
      "           0       0.80      0.54      0.65      2195\n",
      "           1       0.44      0.73      0.55      1104\n",
      "\n",
      "    accuracy                           0.60      3299\n",
      "   macro avg       0.62      0.63      0.60      3299\n",
      "weighted avg       0.68      0.60      0.61      3299\n",
      "\n"
     ]
    }
   ],
   "source": [
    "### modelo subsampling\n",
    "clf_sub = GridSearchCV(DecisionTreeClassifier(),\n",
    "                   param_grid=tuned_parameters,\n",
    "                   cv=5,\n",
    "                   scoring=score)\n",
    "print(\" SUB Mejor combinación de parámetros:\")\n",
    "clf_sub.fit(X_subs,y_subs)\n",
    "print(clf_sub.best_params_)\n",
    "\n",
    "y_pred = clf_sub.predict(X_test)\n",
    "\n",
    "print(classification_report(y_test, y_pred))"
   ]
  },
  {
   "cell_type": "code",
   "execution_count": 47,
   "metadata": {
    "pycharm": {
     "name": "#%%\n"
    }
   },
   "outputs": [
    {
     "name": "stdout",
     "output_type": "stream",
     "text": [
      " OVER Mejor combinación de parámetros:\n",
      "{'criterion': 'gini', 'max_depth': 10, 'min_samples_leaf': 9, 'min_samples_split': 5}\n",
      "              precision    recall  f1-score   support\n",
      "\n",
      "           0       0.68      0.95      0.79      2195\n",
      "           1       0.56      0.12      0.20      1104\n",
      "\n",
      "    accuracy                           0.67      3299\n",
      "   macro avg       0.62      0.54      0.50      3299\n",
      "weighted avg       0.64      0.67      0.60      3299\n",
      "\n"
     ]
    }
   ],
   "source": [
    "### modelo oversampling\n",
    "clf_over = GridSearchCV(DecisionTreeClassifier(),\n",
    "                       param_grid=tuned_parameters,\n",
    "                       cv=5,\n",
    "                       scoring=score)\n",
    "print(\" OVER Mejor combinación de parámetros:\")\n",
    "clf_over.fit(X_over,y_over)\n",
    "print(clf_over.best_params_)\n",
    "\n",
    "y_pred = clf_over.predict(X_test)\n",
    "\n",
    "print(classification_report(y_test, y_pred))"
   ]
  },
  {
   "cell_type": "markdown",
   "metadata": {
    "pycharm": {
     "name": "#%% md\n"
    }
   },
   "source": [
    "Con el cambio de clasificador se notan dos casos sobresalientes. Ambos no realizan SubSampling ni OverSampling. Se obtuvo un Accuracy de $0.70$ al utilizar todos los atributos (salvo de 'race') y $0.71$ dejando de lado los tres atributos menos significativos.\n",
    "\n",
    "Se repetiran los entrenamientos, pero utilizando el atributo 'race'."
   ]
  },
  {
   "cell_type": "code",
   "execution_count": 48,
   "metadata": {
    "pycharm": {
     "name": "#%%\n"
    }
   },
   "outputs": [],
   "source": [
    "peoplemejor=people.copy()\n",
    "peoplemejor['race'] = np.where(peoplemejor['race']=='African-American',1,0)\n",
    "peoplemejor['sex'] = np.where(peoplemejor['sex']=='Male',1,0)\n",
    "peoplemejor = peoplemejor[peoplemejor.columns[1:-9]].drop(columns=[\"age\", \"c_charge_degree\",\"c_offense_date\"])"
   ]
  },
  {
   "cell_type": "markdown",
   "metadata": {
    "pycharm": {
     "name": "#%% md\n"
    }
   },
   "source": [
    "Entrenar modelos usando GridSearch, 'race' y sexo binarios."
   ]
  },
  {
   "cell_type": "code",
   "execution_count": 49,
   "metadata": {
    "pycharm": {
     "name": "#%%\n"
    }
   },
   "outputs": [
    {
     "name": "stdout",
     "output_type": "stream",
     "text": [
      " ORG Mejor combinación de parámetros:\n",
      "{'criterion': 'entropy', 'max_depth': 3, 'min_samples_leaf': 1, 'min_samples_split': 2}\n",
      "              precision    recall  f1-score   support\n",
      "\n",
      "           0       0.76      0.78      0.77      2195\n",
      "           1       0.55      0.52      0.53      1104\n",
      "\n",
      "    accuracy                           0.70      3299\n",
      "   macro avg       0.66      0.65      0.65      3299\n",
      "weighted avg       0.69      0.70      0.69      3299\n",
      "\n"
     ]
    }
   ],
   "source": [
    "##########################  KNeighbors con race  ##########################\n",
    "###separamos valores\n",
    "X_train, X_test, y_train, y_test = train_test_split(peoplemejor, peoplemejor['is_recid'], test_size=.30,\n",
    "                                                          random_state=15, stratify=peoplemejor['is_recid'])\n",
    "##subsampleamos\n",
    "X_train = X_train.reset_index(drop=True)\n",
    "idx = np.random.choice(X_train.loc[X_train.is_recid == 0].index, size=2545, replace=False)\n",
    "data_subsampled = X_train.drop(X_train.iloc[idx].index)\n",
    "##Oversampleamos\n",
    "idx = np.random.choice(X_train[X_train['is_recid'] == 1].index, size=2545)\n",
    "data_oversampled = X_train.drop(X_train.iloc[idx].index)\n",
    "### dejamos los datos para trabajar\n",
    "y_test = X_test.is_recid\n",
    "X_test = X_test.drop(columns=['is_recid'])\n",
    "y_orig =X_train.is_recid\n",
    "X_orig = X_train.drop(columns=['is_recid'])\n",
    "y_subs=data_subsampled.is_recid\n",
    "X_subs=data_subsampled.drop(columns=['is_recid'])\n",
    "y_over=data_oversampled.is_recid\n",
    "X_over=data_oversampled.drop(columns=['is_recid'])\n",
    "\n",
    "### modelo del original\n",
    "clf_org = GridSearchCV(DecisionTreeClassifier(),\n",
    "                       param_grid=tuned_parameters,\n",
    "                       cv=5,\n",
    "                       scoring=score)\n",
    "print(\" ORG Mejor combinación de parámetros:\")\n",
    "clf_org.fit(X_orig,y_orig)\n",
    "print(clf_org.best_params_)\n",
    "\n",
    "y_pred = clf_org.predict(X_test)\n",
    "\n",
    "print(classification_report(y_test, y_pred))"
   ]
  },
  {
   "cell_type": "code",
   "execution_count": 50,
   "metadata": {
    "pycharm": {
     "name": "#%%\n"
    }
   },
   "outputs": [
    {
     "name": "stdout",
     "output_type": "stream",
     "text": [
      " SUB Mejor combinación de parámetros:\n",
      "{'criterion': 'entropy', 'max_depth': 1, 'min_samples_leaf': 1, 'min_samples_split': 2}\n",
      "              precision    recall  f1-score   support\n",
      "\n",
      "           0       0.82      0.43      0.57      2195\n",
      "           1       0.42      0.80      0.55      1104\n",
      "\n",
      "    accuracy                           0.56      3299\n",
      "   macro avg       0.62      0.62      0.56      3299\n",
      "weighted avg       0.68      0.56      0.56      3299\n",
      "\n"
     ]
    }
   ],
   "source": [
    "### modelo subsampling\n",
    "clf_sub = GridSearchCV(DecisionTreeClassifier(),\n",
    "                       param_grid=tuned_parameters,\n",
    "                       cv=5,\n",
    "                       scoring=score)\n",
    "print(\" SUB Mejor combinación de parámetros:\")\n",
    "clf_sub.fit(X_subs,y_subs)\n",
    "print(clf_sub.best_params_)\n",
    "\n",
    "y_pred = clf_sub.predict(X_test)\n",
    "\n",
    "print(classification_report(y_test, y_pred))"
   ]
  },
  {
   "cell_type": "code",
   "execution_count": 51,
   "metadata": {
    "pycharm": {
     "name": "#%%\n"
    }
   },
   "outputs": [
    {
     "name": "stdout",
     "output_type": "stream",
     "text": [
      " OVER Mejor combinación de parámetros:\n",
      "{'criterion': 'gini', 'max_depth': 10, 'min_samples_leaf': 1, 'min_samples_split': 2}\n",
      "              precision    recall  f1-score   support\n",
      "\n",
      "           0       0.69      0.95      0.80      2195\n",
      "           1       0.60      0.16      0.25      1104\n",
      "\n",
      "    accuracy                           0.68      3299\n",
      "   macro avg       0.65      0.55      0.52      3299\n",
      "weighted avg       0.66      0.68      0.62      3299\n",
      "\n"
     ]
    }
   ],
   "source": [
    "### modelo oversampling\n",
    "clf_over = GridSearchCV(DecisionTreeClassifier(),\n",
    "                        param_grid=tuned_parameters,\n",
    "                        cv=5,\n",
    "                        scoring=score)\n",
    "print(\" OVER Mejor combinación de parámetros:\")\n",
    "clf_over.fit(X_over,y_over)\n",
    "print(clf_over.best_params_)\n",
    "\n",
    "y_pred = clf_over.predict(X_test)\n",
    "\n",
    "print(classification_report(y_test, y_pred))"
   ]
  },
  {
   "cell_type": "markdown",
   "metadata": {
    "pycharm": {
     "name": "#%% md\n"
    }
   },
   "source": [
    "Se repite lo anterior, omitiendo los atributos poco significativos 'days_b_screening_arrest', 'c_days_from_compas' y 'c_charge_degree'."
   ]
  },
  {
   "cell_type": "code",
   "execution_count": 52,
   "metadata": {
    "pycharm": {
     "name": "#%%\n"
    }
   },
   "outputs": [
    {
     "name": "stdout",
     "output_type": "stream",
     "text": [
      " ORG Mejor combinación de parámetros:\n",
      "{'criterion': 'gini', 'max_depth': 5, 'min_samples_leaf': 5, 'min_samples_split': 2}\n",
      "              precision    recall  f1-score   support\n",
      "\n",
      "           0       0.74      0.88      0.80      2195\n",
      "           1       0.61      0.37      0.46      1104\n",
      "\n",
      "    accuracy                           0.71      3299\n",
      "   macro avg       0.67      0.63      0.63      3299\n",
      "weighted avg       0.69      0.71      0.69      3299\n",
      "\n"
     ]
    }
   ],
   "source": [
    "peoplemejor2=people.copy()\n",
    "peoplemejor2['race'] = np.where(peoplemejor2['race']=='African-American',1,0)\n",
    "peoplemejor2['sex'] = np.where(peoplemejor2['sex']=='Male',1,0)\n",
    "peoplemejor2 = peoplemejor2[peoplemejor2.columns[1:-9]].drop(columns=[\"age\", \"c_charge_degree\",\"c_offense_date\", \"days_b_screening_arrest\", \"c_days_from_compas\"])\n",
    "\n",
    "###separamos valores\n",
    "X_train, X_test, y_train, y_test = train_test_split(peoplemejor2, peoplemejor2['is_recid'], test_size=.30,\n",
    "                                                          random_state=15, stratify=peoplemejor2['is_recid'])\n",
    "##subsampleamos\n",
    "X_train = X_train.reset_index(drop=True)\n",
    "idx = np.random.choice(X_train.loc[X_train.is_recid == 0].index, size=2545, replace=False)\n",
    "data_subsampled = X_train.drop(X_train.iloc[idx].index)\n",
    "##Oversampleamos\n",
    "idx = np.random.choice(X_train[X_train['is_recid'] == 1].index, size=2545)\n",
    "data_oversampled = X_train.drop(X_train.iloc[idx].index)\n",
    "### dejamos los datos para trabajar\n",
    "y_test = X_test.is_recid\n",
    "X_test = X_test.drop(columns=['is_recid'])\n",
    "y_orig =X_train.is_recid\n",
    "X_orig = X_train.drop(columns=['is_recid'])\n",
    "y_subs=data_subsampled.is_recid\n",
    "X_subs=data_subsampled.drop(columns=['is_recid'])\n",
    "y_over=data_oversampled.is_recid\n",
    "X_over=data_oversampled.drop(columns=['is_recid'])\n",
    "\n",
    "### modelo del original\n",
    "clf_org = GridSearchCV(DecisionTreeClassifier(),\n",
    "                       param_grid=tuned_parameters,\n",
    "                       cv=5,\n",
    "                       scoring=score)\n",
    "print(\" ORG Mejor combinación de parámetros:\")\n",
    "clf_org.fit(X_orig,y_orig)\n",
    "print(clf_org.best_params_)\n",
    "\n",
    "y_pred = clf_org.predict(X_test)\n",
    "\n",
    "print(classification_report(y_test, y_pred))"
   ]
  },
  {
   "cell_type": "code",
   "execution_count": 53,
   "metadata": {
    "pycharm": {
     "name": "#%%\n"
    }
   },
   "outputs": [
    {
     "name": "stdout",
     "output_type": "stream",
     "text": [
      " SUB Mejor combinación de parámetros:\n",
      "{'criterion': 'gini', 'max_depth': 1, 'min_samples_leaf': 1, 'min_samples_split': 2}\n",
      "              precision    recall  f1-score   support\n",
      "\n",
      "           0       0.82      0.43      0.57      2195\n",
      "           1       0.42      0.80      0.55      1104\n",
      "\n",
      "    accuracy                           0.56      3299\n",
      "   macro avg       0.62      0.62      0.56      3299\n",
      "weighted avg       0.68      0.56      0.56      3299\n",
      "\n"
     ]
    }
   ],
   "source": [
    "### modelo subsampling\n",
    "clf_sub = GridSearchCV(DecisionTreeClassifier(),\n",
    "                       param_grid=tuned_parameters,\n",
    "                       cv=5,\n",
    "                       scoring=score)\n",
    "print(\" SUB Mejor combinación de parámetros:\")\n",
    "clf_sub.fit(X_subs,y_subs)\n",
    "print(clf_sub.best_params_)\n",
    "\n",
    "y_pred = clf_sub.predict(X_test)\n",
    "\n",
    "print(classification_report(y_test, y_pred))"
   ]
  },
  {
   "cell_type": "code",
   "execution_count": 54,
   "metadata": {
    "pycharm": {
     "name": "#%%\n"
    }
   },
   "outputs": [
    {
     "name": "stdout",
     "output_type": "stream",
     "text": [
      " OVER Mejor combinación de parámetros:\n",
      "{'criterion': 'gini', 'max_depth': 10, 'min_samples_leaf': 3, 'min_samples_split': 10}\n",
      "              precision    recall  f1-score   support\n",
      "\n",
      "           0       0.68      0.95      0.79      2195\n",
      "           1       0.53      0.11      0.18      1104\n",
      "\n",
      "    accuracy                           0.67      3299\n",
      "   macro avg       0.60      0.53      0.49      3299\n",
      "weighted avg       0.63      0.67      0.59      3299\n",
      "\n"
     ]
    }
   ],
   "source": [
    "### modelo oversampling\n",
    "clf_over = GridSearchCV(DecisionTreeClassifier(),\n",
    "                        param_grid=tuned_parameters,\n",
    "                        cv=5,\n",
    "                        scoring=score)\n",
    "print(\" OVER Mejor combinación de parámetros:\")\n",
    "clf_over.fit(X_over,y_over)\n",
    "print(clf_over.best_params_)\n",
    "\n",
    "y_pred = clf_over.predict(X_test)\n",
    "\n",
    "print(classification_report(y_test, y_pred))"
   ]
  },
  {
   "cell_type": "markdown",
   "metadata": {
    "pycharm": {
     "name": "#%% md\n"
    }
   },
   "source": [
    "Se realiza el mismo entrenamiento anterior, pero esta vez se omitiran los atributos menos significativos en la segunda matriz de correlación, 'juv_fel_count', 'c_days_from_compas' y 'c_charge_degree'."
   ]
  },
  {
   "cell_type": "code",
   "execution_count": 55,
   "metadata": {
    "pycharm": {
     "name": "#%%\n"
    }
   },
   "outputs": [
    {
     "name": "stdout",
     "output_type": "stream",
     "text": [
      " ORG Mejor combinación de parámetros:\n",
      "{'criterion': 'gini', 'max_depth': 3, 'min_samples_leaf': 1, 'min_samples_split': 2}\n",
      "              precision    recall  f1-score   support\n",
      "\n",
      "           0       0.75      0.82      0.78      2195\n",
      "           1       0.56      0.46      0.50      1104\n",
      "\n",
      "    accuracy                           0.70      3299\n",
      "   macro avg       0.65      0.64      0.64      3299\n",
      "weighted avg       0.69      0.70      0.69      3299\n",
      "\n"
     ]
    }
   ],
   "source": [
    "peoplemejor21=people.copy()\n",
    "peoplemejor21['race'] = np.where(peoplemejor21['race']=='African-American',1,0)\n",
    "peoplemejor21['sex'] = np.where(peoplemejor21['sex']=='Male',1,0)\n",
    "peoplemejor21 = peoplemejor21[peoplemejor21.columns[1:-9]].drop(columns=[\"age\", \"c_charge_degree\",\"c_offense_date\", \"juv_fel_count\", \"c_days_from_compas\"])\n",
    "\n",
    "###separamos valores\n",
    "X_train, X_test, y_train, y_test = train_test_split(peoplemejor21, peoplemejor21['is_recid'], test_size=.30,\n",
    "                                                          random_state=15, stratify=peoplemejor21['is_recid'])\n",
    "##subsampleamos\n",
    "X_train = X_train.reset_index(drop=True)\n",
    "idx = np.random.choice(X_train.loc[X_train.is_recid == 0].index, size=2545, replace=False)\n",
    "data_subsampled = X_train.drop(X_train.iloc[idx].index)\n",
    "##Oversampleamos\n",
    "idx = np.random.choice(X_train[X_train['is_recid'] == 1].index, size=2545)\n",
    "data_oversampled = X_train.drop(X_train.iloc[idx].index)\n",
    "### dejamos los datos para trabajar\n",
    "y_test = X_test.is_recid\n",
    "X_test = X_test.drop(columns=['is_recid'])\n",
    "y_orig =X_train.is_recid\n",
    "X_orig = X_train.drop(columns=['is_recid'])\n",
    "y_subs=data_subsampled.is_recid\n",
    "X_subs=data_subsampled.drop(columns=['is_recid'])\n",
    "y_over=data_oversampled.is_recid\n",
    "X_over=data_oversampled.drop(columns=['is_recid'])\n",
    "\n",
    "### modelo del original\n",
    "clf_org = GridSearchCV(DecisionTreeClassifier(),\n",
    "                       param_grid=tuned_parameters,\n",
    "                       cv=5,\n",
    "                       scoring=score)\n",
    "print(\" ORG Mejor combinación de parámetros:\")\n",
    "clf_org.fit(X_orig,y_orig)\n",
    "print(clf_org.best_params_)\n",
    "\n",
    "y_pred = clf_org.predict(X_test)\n",
    "\n",
    "print(classification_report(y_test, y_pred))"
   ]
  },
  {
   "cell_type": "code",
   "execution_count": 56,
   "metadata": {
    "pycharm": {
     "name": "#%%\n"
    }
   },
   "outputs": [
    {
     "name": "stdout",
     "output_type": "stream",
     "text": [
      " SUB Mejor combinación de parámetros:\n",
      "{'criterion': 'gini', 'max_depth': 4, 'min_samples_leaf': 1, 'min_samples_split': 2}\n",
      "              precision    recall  f1-score   support\n",
      "\n",
      "           0       0.80      0.65      0.72      2195\n",
      "           1       0.49      0.68      0.57      1104\n",
      "\n",
      "    accuracy                           0.66      3299\n",
      "   macro avg       0.65      0.67      0.65      3299\n",
      "weighted avg       0.70      0.66      0.67      3299\n",
      "\n"
     ]
    }
   ],
   "source": [
    "### modelo subsampling\n",
    "clf_sub = GridSearchCV(DecisionTreeClassifier(),\n",
    "                       param_grid=tuned_parameters,\n",
    "                       cv=5,\n",
    "                       scoring=score)\n",
    "print(\" SUB Mejor combinación de parámetros:\")\n",
    "clf_sub.fit(X_subs,y_subs)\n",
    "print(clf_sub.best_params_)\n",
    "\n",
    "y_pred = clf_sub.predict(X_test)\n",
    "\n",
    "print(classification_report(y_test, y_pred))"
   ]
  },
  {
   "cell_type": "code",
   "execution_count": 57,
   "metadata": {
    "pycharm": {
     "name": "#%%\n"
    }
   },
   "outputs": [
    {
     "name": "stdout",
     "output_type": "stream",
     "text": [
      " OVER Mejor combinación de parámetros:\n",
      "{'criterion': 'gini', 'max_depth': 10, 'min_samples_leaf': 5, 'min_samples_split': 3}\n",
      "              precision    recall  f1-score   support\n",
      "\n",
      "           0       0.69      0.97      0.80      2195\n",
      "           1       0.65      0.12      0.20      1104\n",
      "\n",
      "    accuracy                           0.68      3299\n",
      "   macro avg       0.67      0.54      0.50      3299\n",
      "weighted avg       0.67      0.68      0.60      3299\n",
      "\n"
     ]
    }
   ],
   "source": [
    "### modelo oversampling\n",
    "clf_over = GridSearchCV(DecisionTreeClassifier(),\n",
    "                        param_grid=tuned_parameters,\n",
    "                        cv=5,\n",
    "                        scoring=score)\n",
    "print(\" OVER Mejor combinación de parámetros:\")\n",
    "clf_over.fit(X_over,y_over)\n",
    "print(clf_over.best_params_)\n",
    "\n",
    "y_pred = clf_over.predict(X_test)\n",
    "\n",
    "print(classification_report(y_test, y_pred))"
   ]
  },
  {
   "cell_type": "markdown",
   "metadata": {
    "pycharm": {
     "name": "#%% md\n"
    }
   },
   "source": [
    "Se repite el entrenamiento, omitiendo todos los atributos cuya correlación con 'is_recid' esté entre $-0.1$ y $0.1$."
   ]
  },
  {
   "cell_type": "code",
   "execution_count": 58,
   "metadata": {
    "pycharm": {
     "name": "#%%\n"
    }
   },
   "outputs": [
    {
     "name": "stdout",
     "output_type": "stream",
     "text": [
      " ORG Mejor combinación de parámetros:\n",
      "{'criterion': 'gini', 'max_depth': 9, 'min_samples_leaf': 9, 'min_samples_split': 6}\n",
      "              precision    recall  f1-score   support\n",
      "\n",
      "           0       0.73      0.86      0.79      2195\n",
      "           1       0.57      0.38      0.45      1104\n",
      "\n",
      "    accuracy                           0.70      3299\n",
      "   macro avg       0.65      0.62      0.62      3299\n",
      "weighted avg       0.68      0.70      0.68      3299\n",
      "\n"
     ]
    }
   ],
   "source": [
    "peoplemejor3=people.copy()\n",
    "peoplemejor3['race'] = np.where(peoplemejor3['race']=='African-American',1,0)\n",
    "peoplemejor3['sex'] = np.where(peoplemejor3['sex']=='Male',1,0)\n",
    "peoplemejor3 = peoplemejor3[peoplemejor3.columns[1:-9]].drop(columns=[\"age\", \"sex\", \"c_charge_degree\", \"c_offense_date\", \"c_days_from_compas\", \"days_b_screening_arrest\", \"c_jail_out\", \"c_jail_in\", \"juv_fel_count\"])\n",
    "\n",
    "###separamos valores\n",
    "X_train, X_test, y_train, y_test = train_test_split(peoplemejor3, peoplemejor3['is_recid'], test_size=.30,\n",
    "                                                          random_state=15, stratify=peoplemejor3['is_recid'])\n",
    "##subsampleamos\n",
    "X_train = X_train.reset_index(drop=True)\n",
    "idx = np.random.choice(X_train.loc[X_train.is_recid == 0].index, size=2545, replace=False)\n",
    "data_subsampled = X_train.drop(X_train.iloc[idx].index)\n",
    "##Oversampleamos\n",
    "idx = np.random.choice(X_train[X_train['is_recid'] == 1].index, size=2545)\n",
    "data_oversampled = X_train.drop(X_train.iloc[idx].index)\n",
    "### dejamos los datos para trabajar\n",
    "y_test = X_test.is_recid\n",
    "X_test = X_test.drop(columns=['is_recid'])\n",
    "y_orig =X_train.is_recid\n",
    "X_orig = X_train.drop(columns=['is_recid'])\n",
    "y_subs=data_subsampled.is_recid\n",
    "X_subs=data_subsampled.drop(columns=['is_recid'])\n",
    "y_over=data_oversampled.is_recid\n",
    "X_over=data_oversampled.drop(columns=['is_recid'])\n",
    "\n",
    "### modelo del original\n",
    "clf_org = GridSearchCV(DecisionTreeClassifier(),\n",
    "                       param_grid=tuned_parameters,\n",
    "                       cv=5,\n",
    "                       scoring=score)\n",
    "print(\" ORG Mejor combinación de parámetros:\")\n",
    "clf_org.fit(X_orig,y_orig)\n",
    "print(clf_org.best_params_)\n",
    "\n",
    "y_pred = clf_org.predict(X_test)\n",
    "\n",
    "print(classification_report(y_test, y_pred))"
   ]
  },
  {
   "cell_type": "code",
   "execution_count": 59,
   "metadata": {
    "pycharm": {
     "name": "#%%\n"
    }
   },
   "outputs": [
    {
     "name": "stdout",
     "output_type": "stream",
     "text": [
      " SUB Mejor combinación de parámetros:\n",
      "{'criterion': 'entropy', 'max_depth': 1, 'min_samples_leaf': 1, 'min_samples_split': 2}\n",
      "              precision    recall  f1-score   support\n",
      "\n",
      "           0       0.77      0.65      0.70      2195\n",
      "           1       0.47      0.62      0.53      1104\n",
      "\n",
      "    accuracy                           0.64      3299\n",
      "   macro avg       0.62      0.63      0.62      3299\n",
      "weighted avg       0.67      0.64      0.65      3299\n",
      "\n"
     ]
    }
   ],
   "source": [
    "### modelo subsampling\n",
    "clf_sub = GridSearchCV(DecisionTreeClassifier(),\n",
    "                       param_grid=tuned_parameters,\n",
    "                       cv=5,\n",
    "                       scoring=score)\n",
    "print(\" SUB Mejor combinación de parámetros:\")\n",
    "clf_sub.fit(X_subs,y_subs)\n",
    "print(clf_sub.best_params_)\n",
    "\n",
    "y_pred = clf_sub.predict(X_test)\n",
    "\n",
    "print(classification_report(y_test, y_pred))"
   ]
  },
  {
   "cell_type": "code",
   "execution_count": 60,
   "metadata": {
    "pycharm": {
     "name": "#%%\n"
    }
   },
   "outputs": [
    {
     "name": "stdout",
     "output_type": "stream",
     "text": [
      " OVER Mejor combinación de parámetros:\n",
      "{'criterion': 'entropy', 'max_depth': 10, 'min_samples_leaf': 6, 'min_samples_split': 13}\n",
      "              precision    recall  f1-score   support\n",
      "\n",
      "           0       0.68      0.96      0.80      2195\n",
      "           1       0.56      0.10      0.18      1104\n",
      "\n",
      "    accuracy                           0.67      3299\n",
      "   macro avg       0.62      0.53      0.49      3299\n",
      "weighted avg       0.64      0.67      0.59      3299\n",
      "\n"
     ]
    }
   ],
   "source": [
    "### modelo oversampling\n",
    "clf_over = GridSearchCV(DecisionTreeClassifier(),\n",
    "                        param_grid=tuned_parameters,\n",
    "                        cv=5,\n",
    "                        scoring=score)\n",
    "print(\" OVER Mejor combinación de parámetros:\")\n",
    "clf_over.fit(X_over,y_over)\n",
    "print(clf_over.best_params_)\n",
    "\n",
    "y_pred = clf_over.predict(X_test)\n",
    "\n",
    "print(classification_report(y_test, y_pred))"
   ]
  },
  {
   "cell_type": "markdown",
   "metadata": {
    "pycharm": {
     "name": "#%% md\n"
    }
   },
   "source": [
    "Al incluir el atributo 'race' y utilizar Decision Trees no se obtuvieron resultados mejores. De hecho, los casos sobresalientes mencionados anteriormente se repiten.\n",
    "La mejor Accuracy fue de $0.71$, la cual se obtuvo utilizando Decision Tree y dejando de lado los atributos 'days_b_screening_arrest', 'c_days_from_compas' y 'c_charge_degree'.\n",
    "\n",
    "Volviendo a la pregunta propuesta: **¿Qué características describen mejor un factor de reincidencia?**\n",
    "Con los entrenamientos realizados *si se podría* dar una respuesta a esta pregunta. Se puede decir que estos factores son aquellos atributos que estuvieron presentes en todos los entrenamientos, o aquellos presentes en el entrenamiento con mejor Accuracy. Sin embargo esto no sería lo más correcto.\n",
    "\n",
    "Recordar que solo se obtuvo una Accuracy de a lo más $0.71$, la cual no consideramos como un valor lo suficientemente alto para afirmar que aquellos atributos encontrados describen en buena manera el factor de reincidencia.\n",
    "\n",
    "Estas características que describen mejor un factor de reincidencia existen, pero no con una influencia que nos permita asegurar que, conociendo estas, se pueda estimar con seguridad la reincidencia de un individuo."
   ]
  },
  {
   "cell_type": "markdown",
   "metadata": {
    "pycharm": {
     "name": "#%% md\n"
    }
   },
   "source": [
    "## Contribuciones\n",
    "-   Vicente González: Redactó y planifico la propuesta experimental.\n",
    "-   Rodrigo Iturrieta: Realizó la respuesta preliminar a la pregunta 1.\n",
    "-   Pablo Jaramillo: Corrigió los fallos del hito 1 con respecto a la exploración de datos e hizo preprocesamiento de los datos.\n",
    "-   Cristián Lillo: Creó la presentación.\n",
    "-   Benjamin Valenzuela: Ayudó a la planificación de la propuesta experimental, asi como en la presentación."
   ]
  }
 ],
 "metadata": {
  "interpreter": {
   "hash": "925f586314c742882e382f8f2b13597ffc50f489ccd6be3be7f934831046d87a"
  },
  "kernelspec": {
   "display_name": "Python 3.10.4 ('mineria')",
   "language": "python",
   "name": "python3"
  },
  "language_info": {
   "codemirror_mode": {
    "name": "ipython",
    "version": 3
   },
   "file_extension": ".py",
   "mimetype": "text/x-python",
   "name": "python",
   "nbconvert_exporter": "python",
   "pygments_lexer": "ipython3",
   "version": "3.10.4"
  }
 },
 "nbformat": 4,
 "nbformat_minor": 0
}
