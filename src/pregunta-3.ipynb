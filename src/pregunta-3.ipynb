{
 "cells": [
  {
   "cell_type": "markdown",
   "metadata": {
    "collapsed": false,
    "pycharm": {
     "name": "#%% md\n"
    }
   },
   "source": [
    "# ¿Existirán grupos de personas que compartan la misma tasa de reincidencia? Si existen, ¿Qué atributos componen a dichos grupos?"
   ]
  },
  {
   "cell_type": "markdown",
   "source": [
    "Como se vio en la pregunta 2, las tablas que poseen una gran incidencia en el decile score es principalmente people, por lo que mediante un script de r se decide juntar esta con datos relevantes de charge\n",
    "\n",
    "Porque incluir charge a pesar de su baja correlacion con decile score?\n",
    "\n",
    "- Consideramos que contiene información util que puede revelar alguna agrupacion natural, ademas de informacion con respecto a la reincidencia\n",
    "- Jailhistory se descarta por tener datos similares a los de people"
   ],
   "metadata": {
    "collapsed": false,
    "pycharm": {
     "name": "#%% md\n"
    }
   }
  },
  {
   "cell_type": "code",
   "execution_count": null,
   "outputs": [],
   "source": [
    "# Imports\n",
    "import numpy as np\n",
    "import pandas as pd\n",
    "import seaborn as sns\n",
    "import matplotlib.pyplot as plt\n",
    "from sklearn.cluster import KMeans, DBSCAN, AgglomerativeClustering\n",
    "from scipy.cluster.hierarchy import dendrogram, linkage, fcluster\n",
    "from sklearn.decomposition import PCA\n",
    "from sklearn.neighbors import NearestNeighbors\n"
   ],
   "metadata": {
    "collapsed": false,
    "pycharm": {
     "name": "#%%\n"
    }
   }
  },
  {
   "cell_type": "code",
   "execution_count": null,
   "outputs": [],
   "source": [
    "# Load data\n",
    "main_people = pd.read_csv('../data/cleaned/people_joined_charge_decile.csv', index_col=0).drop('c_days_from_compas', axis=1)\n",
    "main_people.head()"
   ],
   "metadata": {
    "collapsed": false,
    "pycharm": {
     "name": "#%%\n"
    }
   }
  },
  {
   "cell_type": "code",
   "execution_count": null,
   "outputs": [],
   "source": [
    "# Ahora pasamos los elementos categoricos a numericos\n",
    "main_people.replace(['Male', 'Female'], [1, 0], inplace=True)\n",
    "people_race = pd.get_dummies(main_people['race'], prefix='race', prefix_sep=\"_\")\n",
    "main_people = pd.concat([main_people, people_race], axis=1).drop('race', axis=1)\n",
    "main_people.head()"
   ],
   "metadata": {
    "collapsed": false,
    "pycharm": {
     "name": "#%%\n"
    }
   }
  },
  {
   "cell_type": "code",
   "execution_count": null,
   "outputs": [],
   "source": [
    "# Como se ve, las columnas que corresponden a reincidencia son is_recid, num_r_cases, charges_recid, charges_not_recid, decile_recid\n",
    "# Entonces las quitamos para hacer el clustering\n",
    "blind_recid_people = main_people.drop(['is_recid', 'num_r_cases', 'charges_recid', 'charges_total', 'charge_latest', 'decile_recid'], axis=1)\n",
    "blind_recid_people.head()"
   ],
   "metadata": {
    "collapsed": false,
    "pycharm": {
     "name": "#%%\n"
    }
   }
  },
  {
   "cell_type": "code",
   "execution_count": null,
   "outputs": [],
   "source": [
    "# Ahora revisamos si existen elementos muy correlacionados\n",
    "plt.figure(figsize=(14, 10))\n",
    "sns.heatmap(blind_recid_people.corr(), annot=True)"
   ],
   "metadata": {
    "collapsed": false,
    "pycharm": {
     "name": "#%%\n"
    }
   }
  },
  {
   "cell_type": "code",
   "execution_count": null,
   "outputs": [],
   "source": [
    "# Como se ve, la correlacion entre c_jail_in y c_jail_out es muy alta, por lo que podemos dejar compas_screening_date como representante de ambos.\n",
    "# Lo mismo pasa con min, med y avg degree, con lo cual podemos quedarnos con min\n",
    "# priors_count y degrees_total tambien, pero a pesar de tener una relación alta, son cosas distintas.\n",
    "blind_recid_people.drop(['c_jail_in', 'c_jail_out', 'med_degree', 'avg_degree'], axis=1, inplace=True)\n",
    "plt.figure(figsize=(14, 10))\n",
    "sns.heatmap(blind_recid_people.corr(), annot=True)"
   ],
   "metadata": {
    "collapsed": false,
    "pycharm": {
     "name": "#%%\n"
    }
   }
  },
  {
   "cell_type": "code",
   "execution_count": null,
   "outputs": [],
   "source": [
    "# Ahora podemos hacer clustering, empezando con KMeans\n",
    "# Usaremos la técnica del codo\n",
    "km_sse = []\n",
    "km_clusters = [i for i in range(1, 16)]\n",
    "for k in km_clusters:\n",
    "    kmeans = KMeans(n_clusters=k).fit(blind_recid_people)\n",
    "    km_sse.append(kmeans.inertia_)\n",
    "\n",
    "plt.plot(km_clusters, km_sse, marker='o')\n",
    "plt.title('Método del codo de 1 a 15 clusters')\n",
    "plt.grid(True)\n",
    "plt.show()"
   ],
   "metadata": {
    "collapsed": false,
    "pycharm": {
     "name": "#%%\n"
    }
   }
  },
  {
   "cell_type": "code",
   "execution_count": null,
   "outputs": [],
   "source": [
    "# Usaremos 4 clusters\n",
    "kmeans = KMeans(n_clusters=4, random_state=0).fit(blind_recid_people)\n",
    "km_cl = kmeans.labels_\n",
    "# Reducimos la dimensionalidad usando PCA para ver los resultados visuales\n",
    "X = PCA(n_components=2, random_state=0).fit_transform(main_people)\n",
    "plt.scatter(X[:, 0], X[:, 1], c=km_cl, cmap='rainbow')\n",
    "plt.title('Clusters de la tabla blind_recid_people usando KMeans');"
   ],
   "metadata": {
    "collapsed": false,
    "pycharm": {
     "name": "#%%\n"
    }
   }
  },
  {
   "cell_type": "code",
   "execution_count": null,
   "outputs": [],
   "source": [
    "# Revisamos el porcentaje de reincidencia por cluster\n",
    "main_people['km_cl'] = km_cl\n",
    "main_people.groupby('km_cl').is_recid.mean()"
   ],
   "metadata": {
    "collapsed": false,
    "pycharm": {
     "name": "#%%\n"
    }
   }
  },
  {
   "cell_type": "code",
   "execution_count": null,
   "outputs": [],
   "source": [
    "# Demasiado iguales con respecto a la reincidencia, por lo que cambiamos a DBSCAN\n",
    "# Usaremos la tecnica de la rodilla para 3 distintos k=[4,5,6]\n",
    "nbrs = NearestNeighbors(n_neighbors=10).fit(blind_recid_people)\n",
    "distances, indices = nbrs.kneighbors(blind_recid_people)\n",
    "\n",
    "distances = np.sort(distances, axis=0)\n",
    "distances = distances[:,1]\n",
    "plt.title('Tecnica de la rodilla')\n",
    "plt.axhline(y=25, color='r', linestyle='--') #Ajuste el valor para y\n",
    "plt.plot(distances)\n",
    "plt.show()\n"
   ],
   "metadata": {
    "collapsed": false,
    "pycharm": {
     "name": "#%%\n"
    }
   }
  },
  {
   "cell_type": "markdown",
   "source": [],
   "metadata": {
    "collapsed": false,
    "pycharm": {
     "name": "#%% md\n"
    }
   }
  },
  {
   "cell_type": "code",
   "execution_count": null,
   "outputs": [],
   "source": [
    "# Nos quedamos con 25 y 4\n",
    "dbscan = DBSCAN(eps=25, min_samples=10).fit(blind_recid_people)\n",
    "db_cl = dbscan.labels_\n",
    "plt.figure(figsize=(14, 10))\n",
    "plt.title('Clusters de la tabla blind_recid_people usando DBSCAN')\n",
    "plt.scatter(X[:, 0], X[:, 1], c=db_cl);"
   ],
   "metadata": {
    "collapsed": false,
    "pycharm": {
     "name": "#%%\n"
    }
   }
  },
  {
   "cell_type": "code",
   "execution_count": null,
   "outputs": [],
   "source": [
    "# Revisamos la reincidencia por cluster, filtramos los outlayers\n",
    "main_people['db_cl'] = db_cl\n",
    "main_people.groupby('db_cl').is_recid.mean()"
   ],
   "metadata": {
    "collapsed": false,
    "pycharm": {
     "name": "#%%\n"
    }
   }
  },
  {
   "cell_type": "code",
   "execution_count": null,
   "outputs": [],
   "source": [
    "# DBScan no nos da una solucion buena para la reincidencia, pues solo consigue identificar outlayers, por lo mismo, puede que sirva como metodo de subsampling para la clasificacion\n",
    "main_people.db_cl.value_counts()"
   ],
   "metadata": {
    "collapsed": false,
    "pycharm": {
     "name": "#%%\n"
    }
   }
  },
  {
   "cell_type": "code",
   "execution_count": null,
   "outputs": [],
   "source": [
    "# Ahora vamos a usar agglomerative clustering\n",
    "complete = linkage(blind_recid_people, 'complete')\n",
    "single = linkage(blind_recid_people, 'single')\n",
    "average = linkage(blind_recid_people, 'average')\n",
    "ward = linkage(blind_recid_people, 'ward')\n",
    "\n",
    "dendrogram(complete, labels=blind_recid_people.index, orientation='top', leaf_rotation=90)\n",
    "plt.title('Complete')\n",
    "plt.show()"
   ],
   "metadata": {
    "collapsed": false,
    "pycharm": {
     "name": "#%%\n"
    }
   }
  },
  {
   "cell_type": "code",
   "execution_count": null,
   "outputs": [],
   "source": [
    "dendrogram(single, labels=blind_recid_people.index, orientation='top', leaf_rotation=90)\n",
    "plt.title('Single')\n",
    "plt.show()"
   ],
   "metadata": {
    "collapsed": false,
    "pycharm": {
     "name": "#%%\n"
    }
   }
  },
  {
   "cell_type": "code",
   "execution_count": null,
   "outputs": [],
   "source": [
    "dendrogram(average, labels=blind_recid_people.index, orientation='top', leaf_rotation=90)\n",
    "plt.title('Average')\n",
    "plt.show()"
   ],
   "metadata": {
    "collapsed": false,
    "pycharm": {
     "name": "#%%\n"
    }
   }
  },
  {
   "cell_type": "code",
   "execution_count": null,
   "outputs": [],
   "source": [
    "dendrogram(ward, labels=blind_recid_people.index, orientation='top', leaf_rotation=90)\n",
    "plt.title('Ward')\n",
    "plt.show()"
   ],
   "metadata": {
    "collapsed": false,
    "pycharm": {
     "name": "#%%\n"
    }
   }
  },
  {
   "cell_type": "code",
   "execution_count": null,
   "outputs": [],
   "source": [
    "# Descartamos el metodo single puesto que no se puede definir la altura de corte de manera visual\n",
    "# Para complete el trehshold sera de 6000, para average de 3000 y para ward de 1000000\n",
    "complete_agg = AgglomerativeClustering(n_clusters=None, linkage='complete', distance_threshold=5000).fit(blind_recid_people)\n",
    "average_agg = AgglomerativeClustering(n_clusters=None, linkage='average', distance_threshold=2500).fit(blind_recid_people)\n",
    "ward_agg = AgglomerativeClustering(n_clusters=None, linkage='ward', distance_threshold=150000).fit(blind_recid_people)\n",
    "\n",
    "# Ahora revisamos el porcentaje de reincidencia por cluster\n",
    "main_people['complete_cl'] = complete_agg.labels_\n",
    "main_people.groupby('complete_cl').is_recid.mean()"
   ],
   "metadata": {
    "collapsed": false,
    "pycharm": {
     "name": "#%%\n"
    }
   }
  },
  {
   "cell_type": "code",
   "execution_count": null,
   "outputs": [],
   "source": [
    "main_people['average_cl'] = average_agg.labels_\n",
    "main_people.groupby('average_cl').is_recid.mean()"
   ],
   "metadata": {
    "collapsed": false,
    "pycharm": {
     "name": "#%%\n"
    }
   }
  },
  {
   "cell_type": "code",
   "execution_count": null,
   "outputs": [],
   "source": [
    "main_people['ward_cl'] = ward_agg.labels_\n",
    "main_people.groupby('ward_cl').is_recid.mean()"
   ],
   "metadata": {
    "collapsed": false,
    "pycharm": {
     "name": "#%%\n"
    }
   }
  },
  {
   "cell_type": "markdown",
   "source": [
    "No se encontraron clusters notables, todos tienen alrededor de un 33% de reincidencia, lo cual es cercano al 33.5% de reincidencia del dataset original."
   ],
   "metadata": {
    "collapsed": false,
    "pycharm": {
     "name": "#%% md\n"
    }
   }
  },
  {
   "cell_type": "markdown",
   "source": [
    "#### Volviendo a DBSCAN\n",
    "\n",
    "La observación más interesante es entregada por DBSCAN este nos muestra outliers, pero dichos outliers son notoriamente reincidentes, ahora procederemos a describir este grupo"
   ],
   "metadata": {
    "collapsed": false,
    "pycharm": {
     "name": "#%% md\n"
    }
   }
  },
  {
   "cell_type": "code",
   "execution_count": null,
   "outputs": [],
   "source": [
    "outliers = main_people[main_people.db_cl == -1]\n",
    "\n",
    "reincident_people =  outliers[outliers.is_recid == 1]\n",
    "not_recid_people = outliers[outliers.is_recid == 0]\n",
    "reincident_people.describe()"
   ],
   "metadata": {
    "collapsed": false,
    "pycharm": {
     "name": "#%%\n"
    }
   }
  },
  {
   "cell_type": "code",
   "execution_count": null,
   "outputs": [],
   "source": [
    "reincident_people.sex.value_counts()"
   ],
   "metadata": {
    "collapsed": false,
    "pycharm": {
     "name": "#%%\n"
    }
   }
  },
  {
   "cell_type": "code",
   "execution_count": null,
   "outputs": [],
   "source": [
    "not_recid_people.sex.value_counts()"
   ],
   "metadata": {
    "collapsed": false,
    "pycharm": {
     "name": "#%%\n"
    }
   }
  },
  {
   "cell_type": "code",
   "execution_count": null,
   "outputs": [],
   "source": [
    "# Piechart by race\n",
    "labels = ['african_american', 'asian', 'caucasian', 'hispanic', 'native_american', 'other']\n",
    "\n",
    "recid_race_count = [len(reincident_people[reincident_people['race_African-American'] == 1]), \n",
    "                    len(reincident_people[reincident_people['race_Asian'] == 1]), \n",
    "                    len(reincident_people[reincident_people['race_Caucasian'] == 1]),\n",
    "                    len(reincident_people[reincident_people['race_Hispanic'] == 1]), \n",
    "                    len(reincident_people[reincident_people['race_Native American'] == 1]), \n",
    "                    len(reincident_people[reincident_people['race_Other'] == 1])\n",
    "                  ]\n",
    "\n",
    "not_recid_race_count = [len(not_recid_people[not_recid_people['race_African-American'] == 1]), \n",
    "                        len(not_recid_people[not_recid_people['race_Asian'] == 1]), \n",
    "                        len(not_recid_people[not_recid_people['race_Caucasian'] == 1]),\n",
    "                        len(not_recid_people[not_recid_people['race_Hispanic'] == 1]), \n",
    "                        len(not_recid_people[not_recid_people['race_Native American'] == 1]), \n",
    "                        len(not_recid_people[not_recid_people['race_Other'] == 1])\n",
    "                        ]\n",
    "\n",
    "plt.figure(figsize=(14, 10))\n",
    "plt.subplot(1,2,1)\n",
    "plt.title('outliers reincidentes por etnia', size=17)\n",
    "plt.pie(recid_race_count, labels=labels, autopct='%1.1f%%')\n",
    "plt.subplot(1,2,2)\n",
    "plt.title('outliers no reincidentes por etnia', size=17)\n",
    "plt.pie(not_recid_race_count, labels=labels, autopct='%1.1f%%')\n",
    "plt.show()\n",
    "\n"
   ],
   "metadata": {
    "collapsed": false,
    "pycharm": {
     "name": "#%%\n"
    }
   }
  },
  {
   "cell_type": "code",
   "execution_count": null,
   "outputs": [],
   "source": [
    "import datetime\n",
    "\n",
    "ages_r = reincident_people['dob'] * 36604 - 18342 # float to posix\n",
    "ages_r = ages_r.map(lambda x:int((datetime.datetime.now() - (datetime.datetime(1970, 1, 1) + datetime.timedelta(seconds=int(86400*x))) ).days//365.25)) # convert to years\n",
    "ages_nr = not_recid_people['dob'] * 36604 - 18342 # float to posix\n",
    "ages_nr = ages_nr.map(lambda x:int((datetime.datetime.now() - (datetime.datetime(1970, 1, 1) + datetime.timedelta(seconds=int(86400*x))) ).days//365.25))\n",
    "\n",
    "plt.figure(figsize=(18, 10))\n",
    "\n",
    "\n",
    "plt.subplot(1,2,1)\n",
    "plt.title('Cantidad de outliers reincidentes por edad')\n",
    "plt.hist(ages_r, bins=20)\n",
    "plt.xlabel(\"Edades (años)\",\n",
    "           family='serif',\n",
    "           color='b',\n",
    "           weight='normal',\n",
    "           size = 16,\n",
    "           labelpad = 6)\n",
    "plt.ylabel(\"cantidad\",\n",
    "           family='serif',\n",
    "           color='b',\n",
    "           weight='normal',\n",
    "           size = 16,\n",
    "           labelpad = 6)\n",
    "plt.subplot(1,2,2)\n",
    "plt.title('Cantidad de outliers no reincidentes por edad')\n",
    "plt.hist(ages_nr, bins=20)\n",
    "plt.xlabel(\"Edades (años)\",\n",
    "           family='serif',\n",
    "           color='b',\n",
    "           weight='normal',\n",
    "           size = 16,\n",
    "           labelpad = 6)\n",
    "plt.ylabel(\"cantidad\",\n",
    "           family='serif',\n",
    "           color='b',\n",
    "           weight='normal',\n",
    "           size = 16,\n",
    "           labelpad = 6)\n",
    "plt.show()"
   ],
   "metadata": {
    "collapsed": false,
    "pycharm": {
     "name": "#%%\n"
    }
   }
  },
  {
   "cell_type": "code",
   "execution_count": null,
   "outputs": [],
   "source": [
    "reincident_people['max_degree'].value_counts()"
   ],
   "metadata": {
    "collapsed": false,
    "pycharm": {
     "name": "#%%\n"
    }
   }
  },
  {
   "cell_type": "code",
   "execution_count": null,
   "outputs": [],
   "source": [
    "plt.figure(figsize=(14, 10))\n",
    "plt.subplot(2,1,1)\n",
    "plt.hist(reincident_people['charges_total'], bins=25)\n",
    "plt.title('Cantidad de outliers reincidentes por cantidad de cargos', size=17)\n",
    "plt.xlabel(\"Cargos totales\",\n",
    "           family='serif',\n",
    "           color='b',\n",
    "           weight='normal',\n",
    "           size = 16,\n",
    "           labelpad = 6)\n",
    "plt.ylabel(\"cantidad\",\n",
    "           family='serif',\n",
    "           color='b',\n",
    "           weight='normal',\n",
    "           size = 16,\n",
    "           labelpad = 6)\n",
    "plt.xticks(np.arange(0, 725, 25))\n",
    "plt.subplot(2,1,2)\n",
    "plt.hist(not_recid_people['charges_total'], bins=70)\n",
    "plt.title('Cantidad de outliers no reincidentes por cantidad de cargos', size=17)\n",
    "plt.xlabel(\"Cargos totales\",\n",
    "           family='serif',\n",
    "           color='b',\n",
    "           weight='normal',\n",
    "           size = 16,\n",
    "           labelpad = 6)\n",
    "plt.ylabel(\"cantidad\",\n",
    "           family='serif',\n",
    "           color='b',\n",
    "           weight='normal',\n",
    "           size = 16,\n",
    "           labelpad = 6)\n",
    "plt.xticks(np.arange(0, 725, 25))\n",
    "plt.subplots_adjust(hspace=0.3)\n",
    "plt.show()"
   ],
   "metadata": {
    "collapsed": false,
    "pycharm": {
     "name": "#%%\n"
    }
   }
  },
  {
   "cell_type": "code",
   "execution_count": null,
   "outputs": [],
   "source": [
    "# Guardamos la informacion\n",
    "main_people.to_csv('../data/cleaned/cluster_people.csv', index=False)"
   ],
   "metadata": {
    "collapsed": false,
    "pycharm": {
     "name": "#%%\n"
    }
   }
  },
  {
   "cell_type": "markdown",
   "source": [
    "#### Conclusión\n",
    "No se pudieron evidenciar grupos claros que compartan reincidencia, por lo que a priori no existen grupos grandes de personas que definan claramente la reincidencia. Sin embargo, existe un grupo menor \"marginado\" que posee una muy alta reincidencia. El cual esta compuesto mayoritariamente por hombres (90.8%), afroamericanos (81.0%), normalmente entre los 35 y 47 años aproximadamente (27 y 39 años a la fecha de los datos) y con una gran cantidad de cargos, todos teniendo sobre los 30 cargos y practicamente todos son responsables de felonias.\n",
    "\n",
    "Volviendo entonces a la pregunta: **¿Existirán grupos de personas que compartan la misma tasa de reincidencia? Si existen, ¿Qué atributos componen a dichos grupos?** Utilizando tecnicas de clustering solo se encontro 1 grupo de personas que componen una tasa de reincidencia notablemente distinta al resto del dataset. Cabe notar que si bien el grupo es de un tamaño menor a 300 personas de aproximadamente 11000, aún así logra encajar con una imagen estereotipica del criminal popularizado por la cultura estado unidense."
   ],
   "metadata": {
    "collapsed": false,
    "pycharm": {
     "name": "#%% md\n"
    }
   }
  },
  {
   "cell_type": "code",
   "execution_count": null,
   "metadata": {
    "collapsed": false,
    "pycharm": {
     "name": "#%%\n"
    }
   },
   "outputs": [],
   "source": [
    "# Guardamos la informacion\n",
    "main_people.to_csv('../data/cleaned/cluster_people.csv', index=False)"
   ]
  },
  {
   "cell_type": "markdown",
   "metadata": {
    "collapsed": false,
    "pycharm": {
     "name": "#%% md\n"
    }
   },
   "source": [
    "#### Conclusión\n",
    "No se pudieron evidenciar grupos claros que compartan reincidencia, por lo que a priori no existen grupos grandes de personas que definan claramente la reincidencia. Sin embargo, existe un grupo menor \"marginado\" que posee una muy alta reincidencia. El cual esta compuesto mayoritariamente por hombres (90.8%), afroamericanos (81.0%), normalmente entre los 35 y 47 años aproximadamente (27 y 39 años a la fecha de los datos) y con una gran cantidad de cargos, todos teniendo sobre los 30 cargos y practicamente todos son responsables de felonias.\n",
    "\n",
    "Volviendo entonces a la pregunta: **¿Existirán grupos de personas que compartan la misma tasa de reincidencia? Si existen, ¿Qué atributos componen a dichos grupos?** Utilizando tecnicas de clustering solo se encontro 1 grupo de personas que componen una tasa de reincidencia notablemente distinta al resto del dataset. Cabe notar que si bien el grupo es de un tamaño menor a 300 personas de aproximadamente 11000, aún así logra encajar con una imagen estereotipica del criminal popularizado por la cultura estado unidense."
   ]
  }
 ],
 "metadata": {
  "kernelspec": {
   "display_name": "Python 3.8.8 ('py38')",
   "language": "python",
   "name": "python3"
  },
  "language_info": {
   "codemirror_mode": {
    "name": "ipython",
    "version": 3
   },
   "file_extension": ".py",
   "mimetype": "text/x-python",
   "name": "python",
   "nbconvert_exporter": "python",
   "pygments_lexer": "ipython3",
   "version": "3.8.8"
  },
  "vscode": {
   "interpreter": {
    "hash": "23ceb7112fbf9d0e38ecbf60d6e6d5e2dcebcc82200eeb1e5a5d5f9ffb9e27ca"
   }
  }
 },
 "nbformat": 4,
 "nbformat_minor": 0
}